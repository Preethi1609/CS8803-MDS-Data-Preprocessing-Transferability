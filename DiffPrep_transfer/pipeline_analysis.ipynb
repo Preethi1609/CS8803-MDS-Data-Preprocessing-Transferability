{
 "cells": [
  {
   "cell_type": "code",
   "execution_count": 1,
   "metadata": {},
   "outputs": [
    {
     "name": "stderr",
     "output_type": "stream",
     "text": [
      "/Users/siddharth/miniconda3/envs/diffprep/lib/python3.9/site-packages/tqdm/auto.py:22: TqdmWarning: IProgress not found. Please update jupyter and ipywidgets. See https://ipywidgets.readthedocs.io/en/stable/user_install.html\n",
      "  from .autonotebook import tqdm as notebook_tqdm\n"
     ]
    }
   ],
   "source": [
    "import torch\n",
    "import pandas\n",
    "import numpy as np\n",
    "from pipeline.diffprep_fix_pipeline import DiffPrepFixPipeline\n",
    "from pipeline.diffprep_flex_pipeline import DiffPrepFlexPipeline\n",
    "from prep_space import space\n",
    "from experiment.experiment_utils import set_random_seed, load_data, build_data, grid_search, makedir, save_result, load_data_multitask"
   ]
  },
  {
   "cell_type": "code",
   "execution_count": 2,
   "metadata": {},
   "outputs": [],
   "source": [
    "def load_prep_pipeline(path, prep_space, params, data_dir, dataset):\n",
    "\n",
    "    X, y = load_data_multitask(data_dir, dataset)\n",
    "    X_train, y_train, X_val, y_val, X_test, y_test = build_data(X, y, random_state=params[\"split_seed\"])\n",
    "\n",
    "    prep_pipeline = DiffPrepFixPipeline(prep_space, temperature=params[\"temperature\"],\n",
    "                                use_sample=params[\"sample\"],\n",
    "                                diff_method=params[\"diff_method\"],\n",
    "                                init_method=params[\"init_method\"])\n",
    "    prep_pipeline.init_parameters(X_train, X_val, X_test)\n",
    "    prep_pipeline.load_state_dict(torch.load(path))\n",
    "    #prep_pipeline.eval()\n",
    "\n",
    "    return prep_pipeline"
   ]
  },
  {
   "cell_type": "code",
   "execution_count": 3,
   "metadata": {},
   "outputs": [],
   "source": [
    "# define hyper parameters\n",
    "params = {\n",
    "    \"num_epochs\": 2000,\n",
    "    \"batch_size\": 512,\n",
    "    \"device\": \"cpu\",\n",
    "    #\"model_lr\": [0.1, 0.01, 0.001],\n",
    "    \"model_lr\": 0.01,\n",
    "    \"weight_decay\": 0,\n",
    "    \"model\": 'log',\n",
    "    \"train_seed\": 1,\n",
    "    \"split_seed\": 1,\n",
    "    \"method\": \"diffprep_fix\",\n",
    "    \"save_model\": True,\n",
    "    \"logging\": False,\n",
    "    \"no_crash\": False,\n",
    "    \"patience\": 3,\n",
    "    \"momentum\": 0.9\n",
    "}\n",
    "\n",
    "auto_prep_params = {\n",
    "    \"prep_lr\": None,\n",
    "    \"temperature\": 0.1,\n",
    "    \"grad_clip\": None,\n",
    "    \"pipeline_update_sample_size\": 512,\n",
    "    \"init_method\": \"default\",\n",
    "    \"diff_method\": \"num_diff\",\n",
    "    \"sample\": False\n",
    "}\n",
    "\n",
    "params.update(auto_prep_params)\n",
    "\n",
    "DATADIR = \"data\"\n",
    "dataset = \"Airbnb\"\n"
   ]
  },
  {
   "cell_type": "code",
   "execution_count": 4,
   "metadata": {},
   "outputs": [],
   "source": [
    "prep_pipeline_price = load_prep_pipeline('./result/diffprep_fix/Airbnb/Price/prep_pipeline.pth', space, params, DATADIR, dataset)"
   ]
  },
  {
   "cell_type": "code",
   "execution_count": 5,
   "metadata": {},
   "outputs": [],
   "source": [
    "prep_pipeline_rating = load_prep_pipeline('./result/diffprep_fix/Airbnb/Rating/prep_pipeline.pth', space, params, DATADIR, dataset)"
   ]
  },
  {
   "cell_type": "code",
   "execution_count": 6,
   "metadata": {},
   "outputs": [
    {
     "data": {
      "text/plain": [
       "(DiffPrepFixPipeline(\n",
       "   (pipeline): ModuleList(\n",
       "     (0): FirstTransformer()\n",
       "     (1): Transformer()\n",
       "     (2): Transformer()\n",
       "     (3): Transformer()\n",
       "   )\n",
       " ),\n",
       " DiffPrepFixPipeline(\n",
       "   (pipeline): ModuleList(\n",
       "     (0): FirstTransformer()\n",
       "     (1): Transformer()\n",
       "     (2): Transformer()\n",
       "     (3): Transformer()\n",
       "   )\n",
       " ))"
      ]
     },
     "execution_count": 6,
     "metadata": {},
     "output_type": "execute_result"
    }
   ],
   "source": [
    "prep_pipeline_price, prep_pipeline_rating"
   ]
  },
  {
   "cell_type": "code",
   "execution_count": 7,
   "metadata": {},
   "outputs": [],
   "source": [
    "import torch.nn.functional as F"
   ]
  },
  {
   "cell_type": "code",
   "execution_count": 8,
   "metadata": {},
   "outputs": [],
   "source": [
    "price_pipeline_params = prep_pipeline_price.state_dict()\n",
    "rating_pipeline_params = prep_pipeline_rating.state_dict()"
   ]
  },
  {
   "cell_type": "code",
   "execution_count": 9,
   "metadata": {},
   "outputs": [],
   "source": [
    "def get_pipeline_ops(prep_pipeline_params):\n",
    "    pipeline_ops = {}\n",
    "    for pipeline_step, pipeline in prep_pipeline_params.items():\n",
    "        #print(pipeline_step, pipeline.shape)\n",
    "        pipeline = F.softmax(pipeline)\n",
    "        #pipeline_arr = pipeline.numpy()\n",
    "        #pipeline_ops[pipeline_step] = pipeline_arr.argmax(axis=1)\n",
    "        pipeline_ops[pipeline_step] = pipeline\n",
    "    return pipeline_ops"
   ]
  },
  {
   "cell_type": "code",
   "execution_count": 10,
   "metadata": {},
   "outputs": [],
   "source": [
    "price_pipeline_ops = get_pipeline_ops(price_pipeline_params)\n",
    "rating_pipeline_ops = get_pipeline_ops(rating_pipeline_params)"
   ]
  },
  {
   "cell_type": "code",
   "execution_count": 11,
   "metadata": {},
   "outputs": [
    {
     "name": "stdout",
     "output_type": "stream",
     "text": [
      "pipeline.0.num_tf_prob_logits\n",
      "CE tensor(2.0029)\n",
      "Agreement % pipeline.0.num_tf_prob_logits 1.0\n",
      "pipeline.0.cat_tf_prob_logits\n",
      "CE tensor(1.1179)\n",
      "Agreement % pipeline.0.cat_tf_prob_logits 0.9824561403508771\n",
      "pipeline.1.tf_prob_logits\n",
      "CE tensor(3.1138)\n",
      "Agreement % pipeline.1.tf_prob_logits 0.5\n",
      "pipeline.2.tf_prob_logits\n",
      "CE tensor(3.0981)\n",
      "Agreement % pipeline.2.tf_prob_logits 0.776595744680851\n",
      "pipeline.3.tf_prob_logits\n",
      "CE tensor(3.3170)\n",
      "Agreement % pipeline.3.tf_prob_logits 0.7659574468085106\n"
     ]
    }
   ],
   "source": [
    "ces = []\n",
    "for pipeline_step in price_pipeline_params.keys():\n",
    "    price_pipeline_op = price_pipeline_ops[pipeline_step]\n",
    "    rating_pipeline_op = rating_pipeline_ops[pipeline_step]\n",
    "\n",
    "    ce = -(price_pipeline_op * np.log2(rating_pipeline_op)).sum(axis=1).mean()\n",
    "\n",
    "    print(pipeline_step)\n",
    "    print(\"CE\", ce)\n",
    "    print(\"Agreement %\", pipeline_step, (price_pipeline_op.argmax(axis=1) == rating_pipeline_op.argmax(axis=1)).numpy().mean())\n",
    "    ces.append((price_pipeline_op.argmax(axis=1) == rating_pipeline_op.argmax(axis=1)).numpy().mean())"
   ]
  },
  {
   "cell_type": "markdown",
   "metadata": {},
   "source": []
  },
  {
   "cell_type": "code",
   "execution_count": 12,
   "metadata": {},
   "outputs": [],
   "source": [
    "import pandas as pd\n",
    "\n",
    "airbnb_df = pd.read_csv('./data/Airbnb/data.csv')"
   ]
  },
  {
   "cell_type": "code",
   "execution_count": 13,
   "metadata": {},
   "outputs": [
    {
     "name": "stdout",
     "output_type": "stream",
     "text": [
      "<class 'pandas.core.frame.DataFrame'>\n",
      "RangeIndex: 1000 entries, 0 to 999\n",
      "Data columns (total 40 columns):\n",
      " #   Column                                              Non-Null Count  Dtype  \n",
      "---  ------                                              --------------  -----  \n",
      " 0   Bathrooms                                           990 non-null    float64\n",
      " 1   Bedrooms                                            895 non-null    float64\n",
      " 2   Beds                                                991 non-null    float64\n",
      " 3   LocationName                                        991 non-null    object \n",
      " 4   NumGuests                                           991 non-null    float64\n",
      " 5   NumReviews                                          991 non-null    float64\n",
      " 6   Price                                               1000 non-null   object \n",
      " 7   Rating                                              1000 non-null   object \n",
      " 8   latitude                                            1000 non-null   float64\n",
      " 9   longitude                                           1000 non-null   float64\n",
      " 10  zipcode                                             1000 non-null   int64  \n",
      " 11  pop2016                                             998 non-null    float64\n",
      " 12  pop2010                                             998 non-null    float64\n",
      " 13  pop2000                                             1000 non-null   int64  \n",
      " 14  cost_living_index (US avg. = 100)                   998 non-null    float64\n",
      " 15  land_area (sq.mi.)                                  1000 non-null   float64\n",
      " 16  water_area (sq.mi.)                                 1000 non-null   float64\n",
      " 17  pop_density (people per mile)                       1000 non-null   int64  \n",
      " 18  number of males                                     1000 non-null   int64  \n",
      " 19  number of females                                   1000 non-null   int64  \n",
      " 20  prop taxes paid 2016                                998 non-null    float64\n",
      " 21  median taxes (with mortgage                         888 non-null    float64\n",
      " 22  median taxes (no mortgage)                          891 non-null    float64\n",
      " 23  median house value                                  901 non-null    float64\n",
      " 24  median houshold income                              998 non-null    float64\n",
      " 25  median monthly owner costs (with mortgage)          897 non-null    float64\n",
      " 26  median monthly owner costs (no mortgage)            893 non-null    float64\n",
      " 27  median gross rent                                   996 non-null    float64\n",
      " 28  median asking price for vacant for-sale home/condo  997 non-null    float64\n",
      " 29  unemployment (%)                                    998 non-null    float64\n",
      " 30  Number of Homes                                     998 non-null    float64\n",
      " 31  Count of Abnb                                       1000 non-null   int64  \n",
      " 32  Density of Abnb (%)                                 998 non-null    float64\n",
      " 33  Average Abnb Price (by zipcode)                     1000 non-null   float64\n",
      " 34  Average NumReviews (by zipcode)                     1000 non-null   float64\n",
      " 35  Average Rating (by zipcode)                         1000 non-null   float64\n",
      " 36  Average Number of Bathrooms (by zipcode)            1000 non-null   float64\n",
      " 37  Average Number of Bedrooms (by zipcode)             1000 non-null   float64\n",
      " 38  Average Number of Beds (by zipcode)                 1000 non-null   float64\n",
      " 39  Average Number of Guests (by zipcode)               1000 non-null   float64\n",
      "dtypes: float64(31), int64(6), object(3)\n",
      "memory usage: 312.6+ KB\n"
     ]
    }
   ],
   "source": [
    "airbnb_df.info()"
   ]
  },
  {
   "cell_type": "code",
   "execution_count": 14,
   "metadata": {},
   "outputs": [],
   "source": [
    "X = airbnb_df.drop(['Rating', 'Price'], axis=1).iloc[:600, :]\n",
    "X_clean = prep_pipeline_rating(X, is_fit=True, X_type=\"train\").detach().numpy()"
   ]
  },
  {
   "cell_type": "code",
   "execution_count": 15,
   "metadata": {},
   "outputs": [],
   "source": [
    "y_rating = airbnb_df['Rating'].iloc[:600].values\n",
    "y_rating = (y_rating == 'Y').astype(int)"
   ]
  },
  {
   "cell_type": "code",
   "execution_count": null,
   "metadata": {},
   "outputs": [],
   "source": [
    "y_price = airbnb_df['Price'].iloc[:600].values\n",
    "y_price = (y_price == 'Y').astype(int)"
   ]
  },
  {
   "cell_type": "code",
   "execution_count": 16,
   "metadata": {},
   "outputs": [],
   "source": [
    "airbnb_dirty = pd.read_csv('./data/Airbnb/raw/dirty_train.csv')\n",
    "((airbnb_dirty['Price'] > 40)[:600] == y_rating).mean()"
   ]
  },
  {
   "cell_type": "code",
   "execution_count": 24,
   "metadata": {},
   "outputs": [],
   "source": [
    "y_price = (airbnb_dirty['Price'] > 40)[:600].astype(int)"
   ]
  },
  {
   "cell_type": "code",
   "execution_count": 25,
   "metadata": {},
   "outputs": [
    {
     "data": {
      "text/plain": [
       "0.6733333333333333"
      ]
     },
     "execution_count": 25,
     "metadata": {},
     "output_type": "execute_result"
    }
   ],
   "source": [
    "(y_rating == y_price).mean()"
   ]
  },
  {
   "cell_type": "code",
   "execution_count": 37,
   "metadata": {},
   "outputs": [
    {
     "data": {
      "text/plain": [
       "((600, 94), (600,), (600,))"
      ]
     },
     "execution_count": 37,
     "metadata": {},
     "output_type": "execute_result"
    }
   ],
   "source": [
    "X_clean.shape, y_rating.shape, y_price.shape"
   ]
  },
  {
   "cell_type": "code",
   "execution_count": 38,
   "metadata": {},
   "outputs": [
    {
     "data": {
      "text/plain": [
       "(600, 94)"
      ]
     },
     "execution_count": 38,
     "metadata": {},
     "output_type": "execute_result"
    }
   ],
   "source": [
    "X_clean.shape"
   ]
  },
  {
   "cell_type": "code",
   "execution_count": 26,
   "metadata": {},
   "outputs": [],
   "source": [
    "preprocessed_df = pd.DataFrame(X_clean)\n",
    "preprocessed_df['Rating'] = y_rating\n",
    "preprocessed_df['Price'] = airbnb_dirty['Price'][:600] #y_price"
   ]
  },
  {
   "cell_type": "code",
   "execution_count": 27,
   "metadata": {},
   "outputs": [],
   "source": [
    "preprocessed_df.to_csv(\"airbnb_cleaned_with_rating_controlled.csv\", index=False)"
   ]
  },
  {
   "cell_type": "code",
   "execution_count": null,
   "metadata": {},
   "outputs": [],
   "source": []
  }
 ],
 "metadata": {
  "kernelspec": {
   "display_name": "diffprep",
   "language": "python",
   "name": "python3"
  },
  "language_info": {
   "codemirror_mode": {
    "name": "ipython",
    "version": 3
   },
   "file_extension": ".py",
   "mimetype": "text/x-python",
   "name": "python",
   "nbconvert_exporter": "python",
   "pygments_lexer": "ipython3",
   "version": "3.9.7"
  },
  "orig_nbformat": 4
 },
 "nbformat": 4,
 "nbformat_minor": 2
}
