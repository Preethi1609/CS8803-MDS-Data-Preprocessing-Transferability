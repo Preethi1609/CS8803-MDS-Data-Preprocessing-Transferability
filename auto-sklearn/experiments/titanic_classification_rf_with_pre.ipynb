{
  "cells": [
    {
      "cell_type": "markdown",
      "metadata": {},
      "source": [
        "\n",
        "# Classification\n",
        "\n",
        "The following example shows how to fit a simple classification model with\n",
        "*auto-sklearn*.\n"
      ]
    },
    {
      "cell_type": "code",
      "execution_count": 1,
      "metadata": {
        "collapsed": false
      },
      "outputs": [],
      "source": [
        "from pprint import pprint\n",
        "import sklearn.metrics\n",
        "import autosklearn.classification\n",
        "import pandas as pd\n",
        "from sklearn.model_selection import train_test_split\n",
        "import autosklearn"
      ]
    },
    {
      "cell_type": "markdown",
      "metadata": {},
      "source": [
        "## Data Loading\n",
        "\n"
      ]
    },
    {
      "cell_type": "code",
      "execution_count": 6,
      "metadata": {},
      "outputs": [
        {
          "name": "stdout",
          "output_type": "stream",
          "text": [
            "624\n"
          ]
        }
      ],
      "source": [
        "\n",
        "file_path = '../data/titanic_dirty_data.csv'\n",
        "# file_path = '../data/airbnb.csv'\n",
        "\n",
        "\n",
        "df = pd.read_csv(file_path)\n",
        "print(len(df))\n",
        "df = df.dropna(subset=['Survived'])\n",
        "y = df['Survived']\n",
        "X = df.drop('Survived', axis=1)\n",
        "\n",
        "# df = df.dropna(subset=['Rating'])\n",
        "# y = df['Rating']\n",
        "# X = df.drop('Rating', axis=1)\n",
        "\n",
        "\n",
        "X_train, X_test, y_train, y_test = train_test_split(X, y, test_size=0.2, random_state=42)\n"
      ]
    },
    {
      "cell_type": "markdown",
      "metadata": {},
      "source": [
        "## Build and fit a classifier\n",
        "\n"
      ]
    },
    {
      "cell_type": "code",
      "execution_count": 9,
      "metadata": {
        "collapsed": false
      },
      "outputs": [
        {
          "name": "stderr",
          "output_type": "stream",
          "text": [
            "/home/preethi/projects/hitlda-project/auto-sklearn/autosklearn/data/feature_validator.py:298: FutureWarning: is_sparse is deprecated and will be removed in a future version. Check `isinstance(dtype, pd.SparseDtype)` instead.\n",
            "  if is_sparse(X[column]):\n",
            "/home/preethi/projects/hitlda-project/auto-sklearn/autosklearn/data/feature_validator.py:318: UserWarning: Input Column Name has generic type object. Autosklearn will treat this column as string. Please ensure that this setting is suitable for your task.\n",
            "  warnings.warn(\n",
            "/home/preethi/projects/hitlda-project/auto-sklearn/autosklearn/data/feature_validator.py:318: UserWarning: Input Column Sex has generic type object. Autosklearn will treat this column as string. Please ensure that this setting is suitable for your task.\n",
            "  warnings.warn(\n",
            "/home/preethi/projects/hitlda-project/auto-sklearn/autosklearn/data/feature_validator.py:318: UserWarning: Input Column Ticket has generic type object. Autosklearn will treat this column as string. Please ensure that this setting is suitable for your task.\n",
            "  warnings.warn(\n",
            "/home/preethi/projects/hitlda-project/auto-sklearn/autosklearn/data/feature_validator.py:318: UserWarning: Input Column Cabin has generic type object. Autosklearn will treat this column as string. Please ensure that this setting is suitable for your task.\n",
            "  warnings.warn(\n",
            "/home/preethi/projects/hitlda-project/auto-sklearn/autosklearn/data/feature_validator.py:318: UserWarning: Input Column Embarked has generic type object. Autosklearn will treat this column as string. Please ensure that this setting is suitable for your task.\n",
            "  warnings.warn(\n",
            "Fitting to the training data:   0%|\u001b[32m          \u001b[0m| 0/120 [00:00<?, ?it/s, The total time budget for this task is 0:02:00]"
          ]
        },
        {
          "name": "stdout",
          "output_type": "stream",
          "text": [
            "[ERROR] [2023-12-05 19:27:58,822:Client-AutoML(1):4eb0a365-93ce-11ee-88ce-c33e0a0c4a01] The provided component 'gradient_boost' for the key 'classifier' in the 'include' argument is not valid. The supported components for the step 'classifier' for this task are ['adaboost', 'bernoulli_nb', 'decision_tree', 'extra_trees', 'gaussian_nb', 'gradient_boosting', 'k_nearest_neighbors', 'lda', 'liblinear_svc', 'libsvm_svc', 'mlp', 'multinomial_nb', 'passive_aggressive', 'qda', 'random_forest', 'sgd']\n",
            "Traceback (most recent call last):\n",
            "  File \"/home/preethi/projects/hitlda-project/auto-sklearn/autosklearn/automl.py\", line 761, in fit\n",
            "    self.configuration_space, configspace_path = self._create_search_space(\n",
            "  File \"/home/preethi/projects/hitlda-project/auto-sklearn/autosklearn/automl.py\", line 2263, in _create_search_space\n",
            "    configuration_space = pipeline.get_configuration_space(\n",
            "  File \"/home/preethi/projects/hitlda-project/auto-sklearn/autosklearn/util/pipeline.py\", line 53, in get_configuration_space\n",
            "    return _get_classification_configuration_space(\n",
            "  File \"/home/preethi/projects/hitlda-project/auto-sklearn/autosklearn/util/pipeline.py\", line 155, in _get_classification_configuration_space\n",
            "    return SimpleClassificationPipeline(\n",
            "  File \"/home/preethi/projects/hitlda-project/auto-sklearn/autosklearn/pipeline/classification.py\", line 88, in __init__\n",
            "    super().__init__(\n",
            "  File \"/home/preethi/projects/hitlda-project/auto-sklearn/autosklearn/pipeline/base.py\", line 64, in __init__\n",
            "    self._validate_include_exclude_params()\n",
            "  File \"/home/preethi/projects/hitlda-project/auto-sklearn/autosklearn/pipeline/base.py\", line 609, in _validate_include_exclude_params\n",
            "    raise ValueError(\n",
            "ValueError: The provided component 'gradient_boost' for the key 'classifier' in the 'include' argument is not valid. The supported components for the step 'classifier' for this task are ['adaboost', 'bernoulli_nb', 'decision_tree', 'extra_trees', 'gaussian_nb', 'gradient_boosting', 'k_nearest_neighbors', 'lda', 'liblinear_svc', 'libsvm_svc', 'mlp', 'multinomial_nb', 'passive_aggressive', 'qda', 'random_forest', 'sgd']\n"
          ]
        },
        {
          "name": "stderr",
          "output_type": "stream",
          "text": [
            "Fitting to the training data: 100%|\u001b[32m██████████\u001b[0m| 120/120 [00:01<00:00, 119.75it/s, The total time budget for this task is 0:02:00]\n"
          ]
        },
        {
          "ename": "ValueError",
          "evalue": "The provided component 'gradient_boost' for the key 'classifier' in the 'include' argument is not valid. The supported components for the step 'classifier' for this task are ['adaboost', 'bernoulli_nb', 'decision_tree', 'extra_trees', 'gaussian_nb', 'gradient_boosting', 'k_nearest_neighbors', 'lda', 'liblinear_svc', 'libsvm_svc', 'mlp', 'multinomial_nb', 'passive_aggressive', 'qda', 'random_forest', 'sgd']",
          "output_type": "error",
          "traceback": [
            "\u001b[0;31m---------------------------------------------------------------------------\u001b[0m",
            "\u001b[0;31mValueError\u001b[0m                                Traceback (most recent call last)",
            "\u001b[1;32m/home/preethi/projects/hitlda-project/auto-sklearn/experiments/titanic_classification_rf_with_pre.ipynb Cell 6\u001b[0m line \u001b[0;36m1\n\u001b[1;32m      <a href='vscode-notebook-cell:/home/preethi/projects/hitlda-project/auto-sklearn/experiments/titanic_classification_rf_with_pre.ipynb#W5sZmlsZQ%3D%3D?line=0'>1</a>\u001b[0m automl \u001b[39m=\u001b[39m autosklearn\u001b[39m.\u001b[39mclassification\u001b[39m.\u001b[39mAutoSklearnClassifier(\n\u001b[1;32m      <a href='vscode-notebook-cell:/home/preethi/projects/hitlda-project/auto-sklearn/experiments/titanic_classification_rf_with_pre.ipynb#W5sZmlsZQ%3D%3D?line=1'>2</a>\u001b[0m     time_left_for_this_task\u001b[39m=\u001b[39m\u001b[39m120\u001b[39m,\n\u001b[1;32m      <a href='vscode-notebook-cell:/home/preethi/projects/hitlda-project/auto-sklearn/experiments/titanic_classification_rf_with_pre.ipynb#W5sZmlsZQ%3D%3D?line=2'>3</a>\u001b[0m     per_run_time_limit\u001b[39m=\u001b[39m\u001b[39m10\u001b[39m,\n\u001b[0;32m   (...)\u001b[0m\n\u001b[1;32m      <a href='vscode-notebook-cell:/home/preethi/projects/hitlda-project/auto-sklearn/experiments/titanic_classification_rf_with_pre.ipynb#W5sZmlsZQ%3D%3D?line=6'>7</a>\u001b[0m     tmp_folder\u001b[39m=\u001b[39m\u001b[39m\"\u001b[39m\u001b[39mtmp/autosklearn_classification_example_tmp5\u001b[39m\u001b[39m\"\u001b[39m,\n\u001b[1;32m      <a href='vscode-notebook-cell:/home/preethi/projects/hitlda-project/auto-sklearn/experiments/titanic_classification_rf_with_pre.ipynb#W5sZmlsZQ%3D%3D?line=7'>8</a>\u001b[0m )\n\u001b[0;32m---> <a href='vscode-notebook-cell:/home/preethi/projects/hitlda-project/auto-sklearn/experiments/titanic_classification_rf_with_pre.ipynb#W5sZmlsZQ%3D%3D?line=9'>10</a>\u001b[0m automl\u001b[39m.\u001b[39;49mfit(X_train, y_train)\n\u001b[1;32m     <a href='vscode-notebook-cell:/home/preethi/projects/hitlda-project/auto-sklearn/experiments/titanic_classification_rf_with_pre.ipynb#W5sZmlsZQ%3D%3D?line=10'>11</a>\u001b[0m run_key \u001b[39m=\u001b[39m \u001b[39mlist\u001b[39m(automl\u001b[39m.\u001b[39mautoml_\u001b[39m.\u001b[39mrunhistory_\u001b[39m.\u001b[39mdata\u001b[39m.\u001b[39mkeys())[\u001b[39m0\u001b[39m]\n\u001b[1;32m     <a href='vscode-notebook-cell:/home/preethi/projects/hitlda-project/auto-sklearn/experiments/titanic_classification_rf_with_pre.ipynb#W5sZmlsZQ%3D%3D?line=11'>12</a>\u001b[0m run_value \u001b[39m=\u001b[39m automl\u001b[39m.\u001b[39mautoml_\u001b[39m.\u001b[39mrunhistory_\u001b[39m.\u001b[39mdata[run_key]\n",
            "File \u001b[0;32m~/projects/hitlda-project/auto-sklearn/autosklearn/estimators.py:1455\u001b[0m, in \u001b[0;36mAutoSklearnClassifier.fit\u001b[0;34m(self, X, y, X_test, y_test, feat_type, dataset_name)\u001b[0m\n\u001b[1;32m   1452\u001b[0m \u001b[39m# remember target type for using in predict_proba later.\u001b[39;00m\n\u001b[1;32m   1453\u001b[0m \u001b[39mself\u001b[39m\u001b[39m.\u001b[39mtarget_type \u001b[39m=\u001b[39m target_type\n\u001b[0;32m-> 1455\u001b[0m \u001b[39msuper\u001b[39;49m()\u001b[39m.\u001b[39;49mfit(\n\u001b[1;32m   1456\u001b[0m     X\u001b[39m=\u001b[39;49mX,\n\u001b[1;32m   1457\u001b[0m     y\u001b[39m=\u001b[39;49my,\n\u001b[1;32m   1458\u001b[0m     X_test\u001b[39m=\u001b[39;49mX_test,\n\u001b[1;32m   1459\u001b[0m     y_test\u001b[39m=\u001b[39;49my_test,\n\u001b[1;32m   1460\u001b[0m     feat_type\u001b[39m=\u001b[39;49mfeat_type,\n\u001b[1;32m   1461\u001b[0m     dataset_name\u001b[39m=\u001b[39;49mdataset_name,\n\u001b[1;32m   1462\u001b[0m )\n\u001b[1;32m   1464\u001b[0m \u001b[39m# After fit, a classifier is expected to define classes_\u001b[39;00m\n\u001b[1;32m   1465\u001b[0m \u001b[39m# A list of class labels known to the classifier, mapping each label\u001b[39;00m\n\u001b[1;32m   1466\u001b[0m \u001b[39m# to a numerical index used in the model representation our output.\u001b[39;00m\n\u001b[1;32m   1467\u001b[0m \u001b[39mself\u001b[39m\u001b[39m.\u001b[39mclasses_ \u001b[39m=\u001b[39m \u001b[39mself\u001b[39m\u001b[39m.\u001b[39mautoml_\u001b[39m.\u001b[39mInputValidator\u001b[39m.\u001b[39mtarget_validator\u001b[39m.\u001b[39mclasses_\n",
            "File \u001b[0;32m~/projects/hitlda-project/auto-sklearn/autosklearn/estimators.py:547\u001b[0m, in \u001b[0;36mAutoSklearnEstimator.fit\u001b[0;34m(self, **kwargs)\u001b[0m\n\u001b[1;32m    545\u001b[0m \u001b[39mif\u001b[39;00m \u001b[39mself\u001b[39m\u001b[39m.\u001b[39mautoml_ \u001b[39mis\u001b[39;00m \u001b[39mNone\u001b[39;00m:\n\u001b[1;32m    546\u001b[0m     \u001b[39mself\u001b[39m\u001b[39m.\u001b[39mautoml_ \u001b[39m=\u001b[39m \u001b[39mself\u001b[39m\u001b[39m.\u001b[39mbuild_automl()\n\u001b[0;32m--> 547\u001b[0m \u001b[39mself\u001b[39;49m\u001b[39m.\u001b[39;49mautoml_\u001b[39m.\u001b[39;49mfit(load_models\u001b[39m=\u001b[39;49m\u001b[39mself\u001b[39;49m\u001b[39m.\u001b[39;49mload_models, \u001b[39m*\u001b[39;49m\u001b[39m*\u001b[39;49mkwargs)\n\u001b[1;32m    549\u001b[0m \u001b[39mreturn\u001b[39;00m \u001b[39mself\u001b[39m\n",
            "File \u001b[0;32m~/projects/hitlda-project/auto-sklearn/autosklearn/automl.py:2315\u001b[0m, in \u001b[0;36mAutoMLClassifier.fit\u001b[0;34m(self, X, y, X_test, y_test, feat_type, dataset_name, only_return_configuration_space, load_models)\u001b[0m\n\u001b[1;32m   2304\u001b[0m \u001b[39mdef\u001b[39;00m \u001b[39mfit\u001b[39m(\n\u001b[1;32m   2305\u001b[0m     \u001b[39mself\u001b[39m,\n\u001b[1;32m   2306\u001b[0m     X: SUPPORTED_FEAT_TYPES,\n\u001b[0;32m   (...)\u001b[0m\n\u001b[1;32m   2313\u001b[0m     load_models: \u001b[39mbool\u001b[39m \u001b[39m=\u001b[39m \u001b[39mTrue\u001b[39;00m,\n\u001b[1;32m   2314\u001b[0m ) \u001b[39m-\u001b[39m\u001b[39m>\u001b[39m AutoMLClassifier:\n\u001b[0;32m-> 2315\u001b[0m     \u001b[39mreturn\u001b[39;00m \u001b[39msuper\u001b[39;49m()\u001b[39m.\u001b[39;49mfit(\n\u001b[1;32m   2316\u001b[0m         X,\n\u001b[1;32m   2317\u001b[0m         y,\n\u001b[1;32m   2318\u001b[0m         X_test\u001b[39m=\u001b[39;49mX_test,\n\u001b[1;32m   2319\u001b[0m         y_test\u001b[39m=\u001b[39;49my_test,\n\u001b[1;32m   2320\u001b[0m         feat_type\u001b[39m=\u001b[39;49mfeat_type,\n\u001b[1;32m   2321\u001b[0m         dataset_name\u001b[39m=\u001b[39;49mdataset_name,\n\u001b[1;32m   2322\u001b[0m         only_return_configuration_space\u001b[39m=\u001b[39;49monly_return_configuration_space,\n\u001b[1;32m   2323\u001b[0m         load_models\u001b[39m=\u001b[39;49mload_models,\n\u001b[1;32m   2324\u001b[0m         is_classification\u001b[39m=\u001b[39;49m\u001b[39mTrue\u001b[39;49;00m,\n\u001b[1;32m   2325\u001b[0m     )\n",
            "File \u001b[0;32m~/projects/hitlda-project/auto-sklearn/autosklearn/automl.py:972\u001b[0m, in \u001b[0;36mAutoML.fit\u001b[0;34m(self, X, y, task, X_test, y_test, feat_type, dataset_name, only_return_configuration_space, load_models, is_classification)\u001b[0m\n\u001b[1;32m    969\u001b[0m \u001b[39mexcept\u001b[39;00m \u001b[39mException\u001b[39;00m \u001b[39mas\u001b[39;00m e:\n\u001b[1;32m    970\u001b[0m     \u001b[39m# This will be called before the _fit_cleanup\u001b[39;00m\n\u001b[1;32m    971\u001b[0m     \u001b[39mself\u001b[39m\u001b[39m.\u001b[39m_logger\u001b[39m.\u001b[39mexception(e)\n\u001b[0;32m--> 972\u001b[0m     \u001b[39mraise\u001b[39;00m e\n\u001b[1;32m    973\u001b[0m \u001b[39mfinally\u001b[39;00m:\n\u001b[1;32m    974\u001b[0m     progress_bar\u001b[39m.\u001b[39mjoin()\n",
            "File \u001b[0;32m~/projects/hitlda-project/auto-sklearn/autosklearn/automl.py:761\u001b[0m, in \u001b[0;36mAutoML.fit\u001b[0;34m(self, X, y, task, X_test, y_test, feat_type, dataset_name, only_return_configuration_space, load_models, is_classification)\u001b[0m\n\u001b[1;32m    753\u001b[0m \u001b[39m# = Create a searchspace\u001b[39;00m\n\u001b[1;32m    754\u001b[0m \u001b[39m# Do this before One Hot Encoding to make sure that it creates a\u001b[39;00m\n\u001b[1;32m    755\u001b[0m \u001b[39m# search space for a dense classifier even if one hot encoding would\u001b[39;00m\n\u001b[0;32m   (...)\u001b[0m\n\u001b[1;32m    758\u001b[0m \u001b[39m# like this we can't use some of the preprocessing methods in case\u001b[39;00m\n\u001b[1;32m    759\u001b[0m \u001b[39m# the data became sparse)\u001b[39;00m\n\u001b[1;32m    760\u001b[0m \u001b[39mwith\u001b[39;00m \u001b[39mself\u001b[39m\u001b[39m.\u001b[39m_stopwatch\u001b[39m.\u001b[39mtime(\u001b[39m\"\u001b[39m\u001b[39mCreate Search space\u001b[39m\u001b[39m\"\u001b[39m):\n\u001b[0;32m--> 761\u001b[0m     \u001b[39mself\u001b[39m\u001b[39m.\u001b[39mconfiguration_space, configspace_path \u001b[39m=\u001b[39m \u001b[39mself\u001b[39;49m\u001b[39m.\u001b[39;49m_create_search_space(\n\u001b[1;32m    762\u001b[0m         \u001b[39mself\u001b[39;49m\u001b[39m.\u001b[39;49m_backend\u001b[39m.\u001b[39;49mtemporary_directory,\n\u001b[1;32m    763\u001b[0m         \u001b[39mself\u001b[39;49m\u001b[39m.\u001b[39;49m_backend,\n\u001b[1;32m    764\u001b[0m         datamanager,\n\u001b[1;32m    765\u001b[0m         include\u001b[39m=\u001b[39;49m\u001b[39mself\u001b[39;49m\u001b[39m.\u001b[39;49m_include,\n\u001b[1;32m    766\u001b[0m         exclude\u001b[39m=\u001b[39;49m\u001b[39mself\u001b[39;49m\u001b[39m.\u001b[39;49m_exclude,\n\u001b[1;32m    767\u001b[0m     )\n\u001b[1;32m    769\u001b[0m \u001b[39mif\u001b[39;00m only_return_configuration_space:\n\u001b[1;32m    770\u001b[0m     \u001b[39mreturn\u001b[39;00m \u001b[39mself\u001b[39m\u001b[39m.\u001b[39mconfiguration_space\n",
            "File \u001b[0;32m~/projects/hitlda-project/auto-sklearn/autosklearn/automl.py:2263\u001b[0m, in \u001b[0;36mAutoML._create_search_space\u001b[0;34m(self, tmp_dir, backend, datamanager, include, exclude)\u001b[0m\n\u001b[1;32m   2254\u001b[0m \u001b[39mdef\u001b[39;00m \u001b[39m_create_search_space\u001b[39m(\n\u001b[1;32m   2255\u001b[0m     \u001b[39mself\u001b[39m,\n\u001b[1;32m   2256\u001b[0m     tmp_dir: \u001b[39mstr\u001b[39m,\n\u001b[0;32m   (...)\u001b[0m\n\u001b[1;32m   2260\u001b[0m     exclude: Optional[Mapping[\u001b[39mstr\u001b[39m, \u001b[39mlist\u001b[39m[\u001b[39mstr\u001b[39m]]] \u001b[39m=\u001b[39m \u001b[39mNone\u001b[39;00m,\n\u001b[1;32m   2261\u001b[0m ) \u001b[39m-\u001b[39m\u001b[39m>\u001b[39m Tuple[ConfigurationSpace, \u001b[39mstr\u001b[39m]:\n\u001b[1;32m   2262\u001b[0m     configspace_path \u001b[39m=\u001b[39m os\u001b[39m.\u001b[39mpath\u001b[39m.\u001b[39mjoin(tmp_dir, \u001b[39m\"\u001b[39m\u001b[39mspace.json\u001b[39m\u001b[39m\"\u001b[39m)\n\u001b[0;32m-> 2263\u001b[0m     configuration_space \u001b[39m=\u001b[39m pipeline\u001b[39m.\u001b[39;49mget_configuration_space(\n\u001b[1;32m   2264\u001b[0m         datamanager,\n\u001b[1;32m   2265\u001b[0m         include\u001b[39m=\u001b[39;49minclude,\n\u001b[1;32m   2266\u001b[0m         exclude\u001b[39m=\u001b[39;49mexclude,\n\u001b[1;32m   2267\u001b[0m     )\n\u001b[1;32m   2268\u001b[0m     backend\u001b[39m.\u001b[39mwrite_txt_file(\n\u001b[1;32m   2269\u001b[0m         configspace_path,\n\u001b[1;32m   2270\u001b[0m         cs_json\u001b[39m.\u001b[39mwrite(configuration_space),\n\u001b[1;32m   2271\u001b[0m         \u001b[39m\"\u001b[39m\u001b[39mConfiguration space\u001b[39m\u001b[39m\"\u001b[39m,\n\u001b[1;32m   2272\u001b[0m     )\n\u001b[1;32m   2274\u001b[0m     \u001b[39mreturn\u001b[39;00m configuration_space, configspace_path\n",
            "File \u001b[0;32m~/projects/hitlda-project/auto-sklearn/autosklearn/util/pipeline.py:53\u001b[0m, in \u001b[0;36mget_configuration_space\u001b[0;34m(datamanager, include, exclude, random_state)\u001b[0m\n\u001b[1;32m     49\u001b[0m     \u001b[39mreturn\u001b[39;00m _get_regression_configuration_space(\n\u001b[1;32m     50\u001b[0m         datamanager, include, exclude, random_state\n\u001b[1;32m     51\u001b[0m     )\n\u001b[1;32m     52\u001b[0m \u001b[39melse\u001b[39;00m:\n\u001b[0;32m---> 53\u001b[0m     \u001b[39mreturn\u001b[39;00m _get_classification_configuration_space(\n\u001b[1;32m     54\u001b[0m         datamanager, include, exclude, random_state\n\u001b[1;32m     55\u001b[0m     )\n",
            "File \u001b[0;32m~/projects/hitlda-project/auto-sklearn/autosklearn/util/pipeline.py:155\u001b[0m, in \u001b[0;36m_get_classification_configuration_space\u001b[0;34m(datamanager, include, exclude, random_state)\u001b[0m\n\u001b[1;32m    147\u001b[0m     sparse \u001b[39m=\u001b[39m \u001b[39mTrue\u001b[39;00m\n\u001b[1;32m    149\u001b[0m dataset_properties \u001b[39m=\u001b[39m {\n\u001b[1;32m    150\u001b[0m     \u001b[39m\"\u001b[39m\u001b[39mmultilabel\u001b[39m\u001b[39m\"\u001b[39m: multilabel,\n\u001b[1;32m    151\u001b[0m     \u001b[39m\"\u001b[39m\u001b[39mmulticlass\u001b[39m\u001b[39m\"\u001b[39m: multiclass,\n\u001b[1;32m    152\u001b[0m     \u001b[39m\"\u001b[39m\u001b[39msparse\u001b[39m\u001b[39m\"\u001b[39m: sparse,\n\u001b[1;32m    153\u001b[0m }\n\u001b[0;32m--> 155\u001b[0m \u001b[39mreturn\u001b[39;00m SimpleClassificationPipeline(\n\u001b[1;32m    156\u001b[0m     feat_type\u001b[39m=\u001b[39;49mdatamanager\u001b[39m.\u001b[39;49mfeat_type,\n\u001b[1;32m    157\u001b[0m     dataset_properties\u001b[39m=\u001b[39;49mdataset_properties,\n\u001b[1;32m    158\u001b[0m     include\u001b[39m=\u001b[39;49minclude,\n\u001b[1;32m    159\u001b[0m     exclude\u001b[39m=\u001b[39;49mexclude,\n\u001b[1;32m    160\u001b[0m     random_state\u001b[39m=\u001b[39;49mrandom_state,\n\u001b[1;32m    161\u001b[0m )\u001b[39m.\u001b[39mget_hyperparameter_search_space(feat_type\u001b[39m=\u001b[39mdatamanager\u001b[39m.\u001b[39mfeat_type)\n",
            "File \u001b[0;32m~/projects/hitlda-project/auto-sklearn/autosklearn/pipeline/classification.py:88\u001b[0m, in \u001b[0;36mSimpleClassificationPipeline.__init__\u001b[0;34m(self, config, feat_type, steps, dataset_properties, include, exclude, random_state, init_params)\u001b[0m\n\u001b[1;32m     86\u001b[0m \u001b[39mif\u001b[39;00m \u001b[39m\"\u001b[39m\u001b[39mtarget_type\u001b[39m\u001b[39m\"\u001b[39m \u001b[39mnot\u001b[39;00m \u001b[39min\u001b[39;00m dataset_properties:\n\u001b[1;32m     87\u001b[0m     dataset_properties[\u001b[39m\"\u001b[39m\u001b[39mtarget_type\u001b[39m\u001b[39m\"\u001b[39m] \u001b[39m=\u001b[39m \u001b[39m\"\u001b[39m\u001b[39mclassification\u001b[39m\u001b[39m\"\u001b[39m\n\u001b[0;32m---> 88\u001b[0m \u001b[39msuper\u001b[39;49m()\u001b[39m.\u001b[39;49m\u001b[39m__init__\u001b[39;49m(\n\u001b[1;32m     89\u001b[0m     feat_type\u001b[39m=\u001b[39;49mfeat_type,\n\u001b[1;32m     90\u001b[0m     config\u001b[39m=\u001b[39;49mconfig,\n\u001b[1;32m     91\u001b[0m     steps\u001b[39m=\u001b[39;49msteps,\n\u001b[1;32m     92\u001b[0m     dataset_properties\u001b[39m=\u001b[39;49mdataset_properties,\n\u001b[1;32m     93\u001b[0m     include\u001b[39m=\u001b[39;49minclude,\n\u001b[1;32m     94\u001b[0m     exclude\u001b[39m=\u001b[39;49mexclude,\n\u001b[1;32m     95\u001b[0m     random_state\u001b[39m=\u001b[39;49mrandom_state,\n\u001b[1;32m     96\u001b[0m     init_params\u001b[39m=\u001b[39;49minit_params,\n\u001b[1;32m     97\u001b[0m )\n",
            "File \u001b[0;32m~/projects/hitlda-project/auto-sklearn/autosklearn/pipeline/base.py:64\u001b[0m, in \u001b[0;36mBasePipeline.__init__\u001b[0;34m(self, config, feat_type, steps, dataset_properties, include, exclude, random_state, init_params)\u001b[0m\n\u001b[1;32m     61\u001b[0m \u001b[39melse\u001b[39;00m:\n\u001b[1;32m     62\u001b[0m     \u001b[39mself\u001b[39m\u001b[39m.\u001b[39msteps \u001b[39m=\u001b[39m steps\n\u001b[0;32m---> 64\u001b[0m \u001b[39mself\u001b[39;49m\u001b[39m.\u001b[39;49m_validate_include_exclude_params()\n\u001b[1;32m     66\u001b[0m \u001b[39mself\u001b[39m\u001b[39m.\u001b[39mconfig_space \u001b[39m=\u001b[39m \u001b[39mself\u001b[39m\u001b[39m.\u001b[39mget_hyperparameter_search_space(feat_type\u001b[39m=\u001b[39mfeat_type)\n\u001b[1;32m     68\u001b[0m \u001b[39mif\u001b[39;00m config \u001b[39mis\u001b[39;00m \u001b[39mNone\u001b[39;00m:\n",
            "File \u001b[0;32m~/projects/hitlda-project/auto-sklearn/autosklearn/pipeline/base.py:609\u001b[0m, in \u001b[0;36mBasePipeline._validate_include_exclude_params\u001b[0;34m(self)\u001b[0m\n\u001b[1;32m    607\u001b[0m \u001b[39mfor\u001b[39;00m component \u001b[39min\u001b[39;00m candidate_components:\n\u001b[1;32m    608\u001b[0m     \u001b[39mif\u001b[39;00m component \u001b[39mnot\u001b[39;00m \u001b[39min\u001b[39;00m available_components:\n\u001b[0;32m--> 609\u001b[0m         \u001b[39mraise\u001b[39;00m \u001b[39mValueError\u001b[39;00m(\n\u001b[1;32m    610\u001b[0m             \u001b[39m\"\u001b[39m\u001b[39mThe provided component \u001b[39m\u001b[39m'\u001b[39m\u001b[39m{}\u001b[39;00m\u001b[39m'\u001b[39m\u001b[39m for the key \u001b[39m\u001b[39m'\u001b[39m\u001b[39m{}\u001b[39;00m\u001b[39m'\u001b[39m\u001b[39m in the \u001b[39m\u001b[39m'\u001b[39m\u001b[39m{}\u001b[39;00m\u001b[39m'\u001b[39m\u001b[39m\"\u001b[39m\n\u001b[1;32m    611\u001b[0m             \u001b[39m\"\u001b[39m\u001b[39m argument is not valid. The supported components for the\u001b[39m\u001b[39m\"\u001b[39m\n\u001b[1;32m    612\u001b[0m             \u001b[39m\"\u001b[39m\u001b[39m step \u001b[39m\u001b[39m'\u001b[39m\u001b[39m{}\u001b[39;00m\u001b[39m'\u001b[39m\u001b[39m for this task are \u001b[39m\u001b[39m{}\u001b[39;00m\u001b[39m\"\u001b[39m\u001b[39m.\u001b[39mformat(\n\u001b[1;32m    613\u001b[0m                 component, key, arg, key, available_components\n\u001b[1;32m    614\u001b[0m             )\n\u001b[1;32m    615\u001b[0m         )\n",
            "\u001b[0;31mValueError\u001b[0m: The provided component 'gradient_boost' for the key 'classifier' in the 'include' argument is not valid. The supported components for the step 'classifier' for this task are ['adaboost', 'bernoulli_nb', 'decision_tree', 'extra_trees', 'gaussian_nb', 'gradient_boosting', 'k_nearest_neighbors', 'lda', 'liblinear_svc', 'libsvm_svc', 'mlp', 'multinomial_nb', 'passive_aggressive', 'qda', 'random_forest', 'sgd']"
          ]
        }
      ],
      "source": [
        "automl = autosklearn.classification.AutoSklearnClassifier(\n",
        "    time_left_for_this_task=120,\n",
        "    per_run_time_limit=10,\n",
        "    include = {\n",
        "        'classifier': [\"gradient_boosting\"],\n",
        "    },\n",
        "    tmp_folder=\"tmp/autosklearn_classification_example_tmp5\",\n",
        ")\n",
        "\n",
        "automl.fit(X_train, y_train)\n",
        "run_key = list(automl.automl_.runhistory_.data.keys())[0]\n",
        "run_value = automl.automl_.runhistory_.data[run_key]\n",
        "config=automl.automl_.runhistory_.ids_config[run_key.config_id]\n",
        "print(config)"
      ]
    },
    {
      "cell_type": "markdown",
      "metadata": {},
      "source": [
        "## View the models found by auto-sklearn\n",
        "\n"
      ]
    },
    {
      "cell_type": "code",
      "execution_count": 4,
      "metadata": {
        "collapsed": false
      },
      "outputs": [
        {
          "name": "stdout",
          "output_type": "stream",
          "text": [
            "          rank  ensemble_weight type      cost  duration\n",
            "model_id                                                \n",
            "4            1             0.12  mlp  0.115152  0.947709\n",
            "48           2             0.04  mlp  0.121212  1.002826\n",
            "37           3             0.08  mlp  0.145455  1.086634\n",
            "57           4             0.04  mlp  0.151515  0.898793\n",
            "13           5             0.06  mlp  0.157576  0.754961\n",
            "14           6             0.02  mlp  0.169697  1.530150\n",
            "20           7             0.04  mlp  0.169697  0.999433\n",
            "9            8             0.08  mlp  0.175758  1.377708\n",
            "44          10             0.08  mlp  0.175758  1.068163\n",
            "62           9             0.02  mlp  0.175758  1.146705\n",
            "28          11             0.06  mlp  0.181818  1.001655\n",
            "33          12             0.10  mlp  0.181818  1.751342\n",
            "5           14             0.10  mlp  0.224242  0.692738\n",
            "54          13             0.02  mlp  0.224242  1.528497\n",
            "55          15             0.02  mlp  0.260606  1.816128\n",
            "29          16             0.02  mlp  0.321212  0.944707\n",
            "36          17             0.08  mlp  0.327273  1.005548\n",
            "8           18             0.02  mlp  0.333333  1.061367\n"
          ]
        }
      ],
      "source": [
        "print(automl.leaderboard())"
      ]
    },
    {
      "cell_type": "markdown",
      "metadata": {},
      "source": [
        "## Print the final ensemble constructed by auto-sklearn\n",
        "\n"
      ]
    },
    {
      "cell_type": "code",
      "execution_count": 5,
      "metadata": {
        "collapsed": false
      },
      "outputs": [
        {
          "name": "stdout",
          "output_type": "stream",
          "text": [
            "{   4: {   'balancing': Balancing(random_state=1, strategy='weighting'),\n",
            "           'classifier': <autosklearn.pipeline.components.classification.ClassifierChoice object at 0x7fa8d51f11c0>,\n",
            "           'cost': 0.11515151515151512,\n",
            "           'data_preprocessor': <autosklearn.pipeline.components.data_preprocessing.DataPreprocessorChoice object at 0x7fa8d51e5b20>,\n",
            "           'ensemble_weight': 0.12,\n",
            "           'feature_preprocessor': <autosklearn.pipeline.components.feature_preprocessing.FeaturePreprocessorChoice object at 0x7fa8d51f1d60>,\n",
            "           'model_id': 4,\n",
            "           'rank': 1,\n",
            "           'sklearn_classifier': MLPClassifier(alpha=4.2841884333778574e-06, beta_1=0.999, beta_2=0.9,\n",
            "              hidden_layer_sizes=(64, 64, 64),\n",
            "              learning_rate_init=0.0011804284312897009, max_iter=128,\n",
            "              n_iter_no_change=32, random_state=1, validation_fraction=0.0,\n",
            "              verbose=0, warm_start=True)},\n",
            "    5: {   'balancing': Balancing(random_state=1),\n",
            "           'classifier': <autosklearn.pipeline.components.classification.ClassifierChoice object at 0x7fa8d55c9df0>,\n",
            "           'cost': 0.22424242424242424,\n",
            "           'data_preprocessor': <autosklearn.pipeline.components.data_preprocessing.DataPreprocessorChoice object at 0x7fa8d591d250>,\n",
            "           'ensemble_weight': 0.1,\n",
            "           'feature_preprocessor': <autosklearn.pipeline.components.feature_preprocessing.FeaturePreprocessorChoice object at 0x7fa8d55c9bb0>,\n",
            "           'model_id': 5,\n",
            "           'rank': 20,\n",
            "           'sklearn_classifier': MLPClassifier(activation='tanh', alpha=0.0001363185819149026, beta_1=0.999,\n",
            "              beta_2=0.9, early_stopping=True, hidden_layer_sizes=(64, 64, 64),\n",
            "              learning_rate_init=0.00018009776276177523, max_iter=32,\n",
            "              n_iter_no_change=32, random_state=1, verbose=0, warm_start=True)},\n",
            "    8: {   'balancing': Balancing(random_state=1, strategy='weighting'),\n",
            "           'classifier': <autosklearn.pipeline.components.classification.ClassifierChoice object at 0x7fa8d5887b80>,\n",
            "           'cost': 0.33333333333333337,\n",
            "           'data_preprocessor': <autosklearn.pipeline.components.data_preprocessing.DataPreprocessorChoice object at 0x7fa91c3c3790>,\n",
            "           'ensemble_weight': 0.02,\n",
            "           'feature_preprocessor': <autosklearn.pipeline.components.feature_preprocessing.FeaturePreprocessorChoice object at 0x7fa8d5887250>,\n",
            "           'model_id': 8,\n",
            "           'rank': 26,\n",
            "           'sklearn_classifier': MLPClassifier(alpha=0.0005005168300134541, beta_1=0.999, beta_2=0.9,\n",
            "              hidden_layer_sizes=(64, 64, 64),\n",
            "              learning_rate_init=0.0012631168744483667, max_iter=128,\n",
            "              n_iter_no_change=32, random_state=1, validation_fraction=0.0,\n",
            "              verbose=0, warm_start=True)},\n",
            "    9: {   'balancing': Balancing(random_state=1),\n",
            "           'classifier': <autosklearn.pipeline.components.classification.ClassifierChoice object at 0x7fa8d51ceee0>,\n",
            "           'cost': 0.17575757575757578,\n",
            "           'data_preprocessor': <autosklearn.pipeline.components.data_preprocessing.DataPreprocessorChoice object at 0x7fa8d51e6ee0>,\n",
            "           'ensemble_weight': 0.08,\n",
            "           'feature_preprocessor': <autosklearn.pipeline.components.feature_preprocessing.FeaturePreprocessorChoice object at 0x7fa8d5551340>,\n",
            "           'model_id': 9,\n",
            "           'rank': 11,\n",
            "           'sklearn_classifier': MLPClassifier(activation='tanh', alpha=2.5550223982458062e-06, beta_1=0.999,\n",
            "              beta_2=0.9, hidden_layer_sizes=(64, 64, 64),\n",
            "              learning_rate_init=0.00027271287919467994, max_iter=256,\n",
            "              n_iter_no_change=32, random_state=1, validation_fraction=0.0,\n",
            "              verbose=0, warm_start=True)},\n",
            "    13: {   'balancing': Balancing(random_state=1),\n",
            "            'classifier': <autosklearn.pipeline.components.classification.ClassifierChoice object at 0x7fa8d51cef40>,\n",
            "            'cost': 0.1575757575757576,\n",
            "            'data_preprocessor': <autosklearn.pipeline.components.data_preprocessing.DataPreprocessorChoice object at 0x7fa8d55c99d0>,\n",
            "            'ensemble_weight': 0.06,\n",
            "            'feature_preprocessor': <autosklearn.pipeline.components.feature_preprocessing.FeaturePreprocessorChoice object at 0x7fa8d51ce760>,\n",
            "            'model_id': 13,\n",
            "            'rank': 7,\n",
            "            'sklearn_classifier': MLPClassifier(activation='tanh', alpha=0.05476322473700896, beta_1=0.999,\n",
            "              beta_2=0.9, early_stopping=True, hidden_layer_sizes=(64, 64, 64),\n",
            "              learning_rate_init=0.012698439797907473, max_iter=32,\n",
            "              n_iter_no_change=32, random_state=1, verbose=0, warm_start=True)},\n",
            "    14: {   'balancing': Balancing(random_state=1),\n",
            "            'classifier': <autosklearn.pipeline.components.classification.ClassifierChoice object at 0x7fa8d55a9280>,\n",
            "            'cost': 0.16969696969696968,\n",
            "            'data_preprocessor': <autosklearn.pipeline.components.data_preprocessing.DataPreprocessorChoice object at 0x7fa91c3fc5e0>,\n",
            "            'ensemble_weight': 0.02,\n",
            "            'feature_preprocessor': <autosklearn.pipeline.components.feature_preprocessing.FeaturePreprocessorChoice object at 0x7fa8d55a9790>,\n",
            "            'model_id': 14,\n",
            "            'rank': 9,\n",
            "            'sklearn_classifier': MLPClassifier(alpha=0.08627793126092698, beta_1=0.999, beta_2=0.9,\n",
            "              hidden_layer_sizes=(64, 64, 64),\n",
            "              learning_rate_init=0.000863173341668704, max_iter=256,\n",
            "              n_iter_no_change=32, random_state=1, validation_fraction=0.0,\n",
            "              verbose=0, warm_start=True)},\n",
            "    20: {   'balancing': Balancing(random_state=1),\n",
            "            'classifier': <autosklearn.pipeline.components.classification.ClassifierChoice object at 0x7fa8d589a670>,\n",
            "            'cost': 0.16969696969696968,\n",
            "            'data_preprocessor': <autosklearn.pipeline.components.data_preprocessing.DataPreprocessorChoice object at 0x7fa8d5551610>,\n",
            "            'ensemble_weight': 0.04,\n",
            "            'feature_preprocessor': <autosklearn.pipeline.components.feature_preprocessing.FeaturePreprocessorChoice object at 0x7fa8d589a370>,\n",
            "            'model_id': 20,\n",
            "            'rank': 8,\n",
            "            'sklearn_classifier': MLPClassifier(activation='tanh', alpha=3.198483470889531e-06, beta_1=0.999,\n",
            "              beta_2=0.9, hidden_layer_sizes=(64, 64, 64),\n",
            "              learning_rate_init=0.006604847357173181, max_iter=256,\n",
            "              n_iter_no_change=32, random_state=1, validation_fraction=0.0,\n",
            "              verbose=0, warm_start=True)},\n",
            "    28: {   'balancing': Balancing(random_state=1, strategy='weighting'),\n",
            "            'classifier': <autosklearn.pipeline.components.classification.ClassifierChoice object at 0x7fa8d5534af0>,\n",
            "            'cost': 0.18181818181818177,\n",
            "            'data_preprocessor': <autosklearn.pipeline.components.data_preprocessing.DataPreprocessorChoice object at 0x7fa8d51ce1c0>,\n",
            "            'ensemble_weight': 0.06,\n",
            "            'feature_preprocessor': <autosklearn.pipeline.components.feature_preprocessing.FeaturePreprocessorChoice object at 0x7fa8d5534370>,\n",
            "            'model_id': 28,\n",
            "            'rank': 16,\n",
            "            'sklearn_classifier': MLPClassifier(alpha=1.0207902638359607e-07, beta_1=0.999, beta_2=0.9,\n",
            "              hidden_layer_sizes=(64, 64, 64),\n",
            "              learning_rate_init=0.00040428112066842495, max_iter=128,\n",
            "              n_iter_no_change=32, random_state=1, validation_fraction=0.0,\n",
            "              verbose=0, warm_start=True)},\n",
            "    29: {   'balancing': Balancing(random_state=1, strategy='weighting'),\n",
            "            'classifier': <autosklearn.pipeline.components.classification.ClassifierChoice object at 0x7fa8d498b940>,\n",
            "            'cost': 0.32121212121212117,\n",
            "            'data_preprocessor': <autosklearn.pipeline.components.data_preprocessing.DataPreprocessorChoice object at 0x7fa8d55a98e0>,\n",
            "            'ensemble_weight': 0.02,\n",
            "            'feature_preprocessor': <autosklearn.pipeline.components.feature_preprocessing.FeaturePreprocessorChoice object at 0x7fa8d498b880>,\n",
            "            'model_id': 29,\n",
            "            'rank': 24,\n",
            "            'sklearn_classifier': MLPClassifier(alpha=0.00028203296425074434, beta_1=0.999, beta_2=0.9,\n",
            "              hidden_layer_sizes=(64, 64, 64),\n",
            "              learning_rate_init=0.0005871778380991749, max_iter=128,\n",
            "              n_iter_no_change=32, random_state=1, validation_fraction=0.0,\n",
            "              verbose=0, warm_start=True)},\n",
            "    33: {   'balancing': Balancing(random_state=1),\n",
            "            'classifier': <autosklearn.pipeline.components.classification.ClassifierChoice object at 0x7fa8d49515e0>,\n",
            "            'cost': 0.18181818181818177,\n",
            "            'data_preprocessor': <autosklearn.pipeline.components.data_preprocessing.DataPreprocessorChoice object at 0x7fa8d51da220>,\n",
            "            'ensemble_weight': 0.1,\n",
            "            'feature_preprocessor': <autosklearn.pipeline.components.feature_preprocessing.FeaturePreprocessorChoice object at 0x7fa8d4951400>,\n",
            "            'model_id': 33,\n",
            "            'rank': 17,\n",
            "            'sklearn_classifier': MLPClassifier(activation='tanh', alpha=0.00023737174056733058, beta_1=0.999,\n",
            "              beta_2=0.9, hidden_layer_sizes=(64, 64, 64),\n",
            "              learning_rate_init=0.0012631168744483667, max_iter=256,\n",
            "              n_iter_no_change=32, random_state=1, validation_fraction=0.0,\n",
            "              verbose=0, warm_start=True)},\n",
            "    36: {   'balancing': Balancing(random_state=1),\n",
            "            'classifier': <autosklearn.pipeline.components.classification.ClassifierChoice object at 0x7fa8d493a610>,\n",
            "            'cost': 0.32727272727272727,\n",
            "            'data_preprocessor': <autosklearn.pipeline.components.data_preprocessing.DataPreprocessorChoice object at 0x7fa8d5534a30>,\n",
            "            'ensemble_weight': 0.08,\n",
            "            'feature_preprocessor': <autosklearn.pipeline.components.feature_preprocessing.FeaturePreprocessorChoice object at 0x7fa8d493a460>,\n",
            "            'model_id': 36,\n",
            "            'rank': 25,\n",
            "            'sklearn_classifier': MLPClassifier(activation='tanh', alpha=2.515091566847194e-05, beta_1=0.999,\n",
            "              beta_2=0.9, hidden_layer_sizes=(64, 64, 64),\n",
            "              learning_rate_init=0.00014938072977009628, max_iter=128,\n",
            "              n_iter_no_change=32, random_state=1, validation_fraction=0.0,\n",
            "              verbose=0, warm_start=True)},\n",
            "    37: {   'balancing': Balancing(random_state=1, strategy='weighting'),\n",
            "            'classifier': <autosklearn.pipeline.components.classification.ClassifierChoice object at 0x7fa8d39873a0>,\n",
            "            'cost': 0.1454545454545455,\n",
            "            'data_preprocessor': <autosklearn.pipeline.components.data_preprocessing.DataPreprocessorChoice object at 0x7fa8d498b340>,\n",
            "            'ensemble_weight': 0.08,\n",
            "            'feature_preprocessor': <autosklearn.pipeline.components.feature_preprocessing.FeaturePreprocessorChoice object at 0x7fa8d39872e0>,\n",
            "            'model_id': 37,\n",
            "            'rank': 3,\n",
            "            'sklearn_classifier': MLPClassifier(alpha=0.05476322473700896, beta_1=0.999, beta_2=0.9,\n",
            "              hidden_layer_sizes=(64, 64, 64),\n",
            "              learning_rate_init=0.01600450033183766, max_iter=64,\n",
            "              n_iter_no_change=32, random_state=1, validation_fraction=0.0,\n",
            "              verbose=0, warm_start=True)},\n",
            "    44: {   'balancing': Balancing(random_state=1),\n",
            "            'classifier': <autosklearn.pipeline.components.classification.ClassifierChoice object at 0x7fa8d386beb0>,\n",
            "            'cost': 0.17575757575757578,\n",
            "            'data_preprocessor': <autosklearn.pipeline.components.data_preprocessing.DataPreprocessorChoice object at 0x7fa8d499ceb0>,\n",
            "            'ensemble_weight': 0.08,\n",
            "            'feature_preprocessor': <autosklearn.pipeline.components.feature_preprocessing.FeaturePreprocessorChoice object at 0x7fa8d386bdf0>,\n",
            "            'model_id': 44,\n",
            "            'rank': 13,\n",
            "            'sklearn_classifier': MLPClassifier(alpha=2.9287785032321655e-07, beta_1=0.999, beta_2=0.9,\n",
            "              hidden_layer_sizes=(64, 64, 64),\n",
            "              learning_rate_init=0.0009413356278798182, max_iter=128,\n",
            "              n_iter_no_change=32, random_state=1, validation_fraction=0.0,\n",
            "              verbose=0, warm_start=True)},\n",
            "    48: {   'balancing': Balancing(random_state=1, strategy='weighting'),\n",
            "            'classifier': <autosklearn.pipeline.components.classification.ClassifierChoice object at 0x7fa8d3567ac0>,\n",
            "            'cost': 0.12121212121212122,\n",
            "            'data_preprocessor': <autosklearn.pipeline.components.data_preprocessing.DataPreprocessorChoice object at 0x7fa8d4918df0>,\n",
            "            'ensemble_weight': 0.04,\n",
            "            'feature_preprocessor': <autosklearn.pipeline.components.feature_preprocessing.FeaturePreprocessorChoice object at 0x7fa8d3567910>,\n",
            "            'model_id': 48,\n",
            "            'rank': 2,\n",
            "            'sklearn_classifier': MLPClassifier(alpha=0.00021396260419307287, beta_1=0.999, beta_2=0.9,\n",
            "              early_stopping=True, hidden_layer_sizes=(64, 64, 64),\n",
            "              learning_rate_init=0.002749287127112603, max_iter=64,\n",
            "              n_iter_no_change=32, random_state=1, verbose=0, warm_start=True)},\n",
            "    54: {   'balancing': Balancing(random_state=1, strategy='weighting'),\n",
            "            'classifier': <autosklearn.pipeline.components.classification.ClassifierChoice object at 0x7fa8d34ff790>,\n",
            "            'cost': 0.22424242424242424,\n",
            "            'data_preprocessor': <autosklearn.pipeline.components.data_preprocessing.DataPreprocessorChoice object at 0x7fa8d41acc40>,\n",
            "            'ensemble_weight': 0.02,\n",
            "            'feature_preprocessor': <autosklearn.pipeline.components.feature_preprocessing.FeaturePreprocessorChoice object at 0x7fa8d34ff640>,\n",
            "            'model_id': 54,\n",
            "            'rank': 21,\n",
            "            'sklearn_classifier': MLPClassifier(alpha=0.00023737174056733058, beta_1=0.999, beta_2=0.9,\n",
            "              hidden_layer_sizes=(64, 64, 64),\n",
            "              learning_rate_init=0.0012631168744483667, max_iter=256,\n",
            "              n_iter_no_change=32, random_state=1, validation_fraction=0.0,\n",
            "              verbose=0, warm_start=True)},\n",
            "    55: {   'balancing': Balancing(random_state=1, strategy='weighting'),\n",
            "            'classifier': <autosklearn.pipeline.components.classification.ClassifierChoice object at 0x7fa8d2989490>,\n",
            "            'cost': 0.2606060606060606,\n",
            "            'data_preprocessor': <autosklearn.pipeline.components.data_preprocessing.DataPreprocessorChoice object at 0x7fa8d386b880>,\n",
            "            'ensemble_weight': 0.02,\n",
            "            'feature_preprocessor': <autosklearn.pipeline.components.feature_preprocessing.FeaturePreprocessorChoice object at 0x7fa8d29893a0>,\n",
            "            'model_id': 55,\n",
            "            'rank': 23,\n",
            "            'sklearn_classifier': MLPClassifier(alpha=0.00019933977142574494, beta_1=0.999, beta_2=0.9,\n",
            "              hidden_layer_sizes=(64, 64, 64),\n",
            "              learning_rate_init=0.0038372273115747295, max_iter=256,\n",
            "              n_iter_no_change=32, random_state=1, validation_fraction=0.0,\n",
            "              verbose=0, warm_start=True)},\n",
            "    57: {   'balancing': Balancing(random_state=1),\n",
            "            'classifier': <autosklearn.pipeline.components.classification.ClassifierChoice object at 0x7fa8d258c3a0>,\n",
            "            'cost': 0.1515151515151515,\n",
            "            'data_preprocessor': <autosklearn.pipeline.components.data_preprocessing.DataPreprocessorChoice object at 0x7fa8d35673a0>,\n",
            "            'ensemble_weight': 0.04,\n",
            "            'feature_preprocessor': <autosklearn.pipeline.components.feature_preprocessing.FeaturePreprocessorChoice object at 0x7fa8d288ce20>,\n",
            "            'model_id': 57,\n",
            "            'rank': 6,\n",
            "            'sklearn_classifier': MLPClassifier(activation='tanh', alpha=0.02847755502162456, beta_1=0.999,\n",
            "              beta_2=0.9, early_stopping=True, hidden_layer_sizes=(64, 64, 64),\n",
            "              learning_rate_init=0.000421568792103947, max_iter=32,\n",
            "              n_iter_no_change=32, random_state=1, verbose=0, warm_start=True)},\n",
            "    62: {   'balancing': Balancing(random_state=1, strategy='weighting'),\n",
            "            'classifier': <autosklearn.pipeline.components.classification.ClassifierChoice object at 0x7fa8d2519d30>,\n",
            "            'cost': 0.17575757575757578,\n",
            "            'data_preprocessor': <autosklearn.pipeline.components.data_preprocessing.DataPreprocessorChoice object at 0x7fa8d34ff0a0>,\n",
            "            'ensemble_weight': 0.02,\n",
            "            'feature_preprocessor': <autosklearn.pipeline.components.feature_preprocessing.FeaturePreprocessorChoice object at 0x7fa8d2519c70>,\n",
            "            'model_id': 62,\n",
            "            'rank': 12,\n",
            "            'sklearn_classifier': MLPClassifier(alpha=8.080039577991486e-06, beta_1=0.999, beta_2=0.9,\n",
            "              hidden_layer_sizes=(64, 64, 64),\n",
            "              learning_rate_init=0.0011804284312897009, max_iter=128,\n",
            "              n_iter_no_change=32, random_state=1, validation_fraction=0.0,\n",
            "              verbose=0, warm_start=True)}}\n"
          ]
        }
      ],
      "source": [
        "pprint(automl.show_models(), indent=4)"
      ]
    },
    {
      "cell_type": "markdown",
      "metadata": {},
      "source": [
        "## Get the Score of the final ensemble\n",
        "\n"
      ]
    },
    {
      "cell_type": "code",
      "execution_count": 8,
      "metadata": {
        "collapsed": false
      },
      "outputs": [
        {
          "name": "stdout",
          "output_type": "stream",
          "text": [
            "Accuracy score: 0.736\n",
            "Precision 0.7857142857142857\n",
            "Recall 0.4489795918367347\n"
          ]
        },
        {
          "name": "stderr",
          "output_type": "stream",
          "text": [
            "/home/preethi/projects/hitlda-project/auto-sklearn/py39/lib/python3.9/site-packages/sklearn/utils/validation.py:571: FutureWarning: is_sparse is deprecated and will be removed in a future version. Check `isinstance(dtype, pd.SparseDtype)` instead.\n",
            "  array.dtypes.apply(is_sparse).any()):\n",
            "/home/preethi/projects/hitlda-project/auto-sklearn/py39/lib/python3.9/site-packages/sklearn/utils/validation.py:571: FutureWarning: is_sparse is deprecated and will be removed in a future version. Check `isinstance(dtype, pd.SparseDtype)` instead.\n",
            "  array.dtypes.apply(is_sparse).any()):\n",
            "/home/preethi/projects/hitlda-project/auto-sklearn/py39/lib/python3.9/site-packages/sklearn/utils/validation.py:571: FutureWarning: is_sparse is deprecated and will be removed in a future version. Check `isinstance(dtype, pd.SparseDtype)` instead.\n",
            "  array.dtypes.apply(is_sparse).any()):\n",
            "/home/preethi/projects/hitlda-project/auto-sklearn/py39/lib/python3.9/site-packages/sklearn/utils/validation.py:571: FutureWarning: is_sparse is deprecated and will be removed in a future version. Check `isinstance(dtype, pd.SparseDtype)` instead.\n",
            "  array.dtypes.apply(is_sparse).any()):\n"
          ]
        }
      ],
      "source": [
        "predictions = automl.predict(X_test)\n",
        "print(\"Accuracy score:\", sklearn.metrics.accuracy_score(y_test, predictions))\n",
        "print(\"Precision\", sklearn.metrics.precision_score(y_test, predictions))\n",
        "print(\"Recall\", sklearn.metrics.recall_score(y_test, predictions))\n"
      ]
    },
    {
      "cell_type": "code",
      "execution_count": 7,
      "metadata": {},
      "outputs": [
        {
          "name": "stdout",
          "output_type": "stream",
          "text": [
            "106\n",
            "[  6   7  14   5   9  74  12  91   1  13  81  76  10  96  93  79  57  51\n",
            "  39  83  65  73  52  19  97  86  77  31  34  24  29  82   8  23  54  85\n",
            "  27  64  11  87  44  25   2  59  20  90  88  56  41  99  80  48  21  15\n",
            "  58 101  22  38  89  92  35  63  69  45  18  61  60   0  66  84  98  55\n",
            "  37  50  47  36  40 100  70  53  68  17  43  32  30  49  71  46  94 102\n",
            "  33  67  42  26  16 103  28  78  75 105  72  62  95 104   3   4]\n"
          ]
        },
        {
          "name": "stderr",
          "output_type": "stream",
          "text": [
            "/home/preethi/projects/hitlda-project/auto-sklearn/py39/lib/python3.9/site-packages/sklearn/utils/validation.py:571: FutureWarning: is_sparse is deprecated and will be removed in a future version. Check `isinstance(dtype, pd.SparseDtype)` instead.\n",
            "  array.dtypes.apply(is_sparse).any()):\n"
          ]
        }
      ],
      "source": [
        "\n",
        "from sklearn.ensemble import RandomForestClassifier\n",
        "import numpy as np\n",
        "import matplotlib.pyplot as plt\n",
        "\n",
        "file_path = '../data/clean_titanic_data_rf.csv'\n",
        "# file_path = '../data/clean_airbnb_data_gb.csv'\n",
        "\n",
        "\n",
        "df = pd.read_csv(file_path)\n",
        "\n",
        "# df = df.dropna(subset=['Survived'])\n",
        "# y = df['Survived']\n",
        "# X = df.drop('Survived', axis=1)\n",
        "\n",
        "df = df.dropna(subset=['Rating'])\n",
        "y = df['Rating']\n",
        "X = df.drop('Rating', axis=1)\n",
        "X_train, X_test, y_train, y_test = train_test_split(X, y, stratify=y, random_state=42)\n",
        "\n",
        "feature_names = [f\"feature {i}\" for i in range(X.shape[1])]\n",
        "forest = RandomForestClassifier(random_state=0)\n",
        "forest.fit(X_train, y_train)\n",
        "\n",
        "importances = forest.feature_importances_\n",
        "print(len(importances))\n",
        "sorted_indices = np.argsort(importances)[::-1]\n",
        "print(sorted_indices)\n"
      ]
    },
    {
      "cell_type": "code",
      "execution_count": 10,
      "metadata": {},
      "outputs": [
        {
          "name": "stdout",
          "output_type": "stream",
          "text": [
            "{0.0, 1.0}\n",
            "{0.0, 1.0}\n",
            "Accuracy score: 0.848\n",
            "Precision 0.7906976744186046\n",
            "Recall 0.7727272727272727\n"
          ]
        },
        {
          "name": "stderr",
          "output_type": "stream",
          "text": [
            "/home/preethi/projects/hitlda-project/auto-sklearn/py39/lib/python3.9/site-packages/sklearn/utils/validation.py:571: FutureWarning: is_sparse is deprecated and will be removed in a future version. Check `isinstance(dtype, pd.SparseDtype)` instead.\n",
            "  array.dtypes.apply(is_sparse).any()):\n"
          ]
        }
      ],
      "source": [
        "rf_predictions = forest.predict(X_test)\n",
        "print(set(rf_predictions))\n",
        "print(set(y_test))\n",
        "print(\"Accuracy score:\", sklearn.metrics.accuracy_score(y_test, rf_predictions))\n",
        "print(\"Precision\", sklearn.metrics.precision_score(y_test, rf_predictions))\n",
        "print(\"Recall\", sklearn.metrics.recall_score(y_test, rf_predictions))"
      ]
    }
  ],
  "metadata": {
    "kernelspec": {
      "display_name": "Python 3",
      "language": "python",
      "name": "python3"
    },
    "language_info": {
      "codemirror_mode": {
        "name": "ipython",
        "version": 3
      },
      "file_extension": ".py",
      "mimetype": "text/x-python",
      "name": "python",
      "nbconvert_exporter": "python",
      "pygments_lexer": "ipython3",
      "version": "3.9.18"
    }
  },
  "nbformat": 4,
  "nbformat_minor": 0
}
