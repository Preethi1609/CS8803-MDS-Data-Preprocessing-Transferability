{
  "cells": [
    {
      "cell_type": "markdown",
      "metadata": {},
      "source": [
        "\n",
        "# Classification\n",
        "\n",
        "The following example shows how to fit a simple classification model with\n",
        "*auto-sklearn*.\n"
      ]
    },
    {
      "cell_type": "code",
      "execution_count": 1,
      "metadata": {
        "collapsed": false
      },
      "outputs": [],
      "source": [
        "from pprint import pprint\n",
        "import sklearn.metrics\n",
        "import autosklearn.classification\n",
        "import pandas as pd\n",
        "from sklearn.model_selection import train_test_split\n",
        "import autosklearn"
      ]
    },
    {
      "cell_type": "markdown",
      "metadata": {},
      "source": [
        "## Data Loading\n",
        "\n"
      ]
    },
    {
      "cell_type": "code",
      "execution_count": 2,
      "metadata": {},
      "outputs": [],
      "source": [
        "\n",
        "# file_path = '../data/titanic_dirty_data.csv'\n",
        "file_path = '../data/airbnb.csv'\n",
        "\n",
        "\n",
        "df = pd.read_csv(file_path)\n",
        "\n",
        "# df = df.dropna(subset=['Survived'])\n",
        "# y = df['Survived']\n",
        "# X = df.drop('Survived', axis=1)\n",
        "\n",
        "df = df.dropna(subset=['Rating'])\n",
        "y = df['Rating']\n",
        "X = df.drop('Rating', axis=1)\n",
        "\n",
        "\n",
        "X_train, X_test, y_train, y_test = train_test_split(X, y, test_size=0.2, random_state=42)\n"
      ]
    },
    {
      "cell_type": "markdown",
      "metadata": {},
      "source": [
        "## Build and fit a classifier\n",
        "\n"
      ]
    },
    {
      "cell_type": "code",
      "execution_count": 3,
      "metadata": {
        "collapsed": false
      },
      "outputs": [
        {
          "name": "stderr",
          "output_type": "stream",
          "text": [
            "Fitting to the training data:   0%|\u001b[32m          \u001b[0m| 0/120 [00:00<?, ?it/s, The total time budget for this task is 0:02:00]"
          ]
        },
        {
          "name": "stderr",
          "output_type": "stream",
          "text": [
            "/home/preethi/projects/hitlda-project/auto-sklearn/autosklearn/data/feature_validator.py:298: FutureWarning: is_sparse is deprecated and will be removed in a future version. Check `isinstance(dtype, pd.SparseDtype)` instead.\n",
            "  if is_sparse(X[column]):\n",
            "/home/preethi/projects/hitlda-project/auto-sklearn/autosklearn/data/feature_validator.py:318: UserWarning: Input Column LocationName has generic type object. Autosklearn will treat this column as string. Please ensure that this setting is suitable for your task.\n",
            "  warnings.warn(\n"
          ]
        },
        {
          "name": "stdout",
          "output_type": "stream",
          "text": [
            "MLPP INITTT\n"
          ]
        },
        {
          "name": "stderr",
          "output_type": "stream",
          "text": [
            "Fitting to the training data: 100%|\u001b[32m██████████\u001b[0m| 120/120 [01:50<00:00,  1.09it/s, The total time budget for this task is 0:02:00]\n"
          ]
        },
        {
          "name": "stdout",
          "output_type": "stream",
          "text": [
            "Configuration(values={\n",
            "  'balancing:strategy': 'none',\n",
            "  'classifier:__choice__': 'mlp',\n",
            "  'classifier:mlp:activation': 'relu',\n",
            "  'classifier:mlp:alpha': 0.0001,\n",
            "  'classifier:mlp:batch_size': 'auto',\n",
            "  'classifier:mlp:beta_1': 0.9,\n",
            "  'classifier:mlp:beta_2': 0.999,\n",
            "  'classifier:mlp:early_stopping': 'valid',\n",
            "  'classifier:mlp:epsilon': 1e-08,\n",
            "  'classifier:mlp:hidden_layer_depth': 5,\n",
            "  'classifier:mlp:learning_rate_init': 0.001,\n",
            "  'classifier:mlp:n_iter_no_change': 32,\n",
            "  'classifier:mlp:num_nodes_per_layer': 256,\n",
            "  'classifier:mlp:shuffle': 'True',\n",
            "  'classifier:mlp:solver': 'adam',\n",
            "  'classifier:mlp:tol': 0.0001,\n",
            "  'classifier:mlp:validation_fraction': 0.1,\n",
            "  'data_preprocessor:__choice__': 'feature_type',\n",
            "  'data_preprocessor:feature_type:numerical_transformer:imputation:strategy': 'mean',\n",
            "  'data_preprocessor:feature_type:numerical_transformer:rescaling:__choice__': 'standardize',\n",
            "  'data_preprocessor:feature_type:text_transformer:text_encoding:__choice__': 'tfidf_encoding',\n",
            "  'data_preprocessor:feature_type:text_transformer:text_encoding:tfidf_encoding:analyzer': 'char',\n",
            "  'data_preprocessor:feature_type:text_transformer:text_encoding:tfidf_encoding:binary': 'False',\n",
            "  'data_preprocessor:feature_type:text_transformer:text_encoding:tfidf_encoding:max_df': 1.0,\n",
            "  'data_preprocessor:feature_type:text_transformer:text_encoding:tfidf_encoding:min_df': 0.0,\n",
            "  'data_preprocessor:feature_type:text_transformer:text_encoding:tfidf_encoding:ngram_range_char': 4,\n",
            "  'data_preprocessor:feature_type:text_transformer:text_encoding:tfidf_encoding:norm': 'l2',\n",
            "  'data_preprocessor:feature_type:text_transformer:text_encoding:tfidf_encoding:per_column': False,\n",
            "  'data_preprocessor:feature_type:text_transformer:text_encoding:tfidf_encoding:sublinear_tf': 'False',\n",
            "  'data_preprocessor:feature_type:text_transformer:text_feature_reduction:n_components': 100,\n",
            "  'feature_preprocessor:__choice__': 'no_preprocessing',\n",
            "})\n",
            "\n"
          ]
        }
      ],
      "source": [
        "automl = autosklearn.classification.AutoSklearnClassifier(\n",
        "    time_left_for_this_task=120,\n",
        "    per_run_time_limit=10,\n",
        "    include = {\n",
        "        'classifier': [\"mlp\"],\n",
        "    },\n",
        "    tmp_folder=\"tmp/autosklearn_classification_example_tmp5\",\n",
        ")\n",
        "\n",
        "automl.fit(X_train, y_train)\n",
        "run_key = list(automl.automl_.runhistory_.data.keys())[0]\n",
        "run_value = automl.automl_.runhistory_.data[run_key]\n",
        "config=automl.automl_.runhistory_.ids_config[run_key.config_id]\n",
        "print(config)"
      ]
    },
    {
      "cell_type": "markdown",
      "metadata": {},
      "source": [
        "## View the models found by auto-sklearn\n",
        "\n"
      ]
    },
    {
      "cell_type": "code",
      "execution_count": 4,
      "metadata": {
        "collapsed": false
      },
      "outputs": [
        {
          "name": "stdout",
          "output_type": "stream",
          "text": [
            "          rank  ensemble_weight type      cost  duration\n",
            "model_id                                                \n",
            "10           1             0.54  mlp  0.306072  6.106134\n",
            "2            2             0.32  mlp  0.320274  6.938709\n",
            "6            3             0.14  mlp  0.320764  7.437046\n"
          ]
        }
      ],
      "source": [
        "print(automl.leaderboard())"
      ]
    },
    {
      "cell_type": "markdown",
      "metadata": {},
      "source": [
        "## Print the final ensemble constructed by auto-sklearn\n",
        "\n"
      ]
    },
    {
      "cell_type": "code",
      "execution_count": 5,
      "metadata": {
        "collapsed": false
      },
      "outputs": [
        {
          "name": "stdout",
          "output_type": "stream",
          "text": [
            "{   2: {   'balancing': Balancing(random_state=1),\n",
            "           'classifier': <autosklearn.pipeline.components.classification.ClassifierChoice object at 0x7f112c4ab760>,\n",
            "           'cost': 0.3202742409402547,\n",
            "           'data_preprocessor': <autosklearn.pipeline.components.data_preprocessing.DataPreprocessorChoice object at 0x7f112c4aafa0>,\n",
            "           'ensemble_weight': 0.32,\n",
            "           'feature_preprocessor': <autosklearn.pipeline.components.feature_preprocessing.FeaturePreprocessorChoice object at 0x7f112c4ae610>,\n",
            "           'model_id': 2,\n",
            "           'rank': 2,\n",
            "           'sklearn_classifier': MLPClassifier(beta_1=0.999, beta_2=0.9, early_stopping=True,\n",
            "              hidden_layer_sizes=(64, 64, 64), max_iter=32, n_iter_no_change=32,\n",
            "              random_state=1, verbose=0, warm_start=True)},\n",
            "    6: {   'balancing': Balancing(random_state=1, strategy='weighting'),\n",
            "           'classifier': <autosklearn.pipeline.components.classification.ClassifierChoice object at 0x7f112c4bb670>,\n",
            "           'cost': 0.32076395690499515,\n",
            "           'data_preprocessor': <autosklearn.pipeline.components.data_preprocessing.DataPreprocessorChoice object at 0x7f112c4aa700>,\n",
            "           'ensemble_weight': 0.14,\n",
            "           'feature_preprocessor': <autosklearn.pipeline.components.feature_preprocessing.FeaturePreprocessorChoice object at 0x7f112c4bb880>,\n",
            "           'model_id': 6,\n",
            "           'rank': 4,\n",
            "           'sklearn_classifier': MLPClassifier(alpha=4.2841884333778574e-06, beta_1=0.999, beta_2=0.9,\n",
            "              hidden_layer_sizes=(64, 64, 64),\n",
            "              learning_rate_init=0.0011804284312897009, max_iter=32,\n",
            "              n_iter_no_change=32, random_state=1, validation_fraction=0.0,\n",
            "              verbose=0, warm_start=True)},\n",
            "    10: {   'balancing': Balancing(random_state=1),\n",
            "            'classifier': <autosklearn.pipeline.components.classification.ClassifierChoice object at 0x7f112c1ceeb0>,\n",
            "            'cost': 0.3060724779627816,\n",
            "            'data_preprocessor': <autosklearn.pipeline.components.data_preprocessing.DataPreprocessorChoice object at 0x7f112c4a2b50>,\n",
            "            'ensemble_weight': 0.54,\n",
            "            'feature_preprocessor': <autosklearn.pipeline.components.feature_preprocessing.FeaturePreprocessorChoice object at 0x7f115c181df0>,\n",
            "            'model_id': 10,\n",
            "            'rank': 1,\n",
            "            'sklearn_classifier': MLPClassifier(activation='tanh', alpha=0.05476322473700896, beta_1=0.999,\n",
            "              beta_2=0.9, early_stopping=True, hidden_layer_sizes=(64, 64, 64),\n",
            "              learning_rate_init=0.012698439797907473, max_iter=32,\n",
            "              n_iter_no_change=32, random_state=1, verbose=0, warm_start=True)}}\n"
          ]
        }
      ],
      "source": [
        "pprint(automl.show_models(), indent=4)"
      ]
    },
    {
      "cell_type": "markdown",
      "metadata": {},
      "source": [
        "## Get the Score of the final ensemble\n",
        "\n"
      ]
    },
    {
      "cell_type": "code",
      "execution_count": 6,
      "metadata": {
        "collapsed": false
      },
      "outputs": [
        {
          "name": "stderr",
          "output_type": "stream",
          "text": [
            "/home/preethi/projects/hitlda-project/auto-sklearn/py39/lib/python3.9/site-packages/sklearn/utils/validation.py:571: FutureWarning: is_sparse is deprecated and will be removed in a future version. Check `isinstance(dtype, pd.SparseDtype)` instead.\n",
            "  array.dtypes.apply(is_sparse).any()):\n",
            "/home/preethi/projects/hitlda-project/auto-sklearn/py39/lib/python3.9/site-packages/sklearn/utils/validation.py:571: FutureWarning: is_sparse is deprecated and will be removed in a future version. Check `isinstance(dtype, pd.SparseDtype)` instead.\n",
            "  array.dtypes.apply(is_sparse).any()):\n",
            "/home/preethi/projects/hitlda-project/auto-sklearn/py39/lib/python3.9/site-packages/sklearn/utils/validation.py:571: FutureWarning: is_sparse is deprecated and will be removed in a future version. Check `isinstance(dtype, pd.SparseDtype)` instead.\n",
            "  array.dtypes.apply(is_sparse).any()):\n"
          ]
        },
        {
          "name": "stdout",
          "output_type": "stream",
          "text": [
            "{'N', 'Y'}\n",
            "{'N', 'Y'}\n",
            "Accuracy score: 0.6815341521223874\n",
            "Precision 0.703558282208589\n",
            "Recall 0.9139305068536818\n"
          ]
        }
      ],
      "source": [
        "predictions = automl.predict(X_test)\n",
        "print(set(predictions))\n",
        "print(set(y_test))\n",
        "print(\"Accuracy score:\", sklearn.metrics.accuracy_score(y_test, predictions))\n",
        "print(\"Precision\", sklearn.metrics.precision_score(y_test, predictions,pos_label='Y'))\n",
        "print(\"Recall\", sklearn.metrics.recall_score(y_test, predictions,pos_label='Y'))\n"
      ]
    },
    {
      "cell_type": "code",
      "execution_count": 7,
      "metadata": {},
      "outputs": [
        {
          "name": "stderr",
          "output_type": "stream",
          "text": [
            "/home/preethi/projects/hitlda-project/auto-sklearn/py39/lib/python3.9/site-packages/sklearn/utils/validation.py:571: FutureWarning: is_sparse is deprecated and will be removed in a future version. Check `isinstance(dtype, pd.SparseDtype)` instead.\n",
            "  array.dtypes.apply(is_sparse).any()):\n"
          ]
        },
        {
          "name": "stdout",
          "output_type": "stream",
          "text": [
            "138\n",
            "[  6   7   5   4   3   2   1   0  33   8  35  29  12  13  34  15  31  30\n",
            "  37  22  32  20  27  10  16  23  25  24  28   9  19  36  26  11  17  21\n",
            "  18  14  72  84 102 128  74 131 137 132 136  87 133 122 118 116 135 126\n",
            "  43  64  94  73  90  78 127 130 129 121 134 110 109  97  54 117  75  86\n",
            " 111  68 107  59  58  85  38 112  93 113  55  57 125 106  98  77  99 108\n",
            " 120 119 100  92  40  91 124 123  82  47 115  88  81 114  51  48  45  39\n",
            "  61 105  53  62 101  66 104  96 103  49  95  44  41  69  52  46  80  56\n",
            "  60  70  79  42  63  89  50  76  65  83  71  67]\n"
          ]
        }
      ],
      "source": [
        "\n",
        "from sklearn.ensemble import RandomForestClassifier\n",
        "import numpy as np\n",
        "import matplotlib.pyplot as plt\n",
        "\n",
        "# file_path = '../data/clean_titanic_data_rf.csv'\n",
        "file_path = '../data/clean_airbnb_data_mlp.csv'\n",
        "\n",
        "\n",
        "df = pd.read_csv(file_path)\n",
        "\n",
        "# df = df.dropna(subset=['Survived'])\n",
        "# y = df['Survived']\n",
        "# X = df.drop('Survived', axis=1)\n",
        "\n",
        "df = df.dropna(subset=['Rating'])\n",
        "y = df['Rating']\n",
        "X = df.drop('Rating', axis=1)\n",
        "X_train, X_test, y_train, y_test = train_test_split(X, y, stratify=y, random_state=42)\n",
        "\n",
        "feature_names = [f\"feature {i}\" for i in range(X.shape[1])]\n",
        "forest = RandomForestClassifier(random_state=0)\n",
        "forest.fit(X_train, y_train)\n",
        "\n",
        "importances = forest.feature_importances_\n",
        "print(len(importances))\n",
        "sorted_indices = np.argsort(importances)[::-1]\n",
        "print(sorted_indices)\n"
      ]
    },
    {
      "cell_type": "code",
      "execution_count": 8,
      "metadata": {},
      "outputs": [
        {
          "name": "stdout",
          "output_type": "stream",
          "text": [
            "{0.0, 1.0}\n",
            "{0.0, 1.0}\n",
            "Accuracy score: 0.7274294333117862\n",
            "Precision 0.7622882532629826\n",
            "Recall 0.8703233988585922\n"
          ]
        },
        {
          "name": "stderr",
          "output_type": "stream",
          "text": [
            "/home/preethi/projects/hitlda-project/auto-sklearn/py39/lib/python3.9/site-packages/sklearn/utils/validation.py:571: FutureWarning: is_sparse is deprecated and will be removed in a future version. Check `isinstance(dtype, pd.SparseDtype)` instead.\n",
            "  array.dtypes.apply(is_sparse).any()):\n"
          ]
        }
      ],
      "source": [
        "rf_predictions = forest.predict(X_test)\n",
        "print(set(rf_predictions))\n",
        "print(set(y_test))\n",
        "print(\"Accuracy score:\", sklearn.metrics.accuracy_score(y_test, rf_predictions))\n",
        "print(\"Precision\", sklearn.metrics.precision_score(y_test, rf_predictions))\n",
        "print(\"Recall\", sklearn.metrics.recall_score(y_test, rf_predictions))"
      ]
    }
  ],
  "metadata": {
    "kernelspec": {
      "display_name": "Python 3",
      "language": "python",
      "name": "python3"
    },
    "language_info": {
      "codemirror_mode": {
        "name": "ipython",
        "version": 3
      },
      "file_extension": ".py",
      "mimetype": "text/x-python",
      "name": "python",
      "nbconvert_exporter": "python",
      "pygments_lexer": "ipython3",
      "version": "3.9.18"
    }
  },
  "nbformat": 4,
  "nbformat_minor": 0
}
