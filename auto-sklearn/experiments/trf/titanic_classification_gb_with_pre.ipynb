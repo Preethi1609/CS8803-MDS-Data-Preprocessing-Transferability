{
  "cells": [
    {
      "cell_type": "markdown",
      "metadata": {},
      "source": [
        "\n",
        "# Classification\n",
        "\n",
        "The following example shows how to fit a simple classification model with\n",
        "*auto-sklearn*.\n"
      ]
    },
    {
      "cell_type": "code",
      "execution_count": 2,
      "metadata": {
        "collapsed": false
      },
      "outputs": [],
      "source": [
        "from pprint import pprint\n",
        "import sklearn.metrics\n",
        "import autosklearn.classification\n",
        "import pandas as pd\n",
        "from sklearn.model_selection import train_test_split\n",
        "import autosklearn"
      ]
    },
    {
      "cell_type": "markdown",
      "metadata": {},
      "source": [
        "## Data Loading\n",
        "\n"
      ]
    },
    {
      "cell_type": "code",
      "execution_count": 4,
      "metadata": {},
      "outputs": [],
      "source": [
        "\n",
        "file_path = '../data/titanic_dirty_data.csv'\n",
        "# file_path = '../data/airbnb.csv'\n",
        "\n",
        "\n",
        "df = pd.read_csv(file_path)\n",
        "\n",
        "df = df.dropna(subset=['Survived'])\n",
        "y = df['Survived']\n",
        "X = df.drop('Survived', axis=1)\n",
        "\n",
        "# df = df.dropna(subset=['Rating'])\n",
        "# y = df['Rating']\n",
        "# X = df.drop('Rating', axis=1)\n",
        "\n",
        "\n",
        "X_train, X_test, y_train, y_test = train_test_split(X, y, test_size=0.2, random_state=42)\n"
      ]
    },
    {
      "cell_type": "markdown",
      "metadata": {},
      "source": [
        "## Build and fit a classifier\n",
        "\n"
      ]
    },
    {
      "cell_type": "code",
      "execution_count": 5,
      "metadata": {
        "collapsed": false
      },
      "outputs": [
        {
          "name": "stderr",
          "output_type": "stream",
          "text": [
            "/home/preethi/projects/hitlda-project/auto-sklearn/autosklearn/data/feature_validator.py:298: FutureWarning: is_sparse is deprecated and will be removed in a future version. Check `isinstance(dtype, pd.SparseDtype)` instead.\n",
            "  if is_sparse(X[column]):\n",
            "/home/preethi/projects/hitlda-project/auto-sklearn/autosklearn/data/feature_validator.py:318: UserWarning: Input Column Name has generic type object. Autosklearn will treat this column as string. Please ensure that this setting is suitable for your task.\n",
            "  warnings.warn(\n",
            "/home/preethi/projects/hitlda-project/auto-sklearn/autosklearn/data/feature_validator.py:318: UserWarning: Input Column Sex has generic type object. Autosklearn will treat this column as string. Please ensure that this setting is suitable for your task.\n",
            "  warnings.warn(\n",
            "/home/preethi/projects/hitlda-project/auto-sklearn/autosklearn/data/feature_validator.py:318: UserWarning: Input Column Ticket has generic type object. Autosklearn will treat this column as string. Please ensure that this setting is suitable for your task.\n",
            "  warnings.warn(\n",
            "/home/preethi/projects/hitlda-project/auto-sklearn/autosklearn/data/feature_validator.py:318: UserWarning: Input Column Cabin has generic type object. Autosklearn will treat this column as string. Please ensure that this setting is suitable for your task.\n",
            "  warnings.warn(\n",
            "/home/preethi/projects/hitlda-project/auto-sklearn/autosklearn/data/feature_validator.py:318: UserWarning: Input Column Embarked has generic type object. Autosklearn will treat this column as string. Please ensure that this setting is suitable for your task.\n",
            "  warnings.warn(\n",
            "Fitting to the training data:   0%|\u001b[32m          \u001b[0m| 0/120 [00:00<?, ?it/s, The total time budget for this task is 0:02:00]"
          ]
        },
        {
          "name": "stderr",
          "output_type": "stream",
          "text": [
            "Fitting to the training data: 100%|\u001b[32m██████████\u001b[0m| 120/120 [01:49<00:00,  1.09it/s, The total time budget for this task is 0:02:00]\n"
          ]
        },
        {
          "name": "stdout",
          "output_type": "stream",
          "text": [
            "Configuration(values={\n",
            "  'balancing:strategy': 'none',\n",
            "  'classifier:__choice__': 'gradient_boosting',\n",
            "  'classifier:gradient_boosting:early_stop': 'off',\n",
            "  'classifier:gradient_boosting:l2_regularization': 1e-10,\n",
            "  'classifier:gradient_boosting:learning_rate': 0.1,\n",
            "  'classifier:gradient_boosting:loss': 'auto',\n",
            "  'classifier:gradient_boosting:max_bins': 255,\n",
            "  'classifier:gradient_boosting:max_depth': 'None',\n",
            "  'classifier:gradient_boosting:max_leaf_nodes': 31,\n",
            "  'classifier:gradient_boosting:min_samples_leaf': 20,\n",
            "  'classifier:gradient_boosting:scoring': 'loss',\n",
            "  'classifier:gradient_boosting:tol': 1e-07,\n",
            "  'data_preprocessor:__choice__': 'feature_type',\n",
            "  'data_preprocessor:feature_type:numerical_transformer:imputation:strategy': 'mean',\n",
            "  'data_preprocessor:feature_type:numerical_transformer:rescaling:__choice__': 'standardize',\n",
            "  'data_preprocessor:feature_type:text_transformer:text_encoding:__choice__': 'tfidf_encoding',\n",
            "  'data_preprocessor:feature_type:text_transformer:text_encoding:tfidf_encoding:analyzer': 'char',\n",
            "  'data_preprocessor:feature_type:text_transformer:text_encoding:tfidf_encoding:binary': 'False',\n",
            "  'data_preprocessor:feature_type:text_transformer:text_encoding:tfidf_encoding:max_df': 1.0,\n",
            "  'data_preprocessor:feature_type:text_transformer:text_encoding:tfidf_encoding:min_df': 0.0,\n",
            "  'data_preprocessor:feature_type:text_transformer:text_encoding:tfidf_encoding:ngram_range_char': 4,\n",
            "  'data_preprocessor:feature_type:text_transformer:text_encoding:tfidf_encoding:norm': 'l2',\n",
            "  'data_preprocessor:feature_type:text_transformer:text_encoding:tfidf_encoding:per_column': False,\n",
            "  'data_preprocessor:feature_type:text_transformer:text_encoding:tfidf_encoding:sublinear_tf': 'False',\n",
            "  'data_preprocessor:feature_type:text_transformer:text_feature_reduction:n_components': 100,\n",
            "  'feature_preprocessor:__choice__': 'no_preprocessing',\n",
            "})\n",
            "\n"
          ]
        }
      ],
      "source": [
        "automl = autosklearn.classification.AutoSklearnClassifier(\n",
        "    time_left_for_this_task=120,\n",
        "    per_run_time_limit=10,\n",
        "    include = {\n",
        "        'classifier': [\"gradient_boosting\"],\n",
        "    },\n",
        "    tmp_folder=\"tmp/autosklearn_classification_example_tmp5\",\n",
        ")\n",
        "\n",
        "automl.fit(X_train, y_train)\n",
        "run_key = list(automl.automl_.runhistory_.data.keys())[0]\n",
        "run_value = automl.automl_.runhistory_.data[run_key]\n",
        "config=automl.automl_.runhistory_.ids_config[run_key.config_id]\n",
        "print(config)"
      ]
    },
    {
      "cell_type": "markdown",
      "metadata": {},
      "source": [
        "## View the models found by auto-sklearn\n",
        "\n"
      ]
    },
    {
      "cell_type": "code",
      "execution_count": 6,
      "metadata": {
        "collapsed": false
      },
      "outputs": [
        {
          "name": "stdout",
          "output_type": "stream",
          "text": [
            "          rank  ensemble_weight               type      cost  duration\n",
            "model_id                                                              \n",
            "33           1             0.20  gradient_boosting  0.151515  3.284330\n",
            "23           2             0.18  gradient_boosting  0.157576  3.092464\n",
            "5            3             0.14  gradient_boosting  0.175758  1.710966\n",
            "12           4             0.02  gradient_boosting  0.181818  2.643344\n",
            "24           5             0.26  gradient_boosting  0.200000  1.077281\n",
            "32           6             0.06  gradient_boosting  0.272727  0.835984\n",
            "38           7             0.14  gradient_boosting  0.333333  0.918875\n"
          ]
        }
      ],
      "source": [
        "print(automl.leaderboard())"
      ]
    },
    {
      "cell_type": "markdown",
      "metadata": {},
      "source": [
        "## Print the final ensemble constructed by auto-sklearn\n",
        "\n"
      ]
    },
    {
      "cell_type": "code",
      "execution_count": 7,
      "metadata": {
        "collapsed": false
      },
      "outputs": [
        {
          "name": "stdout",
          "output_type": "stream",
          "text": [
            "{   5: {   'balancing': Balancing(random_state=1),\n",
            "           'classifier': <autosklearn.pipeline.components.classification.ClassifierChoice object at 0x7f5840a97820>,\n",
            "           'cost': 0.17575757575757578,\n",
            "           'data_preprocessor': <autosklearn.pipeline.components.data_preprocessing.DataPreprocessorChoice object at 0x7f5840295460>,\n",
            "           'ensemble_weight': 0.14000000000000004,\n",
            "           'feature_preprocessor': <autosklearn.pipeline.components.feature_preprocessing.FeaturePreprocessorChoice object at 0x7f5840a97c70>,\n",
            "           'model_id': 5,\n",
            "           'rank': 4,\n",
            "           'sklearn_classifier': HistGradientBoostingClassifier(early_stopping=True,\n",
            "                               l2_regularization=0.005326508887463406,\n",
            "                               learning_rate=0.060800813211425456, max_iter=512,\n",
            "                               max_leaf_nodes=6, min_samples_leaf=5,\n",
            "                               n_iter_no_change=5, random_state=1,\n",
            "                               validation_fraction=None, warm_start=True)},\n",
            "    12: {   'balancing': Balancing(random_state=1),\n",
            "            'classifier': <autosklearn.pipeline.components.classification.ClassifierChoice object at 0x7f584028bd60>,\n",
            "            'cost': 0.18181818181818177,\n",
            "            'data_preprocessor': <autosklearn.pipeline.components.data_preprocessing.DataPreprocessorChoice object at 0x7f5840bf4af0>,\n",
            "            'ensemble_weight': 0.020000000000000004,\n",
            "            'feature_preprocessor': <autosklearn.pipeline.components.feature_preprocessing.FeaturePreprocessorChoice object at 0x7f584028bca0>,\n",
            "            'model_id': 12,\n",
            "            'rank': 5,\n",
            "            'sklearn_classifier': HistGradientBoostingClassifier(early_stopping=True,\n",
            "                               l2_regularization=1.7108930238344161e-10,\n",
            "                               learning_rate=0.010827728124541558, max_iter=256,\n",
            "                               max_leaf_nodes=25, min_samples_leaf=4,\n",
            "                               n_iter_no_change=19, random_state=1,\n",
            "                               validation_fraction=0.1759114608225653,\n",
            "                               warm_start=True)},\n",
            "    23: {   'balancing': Balancing(random_state=1),\n",
            "            'classifier': <autosklearn.pipeline.components.classification.ClassifierChoice object at 0x7f583ff356d0>,\n",
            "            'cost': 0.1575757575757576,\n",
            "            'data_preprocessor': <autosklearn.pipeline.components.data_preprocessing.DataPreprocessorChoice object at 0x7f5840bf4070>,\n",
            "            'ensemble_weight': 0.18000000000000002,\n",
            "            'feature_preprocessor': <autosklearn.pipeline.components.feature_preprocessing.FeaturePreprocessorChoice object at 0x7f583ff35610>,\n",
            "            'model_id': 23,\n",
            "            'rank': 2,\n",
            "            'sklearn_classifier': HistGradientBoostingClassifier(early_stopping=False,\n",
            "                               l2_regularization=1.0179394834253815e-10,\n",
            "                               learning_rate=0.263564230193214, max_iter=512,\n",
            "                               min_samples_leaf=35, n_iter_no_change=0,\n",
            "                               random_state=1, validation_fraction=None,\n",
            "                               warm_start=True)},\n",
            "    24: {   'balancing': Balancing(random_state=1, strategy='weighting'),\n",
            "            'classifier': <autosklearn.pipeline.components.classification.ClassifierChoice object at 0x7f583f7877c0>,\n",
            "            'cost': 0.19999999999999996,\n",
            "            'data_preprocessor': <autosklearn.pipeline.components.data_preprocessing.DataPreprocessorChoice object at 0x7f5840ab3220>,\n",
            "            'ensemble_weight': 0.26000000000000006,\n",
            "            'feature_preprocessor': <autosklearn.pipeline.components.feature_preprocessing.FeaturePreprocessorChoice object at 0x7f583f787700>,\n",
            "            'model_id': 24,\n",
            "            'rank': 9,\n",
            "            'sklearn_classifier': HistGradientBoostingClassifier(early_stopping=True,\n",
            "                               l2_regularization=5.027708640006448e-08,\n",
            "                               learning_rate=0.09750328007832798, max_iter=16,\n",
            "                               max_leaf_nodes=1234, min_samples_leaf=25,\n",
            "                               n_iter_no_change=1, random_state=1,\n",
            "                               validation_fraction=0.08300813783286698,\n",
            "                               warm_start=True)},\n",
            "    32: {   'balancing': Balancing(random_state=1),\n",
            "            'classifier': <autosklearn.pipeline.components.classification.ClassifierChoice object at 0x7f583f6a6a60>,\n",
            "            'cost': 0.2727272727272727,\n",
            "            'data_preprocessor': <autosklearn.pipeline.components.data_preprocessing.DataPreprocessorChoice object at 0x7f584028b610>,\n",
            "            'ensemble_weight': 0.060000000000000005,\n",
            "            'feature_preprocessor': <autosklearn.pipeline.components.feature_preprocessing.FeaturePreprocessorChoice object at 0x7f583f6a69a0>,\n",
            "            'model_id': 32,\n",
            "            'rank': 10,\n",
            "            'sklearn_classifier': HistGradientBoostingClassifier(early_stopping=True,\n",
            "                               l2_regularization=0.052407187335255366,\n",
            "                               learning_rate=0.017808354359752178, max_iter=256,\n",
            "                               max_leaf_nodes=1945, min_samples_leaf=65,\n",
            "                               n_iter_no_change=19, random_state=1,\n",
            "                               validation_fraction=0.3058034268725038,\n",
            "                               warm_start=True)},\n",
            "    33: {   'balancing': Balancing(random_state=1, strategy='weighting'),\n",
            "            'classifier': <autosklearn.pipeline.components.classification.ClassifierChoice object at 0x7f583efc1d90>,\n",
            "            'cost': 0.1515151515151515,\n",
            "            'data_preprocessor': <autosklearn.pipeline.components.data_preprocessing.DataPreprocessorChoice object at 0x7f583ff350a0>,\n",
            "            'ensemble_weight': 0.20000000000000004,\n",
            "            'feature_preprocessor': <autosklearn.pipeline.components.feature_preprocessing.FeaturePreprocessorChoice object at 0x7f583efc1cd0>,\n",
            "            'model_id': 33,\n",
            "            'rank': 1,\n",
            "            'sklearn_classifier': HistGradientBoostingClassifier(early_stopping=True,\n",
            "                               l2_regularization=1.386827857359794e-10,\n",
            "                               learning_rate=0.05972079854295879, max_iter=512,\n",
            "                               max_leaf_nodes=13, min_samples_leaf=2,\n",
            "                               n_iter_no_change=14, random_state=1,\n",
            "                               validation_fraction=None, warm_start=True)},\n",
            "    38: {   'balancing': Balancing(random_state=1, strategy='weighting'),\n",
            "            'classifier': <autosklearn.pipeline.components.classification.ClassifierChoice object at 0x7f583ead4070>,\n",
            "            'cost': 0.33333333333333337,\n",
            "            'data_preprocessor': <autosklearn.pipeline.components.data_preprocessing.DataPreprocessorChoice object at 0x7f583f7871c0>,\n",
            "            'ensemble_weight': 0.14000000000000004,\n",
            "            'feature_preprocessor': <autosklearn.pipeline.components.feature_preprocessing.FeaturePreprocessorChoice object at 0x7f583eb01f70>,\n",
            "            'model_id': 38,\n",
            "            'rank': 12,\n",
            "            'sklearn_classifier': HistGradientBoostingClassifier(early_stopping=True,\n",
            "                               l2_regularization=0.3079435783726031,\n",
            "                               learning_rate=0.012453283618991152, max_iter=256,\n",
            "                               max_leaf_nodes=62, min_samples_leaf=53,\n",
            "                               n_iter_no_change=2, random_state=1,\n",
            "                               validation_fraction=0.3531451974833112,\n",
            "                               warm_start=True)}}\n"
          ]
        }
      ],
      "source": [
        "pprint(automl.show_models(), indent=4)"
      ]
    },
    {
      "cell_type": "markdown",
      "metadata": {},
      "source": [
        "## Get the Score of the final ensemble\n",
        "\n"
      ]
    },
    {
      "cell_type": "code",
      "execution_count": 9,
      "metadata": {
        "collapsed": false
      },
      "outputs": [
        {
          "name": "stderr",
          "output_type": "stream",
          "text": [
            "/home/preethi/projects/hitlda-project/auto-sklearn/py39/lib/python3.9/site-packages/sklearn/utils/validation.py:571: FutureWarning: is_sparse is deprecated and will be removed in a future version. Check `isinstance(dtype, pd.SparseDtype)` instead.\n",
            "  array.dtypes.apply(is_sparse).any()):\n",
            "/home/preethi/projects/hitlda-project/auto-sklearn/py39/lib/python3.9/site-packages/sklearn/utils/validation.py:571: FutureWarning: is_sparse is deprecated and will be removed in a future version. Check `isinstance(dtype, pd.SparseDtype)` instead.\n",
            "  array.dtypes.apply(is_sparse).any()):\n",
            "/home/preethi/projects/hitlda-project/auto-sklearn/py39/lib/python3.9/site-packages/sklearn/utils/validation.py:571: FutureWarning: is_sparse is deprecated and will be removed in a future version. Check `isinstance(dtype, pd.SparseDtype)` instead.\n",
            "  array.dtypes.apply(is_sparse).any()):\n"
          ]
        },
        {
          "name": "stdout",
          "output_type": "stream",
          "text": [
            "{0, 1}\n",
            "{0, 1}\n",
            "Accuracy score: 0.752\n",
            "Precision 0.8\n",
            "Recall 0.4897959183673469\n"
          ]
        },
        {
          "name": "stderr",
          "output_type": "stream",
          "text": [
            "/home/preethi/projects/hitlda-project/auto-sklearn/py39/lib/python3.9/site-packages/sklearn/utils/validation.py:571: FutureWarning: is_sparse is deprecated and will be removed in a future version. Check `isinstance(dtype, pd.SparseDtype)` instead.\n",
            "  array.dtypes.apply(is_sparse).any()):\n",
            "/home/preethi/projects/hitlda-project/auto-sklearn/py39/lib/python3.9/site-packages/sklearn/utils/validation.py:571: FutureWarning: is_sparse is deprecated and will be removed in a future version. Check `isinstance(dtype, pd.SparseDtype)` instead.\n",
            "  array.dtypes.apply(is_sparse).any()):\n",
            "/home/preethi/projects/hitlda-project/auto-sklearn/py39/lib/python3.9/site-packages/sklearn/utils/validation.py:571: FutureWarning: is_sparse is deprecated and will be removed in a future version. Check `isinstance(dtype, pd.SparseDtype)` instead.\n",
            "  array.dtypes.apply(is_sparse).any()):\n",
            "/home/preethi/projects/hitlda-project/auto-sklearn/py39/lib/python3.9/site-packages/sklearn/utils/validation.py:571: FutureWarning: is_sparse is deprecated and will be removed in a future version. Check `isinstance(dtype, pd.SparseDtype)` instead.\n",
            "  array.dtypes.apply(is_sparse).any()):\n"
          ]
        }
      ],
      "source": [
        "predictions = automl.predict(X_test)\n",
        "print(set(predictions))\n",
        "print(set(y_test))\n",
        "print(\"Accuracy score:\", sklearn.metrics.accuracy_score(y_test, predictions))\n",
        "print(\"Precision\", sklearn.metrics.precision_score(y_test, predictions))\n",
        "print(\"Recall\", sklearn.metrics.recall_score(y_test, predictions))\n"
      ]
    },
    {
      "cell_type": "code",
      "execution_count": 10,
      "metadata": {},
      "outputs": [
        {
          "name": "stderr",
          "output_type": "stream",
          "text": [
            "/home/preethi/projects/hitlda-project/auto-sklearn/py39/lib/python3.9/site-packages/sklearn/utils/validation.py:571: FutureWarning: is_sparse is deprecated and will be removed in a future version. Check `isinstance(dtype, pd.SparseDtype)` instead.\n",
            "  array.dtypes.apply(is_sparse).any()):\n"
          ]
        },
        {
          "name": "stdout",
          "output_type": "stream",
          "text": [
            "106\n",
            "[  6   7  14   5   9  87  69  83  59  12  10  39  13   1  89 100  76  88\n",
            "  77  81  51  11  97  38  40  55  31  22  74  57  23  80  90  25  52  92\n",
            "   8  44  95  34  94  19  73  21  79  27   2  20  58  18  41  66  37  93\n",
            "  98  70  28  82  78  35  36  68 104  30  46  48  15  42  85  86  17  54\n",
            " 102  64  99  24  50  49  43  32  56  29   0  72 101  84  65  91  53  61\n",
            "  75  96  63  60  47  71  16 103  67  62 105  26  45  33   3   4]\n"
          ]
        }
      ],
      "source": [
        "\n",
        "from sklearn.ensemble import RandomForestClassifier\n",
        "import numpy as np\n",
        "import matplotlib.pyplot as plt\n",
        "\n",
        "file_path = '../data/clean_titanic_data_gb.csv'\n",
        "# file_path = '../data/clean_airbnb_data_gb.csv'\n",
        "\n",
        "\n",
        "df = pd.read_csv(file_path)\n",
        "\n",
        "# df = df.dropna(subset=['Survived'])\n",
        "# y = df['Survived']\n",
        "# X = df.drop('Survived', axis=1)\n",
        "\n",
        "df = df.dropna(subset=['Rating'])\n",
        "y = df['Rating']\n",
        "X = df.drop('Rating', axis=1)\n",
        "X_train, X_test, y_train, y_test = train_test_split(X, y, stratify=y, random_state=42)\n",
        "\n",
        "feature_names = [f\"feature {i}\" for i in range(X.shape[1])]\n",
        "forest = RandomForestClassifier(random_state=0)\n",
        "forest.fit(X_train, y_train)\n",
        "\n",
        "importances = forest.feature_importances_\n",
        "print(len(importances))\n",
        "sorted_indices = np.argsort(importances)[::-1]\n",
        "print(sorted_indices)\n"
      ]
    },
    {
      "cell_type": "code",
      "execution_count": 11,
      "metadata": {},
      "outputs": [
        {
          "name": "stdout",
          "output_type": "stream",
          "text": [
            "{0.0, 1.0}\n",
            "{0.0, 1.0}\n",
            "Accuracy score: 0.84\n",
            "Precision 0.7727272727272727\n",
            "Recall 0.7727272727272727\n"
          ]
        },
        {
          "name": "stderr",
          "output_type": "stream",
          "text": [
            "/home/preethi/projects/hitlda-project/auto-sklearn/py39/lib/python3.9/site-packages/sklearn/utils/validation.py:571: FutureWarning: is_sparse is deprecated and will be removed in a future version. Check `isinstance(dtype, pd.SparseDtype)` instead.\n",
            "  array.dtypes.apply(is_sparse).any()):\n"
          ]
        }
      ],
      "source": [
        "rf_predictions = forest.predict(X_test)\n",
        "print(set(rf_predictions))\n",
        "print(set(y_test))\n",
        "print(\"Accuracy score:\", sklearn.metrics.accuracy_score(y_test, rf_predictions))\n",
        "print(\"Precision\", sklearn.metrics.precision_score(y_test, rf_predictions))\n",
        "print(\"Recall\", sklearn.metrics.recall_score(y_test, rf_predictions))"
      ]
    }
  ],
  "metadata": {
    "kernelspec": {
      "display_name": "Python 3",
      "language": "python",
      "name": "python3"
    },
    "language_info": {
      "codemirror_mode": {
        "name": "ipython",
        "version": 3
      },
      "file_extension": ".py",
      "mimetype": "text/x-python",
      "name": "python",
      "nbconvert_exporter": "python",
      "pygments_lexer": "ipython3",
      "version": "3.9.18"
    }
  },
  "nbformat": 4,
  "nbformat_minor": 0
}
