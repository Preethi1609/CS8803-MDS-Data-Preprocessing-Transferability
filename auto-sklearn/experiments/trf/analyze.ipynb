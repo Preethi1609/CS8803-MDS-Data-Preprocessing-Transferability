{
 "cells": [
  {
   "cell_type": "code",
   "execution_count": 11,
   "metadata": {},
   "outputs": [
    {
     "name": "stdout",
     "output_type": "stream",
     "text": [
      "Missing Values:\n",
      "0.017818507025256444\n",
      "928080\n",
      "23202\n",
      "\n",
      "Duplicate Rows:\n",
      "0.09533660891302474\n",
      "\n",
      "Total Outliers:\n",
      "0.042293767778639774\n"
     ]
    }
   ],
   "source": [
    "import pandas as pd\n",
    "\n",
    "# Read the CSV file into a DataFrame\n",
    "df = pd.read_csv('/home/preethi/projects/hitlda-project/auto-sklearn/data/airbnb.csv')\n",
    "\n",
    "# Check for missing values\n",
    "missing_values = df.isnull().sum().sum()\n",
    "print(\"Missing Values:\")\n",
    "print(missing_values/df.size * 100)\n",
    "\n",
    "\n",
    "# Check for duplicates\n",
    "duplicate_rows = df[df.duplicated()]\n",
    "print(\"\\nDuplicate Rows:\")\n",
    "print(len(duplicate_rows)/df.shape[0] * 100)\n",
    "\n",
    "# Check data types\n",
    "# data_types = df.dtypes\n",
    "# print(\"\\nData Types:\")\n",
    "# print(data_types)\n",
    "\n",
    "# Check for outliers (assuming numerical columns)\n",
    "tot_outliers = 0\n",
    "numerical_columns = df.select_dtypes(include=['int64', 'float64']).columns.tolist()\n",
    "for column in numerical_columns:\n",
    "    # print(\"\\nOutliers in\", column, \":\")\n",
    "    q1 = df[column].quantile(0.25)\n",
    "    q3 = df[column].quantile(0.75)\n",
    "    iqr = q3 - q1\n",
    "    lower_bound = q1 - 1.5 * iqr\n",
    "    upper_bound = q3 + 1.5 * iqr\n",
    "    outliers = df[(df[column] < lower_bound) | (df[column] > upper_bound)]\n",
    "    # print(len(outliers))\n",
    "    tot_outliers += len(outliers)\n",
    "\n",
    "print(\"\\nTotal Outliers:\")\n",
    "print(tot_outliers/df.size * 100)"
   ]
  }
 ],
 "metadata": {
  "kernelspec": {
   "display_name": "py39",
   "language": "python",
   "name": "python3"
  },
  "language_info": {
   "codemirror_mode": {
    "name": "ipython",
    "version": 3
   },
   "file_extension": ".py",
   "mimetype": "text/x-python",
   "name": "python",
   "nbconvert_exporter": "python",
   "pygments_lexer": "ipython3",
   "version": "3.9.18"
  }
 },
 "nbformat": 4,
 "nbformat_minor": 2
}
