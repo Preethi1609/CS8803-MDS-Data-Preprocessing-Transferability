{
  "cells": [
    {
      "cell_type": "markdown",
      "metadata": {},
      "source": [
        "\n",
        "# Classification\n",
        "\n",
        "The following example shows how to fit a simple classification model with\n",
        "*auto-sklearn*.\n"
      ]
    },
    {
      "cell_type": "code",
      "execution_count": 1,
      "metadata": {
        "collapsed": false
      },
      "outputs": [],
      "source": [
        "from pprint import pprint\n",
        "import sklearn.metrics\n",
        "import autosklearn.classification\n",
        "import pandas as pd\n",
        "from sklearn.model_selection import train_test_split\n",
        "import autosklearn"
      ]
    },
    {
      "cell_type": "markdown",
      "metadata": {},
      "source": [
        "## Data Loading\n",
        "\n"
      ]
    },
    {
      "cell_type": "code",
      "execution_count": 3,
      "metadata": {},
      "outputs": [],
      "source": [
        "\n",
        "file_path = '../data/titanic_dirty_data.csv'\n",
        "# file_path = '../data/airbnb.csv'\n",
        "\n",
        "\n",
        "df = pd.read_csv(file_path)\n",
        "\n",
        "df = df.dropna(subset=['Survived'])\n",
        "y = df['Survived']\n",
        "X = df.drop('Survived', axis=1)\n",
        "\n",
        "# df = df.dropna(subset=['Rating'])\n",
        "# y = df['Rating']\n",
        "# X = df.drop('Rating', axis=1)\n",
        "\n",
        "\n",
        "X_train, X_test, y_train, y_test = train_test_split(X, y, test_size=0.2, random_state=42)\n"
      ]
    },
    {
      "cell_type": "markdown",
      "metadata": {},
      "source": [
        "## Build and fit a classifier\n",
        "\n"
      ]
    },
    {
      "cell_type": "code",
      "execution_count": 4,
      "metadata": {
        "collapsed": false
      },
      "outputs": [
        {
          "name": "stderr",
          "output_type": "stream",
          "text": [
            "Fitting to the training data:   0%|\u001b[32m          \u001b[0m| 0/120 [00:00<?, ?it/s, The total time budget for this task is 0:02:00]/home/preethi/projects/hitlda-project/auto-sklearn/autosklearn/data/feature_validator.py:298: FutureWarning: is_sparse is deprecated and will be removed in a future version. Check `isinstance(dtype, pd.SparseDtype)` instead.\n",
            "  if is_sparse(X[column]):\n",
            "/home/preethi/projects/hitlda-project/auto-sklearn/autosklearn/data/feature_validator.py:318: UserWarning: Input Column Name has generic type object. Autosklearn will treat this column as string. Please ensure that this setting is suitable for your task.\n",
            "  warnings.warn(\n",
            "/home/preethi/projects/hitlda-project/auto-sklearn/autosklearn/data/feature_validator.py:318: UserWarning: Input Column Sex has generic type object. Autosklearn will treat this column as string. Please ensure that this setting is suitable for your task.\n",
            "  warnings.warn(\n",
            "/home/preethi/projects/hitlda-project/auto-sklearn/autosklearn/data/feature_validator.py:318: UserWarning: Input Column Ticket has generic type object. Autosklearn will treat this column as string. Please ensure that this setting is suitable for your task.\n",
            "  warnings.warn(\n",
            "/home/preethi/projects/hitlda-project/auto-sklearn/autosklearn/data/feature_validator.py:318: UserWarning: Input Column Cabin has generic type object. Autosklearn will treat this column as string. Please ensure that this setting is suitable for your task.\n",
            "  warnings.warn(\n",
            "/home/preethi/projects/hitlda-project/auto-sklearn/autosklearn/data/feature_validator.py:318: UserWarning: Input Column Embarked has generic type object. Autosklearn will treat this column as string. Please ensure that this setting is suitable for your task.\n",
            "  warnings.warn(\n"
          ]
        },
        {
          "name": "stdout",
          "output_type": "stream",
          "text": [
            "MLPP INITTT\n"
          ]
        },
        {
          "name": "stderr",
          "output_type": "stream",
          "text": [
            "Fitting to the training data: 100%|\u001b[32m██████████\u001b[0m| 120/120 [01:49<00:00,  1.10it/s, The total time budget for this task is 0:02:00]\n"
          ]
        },
        {
          "name": "stdout",
          "output_type": "stream",
          "text": [
            "Configuration(values={\n",
            "  'balancing:strategy': 'none',\n",
            "  'classifier:__choice__': 'mlp',\n",
            "  'classifier:mlp:activation': 'relu',\n",
            "  'classifier:mlp:alpha': 0.0001,\n",
            "  'classifier:mlp:batch_size': 'auto',\n",
            "  'classifier:mlp:beta_1': 0.9,\n",
            "  'classifier:mlp:beta_2': 0.999,\n",
            "  'classifier:mlp:early_stopping': 'valid',\n",
            "  'classifier:mlp:epsilon': 1e-08,\n",
            "  'classifier:mlp:hidden_layer_depth': 5,\n",
            "  'classifier:mlp:learning_rate_init': 0.001,\n",
            "  'classifier:mlp:n_iter_no_change': 32,\n",
            "  'classifier:mlp:num_nodes_per_layer': 256,\n",
            "  'classifier:mlp:shuffle': 'True',\n",
            "  'classifier:mlp:solver': 'adam',\n",
            "  'classifier:mlp:tol': 0.0001,\n",
            "  'classifier:mlp:validation_fraction': 0.1,\n",
            "  'data_preprocessor:__choice__': 'feature_type',\n",
            "  'data_preprocessor:feature_type:numerical_transformer:imputation:strategy': 'mean',\n",
            "  'data_preprocessor:feature_type:numerical_transformer:rescaling:__choice__': 'standardize',\n",
            "  'data_preprocessor:feature_type:text_transformer:text_encoding:__choice__': 'tfidf_encoding',\n",
            "  'data_preprocessor:feature_type:text_transformer:text_encoding:tfidf_encoding:analyzer': 'char',\n",
            "  'data_preprocessor:feature_type:text_transformer:text_encoding:tfidf_encoding:binary': 'False',\n",
            "  'data_preprocessor:feature_type:text_transformer:text_encoding:tfidf_encoding:max_df': 1.0,\n",
            "  'data_preprocessor:feature_type:text_transformer:text_encoding:tfidf_encoding:min_df': 0.0,\n",
            "  'data_preprocessor:feature_type:text_transformer:text_encoding:tfidf_encoding:ngram_range_char': 4,\n",
            "  'data_preprocessor:feature_type:text_transformer:text_encoding:tfidf_encoding:norm': 'l2',\n",
            "  'data_preprocessor:feature_type:text_transformer:text_encoding:tfidf_encoding:per_column': False,\n",
            "  'data_preprocessor:feature_type:text_transformer:text_encoding:tfidf_encoding:sublinear_tf': 'False',\n",
            "  'data_preprocessor:feature_type:text_transformer:text_feature_reduction:n_components': 100,\n",
            "  'feature_preprocessor:__choice__': 'no_preprocessing',\n",
            "})\n",
            "\n"
          ]
        }
      ],
      "source": [
        "automl = autosklearn.classification.AutoSklearnClassifier(\n",
        "    time_left_for_this_task=120,\n",
        "    per_run_time_limit=10,\n",
        "    include = {\n",
        "        'classifier': [\"mlp\"],\n",
        "    },\n",
        "    tmp_folder=\"tmp/autosklearn_classification_example_tmp5\",\n",
        ")\n",
        "\n",
        "automl.fit(X_train, y_train)\n",
        "run_key = list(automl.automl_.runhistory_.data.keys())[0]\n",
        "run_value = automl.automl_.runhistory_.data[run_key]\n",
        "config=automl.automl_.runhistory_.ids_config[run_key.config_id]\n",
        "print(config)"
      ]
    },
    {
      "cell_type": "markdown",
      "metadata": {},
      "source": [
        "## View the models found by auto-sklearn\n",
        "\n"
      ]
    },
    {
      "cell_type": "code",
      "execution_count": 5,
      "metadata": {
        "collapsed": false
      },
      "outputs": [
        {
          "name": "stdout",
          "output_type": "stream",
          "text": [
            "          rank  ensemble_weight type      cost  duration\n",
            "model_id                                                \n",
            "37           1             0.08  mlp  0.139394  2.050356\n",
            "42           2             0.02  mlp  0.151515  2.908507\n",
            "4            3             0.02  mlp  0.157576  1.481290\n",
            "2            4             0.02  mlp  0.169697  1.268180\n",
            "7            5             0.04  mlp  0.169697  2.116184\n",
            "9            6             0.12  mlp  0.175758  2.364895\n",
            "19           7             0.06  mlp  0.181818  1.217855\n",
            "20           8             0.12  mlp  0.181818  1.777054\n",
            "34          10             0.10  mlp  0.181818  1.012273\n",
            "40           9             0.04  mlp  0.181818  1.677289\n",
            "13          11             0.06  mlp  0.187879  1.138722\n",
            "46          12             0.10  mlp  0.193939  1.162499\n",
            "31          13             0.10  mlp  0.200000  2.303857\n",
            "22          14             0.12  mlp  0.290909  1.832396\n"
          ]
        }
      ],
      "source": [
        "print(automl.leaderboard())"
      ]
    },
    {
      "cell_type": "markdown",
      "metadata": {},
      "source": [
        "## Print the final ensemble constructed by auto-sklearn\n",
        "\n"
      ]
    },
    {
      "cell_type": "code",
      "execution_count": 6,
      "metadata": {
        "collapsed": false
      },
      "outputs": [
        {
          "name": "stdout",
          "output_type": "stream",
          "text": [
            "{   2: {   'balancing': Balancing(random_state=1),\n",
            "           'classifier': <autosklearn.pipeline.components.classification.ClassifierChoice object at 0x7f883e7a8c40>,\n",
            "           'cost': 0.16969696969696968,\n",
            "           'data_preprocessor': <autosklearn.pipeline.components.data_preprocessing.DataPreprocessorChoice object at 0x7f883eba1a60>,\n",
            "           'ensemble_weight': 0.02,\n",
            "           'feature_preprocessor': <autosklearn.pipeline.components.feature_preprocessing.FeaturePreprocessorChoice object at 0x7f883e7a8ca0>,\n",
            "           'model_id': 2,\n",
            "           'rank': 6,\n",
            "           'sklearn_classifier': MLPClassifier(beta_1=0.999, beta_2=0.9, early_stopping=True,\n",
            "              hidden_layer_sizes=(64, 64, 64), max_iter=64, n_iter_no_change=32,\n",
            "              random_state=1, verbose=0, warm_start=True)},\n",
            "    4: {   'balancing': Balancing(random_state=1, strategy='weighting'),\n",
            "           'classifier': <autosklearn.pipeline.components.classification.ClassifierChoice object at 0x7f883e6c34c0>,\n",
            "           'cost': 0.1575757575757576,\n",
            "           'data_preprocessor': <autosklearn.pipeline.components.data_preprocessing.DataPreprocessorChoice object at 0x7f883ea8eb50>,\n",
            "           'ensemble_weight': 0.02,\n",
            "           'feature_preprocessor': <autosklearn.pipeline.components.feature_preprocessing.FeaturePreprocessorChoice object at 0x7f883e6c39a0>,\n",
            "           'model_id': 4,\n",
            "           'rank': 3,\n",
            "           'sklearn_classifier': MLPClassifier(alpha=4.2841884333778574e-06, beta_1=0.999, beta_2=0.9,\n",
            "              hidden_layer_sizes=(64, 64, 64),\n",
            "              learning_rate_init=0.0011804284312897009, max_iter=128,\n",
            "              n_iter_no_change=32, random_state=1, validation_fraction=0.0,\n",
            "              verbose=0, warm_start=True)},\n",
            "    7: {   'balancing': Balancing(random_state=1, strategy='weighting'),\n",
            "           'classifier': <autosklearn.pipeline.components.classification.ClassifierChoice object at 0x7f883eaa5790>,\n",
            "           'cost': 0.16969696969696968,\n",
            "           'data_preprocessor': <autosklearn.pipeline.components.data_preprocessing.DataPreprocessorChoice object at 0x7f883eaed220>,\n",
            "           'ensemble_weight': 0.04,\n",
            "           'feature_preprocessor': <autosklearn.pipeline.components.feature_preprocessing.FeaturePreprocessorChoice object at 0x7f883eaa54c0>,\n",
            "           'model_id': 7,\n",
            "           'rank': 5,\n",
            "           'sklearn_classifier': MLPClassifier(alpha=0.02847755502162456, beta_1=0.999, beta_2=0.9,\n",
            "              hidden_layer_sizes=(64, 64, 64),\n",
            "              learning_rate_init=0.000421568792103947, max_iter=128,\n",
            "              n_iter_no_change=32, random_state=1, validation_fraction=0.0,\n",
            "              verbose=0, warm_start=True)},\n",
            "    9: {   'balancing': Balancing(random_state=1),\n",
            "           'classifier': <autosklearn.pipeline.components.classification.ClassifierChoice object at 0x7f883eb64730>,\n",
            "           'cost': 0.17575757575757578,\n",
            "           'data_preprocessor': <autosklearn.pipeline.components.data_preprocessing.DataPreprocessorChoice object at 0x7f883e76b670>,\n",
            "           'ensemble_weight': 0.12,\n",
            "           'feature_preprocessor': <autosklearn.pipeline.components.feature_preprocessing.FeaturePreprocessorChoice object at 0x7f883eafa820>,\n",
            "           'model_id': 9,\n",
            "           'rank': 8,\n",
            "           'sklearn_classifier': MLPClassifier(activation='tanh', alpha=2.5550223982458062e-06, beta_1=0.999,\n",
            "              beta_2=0.9, hidden_layer_sizes=(64, 64, 64),\n",
            "              learning_rate_init=0.00027271287919467994, max_iter=256,\n",
            "              n_iter_no_change=32, random_state=1, validation_fraction=0.0,\n",
            "              verbose=0, warm_start=True)},\n",
            "    13: {   'balancing': Balancing(random_state=1),\n",
            "            'classifier': <autosklearn.pipeline.components.classification.ClassifierChoice object at 0x7f883e396490>,\n",
            "            'cost': 0.18787878787878787,\n",
            "            'data_preprocessor': <autosklearn.pipeline.components.data_preprocessing.DataPreprocessorChoice object at 0x7f883e6c3640>,\n",
            "            'ensemble_weight': 0.06,\n",
            "            'feature_preprocessor': <autosklearn.pipeline.components.feature_preprocessing.FeaturePreprocessorChoice object at 0x7f883e396340>,\n",
            "            'model_id': 13,\n",
            "            'rank': 15,\n",
            "            'sklearn_classifier': MLPClassifier(activation='tanh', alpha=0.05476322473700896, beta_1=0.999,\n",
            "              beta_2=0.9, early_stopping=True, hidden_layer_sizes=(64, 64, 64),\n",
            "              learning_rate_init=0.012698439797907473, max_iter=32,\n",
            "              n_iter_no_change=32, random_state=1, verbose=0, warm_start=True)},\n",
            "    19: {   'balancing': Balancing(random_state=1, strategy='weighting'),\n",
            "            'classifier': <autosklearn.pipeline.components.classification.ClassifierChoice object at 0x7f883e6c7340>,\n",
            "            'cost': 0.18181818181818177,\n",
            "            'data_preprocessor': <autosklearn.pipeline.components.data_preprocessing.DataPreprocessorChoice object at 0x7f883ead6ac0>,\n",
            "            'ensemble_weight': 0.06,\n",
            "            'feature_preprocessor': <autosklearn.pipeline.components.feature_preprocessing.FeaturePreprocessorChoice object at 0x7f883e6c7eb0>,\n",
            "            'model_id': 19,\n",
            "            'rank': 13,\n",
            "            'sklearn_classifier': MLPClassifier(alpha=1.1952772240345466e-06, beta_1=0.999, beta_2=0.9,\n",
            "              early_stopping=True, hidden_layer_sizes=(64, 64, 64),\n",
            "              learning_rate_init=0.04431671753867657, max_iter=32,\n",
            "              n_iter_no_change=32, random_state=1, verbose=0, warm_start=True)},\n",
            "    20: {   'balancing': Balancing(random_state=1),\n",
            "            'classifier': <autosklearn.pipeline.components.classification.ClassifierChoice object at 0x7f883ea65430>,\n",
            "            'cost': 0.18181818181818177,\n",
            "            'data_preprocessor': <autosklearn.pipeline.components.data_preprocessing.DataPreprocessorChoice object at 0x7f883eafa430>,\n",
            "            'ensemble_weight': 0.12,\n",
            "            'feature_preprocessor': <autosklearn.pipeline.components.feature_preprocessing.FeaturePreprocessorChoice object at 0x7f883ea65820>,\n",
            "            'model_id': 20,\n",
            "            'rank': 12,\n",
            "            'sklearn_classifier': MLPClassifier(activation='tanh', alpha=3.198483470889531e-06, beta_1=0.999,\n",
            "              beta_2=0.9, hidden_layer_sizes=(64, 64, 64),\n",
            "              learning_rate_init=0.006604847357173181, max_iter=256,\n",
            "              n_iter_no_change=32, random_state=1, validation_fraction=0.0,\n",
            "              verbose=0, warm_start=True)},\n",
            "    22: {   'balancing': Balancing(random_state=1, strategy='weighting'),\n",
            "            'classifier': <autosklearn.pipeline.components.classification.ClassifierChoice object at 0x7f883dea5df0>,\n",
            "            'cost': 0.2909090909090909,\n",
            "            'data_preprocessor': <autosklearn.pipeline.components.data_preprocessing.DataPreprocessorChoice object at 0x7f883eb64370>,\n",
            "            'ensemble_weight': 0.12,\n",
            "            'feature_preprocessor': <autosklearn.pipeline.components.feature_preprocessing.FeaturePreprocessorChoice object at 0x7f883e738580>,\n",
            "            'model_id': 22,\n",
            "            'rank': 19,\n",
            "            'sklearn_classifier': MLPClassifier(activation='tanh', alpha=4.161964147008203e-06, beta_1=0.999,\n",
            "              beta_2=0.9, hidden_layer_sizes=(64, 64, 64),\n",
            "              learning_rate_init=0.0001254338299104542, max_iter=256,\n",
            "              n_iter_no_change=32, random_state=1, validation_fraction=0.0,\n",
            "              verbose=0, warm_start=True)},\n",
            "    31: {   'balancing': Balancing(random_state=1, strategy='weighting'),\n",
            "            'classifier': <autosklearn.pipeline.components.classification.ClassifierChoice object at 0x7f883de584f0>,\n",
            "            'cost': 0.19999999999999996,\n",
            "            'data_preprocessor': <autosklearn.pipeline.components.data_preprocessing.DataPreprocessorChoice object at 0x7f883e6c7370>,\n",
            "            'ensemble_weight': 0.1,\n",
            "            'feature_preprocessor': <autosklearn.pipeline.components.feature_preprocessing.FeaturePreprocessorChoice object at 0x7f883de58430>,\n",
            "            'model_id': 31,\n",
            "            'rank': 17,\n",
            "            'sklearn_classifier': MLPClassifier(activation='tanh', alpha=1.6913776882361428e-07, beta_1=0.999,\n",
            "              beta_2=0.9, hidden_layer_sizes=(64, 64, 64),\n",
            "              learning_rate_init=0.0005867144594731152, max_iter=256,\n",
            "              n_iter_no_change=32, random_state=1, validation_fraction=0.0,\n",
            "              verbose=0, warm_start=True)},\n",
            "    34: {   'balancing': Balancing(random_state=1),\n",
            "            'classifier': <autosklearn.pipeline.components.classification.ClassifierChoice object at 0x7f883d35d640>,\n",
            "            'cost': 0.18181818181818177,\n",
            "            'data_preprocessor': <autosklearn.pipeline.components.data_preprocessing.DataPreprocessorChoice object at 0x7f883ea65b20>,\n",
            "            'ensemble_weight': 0.1,\n",
            "            'feature_preprocessor': <autosklearn.pipeline.components.feature_preprocessing.FeaturePreprocessorChoice object at 0x7f883d35d130>,\n",
            "            'model_id': 34,\n",
            "            'rank': 11,\n",
            "            'sklearn_classifier': MLPClassifier(activation='tanh', alpha=7.945696366962953e-06, beta_1=0.999,\n",
            "              beta_2=0.9, early_stopping=True, hidden_layer_sizes=(64, 64, 64),\n",
            "              learning_rate_init=0.009442785907118717, max_iter=32,\n",
            "              n_iter_no_change=32, random_state=1, verbose=0, warm_start=True)},\n",
            "    37: {   'balancing': Balancing(random_state=1, strategy='weighting'),\n",
            "            'classifier': <autosklearn.pipeline.components.classification.ClassifierChoice object at 0x7f883d30efd0>,\n",
            "            'cost': 0.1393939393939394,\n",
            "            'data_preprocessor': <autosklearn.pipeline.components.data_preprocessing.DataPreprocessorChoice object at 0x7f883e738220>,\n",
            "            'ensemble_weight': 0.08,\n",
            "            'feature_preprocessor': <autosklearn.pipeline.components.feature_preprocessing.FeaturePreprocessorChoice object at 0x7f883d30ef10>,\n",
            "            'model_id': 37,\n",
            "            'rank': 1,\n",
            "            'sklearn_classifier': MLPClassifier(alpha=2.5071953595047885e-06, beta_1=0.999, beta_2=0.9,\n",
            "              hidden_layer_sizes=(64, 64, 64),\n",
            "              learning_rate_init=0.0009077536804198131, max_iter=256,\n",
            "              n_iter_no_change=32, random_state=1, validation_fraction=0.0,\n",
            "              verbose=0, warm_start=True)},\n",
            "    40: {   'balancing': Balancing(random_state=1),\n",
            "            'classifier': <autosklearn.pipeline.components.classification.ClassifierChoice object at 0x7f883cfe5d60>,\n",
            "            'cost': 0.18181818181818177,\n",
            "            'data_preprocessor': <autosklearn.pipeline.components.data_preprocessing.DataPreprocessorChoice object at 0x7f883dea5880>,\n",
            "            'ensemble_weight': 0.04,\n",
            "            'feature_preprocessor': <autosklearn.pipeline.components.feature_preprocessing.FeaturePreprocessorChoice object at 0x7f883cfe5ca0>,\n",
            "            'model_id': 40,\n",
            "            'rank': 14,\n",
            "            'sklearn_classifier': MLPClassifier(activation='tanh', alpha=3.4253457176792003e-06, beta_1=0.999,\n",
            "              beta_2=0.9, hidden_layer_sizes=(64, 64, 64),\n",
            "              learning_rate_init=0.0009077536804198131, max_iter=256,\n",
            "              n_iter_no_change=32, random_state=1, validation_fraction=0.0,\n",
            "              verbose=0, warm_start=True)},\n",
            "    42: {   'balancing': Balancing(random_state=1, strategy='weighting'),\n",
            "            'classifier': <autosklearn.pipeline.components.classification.ClassifierChoice object at 0x7f883cf75af0>,\n",
            "            'cost': 0.1515151515151515,\n",
            "            'data_preprocessor': <autosklearn.pipeline.components.data_preprocessing.DataPreprocessorChoice object at 0x7f883db89b50>,\n",
            "            'ensemble_weight': 0.02,\n",
            "            'feature_preprocessor': <autosklearn.pipeline.components.feature_preprocessing.FeaturePreprocessorChoice object at 0x7f883cf758e0>,\n",
            "            'model_id': 42,\n",
            "            'rank': 2,\n",
            "            'sklearn_classifier': MLPClassifier(alpha=0.0001363185819149026, beta_1=0.999, beta_2=0.9,\n",
            "              hidden_layer_sizes=(64, 64, 64),\n",
            "              learning_rate_init=0.0001878093690512689, max_iter=256,\n",
            "              n_iter_no_change=32, random_state=1, validation_fraction=0.0,\n",
            "              verbose=0, warm_start=True)},\n",
            "    46: {   'balancing': Balancing(random_state=1, strategy='weighting'),\n",
            "            'classifier': <autosklearn.pipeline.components.classification.ClassifierChoice object at 0x7f883cbd3580>,\n",
            "            'cost': 0.19393939393939397,\n",
            "            'data_preprocessor': <autosklearn.pipeline.components.data_preprocessing.DataPreprocessorChoice object at 0x7f883d30e940>,\n",
            "            'ensemble_weight': 0.1,\n",
            "            'feature_preprocessor': <autosklearn.pipeline.components.feature_preprocessing.FeaturePreprocessorChoice object at 0x7f883cbd3490>,\n",
            "            'model_id': 46,\n",
            "            'rank': 16,\n",
            "            'sklearn_classifier': MLPClassifier(alpha=0.00024171816304783265, beta_1=0.999, beta_2=0.9,\n",
            "              early_stopping=True, hidden_layer_sizes=(64, 64, 64),\n",
            "              learning_rate_init=0.0006406861960537238, max_iter=64,\n",
            "              n_iter_no_change=32, random_state=1, verbose=0, warm_start=True)}}\n"
          ]
        }
      ],
      "source": [
        "pprint(automl.show_models(), indent=4)"
      ]
    },
    {
      "cell_type": "markdown",
      "metadata": {},
      "source": [
        "## Get the Score of the final ensemble\n",
        "\n"
      ]
    },
    {
      "cell_type": "code",
      "execution_count": 8,
      "metadata": {
        "collapsed": false
      },
      "outputs": [
        {
          "name": "stderr",
          "output_type": "stream",
          "text": [
            "/home/preethi/projects/hitlda-project/auto-sklearn/py39/lib/python3.9/site-packages/sklearn/utils/validation.py:571: FutureWarning: is_sparse is deprecated and will be removed in a future version. Check `isinstance(dtype, pd.SparseDtype)` instead.\n",
            "  array.dtypes.apply(is_sparse).any()):\n",
            "/home/preethi/projects/hitlda-project/auto-sklearn/py39/lib/python3.9/site-packages/sklearn/utils/validation.py:571: FutureWarning: is_sparse is deprecated and will be removed in a future version. Check `isinstance(dtype, pd.SparseDtype)` instead.\n",
            "  array.dtypes.apply(is_sparse).any()):\n",
            "/home/preethi/projects/hitlda-project/auto-sklearn/py39/lib/python3.9/site-packages/sklearn/utils/validation.py:571: FutureWarning: is_sparse is deprecated and will be removed in a future version. Check `isinstance(dtype, pd.SparseDtype)` instead.\n",
            "  array.dtypes.apply(is_sparse).any()):\n",
            "/home/preethi/projects/hitlda-project/auto-sklearn/py39/lib/python3.9/site-packages/sklearn/utils/validation.py:571: FutureWarning: is_sparse is deprecated and will be removed in a future version. Check `isinstance(dtype, pd.SparseDtype)` instead.\n",
            "  array.dtypes.apply(is_sparse).any()):\n",
            "/home/preethi/projects/hitlda-project/auto-sklearn/py39/lib/python3.9/site-packages/sklearn/utils/validation.py:571: FutureWarning: is_sparse is deprecated and will be removed in a future version. Check `isinstance(dtype, pd.SparseDtype)` instead.\n",
            "  array.dtypes.apply(is_sparse).any()):\n",
            "/home/preethi/projects/hitlda-project/auto-sklearn/py39/lib/python3.9/site-packages/sklearn/utils/validation.py:571: FutureWarning: is_sparse is deprecated and will be removed in a future version. Check `isinstance(dtype, pd.SparseDtype)` instead.\n",
            "  array.dtypes.apply(is_sparse).any()):\n",
            "/home/preethi/projects/hitlda-project/auto-sklearn/py39/lib/python3.9/site-packages/sklearn/utils/validation.py:571: FutureWarning: is_sparse is deprecated and will be removed in a future version. Check `isinstance(dtype, pd.SparseDtype)` instead.\n",
            "  array.dtypes.apply(is_sparse).any()):\n",
            "/home/preethi/projects/hitlda-project/auto-sklearn/py39/lib/python3.9/site-packages/sklearn/utils/validation.py:571: FutureWarning: is_sparse is deprecated and will be removed in a future version. Check `isinstance(dtype, pd.SparseDtype)` instead.\n",
            "  array.dtypes.apply(is_sparse).any()):\n",
            "/home/preethi/projects/hitlda-project/auto-sklearn/py39/lib/python3.9/site-packages/sklearn/utils/validation.py:571: FutureWarning: is_sparse is deprecated and will be removed in a future version. Check `isinstance(dtype, pd.SparseDtype)` instead.\n",
            "  array.dtypes.apply(is_sparse).any()):\n"
          ]
        },
        {
          "name": "stdout",
          "output_type": "stream",
          "text": [
            "{0, 1}\n",
            "{0, 1}\n",
            "Accuracy score: 0.808\n",
            "Precision 0.8571428571428571\n",
            "Recall 0.6122448979591837\n"
          ]
        },
        {
          "name": "stderr",
          "output_type": "stream",
          "text": [
            "/home/preethi/projects/hitlda-project/auto-sklearn/py39/lib/python3.9/site-packages/sklearn/utils/validation.py:571: FutureWarning: is_sparse is deprecated and will be removed in a future version. Check `isinstance(dtype, pd.SparseDtype)` instead.\n",
            "  array.dtypes.apply(is_sparse).any()):\n",
            "/home/preethi/projects/hitlda-project/auto-sklearn/py39/lib/python3.9/site-packages/sklearn/utils/validation.py:571: FutureWarning: is_sparse is deprecated and will be removed in a future version. Check `isinstance(dtype, pd.SparseDtype)` instead.\n",
            "  array.dtypes.apply(is_sparse).any()):\n",
            "/home/preethi/projects/hitlda-project/auto-sklearn/py39/lib/python3.9/site-packages/sklearn/utils/validation.py:571: FutureWarning: is_sparse is deprecated and will be removed in a future version. Check `isinstance(dtype, pd.SparseDtype)` instead.\n",
            "  array.dtypes.apply(is_sparse).any()):\n",
            "/home/preethi/projects/hitlda-project/auto-sklearn/py39/lib/python3.9/site-packages/sklearn/utils/validation.py:571: FutureWarning: is_sparse is deprecated and will be removed in a future version. Check `isinstance(dtype, pd.SparseDtype)` instead.\n",
            "  array.dtypes.apply(is_sparse).any()):\n",
            "/home/preethi/projects/hitlda-project/auto-sklearn/py39/lib/python3.9/site-packages/sklearn/utils/validation.py:571: FutureWarning: is_sparse is deprecated and will be removed in a future version. Check `isinstance(dtype, pd.SparseDtype)` instead.\n",
            "  array.dtypes.apply(is_sparse).any()):\n"
          ]
        }
      ],
      "source": [
        "predictions = automl.predict(X_test)\n",
        "print(set(predictions))\n",
        "print(set(y_test))\n",
        "print(\"Accuracy score:\", sklearn.metrics.accuracy_score(y_test, predictions))\n",
        "print(\"Precision\", sklearn.metrics.precision_score(y_test, predictions))\n",
        "print(\"Recall\", sklearn.metrics.recall_score(y_test, predictions))\n"
      ]
    },
    {
      "cell_type": "code",
      "execution_count": 9,
      "metadata": {},
      "outputs": [
        {
          "name": "stderr",
          "output_type": "stream",
          "text": [
            "/home/preethi/projects/hitlda-project/auto-sklearn/py39/lib/python3.9/site-packages/sklearn/utils/validation.py:571: FutureWarning: is_sparse is deprecated and will be removed in a future version. Check `isinstance(dtype, pd.SparseDtype)` instead.\n",
            "  array.dtypes.apply(is_sparse).any()):\n"
          ]
        },
        {
          "name": "stdout",
          "output_type": "stream",
          "text": [
            "106\n",
            "[  6   7  14   5   9  13  84  12  51   1  39  75  89  10  82  81  37  22\n",
            "  80  15  85  88  27  77  52  24  68  41  59  57  86  83  64  29  76 105\n",
            "  25  53  38  65 103  97  63  94  43  95  87  19  44  11   2  58  54   0\n",
            "  74 102  48  78 100  99  31  35  36  46  79  42  91  96  23 101  17  98\n",
            "  34  93  49   8  90  71  60  72  73  28  55  32  20  30  56  69  47  18\n",
            "  66  61  50 104  62  16  70  40  92  21  45  26  67   3   4  33]\n"
          ]
        }
      ],
      "source": [
        "\n",
        "from sklearn.ensemble import RandomForestClassifier\n",
        "import numpy as np\n",
        "import matplotlib.pyplot as plt\n",
        "\n",
        "file_path = '../data/clean_titanic_data_mlp.csv'\n",
        "# file_path = '../data/clean_airbnb_data_gb.csv'\n",
        "\n",
        "\n",
        "df = pd.read_csv(file_path)\n",
        "\n",
        "# df = df.dropna(subset=['Survived'])\n",
        "# y = df['Survived']\n",
        "# X = df.drop('Survived', axis=1)\n",
        "\n",
        "df = df.dropna(subset=['Rating'])\n",
        "y = df['Rating']\n",
        "X = df.drop('Rating', axis=1)\n",
        "X_train, X_test, y_train, y_test = train_test_split(X, y, stratify=y, random_state=42)\n",
        "\n",
        "feature_names = [f\"feature {i}\" for i in range(X.shape[1])]\n",
        "forest = RandomForestClassifier(random_state=0)\n",
        "forest.fit(X_train, y_train)\n",
        "\n",
        "importances = forest.feature_importances_\n",
        "print(len(importances))\n",
        "sorted_indices = np.argsort(importances)[::-1]\n",
        "print(sorted_indices)\n"
      ]
    },
    {
      "cell_type": "code",
      "execution_count": 10,
      "metadata": {},
      "outputs": [
        {
          "name": "stdout",
          "output_type": "stream",
          "text": [
            "{0.0, 1.0}\n",
            "{0.0, 1.0}\n",
            "Accuracy score: 0.848\n",
            "Precision 0.7906976744186046\n",
            "Recall 0.7727272727272727\n"
          ]
        },
        {
          "name": "stderr",
          "output_type": "stream",
          "text": [
            "/home/preethi/projects/hitlda-project/auto-sklearn/py39/lib/python3.9/site-packages/sklearn/utils/validation.py:571: FutureWarning: is_sparse is deprecated and will be removed in a future version. Check `isinstance(dtype, pd.SparseDtype)` instead.\n",
            "  array.dtypes.apply(is_sparse).any()):\n"
          ]
        }
      ],
      "source": [
        "rf_predictions = forest.predict(X_test)\n",
        "print(set(rf_predictions))\n",
        "print(set(y_test))\n",
        "print(\"Accuracy score:\", sklearn.metrics.accuracy_score(y_test, rf_predictions))\n",
        "print(\"Precision\", sklearn.metrics.precision_score(y_test, rf_predictions))\n",
        "print(\"Recall\", sklearn.metrics.recall_score(y_test, rf_predictions))"
      ]
    }
  ],
  "metadata": {
    "kernelspec": {
      "display_name": "Python 3",
      "language": "python",
      "name": "python3"
    },
    "language_info": {
      "codemirror_mode": {
        "name": "ipython",
        "version": 3
      },
      "file_extension": ".py",
      "mimetype": "text/x-python",
      "name": "python",
      "nbconvert_exporter": "python",
      "pygments_lexer": "ipython3",
      "version": "3.9.18"
    }
  },
  "nbformat": 4,
  "nbformat_minor": 0
}
