{
  "cells": [
    {
      "cell_type": "markdown",
      "metadata": {},
      "source": [
        "\n",
        "# Classification\n",
        "\n",
        "The following example shows how to fit a simple classification model with\n",
        "*auto-sklearn*.\n"
      ]
    },
    {
      "cell_type": "code",
      "execution_count": 1,
      "metadata": {
        "collapsed": false
      },
      "outputs": [],
      "source": [
        "from pprint import pprint\n",
        "import sklearn.metrics\n",
        "import autosklearn.classification\n",
        "import pandas as pd\n",
        "import timeit\n",
        "from sklearn.model_selection import train_test_split"
      ]
    },
    {
      "cell_type": "markdown",
      "metadata": {},
      "source": [
        "## Data Loading\n",
        "\n"
      ]
    },
    {
      "cell_type": "code",
      "execution_count": 2,
      "metadata": {},
      "outputs": [],
      "source": [
        "from typing import Optional\n",
        "from pprint import pprint\n",
        "\n",
        "import autosklearn.pipeline.components.data_preprocessing\n",
        "import sklearn.metrics\n",
        "from ConfigSpace.configuration_space import ConfigurationSpace\n",
        "\n",
        "from autosklearn.askl_typing import FEAT_TYPE_TYPE\n",
        "from autosklearn.pipeline.components.base import AutoSklearnPreprocessingAlgorithm\n",
        "from autosklearn.pipeline.constants import SPARSE, DENSE, UNSIGNED_DATA, INPUT\n",
        "from sklearn.datasets import load_breast_cancer\n",
        "from sklearn.model_selection import train_test_split\n",
        "\n",
        "\n",
        "class NoPreprocessing(AutoSklearnPreprocessingAlgorithm):\n",
        "    def __init__(self, **kwargs):\n",
        "        \"\"\"This preprocessors does not change the data\"\"\"\n",
        "        # Some internal checks makes sure parameters are set\n",
        "        for key, val in kwargs.items():\n",
        "            setattr(self, key, val)\n",
        "\n",
        "    def fit(self, X, Y=None):\n",
        "        return self\n",
        "\n",
        "    def transform(self, X):\n",
        "        return X\n",
        "\n",
        "    @staticmethod\n",
        "    def get_properties(dataset_properties=None):\n",
        "        return {\n",
        "            \"shortname\": \"NoPreprocessing\",\n",
        "            \"name\": \"NoPreprocessing\",\n",
        "            \"handles_regression\": True,\n",
        "            \"handles_classification\": True,\n",
        "            \"handles_multiclass\": True,\n",
        "            \"handles_multilabel\": True,\n",
        "            \"handles_multioutput\": True,\n",
        "            \"is_deterministic\": True,\n",
        "            \"input\": (SPARSE, DENSE, UNSIGNED_DATA),\n",
        "            \"output\": (INPUT,),\n",
        "        }\n",
        "\n",
        "    @staticmethod\n",
        "    def get_hyperparameter_search_space(\n",
        "        feat_type: Optional[FEAT_TYPE_TYPE] = None, dataset_properties=None\n",
        "    ):\n",
        "        return ConfigurationSpace()  # Return an empty configuration as there is None\n",
        "\n",
        "\n",
        "# Add NoPreprocessing component to auto-sklearn.\n",
        "autosklearn.pipeline.components.data_preprocessing.add_preprocessor(NoPreprocessing)"
      ]
    },
    {
      "cell_type": "code",
      "execution_count": 4,
      "metadata": {
        "collapsed": false
      },
      "outputs": [],
      "source": [
        "\n",
        "file_path = '../../data/old/clean_data_rf.csv'\n",
        "df = pd.read_csv(file_path)\n",
        "\n",
        "y = df['Rating']\n",
        "X = df.drop('Rating', axis=1)\n",
        "\n",
        "X_train, X_test, y_train, y_test = train_test_split(X, y, test_size=0.2, random_state=42)"
      ]
    },
    {
      "cell_type": "markdown",
      "metadata": {},
      "source": [
        "## Build and fit a classifier\n",
        "\n"
      ]
    },
    {
      "cell_type": "code",
      "execution_count": 5,
      "metadata": {
        "collapsed": false
      },
      "outputs": [
        {
          "name": "stderr",
          "output_type": "stream",
          "text": [
            "Fitting to the training data:   0%|\u001b[32m          \u001b[0m| 0/120 [00:00<?, ?it/s, The total time budget for this task is 0:02:00]/home/preethi/projects/hitlda-project/auto-sklearn/autosklearn/data/feature_validator.py:298: FutureWarning: is_sparse is deprecated and will be removed in a future version. Check `isinstance(dtype, pd.SparseDtype)` instead.\n",
            "  if is_sparse(X[column]):\n"
          ]
        },
        {
          "name": "stdout",
          "output_type": "stream",
          "text": [
            "MLPP INITTT\n"
          ]
        },
        {
          "name": "stderr",
          "output_type": "stream",
          "text": [
            "Fitting to the training data: 100%|\u001b[32m██████████\u001b[0m| 120/120 [01:48<00:00,  1.11it/s, The total time budget for this task is 0:02:00]\n"
          ]
        },
        {
          "name": "stdout",
          "output_type": "stream",
          "text": [
            "Configuration(values={\n",
            "  'balancing:strategy': 'none',\n",
            "  'classifier:__choice__': 'mlp',\n",
            "  'classifier:mlp:activation': 'relu',\n",
            "  'classifier:mlp:alpha': 0.0001,\n",
            "  'classifier:mlp:batch_size': 'auto',\n",
            "  'classifier:mlp:beta_1': 0.9,\n",
            "  'classifier:mlp:beta_2': 0.999,\n",
            "  'classifier:mlp:early_stopping': 'valid',\n",
            "  'classifier:mlp:epsilon': 1e-08,\n",
            "  'classifier:mlp:hidden_layer_depth': 5,\n",
            "  'classifier:mlp:learning_rate_init': 0.001,\n",
            "  'classifier:mlp:n_iter_no_change': 32,\n",
            "  'classifier:mlp:num_nodes_per_layer': 256,\n",
            "  'classifier:mlp:shuffle': 'True',\n",
            "  'classifier:mlp:solver': 'adam',\n",
            "  'classifier:mlp:tol': 0.0001,\n",
            "  'classifier:mlp:validation_fraction': 0.1,\n",
            "  'data_preprocessor:__choice__': 'NoPreprocessing',\n",
            "  'feature_preprocessor:__choice__': 'no_preprocessing',\n",
            "})\n",
            "\n",
            "Execution time: 113.56619377600146 seconds\n"
          ]
        }
      ],
      "source": [
        "start_time = timeit.default_timer()\n",
        "automl = autosklearn.classification.AutoSklearnClassifier(\n",
        "    time_left_for_this_task=120,\n",
        "    per_run_time_limit=30,\n",
        "    include = {\n",
        "        'classifier': [\"mlp\"],\n",
        "        'feature_preprocessor': [\"no_preprocessing\"],\n",
        "        'data_preprocessor': [\"NoPreprocessing\"]\n",
        "    },\n",
        "    tmp_folder=\"tmp/autosklearn_classification_example_tmp1\",\n",
        ")\n",
        "\n",
        "automl.fit(X_train, y_train, dataset_name=\"airbnb\")\n",
        "## get configuration for a model/run\n",
        "run_key = list(automl.automl_.runhistory_.data.keys())[0]\n",
        "run_value = automl.automl_.runhistory_.data[run_key]\n",
        "config=automl.automl_.runhistory_.ids_config[run_key.config_id]\n",
        "print(config)\n",
        "\n",
        "end_time = timeit.default_timer()\n",
        "execution_time = end_time - start_time\n",
        "print(f\"Execution time: {execution_time} seconds\")"
      ]
    },
    {
      "cell_type": "markdown",
      "metadata": {},
      "source": [
        "## View the models found by auto-sklearn\n",
        "\n"
      ]
    },
    {
      "cell_type": "code",
      "execution_count": 6,
      "metadata": {
        "collapsed": false
      },
      "outputs": [
        {
          "name": "stdout",
          "output_type": "stream",
          "text": [
            "          rank  ensemble_weight type      cost  duration\n",
            "model_id                                                \n",
            "46           1             0.48  mlp  0.169811  1.670621\n",
            "36           3             0.10  mlp  0.179245  1.566730\n",
            "40           2             0.02  mlp  0.179245  0.474872\n",
            "2            4             0.02  mlp  0.188679  0.490236\n",
            "42           6             0.02  mlp  0.198113  0.556938\n",
            "53           5             0.02  mlp  0.198113  1.624462\n",
            "26           7             0.02  mlp  0.207547  0.698384\n",
            "37           8             0.10  mlp  0.207547  0.925607\n",
            "24          10             0.02  mlp  0.216981  0.655036\n",
            "43           9             0.04  mlp  0.216981  1.257969\n",
            "68          11             0.12  mlp  0.216981  1.218740\n",
            "17          12             0.02  mlp  0.226415  0.731372\n",
            "44          13             0.02  mlp  0.226415  1.118220\n"
          ]
        }
      ],
      "source": [
        "print(automl.leaderboard())"
      ]
    },
    {
      "cell_type": "markdown",
      "metadata": {},
      "source": [
        "## Print the final ensemble constructed by auto-sklearn\n",
        "\n"
      ]
    },
    {
      "cell_type": "code",
      "execution_count": 7,
      "metadata": {
        "collapsed": false
      },
      "outputs": [
        {
          "name": "stdout",
          "output_type": "stream",
          "text": [
            "{   2: {   'balancing': Balancing(random_state=1),\n",
            "           'classifier': <autosklearn.pipeline.components.classification.ClassifierChoice object at 0x7f5879ab02e0>,\n",
            "           'cost': 0.18867924528301883,\n",
            "           'data_preprocessor': <autosklearn.pipeline.components.data_preprocessing.DataPreprocessorChoice object at 0x7f5879ab0160>,\n",
            "           'ensemble_weight': 0.02,\n",
            "           'feature_preprocessor': <autosklearn.pipeline.components.feature_preprocessing.FeaturePreprocessorChoice object at 0x7f5879ab01c0>,\n",
            "           'model_id': 2,\n",
            "           'rank': 7,\n",
            "           'sklearn_classifier': MLPClassifier(beta_1=0.999, beta_2=0.9, early_stopping=True,\n",
            "              hidden_layer_sizes=(64, 64, 64), max_iter=32, n_iter_no_change=32,\n",
            "              random_state=1, verbose=0, warm_start=True)},\n",
            "    17: {   'balancing': Balancing(random_state=1, strategy='weighting'),\n",
            "            'classifier': <autosklearn.pipeline.components.classification.ClassifierChoice object at 0x7f587a27eaf0>,\n",
            "            'cost': 0.2264150943396226,\n",
            "            'data_preprocessor': <autosklearn.pipeline.components.data_preprocessing.DataPreprocessorChoice object at 0x7f5879bd0370>,\n",
            "            'ensemble_weight': 0.02,\n",
            "            'feature_preprocessor': <autosklearn.pipeline.components.feature_preprocessing.FeaturePreprocessorChoice object at 0x7f5879bd0fa0>,\n",
            "            'model_id': 17,\n",
            "            'rank': 49,\n",
            "            'sklearn_classifier': MLPClassifier(alpha=2.3794751648918178e-07, beta_1=0.999, beta_2=0.9,\n",
            "              hidden_layer_sizes=(64, 64, 64),\n",
            "              learning_rate_init=0.49151003636663754, max_iter=128,\n",
            "              n_iter_no_change=32, random_state=1, validation_fraction=0.0,\n",
            "              verbose=0, warm_start=True)},\n",
            "    24: {   'balancing': Balancing(random_state=1),\n",
            "            'classifier': <autosklearn.pipeline.components.classification.ClassifierChoice object at 0x7f587a27e520>,\n",
            "            'cost': 0.21698113207547165,\n",
            "            'data_preprocessor': <autosklearn.pipeline.components.data_preprocessing.DataPreprocessorChoice object at 0x7f587a27e6d0>,\n",
            "            'ensemble_weight': 0.02,\n",
            "            'feature_preprocessor': <autosklearn.pipeline.components.feature_preprocessing.FeaturePreprocessorChoice object at 0x7f587a27ed90>,\n",
            "            'model_id': 24,\n",
            "            'rank': 38,\n",
            "            'sklearn_classifier': MLPClassifier(alpha=0.0004159145955636978, beta_1=0.999, beta_2=0.9,\n",
            "              hidden_layer_sizes=(64, 64, 64),\n",
            "              learning_rate_init=0.0009627200554150625, max_iter=64,\n",
            "              n_iter_no_change=32, random_state=1, validation_fraction=0.0,\n",
            "              verbose=0, warm_start=True)},\n",
            "    26: {   'balancing': Balancing(random_state=1),\n",
            "            'classifier': <autosklearn.pipeline.components.classification.ClassifierChoice object at 0x7f587ab430a0>,\n",
            "            'cost': 0.2075471698113207,\n",
            "            'data_preprocessor': <autosklearn.pipeline.components.data_preprocessing.DataPreprocessorChoice object at 0x7f587a27ef70>,\n",
            "            'ensemble_weight': 0.02,\n",
            "            'feature_preprocessor': <autosklearn.pipeline.components.feature_preprocessing.FeaturePreprocessorChoice object at 0x7f587a27e220>,\n",
            "            'model_id': 26,\n",
            "            'rank': 27,\n",
            "            'sklearn_classifier': MLPClassifier(activation='tanh', alpha=7.966237122929626e-05, beta_1=0.999,\n",
            "              beta_2=0.9, hidden_layer_sizes=(64, 64, 64),\n",
            "              learning_rate_init=0.0006974959264465515, max_iter=128,\n",
            "              n_iter_no_change=32, random_state=1, validation_fraction=0.0,\n",
            "              verbose=0, warm_start=True)},\n",
            "    36: {   'balancing': Balancing(random_state=1, strategy='weighting'),\n",
            "            'classifier': <autosklearn.pipeline.components.classification.ClassifierChoice object at 0x7f5879b61f70>,\n",
            "            'cost': 0.17924528301886788,\n",
            "            'data_preprocessor': <autosklearn.pipeline.components.data_preprocessing.DataPreprocessorChoice object at 0x7f5879b61eb0>,\n",
            "            'ensemble_weight': 0.1,\n",
            "            'feature_preprocessor': <autosklearn.pipeline.components.feature_preprocessing.FeaturePreprocessorChoice object at 0x7f5879b61a60>,\n",
            "            'model_id': 36,\n",
            "            'rank': 3,\n",
            "            'sklearn_classifier': MLPClassifier(activation='tanh', alpha=0.0001911347668988024, beta_1=0.999,\n",
            "              beta_2=0.9, hidden_layer_sizes=(64, 64, 64),\n",
            "              learning_rate_init=0.0001438707499216208, max_iter=256,\n",
            "              n_iter_no_change=32, random_state=1, validation_fraction=0.0,\n",
            "              verbose=0, warm_start=True)},\n",
            "    37: {   'balancing': Balancing(random_state=1, strategy='weighting'),\n",
            "            'classifier': <autosklearn.pipeline.components.classification.ClassifierChoice object at 0x7f5879ffb640>,\n",
            "            'cost': 0.2075471698113207,\n",
            "            'data_preprocessor': <autosklearn.pipeline.components.data_preprocessing.DataPreprocessorChoice object at 0x7f5879b61b20>,\n",
            "            'ensemble_weight': 0.1,\n",
            "            'feature_preprocessor': <autosklearn.pipeline.components.feature_preprocessing.FeaturePreprocessorChoice object at 0x7f5879b616a0>,\n",
            "            'model_id': 37,\n",
            "            'rank': 30,\n",
            "            'sklearn_classifier': MLPClassifier(activation='tanh', alpha=1.0675986966547669e-05, beta_1=0.999,\n",
            "              beta_2=0.9, hidden_layer_sizes=(64, 64, 64),\n",
            "              learning_rate_init=0.0005832338272700988, max_iter=128,\n",
            "              n_iter_no_change=32, random_state=1, validation_fraction=0.0,\n",
            "              verbose=0, warm_start=True)},\n",
            "    40: {   'balancing': Balancing(random_state=1),\n",
            "            'classifier': <autosklearn.pipeline.components.classification.ClassifierChoice object at 0x7f5879ffbb20>,\n",
            "            'cost': 0.17924528301886788,\n",
            "            'data_preprocessor': <autosklearn.pipeline.components.data_preprocessing.DataPreprocessorChoice object at 0x7f5879ffb7c0>,\n",
            "            'ensemble_weight': 0.02,\n",
            "            'feature_preprocessor': <autosklearn.pipeline.components.feature_preprocessing.FeaturePreprocessorChoice object at 0x7f5879ffb5e0>,\n",
            "            'model_id': 40,\n",
            "            'rank': 2,\n",
            "            'sklearn_classifier': MLPClassifier(activation='tanh', alpha=6.991568869965654e-07, beta_1=0.999,\n",
            "              beta_2=0.9, early_stopping=True, hidden_layer_sizes=(64, 64, 64),\n",
            "              learning_rate_init=0.005075578605182283, max_iter=32,\n",
            "              n_iter_no_change=32, random_state=1, verbose=0, warm_start=True)},\n",
            "    42: {   'balancing': Balancing(random_state=1),\n",
            "            'classifier': <autosklearn.pipeline.components.classification.ClassifierChoice object at 0x7f5879ab07f0>,\n",
            "            'cost': 0.19811320754716977,\n",
            "            'data_preprocessor': <autosklearn.pipeline.components.data_preprocessing.DataPreprocessorChoice object at 0x7f5879ab04f0>,\n",
            "            'ensemble_weight': 0.02,\n",
            "            'feature_preprocessor': <autosklearn.pipeline.components.feature_preprocessing.FeaturePreprocessorChoice object at 0x7f5879ab0220>,\n",
            "            'model_id': 42,\n",
            "            'rank': 13,\n",
            "            'sklearn_classifier': MLPClassifier(alpha=3.892946409847971e-06, beta_1=0.999, beta_2=0.9,\n",
            "              early_stopping=True, hidden_layer_sizes=(64, 64, 64),\n",
            "              learning_rate_init=0.0006986938333134186, max_iter=32,\n",
            "              n_iter_no_change=32, random_state=1, verbose=0, warm_start=True)},\n",
            "    43: {   'balancing': Balancing(random_state=1),\n",
            "            'classifier': <autosklearn.pipeline.components.classification.ClassifierChoice object at 0x7f5879ab0af0>,\n",
            "            'cost': 0.21698113207547165,\n",
            "            'data_preprocessor': <autosklearn.pipeline.components.data_preprocessing.DataPreprocessorChoice object at 0x7f5879ab0760>,\n",
            "            'ensemble_weight': 0.04,\n",
            "            'feature_preprocessor': <autosklearn.pipeline.components.feature_preprocessing.FeaturePreprocessorChoice object at 0x7f5879ab0370>,\n",
            "            'model_id': 43,\n",
            "            'rank': 39,\n",
            "            'sklearn_classifier': MLPClassifier(alpha=2.6767147986450252e-05, beta_1=0.999, beta_2=0.9,\n",
            "              hidden_layer_sizes=(64, 64, 64),\n",
            "              learning_rate_init=0.00016884010990280855, max_iter=256,\n",
            "              n_iter_no_change=32, random_state=1, validation_fraction=0.0,\n",
            "              verbose=0, warm_start=True)},\n",
            "    44: {   'balancing': Balancing(random_state=1, strategy='weighting'),\n",
            "            'classifier': <autosklearn.pipeline.components.classification.ClassifierChoice object at 0x7f5879ab0340>,\n",
            "            'cost': 0.2264150943396226,\n",
            "            'data_preprocessor': <autosklearn.pipeline.components.data_preprocessing.DataPreprocessorChoice object at 0x7f5879ab0e80>,\n",
            "            'ensemble_weight': 0.02,\n",
            "            'feature_preprocessor': <autosklearn.pipeline.components.feature_preprocessing.FeaturePreprocessorChoice object at 0x7f5879ab09d0>,\n",
            "            'model_id': 44,\n",
            "            'rank': 52,\n",
            "            'sklearn_classifier': MLPClassifier(activation='tanh', alpha=0.00012321823047535462, beta_1=0.999,\n",
            "              beta_2=0.9, hidden_layer_sizes=(64, 64, 64),\n",
            "              learning_rate_init=0.0002477918020417185, max_iter=256,\n",
            "              n_iter_no_change=32, random_state=1, validation_fraction=0.0,\n",
            "              verbose=0, warm_start=True)},\n",
            "    46: {   'balancing': Balancing(random_state=1, strategy='weighting'),\n",
            "            'classifier': <autosklearn.pipeline.components.classification.ClassifierChoice object at 0x7f5879f1f550>,\n",
            "            'cost': 0.16981132075471694,\n",
            "            'data_preprocessor': <autosklearn.pipeline.components.data_preprocessing.DataPreprocessorChoice object at 0x7f58b02bc4f0>,\n",
            "            'ensemble_weight': 0.48,\n",
            "            'feature_preprocessor': <autosklearn.pipeline.components.feature_preprocessing.FeaturePreprocessorChoice object at 0x7f5879f1f520>,\n",
            "            'model_id': 46,\n",
            "            'rank': 1,\n",
            "            'sklearn_classifier': MLPClassifier(activation='tanh', alpha=0.001183689852870549, beta_1=0.999,\n",
            "              beta_2=0.9, hidden_layer_sizes=(64, 64, 64),\n",
            "              learning_rate_init=0.0001535099697636194, max_iter=256,\n",
            "              n_iter_no_change=32, random_state=1, validation_fraction=0.0,\n",
            "              verbose=0, warm_start=True)},\n",
            "    53: {   'balancing': Balancing(random_state=1, strategy='weighting'),\n",
            "            'classifier': <autosklearn.pipeline.components.classification.ClassifierChoice object at 0x7f5879f1f910>,\n",
            "            'cost': 0.19811320754716977,\n",
            "            'data_preprocessor': <autosklearn.pipeline.components.data_preprocessing.DataPreprocessorChoice object at 0x7f5879f1ff40>,\n",
            "            'ensemble_weight': 0.02,\n",
            "            'feature_preprocessor': <autosklearn.pipeline.components.feature_preprocessing.FeaturePreprocessorChoice object at 0x7f5879f1fd60>,\n",
            "            'model_id': 53,\n",
            "            'rank': 11,\n",
            "            'sklearn_classifier': MLPClassifier(activation='tanh', alpha=0.0005094597176408254, beta_1=0.999,\n",
            "              beta_2=0.9, hidden_layer_sizes=(64, 64, 64),\n",
            "              learning_rate_init=0.00016787097836612634, max_iter=256,\n",
            "              n_iter_no_change=32, random_state=1, validation_fraction=0.0,\n",
            "              verbose=0, warm_start=True)},\n",
            "    68: {   'balancing': Balancing(random_state=1),\n",
            "            'classifier': <autosklearn.pipeline.components.classification.ClassifierChoice object at 0x7f5879f1f1f0>,\n",
            "            'cost': 0.21698113207547165,\n",
            "            'data_preprocessor': <autosklearn.pipeline.components.data_preprocessing.DataPreprocessorChoice object at 0x7f5879f1fe80>,\n",
            "            'ensemble_weight': 0.12,\n",
            "            'feature_preprocessor': <autosklearn.pipeline.components.feature_preprocessing.FeaturePreprocessorChoice object at 0x7f5879f1f8e0>,\n",
            "            'model_id': 68,\n",
            "            'rank': 42,\n",
            "            'sklearn_classifier': MLPClassifier(activation='tanh', alpha=1.0790037063470902e-07, beta_1=0.999,\n",
            "              beta_2=0.9, hidden_layer_sizes=(64, 64, 64),\n",
            "              learning_rate_init=0.00024472970301751026, max_iter=256,\n",
            "              n_iter_no_change=32, random_state=1, validation_fraction=0.0,\n",
            "              verbose=0, warm_start=True)}}\n"
          ]
        }
      ],
      "source": [
        "pprint(automl.show_models(), indent=4)"
      ]
    },
    {
      "cell_type": "markdown",
      "metadata": {},
      "source": [
        "## Get the Score of the final ensemble\n",
        "\n"
      ]
    },
    {
      "cell_type": "code",
      "execution_count": 8,
      "metadata": {
        "collapsed": false
      },
      "outputs": [
        {
          "name": "stdout",
          "output_type": "stream",
          "text": [
            "[0. 0. 0. 0. 1. 1. 0. 1. 0. 0. 0. 0. 0. 1. 0. 0. 0. 0. 0. 0. 0. 0. 0. 0.\n",
            " 0. 0. 0. 0. 0. 0. 1. 0. 0. 0. 1. 1. 1. 0. 1. 0. 1. 0. 1. 1. 1. 0. 0. 0.\n",
            " 0. 0. 1. 0. 1. 1. 1. 1. 1. 1. 0. 0. 1. 0. 0. 0. 0. 1. 0. 1. 1. 1. 1. 0.\n",
            " 0. 0. 0. 0. 0. 0. 1. 0.]\n",
            "{0.0, 1.0}\n",
            "Accuracy score: 0.7\n"
          ]
        },
        {
          "name": "stderr",
          "output_type": "stream",
          "text": [
            "/home/preethi/projects/hitlda-project/auto-sklearn/py39/lib/python3.9/site-packages/sklearn/utils/validation.py:571: FutureWarning: is_sparse is deprecated and will be removed in a future version. Check `isinstance(dtype, pd.SparseDtype)` instead.\n",
            "  array.dtypes.apply(is_sparse).any()):\n",
            "/home/preethi/projects/hitlda-project/auto-sklearn/py39/lib/python3.9/site-packages/sklearn/utils/validation.py:571: FutureWarning: is_sparse is deprecated and will be removed in a future version. Check `isinstance(dtype, pd.SparseDtype)` instead.\n",
            "  array.dtypes.apply(is_sparse).any()):\n",
            "/home/preethi/projects/hitlda-project/auto-sklearn/py39/lib/python3.9/site-packages/sklearn/utils/validation.py:571: FutureWarning: is_sparse is deprecated and will be removed in a future version. Check `isinstance(dtype, pd.SparseDtype)` instead.\n",
            "  array.dtypes.apply(is_sparse).any()):\n",
            "/home/preethi/projects/hitlda-project/auto-sklearn/py39/lib/python3.9/site-packages/sklearn/utils/validation.py:571: FutureWarning: is_sparse is deprecated and will be removed in a future version. Check `isinstance(dtype, pd.SparseDtype)` instead.\n",
            "  array.dtypes.apply(is_sparse).any()):\n",
            "/home/preethi/projects/hitlda-project/auto-sklearn/py39/lib/python3.9/site-packages/sklearn/utils/validation.py:571: FutureWarning: is_sparse is deprecated and will be removed in a future version. Check `isinstance(dtype, pd.SparseDtype)` instead.\n",
            "  array.dtypes.apply(is_sparse).any()):\n",
            "/home/preethi/projects/hitlda-project/auto-sklearn/py39/lib/python3.9/site-packages/sklearn/utils/validation.py:571: FutureWarning: is_sparse is deprecated and will be removed in a future version. Check `isinstance(dtype, pd.SparseDtype)` instead.\n",
            "  array.dtypes.apply(is_sparse).any()):\n",
            "/home/preethi/projects/hitlda-project/auto-sklearn/py39/lib/python3.9/site-packages/sklearn/utils/validation.py:571: FutureWarning: is_sparse is deprecated and will be removed in a future version. Check `isinstance(dtype, pd.SparseDtype)` instead.\n",
            "  array.dtypes.apply(is_sparse).any()):\n",
            "/home/preethi/projects/hitlda-project/auto-sklearn/py39/lib/python3.9/site-packages/sklearn/utils/validation.py:571: FutureWarning: is_sparse is deprecated and will be removed in a future version. Check `isinstance(dtype, pd.SparseDtype)` instead.\n",
            "  array.dtypes.apply(is_sparse).any()):\n",
            "/home/preethi/projects/hitlda-project/auto-sklearn/py39/lib/python3.9/site-packages/sklearn/utils/validation.py:571: FutureWarning: is_sparse is deprecated and will be removed in a future version. Check `isinstance(dtype, pd.SparseDtype)` instead.\n",
            "  array.dtypes.apply(is_sparse).any()):\n",
            "/home/preethi/projects/hitlda-project/auto-sklearn/py39/lib/python3.9/site-packages/sklearn/utils/validation.py:571: FutureWarning: is_sparse is deprecated and will be removed in a future version. Check `isinstance(dtype, pd.SparseDtype)` instead.\n",
            "  array.dtypes.apply(is_sparse).any()):\n",
            "/home/preethi/projects/hitlda-project/auto-sklearn/py39/lib/python3.9/site-packages/sklearn/utils/validation.py:571: FutureWarning: is_sparse is deprecated and will be removed in a future version. Check `isinstance(dtype, pd.SparseDtype)` instead.\n",
            "  array.dtypes.apply(is_sparse).any()):\n",
            "/home/preethi/projects/hitlda-project/auto-sklearn/py39/lib/python3.9/site-packages/sklearn/utils/validation.py:571: FutureWarning: is_sparse is deprecated and will be removed in a future version. Check `isinstance(dtype, pd.SparseDtype)` instead.\n",
            "  array.dtypes.apply(is_sparse).any()):\n",
            "/home/preethi/projects/hitlda-project/auto-sklearn/py39/lib/python3.9/site-packages/sklearn/utils/validation.py:571: FutureWarning: is_sparse is deprecated and will be removed in a future version. Check `isinstance(dtype, pd.SparseDtype)` instead.\n",
            "  array.dtypes.apply(is_sparse).any()):\n"
          ]
        }
      ],
      "source": [
        "predictions = automl.predict(X_test)\n",
        "print(predictions)\n",
        "print(set(predictions))\n",
        "print(\"Accuracy score:\", sklearn.metrics.accuracy_score(y_test, predictions))"
      ]
    }
  ],
  "metadata": {
    "kernelspec": {
      "display_name": "Python 3",
      "language": "python",
      "name": "python3"
    },
    "language_info": {
      "codemirror_mode": {
        "name": "ipython",
        "version": 3
      },
      "file_extension": ".py",
      "mimetype": "text/x-python",
      "name": "python",
      "nbconvert_exporter": "python",
      "pygments_lexer": "ipython3",
      "version": "3.9.18"
    }
  },
  "nbformat": 4,
  "nbformat_minor": 0
}
