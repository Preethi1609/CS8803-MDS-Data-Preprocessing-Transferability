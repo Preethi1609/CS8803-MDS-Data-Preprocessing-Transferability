{
 "cells": [
  {
   "cell_type": "code",
   "execution_count": 2,
   "metadata": {},
   "outputs": [
    {
     "name": "stdout",
     "output_type": "stream",
     "text": [
      "Time budget: 30\n"
     ]
    },
    {
     "name": "stderr",
     "output_type": "stream",
     "text": [
      "/home/preethi/projects/hitlda-project/auto-sklearn/autosklearn/data/feature_validator.py:298: FutureWarning: is_sparse is deprecated and will be removed in a future version. Check `isinstance(dtype, pd.SparseDtype)` instead.\n",
      "  if is_sparse(X[column]):\n",
      "Fitting to the training data:   0%|\u001b[32m          \u001b[0m| 0/30 [00:00<?, ?it/s, The total time budget for this task is 0:00:30]"
     ]
    },
    {
     "name": "stdout",
     "output_type": "stream",
     "text": [
      "MLPP INITTT\n"
     ]
    },
    {
     "name": "stderr",
     "output_type": "stream",
     "text": [
      "Fitting to the training data: 100%|\u001b[32m██████████\u001b[0m| 30/30 [00:19<00:00,  1.57it/s, The total time budget for this task is 0:00:30]\n"
     ]
    },
    {
     "name": "stdout",
     "output_type": "stream",
     "text": [
      "Config: Configuration(values={\n",
      "  'balancing:strategy': 'none',\n",
      "  'classifier:__choice__': 'mlp',\n",
      "  'classifier:mlp:activation': 'relu',\n",
      "  'classifier:mlp:alpha': 0.0001,\n",
      "  'classifier:mlp:batch_size': 'auto',\n",
      "  'classifier:mlp:beta_1': 0.9,\n",
      "  'classifier:mlp:beta_2': 0.999,\n",
      "  'classifier:mlp:early_stopping': 'valid',\n",
      "  'classifier:mlp:epsilon': 1e-08,\n",
      "  'classifier:mlp:hidden_layer_depth': 5,\n",
      "  'classifier:mlp:learning_rate_init': 0.001,\n",
      "  'classifier:mlp:n_iter_no_change': 32,\n",
      "  'classifier:mlp:num_nodes_per_layer': 256,\n",
      "  'classifier:mlp:shuffle': 'True',\n",
      "  'classifier:mlp:solver': 'adam',\n",
      "  'classifier:mlp:tol': 0.0001,\n",
      "  'classifier:mlp:validation_fraction': 0.1,\n",
      "  'data_preprocessor:__choice__': 'feature_type',\n",
      "  'data_preprocessor:feature_type:numerical_transformer:imputation:strategy': 'mean',\n",
      "  'data_preprocessor:feature_type:numerical_transformer:rescaling:__choice__': 'standardize',\n",
      "  'feature_preprocessor:__choice__': 'no_preprocessing',\n",
      "})\n",
      "\n",
      "Leaderboard:           rank  ensemble_weight type      cost  duration\n",
      "model_id                                                \n",
      "7            1             0.72  mlp  0.169811  2.453530\n",
      "2            2             0.02  mlp  0.216981  1.290397\n",
      "3            3             0.26  mlp  0.339623  1.346564\n",
      "Accuracy score: 0.75\n",
      "Precision 0.56\n",
      "Recall 0.6086956521739131\n",
      "Time budget: 30\n"
     ]
    },
    {
     "name": "stderr",
     "output_type": "stream",
     "text": [
      "/home/preethi/projects/hitlda-project/auto-sklearn/py39/lib/python3.9/site-packages/sklearn/utils/validation.py:571: FutureWarning: is_sparse is deprecated and will be removed in a future version. Check `isinstance(dtype, pd.SparseDtype)` instead.\n",
      "  array.dtypes.apply(is_sparse).any()):\n",
      "/home/preethi/projects/hitlda-project/auto-sklearn/py39/lib/python3.9/site-packages/sklearn/utils/validation.py:571: FutureWarning: is_sparse is deprecated and will be removed in a future version. Check `isinstance(dtype, pd.SparseDtype)` instead.\n",
      "  array.dtypes.apply(is_sparse).any()):\n",
      "/home/preethi/projects/hitlda-project/auto-sklearn/py39/lib/python3.9/site-packages/sklearn/utils/validation.py:571: FutureWarning: is_sparse is deprecated and will be removed in a future version. Check `isinstance(dtype, pd.SparseDtype)` instead.\n",
      "  array.dtypes.apply(is_sparse).any()):\n",
      "/home/preethi/projects/hitlda-project/auto-sklearn/autosklearn/data/feature_validator.py:298: FutureWarning: is_sparse is deprecated and will be removed in a future version. Check `isinstance(dtype, pd.SparseDtype)` instead.\n",
      "  if is_sparse(X[column]):\n",
      "Fitting to the training data:   0%|\u001b[32m          \u001b[0m| 0/30 [00:00<?, ?it/s, The total time budget for this task is 0:00:30]"
     ]
    },
    {
     "name": "stdout",
     "output_type": "stream",
     "text": [
      "MLPP INITTT\n"
     ]
    },
    {
     "name": "stderr",
     "output_type": "stream",
     "text": [
      "Fitting to the training data: 100%|\u001b[32m██████████\u001b[0m| 30/30 [00:20<00:00,  1.49it/s, The total time budget for this task is 0:00:30]\n"
     ]
    },
    {
     "name": "stdout",
     "output_type": "stream",
     "text": [
      "Config: Configuration(values={\n",
      "  'balancing:strategy': 'none',\n",
      "  'classifier:__choice__': 'mlp',\n",
      "  'classifier:mlp:activation': 'relu',\n",
      "  'classifier:mlp:alpha': 0.0001,\n",
      "  'classifier:mlp:batch_size': 'auto',\n",
      "  'classifier:mlp:beta_1': 0.9,\n",
      "  'classifier:mlp:beta_2': 0.999,\n",
      "  'classifier:mlp:early_stopping': 'valid',\n",
      "  'classifier:mlp:epsilon': 1e-08,\n",
      "  'classifier:mlp:hidden_layer_depth': 5,\n",
      "  'classifier:mlp:learning_rate_init': 0.001,\n",
      "  'classifier:mlp:n_iter_no_change': 32,\n",
      "  'classifier:mlp:num_nodes_per_layer': 256,\n",
      "  'classifier:mlp:shuffle': 'True',\n",
      "  'classifier:mlp:solver': 'adam',\n",
      "  'classifier:mlp:tol': 0.0001,\n",
      "  'classifier:mlp:validation_fraction': 0.1,\n",
      "  'data_preprocessor:__choice__': 'feature_type',\n",
      "  'data_preprocessor:feature_type:numerical_transformer:imputation:strategy': 'mean',\n",
      "  'data_preprocessor:feature_type:numerical_transformer:rescaling:__choice__': 'standardize',\n",
      "  'feature_preprocessor:__choice__': 'no_preprocessing',\n",
      "})\n",
      "\n",
      "Leaderboard:           rank  ensemble_weight type      cost  duration\n",
      "model_id                                                \n",
      "7            1             0.74  mlp  0.141509  2.807645\n",
      "2            2             0.02  mlp  0.235849  1.417176\n",
      "3            3             0.24  mlp  0.264151  1.696676\n",
      "Accuracy score: 0.7875\n",
      "Precision 0.7142857142857143\n",
      "Recall 0.43478260869565216\n",
      "Time budget: 30\n"
     ]
    },
    {
     "name": "stderr",
     "output_type": "stream",
     "text": [
      "/home/preethi/projects/hitlda-project/auto-sklearn/py39/lib/python3.9/site-packages/sklearn/utils/validation.py:571: FutureWarning: is_sparse is deprecated and will be removed in a future version. Check `isinstance(dtype, pd.SparseDtype)` instead.\n",
      "  array.dtypes.apply(is_sparse).any()):\n",
      "/home/preethi/projects/hitlda-project/auto-sklearn/py39/lib/python3.9/site-packages/sklearn/utils/validation.py:571: FutureWarning: is_sparse is deprecated and will be removed in a future version. Check `isinstance(dtype, pd.SparseDtype)` instead.\n",
      "  array.dtypes.apply(is_sparse).any()):\n",
      "/home/preethi/projects/hitlda-project/auto-sklearn/py39/lib/python3.9/site-packages/sklearn/utils/validation.py:571: FutureWarning: is_sparse is deprecated and will be removed in a future version. Check `isinstance(dtype, pd.SparseDtype)` instead.\n",
      "  array.dtypes.apply(is_sparse).any()):\n",
      "/home/preethi/projects/hitlda-project/auto-sklearn/autosklearn/data/feature_validator.py:298: FutureWarning: is_sparse is deprecated and will be removed in a future version. Check `isinstance(dtype, pd.SparseDtype)` instead.\n",
      "  if is_sparse(X[column]):\n",
      "Fitting to the training data:   0%|\u001b[32m          \u001b[0m| 0/30 [00:00<?, ?it/s, The total time budget for this task is 0:00:30]"
     ]
    },
    {
     "name": "stdout",
     "output_type": "stream",
     "text": [
      "MLPP INITTT\n"
     ]
    },
    {
     "name": "stderr",
     "output_type": "stream",
     "text": [
      "Fitting to the training data: 100%|\u001b[32m██████████\u001b[0m| 30/30 [00:20<00:00,  1.49it/s, The total time budget for this task is 0:00:30]\n"
     ]
    },
    {
     "name": "stdout",
     "output_type": "stream",
     "text": [
      "Config: Configuration(values={\n",
      "  'balancing:strategy': 'none',\n",
      "  'classifier:__choice__': 'mlp',\n",
      "  'classifier:mlp:activation': 'relu',\n",
      "  'classifier:mlp:alpha': 0.0001,\n",
      "  'classifier:mlp:batch_size': 'auto',\n",
      "  'classifier:mlp:beta_1': 0.9,\n",
      "  'classifier:mlp:beta_2': 0.999,\n",
      "  'classifier:mlp:early_stopping': 'valid',\n",
      "  'classifier:mlp:epsilon': 1e-08,\n",
      "  'classifier:mlp:hidden_layer_depth': 5,\n",
      "  'classifier:mlp:learning_rate_init': 0.001,\n",
      "  'classifier:mlp:n_iter_no_change': 32,\n",
      "  'classifier:mlp:num_nodes_per_layer': 256,\n",
      "  'classifier:mlp:shuffle': 'True',\n",
      "  'classifier:mlp:solver': 'adam',\n",
      "  'classifier:mlp:tol': 0.0001,\n",
      "  'classifier:mlp:validation_fraction': 0.1,\n",
      "  'data_preprocessor:__choice__': 'feature_type',\n",
      "  'data_preprocessor:feature_type:numerical_transformer:imputation:strategy': 'mean',\n",
      "  'data_preprocessor:feature_type:numerical_transformer:rescaling:__choice__': 'standardize',\n",
      "  'feature_preprocessor:__choice__': 'no_preprocessing',\n",
      "})\n",
      "\n",
      "Leaderboard:           rank  ensemble_weight type      cost  duration\n",
      "model_id                                                \n",
      "6            1             0.30  mlp  0.179245  2.796904\n",
      "7            2             0.32  mlp  0.198113  2.407402\n",
      "3            3             0.24  mlp  0.226415  1.432010\n",
      "2            4             0.14  mlp  0.254717  1.336211\n",
      "Accuracy score: 0.7875\n",
      "Precision 0.7142857142857143\n",
      "Recall 0.43478260869565216\n",
      "Time budget: 30\n"
     ]
    },
    {
     "name": "stderr",
     "output_type": "stream",
     "text": [
      "/home/preethi/projects/hitlda-project/auto-sklearn/py39/lib/python3.9/site-packages/sklearn/utils/validation.py:571: FutureWarning: is_sparse is deprecated and will be removed in a future version. Check `isinstance(dtype, pd.SparseDtype)` instead.\n",
      "  array.dtypes.apply(is_sparse).any()):\n",
      "/home/preethi/projects/hitlda-project/auto-sklearn/py39/lib/python3.9/site-packages/sklearn/utils/validation.py:571: FutureWarning: is_sparse is deprecated and will be removed in a future version. Check `isinstance(dtype, pd.SparseDtype)` instead.\n",
      "  array.dtypes.apply(is_sparse).any()):\n",
      "/home/preethi/projects/hitlda-project/auto-sklearn/py39/lib/python3.9/site-packages/sklearn/utils/validation.py:571: FutureWarning: is_sparse is deprecated and will be removed in a future version. Check `isinstance(dtype, pd.SparseDtype)` instead.\n",
      "  array.dtypes.apply(is_sparse).any()):\n",
      "/home/preethi/projects/hitlda-project/auto-sklearn/py39/lib/python3.9/site-packages/sklearn/utils/validation.py:571: FutureWarning: is_sparse is deprecated and will be removed in a future version. Check `isinstance(dtype, pd.SparseDtype)` instead.\n",
      "  array.dtypes.apply(is_sparse).any()):\n",
      "/home/preethi/projects/hitlda-project/auto-sklearn/autosklearn/data/feature_validator.py:298: FutureWarning: is_sparse is deprecated and will be removed in a future version. Check `isinstance(dtype, pd.SparseDtype)` instead.\n",
      "  if is_sparse(X[column]):\n",
      "Fitting to the training data:   0%|\u001b[32m          \u001b[0m| 0/30 [00:00<?, ?it/s, The total time budget for this task is 0:00:30]"
     ]
    },
    {
     "name": "stdout",
     "output_type": "stream",
     "text": [
      "MLPP INITTT\n"
     ]
    },
    {
     "name": "stderr",
     "output_type": "stream",
     "text": [
      "Fitting to the training data: 100%|\u001b[32m██████████\u001b[0m| 30/30 [00:19<00:00,  1.57it/s, The total time budget for this task is 0:00:30]\n"
     ]
    },
    {
     "name": "stdout",
     "output_type": "stream",
     "text": [
      "Config: Configuration(values={\n",
      "  'balancing:strategy': 'none',\n",
      "  'classifier:__choice__': 'mlp',\n",
      "  'classifier:mlp:activation': 'relu',\n",
      "  'classifier:mlp:alpha': 0.0001,\n",
      "  'classifier:mlp:batch_size': 'auto',\n",
      "  'classifier:mlp:beta_1': 0.9,\n",
      "  'classifier:mlp:beta_2': 0.999,\n",
      "  'classifier:mlp:early_stopping': 'valid',\n",
      "  'classifier:mlp:epsilon': 1e-08,\n",
      "  'classifier:mlp:hidden_layer_depth': 5,\n",
      "  'classifier:mlp:learning_rate_init': 0.001,\n",
      "  'classifier:mlp:n_iter_no_change': 32,\n",
      "  'classifier:mlp:num_nodes_per_layer': 256,\n",
      "  'classifier:mlp:shuffle': 'True',\n",
      "  'classifier:mlp:solver': 'adam',\n",
      "  'classifier:mlp:tol': 0.0001,\n",
      "  'classifier:mlp:validation_fraction': 0.1,\n",
      "  'data_preprocessor:__choice__': 'feature_type',\n",
      "  'data_preprocessor:feature_type:numerical_transformer:imputation:strategy': 'mean',\n",
      "  'data_preprocessor:feature_type:numerical_transformer:rescaling:__choice__': 'standardize',\n",
      "  'feature_preprocessor:__choice__': 'no_preprocessing',\n",
      "})\n",
      "\n",
      "Leaderboard:           rank  ensemble_weight type      cost  duration\n",
      "model_id                                                \n",
      "6            1             0.46  mlp  0.179245  2.872221\n",
      "7            2             0.04  mlp  0.188679  2.004818\n",
      "9            3             0.10  mlp  0.207547  1.680588\n",
      "2            4             0.30  mlp  0.235849  1.259958\n",
      "3            5             0.10  mlp  0.264151  1.324352\n",
      "Accuracy score: 0.7875\n",
      "Precision 0.6363636363636364\n",
      "Recall 0.6086956521739131\n",
      "Time budget: 30\n"
     ]
    },
    {
     "name": "stderr",
     "output_type": "stream",
     "text": [
      "/home/preethi/projects/hitlda-project/auto-sklearn/py39/lib/python3.9/site-packages/sklearn/utils/validation.py:571: FutureWarning: is_sparse is deprecated and will be removed in a future version. Check `isinstance(dtype, pd.SparseDtype)` instead.\n",
      "  array.dtypes.apply(is_sparse).any()):\n",
      "/home/preethi/projects/hitlda-project/auto-sklearn/py39/lib/python3.9/site-packages/sklearn/utils/validation.py:571: FutureWarning: is_sparse is deprecated and will be removed in a future version. Check `isinstance(dtype, pd.SparseDtype)` instead.\n",
      "  array.dtypes.apply(is_sparse).any()):\n",
      "/home/preethi/projects/hitlda-project/auto-sklearn/py39/lib/python3.9/site-packages/sklearn/utils/validation.py:571: FutureWarning: is_sparse is deprecated and will be removed in a future version. Check `isinstance(dtype, pd.SparseDtype)` instead.\n",
      "  array.dtypes.apply(is_sparse).any()):\n",
      "/home/preethi/projects/hitlda-project/auto-sklearn/py39/lib/python3.9/site-packages/sklearn/utils/validation.py:571: FutureWarning: is_sparse is deprecated and will be removed in a future version. Check `isinstance(dtype, pd.SparseDtype)` instead.\n",
      "  array.dtypes.apply(is_sparse).any()):\n",
      "/home/preethi/projects/hitlda-project/auto-sklearn/py39/lib/python3.9/site-packages/sklearn/utils/validation.py:571: FutureWarning: is_sparse is deprecated and will be removed in a future version. Check `isinstance(dtype, pd.SparseDtype)` instead.\n",
      "  array.dtypes.apply(is_sparse).any()):\n",
      "/home/preethi/projects/hitlda-project/auto-sklearn/autosklearn/data/feature_validator.py:298: FutureWarning: is_sparse is deprecated and will be removed in a future version. Check `isinstance(dtype, pd.SparseDtype)` instead.\n",
      "  if is_sparse(X[column]):\n",
      "Fitting to the training data:   0%|\u001b[32m          \u001b[0m| 0/30 [00:00<?, ?it/s, The total time budget for this task is 0:00:30]"
     ]
    },
    {
     "name": "stdout",
     "output_type": "stream",
     "text": [
      "MLPP INITTT\n"
     ]
    },
    {
     "name": "stderr",
     "output_type": "stream",
     "text": [
      "Fitting to the training data: 100%|\u001b[32m██████████\u001b[0m| 30/30 [00:20<00:00,  1.48it/s, The total time budget for this task is 0:00:30]\n"
     ]
    },
    {
     "name": "stdout",
     "output_type": "stream",
     "text": [
      "Config: Configuration(values={\n",
      "  'balancing:strategy': 'none',\n",
      "  'classifier:__choice__': 'mlp',\n",
      "  'classifier:mlp:activation': 'relu',\n",
      "  'classifier:mlp:alpha': 0.0001,\n",
      "  'classifier:mlp:batch_size': 'auto',\n",
      "  'classifier:mlp:beta_1': 0.9,\n",
      "  'classifier:mlp:beta_2': 0.999,\n",
      "  'classifier:mlp:early_stopping': 'valid',\n",
      "  'classifier:mlp:epsilon': 1e-08,\n",
      "  'classifier:mlp:hidden_layer_depth': 5,\n",
      "  'classifier:mlp:learning_rate_init': 0.001,\n",
      "  'classifier:mlp:n_iter_no_change': 32,\n",
      "  'classifier:mlp:num_nodes_per_layer': 256,\n",
      "  'classifier:mlp:shuffle': 'True',\n",
      "  'classifier:mlp:solver': 'adam',\n",
      "  'classifier:mlp:tol': 0.0001,\n",
      "  'classifier:mlp:validation_fraction': 0.1,\n",
      "  'data_preprocessor:__choice__': 'feature_type',\n",
      "  'data_preprocessor:feature_type:numerical_transformer:imputation:strategy': 'mean',\n",
      "  'data_preprocessor:feature_type:numerical_transformer:rescaling:__choice__': 'standardize',\n",
      "  'feature_preprocessor:__choice__': 'no_preprocessing',\n",
      "})\n",
      "\n",
      "Leaderboard:           rank  ensemble_weight type      cost  duration\n",
      "model_id                                                \n",
      "6            1             0.24  mlp  0.132075  2.905513\n",
      "9            2             0.16  mlp  0.188679  1.773087\n",
      "7            3             0.12  mlp  0.235849  2.239817\n",
      "2            5             0.16  mlp  0.254717  1.331583\n",
      "3            4             0.32  mlp  0.254717  1.362625\n",
      "Accuracy score: 0.7875\n",
      "Precision 0.625\n",
      "Recall 0.6521739130434783\n",
      "Time budget: 45\n"
     ]
    },
    {
     "name": "stderr",
     "output_type": "stream",
     "text": [
      "/home/preethi/projects/hitlda-project/auto-sklearn/py39/lib/python3.9/site-packages/sklearn/utils/validation.py:571: FutureWarning: is_sparse is deprecated and will be removed in a future version. Check `isinstance(dtype, pd.SparseDtype)` instead.\n",
      "  array.dtypes.apply(is_sparse).any()):\n",
      "/home/preethi/projects/hitlda-project/auto-sklearn/py39/lib/python3.9/site-packages/sklearn/utils/validation.py:571: FutureWarning: is_sparse is deprecated and will be removed in a future version. Check `isinstance(dtype, pd.SparseDtype)` instead.\n",
      "  array.dtypes.apply(is_sparse).any()):\n",
      "/home/preethi/projects/hitlda-project/auto-sklearn/py39/lib/python3.9/site-packages/sklearn/utils/validation.py:571: FutureWarning: is_sparse is deprecated and will be removed in a future version. Check `isinstance(dtype, pd.SparseDtype)` instead.\n",
      "  array.dtypes.apply(is_sparse).any()):\n",
      "/home/preethi/projects/hitlda-project/auto-sklearn/py39/lib/python3.9/site-packages/sklearn/utils/validation.py:571: FutureWarning: is_sparse is deprecated and will be removed in a future version. Check `isinstance(dtype, pd.SparseDtype)` instead.\n",
      "  array.dtypes.apply(is_sparse).any()):\n",
      "/home/preethi/projects/hitlda-project/auto-sklearn/py39/lib/python3.9/site-packages/sklearn/utils/validation.py:571: FutureWarning: is_sparse is deprecated and will be removed in a future version. Check `isinstance(dtype, pd.SparseDtype)` instead.\n",
      "  array.dtypes.apply(is_sparse).any()):\n",
      "/home/preethi/projects/hitlda-project/auto-sklearn/autosklearn/data/feature_validator.py:298: FutureWarning: is_sparse is deprecated and will be removed in a future version. Check `isinstance(dtype, pd.SparseDtype)` instead.\n",
      "  if is_sparse(X[column]):\n",
      "Fitting to the training data:   0%|\u001b[32m          \u001b[0m| 0/45 [00:00<?, ?it/s, The total time budget for this task is 0:00:45]"
     ]
    },
    {
     "name": "stdout",
     "output_type": "stream",
     "text": [
      "MLPP INITTT\n"
     ]
    },
    {
     "name": "stderr",
     "output_type": "stream",
     "text": [
      "Fitting to the training data:  67%|\u001b[32m██████▋   \u001b[0m| 30/45 [00:30<00:15,  1.00s/it, The total time budget for this task is 0:00:45]"
     ]
    }
   ],
   "source": [
    "from pprint import pprint\n",
    "import sklearn.metrics\n",
    "import autosklearn.classification\n",
    "import timeit\n",
    "import pandas as pd\n",
    "from sklearn.model_selection import train_test_split\n",
    "import numpy as np\n",
    "\n",
    "file_path = '../data/clean_data_rf.csv'\n",
    "df = pd.read_csv(file_path)\n",
    "df = df.dropna(subset=['Rating'])\n",
    "y = df['Rating']\n",
    "X = df.drop('Rating', axis=1)\n",
    "X_train, X_test, y_train, y_test = train_test_split(X, y, test_size=0.2, random_state=42)\n",
    "\n",
    "time_budget = [30, 45, 60, 75, 90]\n",
    "accuracy = []\n",
    "precision = []\n",
    "recall = []\n",
    "leaderboard = []\n",
    "config_list = []\n",
    "for t in time_budget:\n",
    "    accuracyi = []\n",
    "    precisioni = []\n",
    "    recalli = []\n",
    "    for i in range(5):\n",
    "        random_number = int(np.random.randint(0, 100))\n",
    "        print(\"Time budget:\", t)\n",
    "        automl = autosklearn.classification.AutoSklearnClassifier(\n",
    "        time_left_for_this_task=t,\n",
    "        seed = random_number,\n",
    "        include = {\n",
    "            'classifier': [\"mlp\"],\n",
    "            # 'feature_preprocessor': [\"no_preprocessing\"]\n",
    "        },\n",
    "        tmp_folder=\"tmp/autosklearn_classification_example_tmp4\",\n",
    "        )\n",
    "\n",
    "        automl.fit(X_train, y_train, dataset_name=\"airbnb\")\n",
    "\n",
    "        run_key = list(automl.automl_.runhistory_.data.keys())[0]\n",
    "        run_value = automl.automl_.runhistory_.data[run_key]\n",
    "        config=automl.automl_.runhistory_.ids_config[run_key.config_id]\n",
    "        print(\"Config:\", config)\n",
    "        print(\"Leaderboard:\", automl.leaderboard())\n",
    "        config_list.append(str(config))\n",
    "        leaderboard.append(str(automl.leaderboard()))\n",
    "\n",
    "        predictions = automl.predict(X_test)\n",
    "        print(\"Accuracy score:\", sklearn.metrics.accuracy_score(y_test, predictions))\n",
    "        print(\"Precision\", sklearn.metrics.precision_score(y_test, predictions))\n",
    "        print(\"Recall\", sklearn.metrics.recall_score(y_test, predictions))\n",
    "        accuracyi.append(sklearn.metrics.accuracy_score(y_test, predictions))\n",
    "        precisioni.append(sklearn.metrics.precision_score(y_test, predictions))\n",
    "        recalli.append(sklearn.metrics.recall_score(y_test, predictions))\n",
    "    accuracy.append(sum(accuracyi)/len(accuracyi))\n",
    "    precision.append(sum(precisioni)/len(precisioni))\n",
    "    recall.append(sum(recalli)/len(recalli))"
   ]
  },
  {
   "cell_type": "code",
   "execution_count": 3,
   "metadata": {},
   "outputs": [
    {
     "name": "stdout",
     "output_type": "stream",
     "text": [
      "[0.82, 0.83, 0.83, 0.82, 0.8]\n",
      "[0.7586206896551724, 0.7857142857142857, 0.7857142857142857, 0.7419354838709677, 0.696969696969697]\n",
      "[0.6666666666666666, 0.6666666666666666, 0.6666666666666666, 0.696969696969697, 0.696969696969697]\n"
     ]
    }
   ],
   "source": [
    "print(accuracy)\n",
    "print(precision)\n",
    "print(recall)\n",
    "# print(config_list)\n",
    "# print(leaderboard)"
   ]
  },
  {
   "cell_type": "code",
   "execution_count": 4,
   "metadata": {},
   "outputs": [
    {
     "data": {
      "text/plain": [
       "Text(0.5, 0, 'Time Budget')"
      ]
     },
     "execution_count": 4,
     "metadata": {},
     "output_type": "execute_result"
    },
    {
     "data": {
      "image/png": "[encoded data removed]",
      "text/plain": [
       "<Figure size 640x480 with 1 Axes>"
      ]
     },
     "metadata": {},
     "output_type": "display_data"
    }
   ],
   "source": [
    "import matplotlib.pyplot as plt\n",
    "\n",
    "plt.plot(time_budget, accuracy, marker='o')\n",
    "plt.title('Time Budget vs. Accuracy')\n",
    "plt.ylabel('Accuracy')\n",
    "plt.xlabel('Time Budget')"
   ]
  },
  {
   "cell_type": "code",
   "execution_count": 5,
   "metadata": {},
   "outputs": [
    {
     "data": {
      "text/plain": [
       "Text(0.5, 0, 'Time Budget')"
      ]
     },
     "execution_count": 5,
     "metadata": {},
     "output_type": "execute_result"
    },
    {
     "data": {
      "image/png": "[encoded data removed]",
      "text/plain": [
       "<Figure size 640x480 with 1 Axes>"
      ]
     },
     "metadata": {},
     "output_type": "display_data"
    }
   ],
   "source": [
    "import matplotlib.pyplot as plt\n",
    "\n",
    "plt.subplot(2, 2, 1)\n",
    "plt.plot(time_budget, precision, marker='o')\n",
    "plt.title('Time Budget vs. Precision')\n",
    "plt.ylabel('Accuracy')\n",
    "plt.xlabel('Time Budget')"
   ]
  },
  {
   "cell_type": "code",
   "execution_count": 6,
   "metadata": {},
   "outputs": [
    {
     "data": {
      "text/plain": [
       "Text(0.5, 0, 'Time Budget')"
      ]
     },
     "execution_count": 6,
     "metadata": {},
     "output_type": "execute_result"
    },
    {
     "data": {
      "image/png": "[encoded data removed]",
      "text/plain": [
       "<Figure size 640x480 with 1 Axes>"
      ]
     },
     "metadata": {},
     "output_type": "display_data"
    }
   ],
   "source": [
    "import matplotlib.pyplot as plt\n",
    "\n",
    "plt.subplot(2, 2, 1)\n",
    "plt.plot(time_budget, recall, marker='o')\n",
    "plt.title('Time Budget vs. Recall')\n",
    "plt.ylabel('Accuracy')\n",
    "plt.xlabel('Time Budget')"
   ]
  }
 ],
 "metadata": {
  "kernelspec": {
   "display_name": "py39",
   "language": "python",
   "name": "python3"
  },
  "language_info": {
   "codemirror_mode": {
    "name": "ipython",
    "version": 3
   },
   "file_extension": ".py",
   "mimetype": "text/x-python",
   "name": "python",
   "nbconvert_exporter": "python",
   "pygments_lexer": "ipython3",
   "version": "3.9.18"
  }
 },
 "nbformat": 4,
 "nbformat_minor": 2
}
