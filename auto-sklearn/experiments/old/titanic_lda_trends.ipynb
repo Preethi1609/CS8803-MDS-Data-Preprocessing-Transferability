{
 "cells": [
  {
   "cell_type": "code",
   "execution_count": 2,
   "metadata": {},
   "outputs": [
    {
     "name": "stdout",
     "output_type": "stream",
     "text": [
      "Time budget: 30\n"
     ]
    },
    {
     "name": "stderr",
     "output_type": "stream",
     "text": [
      "/home/preethi/projects/hitlda-project/auto-sklearn/autosklearn/data/feature_validator.py:298: FutureWarning: is_sparse is deprecated and will be removed in a future version. Check `isinstance(dtype, pd.SparseDtype)` instead.\n",
      "  if is_sparse(X[column]):\n",
      "/home/preethi/projects/hitlda-project/auto-sklearn/autosklearn/data/feature_validator.py:318: UserWarning: Input Column Name has generic type object. Autosklearn will treat this column as string. Please ensure that this setting is suitable for your task.\n",
      "  warnings.warn(\n",
      "/home/preethi/projects/hitlda-project/auto-sklearn/autosklearn/data/feature_validator.py:318: UserWarning: Input Column Sex has generic type object. Autosklearn will treat this column as string. Please ensure that this setting is suitable for your task.\n",
      "  warnings.warn(\n",
      "/home/preethi/projects/hitlda-project/auto-sklearn/autosklearn/data/feature_validator.py:318: UserWarning: Input Column Ticket has generic type object. Autosklearn will treat this column as string. Please ensure that this setting is suitable for your task.\n",
      "  warnings.warn(\n",
      "/home/preethi/projects/hitlda-project/auto-sklearn/autosklearn/data/feature_validator.py:318: UserWarning: Input Column Cabin has generic type object. Autosklearn will treat this column as string. Please ensure that this setting is suitable for your task.\n",
      "  warnings.warn(\n",
      "/home/preethi/projects/hitlda-project/auto-sklearn/autosklearn/data/feature_validator.py:318: UserWarning: Input Column Embarked has generic type object. Autosklearn will treat this column as string. Please ensure that this setting is suitable for your task.\n",
      "  warnings.warn(\n",
      "Fitting to the training data:   0%|\u001b[32m          \u001b[0m| 0/30 [00:00<?, ?it/s, The total time budget for this task is 0:00:30]"
     ]
    },
    {
     "name": "stdout",
     "output_type": "stream",
     "text": [
      "MLPP INITTT\n"
     ]
    },
    {
     "name": "stderr",
     "output_type": "stream",
     "text": [
      "Fitting to the training data:  17%|\u001b[32m█▋        \u001b[0m| 5/30 [00:05<00:25,  1.00s/it, The total time budget for this task is 0:00:30]"
     ]
    },
    {
     "name": "stdout",
     "output_type": "stream",
     "text": [
      "[WARNING] [2023-11-29 14:29:24,332:Client-AutoMLSMBO(1)::airbnb] Configuration 382 not found\n",
      "[WARNING] [2023-11-29 14:29:24,332:Client-AutoMLSMBO(1)::airbnb] Configuration 251 not found\n",
      "[WARNING] [2023-11-29 14:29:24,332:Client-AutoMLSMBO(1)::airbnb] Configuration 214 not found\n",
      "[WARNING] [2023-11-29 14:29:24,332:Client-AutoMLSMBO(1)::airbnb] Configuration 467 not found\n",
      "[WARNING] [2023-11-29 14:29:24,332:Client-AutoMLSMBO(1)::airbnb] Configuration 492 not found\n"
     ]
    },
    {
     "name": "stderr",
     "output_type": "stream",
     "text": [
      "Fitting to the training data:  20%|\u001b[32m██        \u001b[0m| 6/30 [00:06<00:24,  1.00s/it, The total time budget for this task is 0:00:30]"
     ]
    },
    {
     "name": "stdout",
     "output_type": "stream",
     "text": [
      "[WARNING] [2023-11-29 14:29:24,333:Client-AutoMLSMBO(1)::airbnb] Configuration 702 not found\n",
      "[WARNING] [2023-11-29 14:29:24,333:Client-AutoMLSMBO(1)::airbnb] Configuration 701 not found\n",
      "[WARNING] [2023-11-29 14:29:24,333:Client-AutoMLSMBO(1)::airbnb] Configuration 631 not found\n",
      "[WARNING] [2023-11-29 14:29:24,333:Client-AutoMLSMBO(1)::airbnb] Configuration 566 not found\n",
      "[WARNING] [2023-11-29 14:29:24,334:Client-AutoMLSMBO(1)::airbnb] Configuration 257 not found\n",
      "[WARNING] [2023-11-29 14:29:24,334:Client-AutoMLSMBO(1)::airbnb] Configuration 7 not found\n",
      "[WARNING] [2023-11-29 14:29:24,334:Client-AutoMLSMBO(1)::airbnb] Configuration 663 not found\n",
      "[WARNING] [2023-11-29 14:29:24,334:Client-AutoMLSMBO(1)::airbnb] Configuration 332 not found\n",
      "[WARNING] [2023-11-29 14:29:24,335:Client-AutoMLSMBO(1)::airbnb] Configuration 61 not found\n",
      "[WARNING] [2023-11-29 14:29:24,335:Client-AutoMLSMBO(1)::airbnb] Configuration 220 not found\n",
      "[WARNING] [2023-11-29 14:29:24,335:Client-AutoMLSMBO(1)::airbnb] Configuration 329 not found\n",
      "[WARNING] [2023-11-29 14:29:24,335:Client-AutoMLSMBO(1)::airbnb] Configuration 560 not found\n",
      "[WARNING] [2023-11-29 14:29:24,335:Client-AutoMLSMBO(1)::airbnb] Configuration 386 not found\n",
      "[WARNING] [2023-11-29 14:29:24,335:Client-AutoMLSMBO(1)::airbnb] Configuration 476 not found\n",
      "[WARNING] [2023-11-29 14:29:24,335:Client-AutoMLSMBO(1)::airbnb] Configuration 75 not found\n",
      "[WARNING] [2023-11-29 14:29:24,335:Client-AutoMLSMBO(1)::airbnb] Configuration 694 not found\n",
      "[WARNING] [2023-11-29 14:29:24,335:Client-AutoMLSMBO(1)::airbnb] Configuration 345 not found\n",
      "[WARNING] [2023-11-29 14:29:24,335:Client-AutoMLSMBO(1)::airbnb] Configuration 440 not found\n",
      "[WARNING] [2023-11-29 14:29:24,335:Client-AutoMLSMBO(1)::airbnb] Configuration 399 not found\n",
      "[WARNING] [2023-11-29 14:29:24,336:Client-AutoMLSMBO(1)::airbnb] Configuration 131 not found\n",
      "[WARNING] [2023-11-29 14:29:24,336:Client-AutoMLSMBO(1)::airbnb] Configuration 358 not found\n",
      "[WARNING] [2023-11-29 14:29:24,336:Client-AutoMLSMBO(1)::airbnb] Configuration 32 not found\n",
      "[WARNING] [2023-11-29 14:29:24,336:Client-AutoMLSMBO(1)::airbnb] Configuration 238 not found\n",
      "[WARNING] [2023-11-29 14:29:24,336:Client-AutoMLSMBO(1)::airbnb] Configuration 426 not found\n",
      "[WARNING] [2023-11-29 14:29:24,336:Client-AutoMLSMBO(1)::airbnb] Configuration 388 not found\n",
      "[WARNING] [2023-11-29 14:29:24,336:Client-AutoMLSMBO(1)::airbnb] Configuration 108 not found\n",
      "[WARNING] [2023-11-29 14:29:24,336:Client-AutoMLSMBO(1)::airbnb] Configuration 211 not found\n",
      "[WARNING] [2023-11-29 14:29:24,336:Client-AutoMLSMBO(1)::airbnb] Configuration 206 not found\n",
      "[WARNING] [2023-11-29 14:29:24,337:Client-AutoMLSMBO(1)::airbnb] Configuration 590 not found\n",
      "[WARNING] [2023-11-29 14:29:24,337:Client-AutoMLSMBO(1)::airbnb] Configuration 460 not found\n",
      "[WARNING] [2023-11-29 14:29:24,337:Client-AutoMLSMBO(1)::airbnb] Configuration 668 not found\n",
      "[WARNING] [2023-11-29 14:29:24,337:Client-AutoMLSMBO(1)::airbnb] Configuration 585 not found\n",
      "[WARNING] [2023-11-29 14:29:24,337:Client-AutoMLSMBO(1)::airbnb] Configuration 574 not found\n",
      "[WARNING] [2023-11-29 14:29:24,337:Client-AutoMLSMBO(1)::airbnb] Configuration 546 not found\n",
      "[WARNING] [2023-11-29 14:29:24,337:Client-AutoMLSMBO(1)::airbnb] Configuration 657 not found\n",
      "[WARNING] [2023-11-29 14:29:24,337:Client-AutoMLSMBO(1)::airbnb] Configuration 327 not found\n",
      "[WARNING] [2023-11-29 14:29:24,337:Client-AutoMLSMBO(1)::airbnb] Configuration 270 not found\n",
      "[WARNING] [2023-11-29 14:29:24,337:Client-AutoMLSMBO(1)::airbnb] Configuration 315 not found\n",
      "[WARNING] [2023-11-29 14:29:24,337:Client-AutoMLSMBO(1)::airbnb] Configuration 230 not found\n",
      "[WARNING] [2023-11-29 14:29:24,337:Client-AutoMLSMBO(1)::airbnb] Configuration 659 not found\n",
      "[WARNING] [2023-11-29 14:29:24,337:Client-AutoMLSMBO(1)::airbnb] Configuration 690 not found\n",
      "[WARNING] [2023-11-29 14:29:24,337:Client-AutoMLSMBO(1)::airbnb] Configuration 266 not found\n",
      "[WARNING] [2023-11-29 14:29:24,337:Client-AutoMLSMBO(1)::airbnb] Configuration 367 not found\n",
      "[WARNING] [2023-11-29 14:29:24,337:Client-AutoMLSMBO(1)::airbnb] Configuration 254 not found\n",
      "[WARNING] [2023-11-29 14:29:24,337:Client-AutoMLSMBO(1)::airbnb] Configuration 138 not found\n",
      "[WARNING] [2023-11-29 14:29:24,337:Client-AutoMLSMBO(1)::airbnb] Configuration 674 not found\n",
      "[WARNING] [2023-11-29 14:29:24,337:Client-AutoMLSMBO(1)::airbnb] Configuration 506 not found\n",
      "[WARNING] [2023-11-29 14:29:24,337:Client-AutoMLSMBO(1)::airbnb] Configuration 347 not found\n",
      "[WARNING] [2023-11-29 14:29:24,337:Client-AutoMLSMBO(1)::airbnb] Configuration 282 not found\n",
      "[WARNING] [2023-11-29 14:29:24,337:Client-AutoMLSMBO(1)::airbnb] Configuration 532 not found\n",
      "[WARNING] [2023-11-29 14:29:24,338:Client-AutoMLSMBO(1)::airbnb] Configuration 454 not found\n",
      "[WARNING] [2023-11-29 14:29:24,338:Client-AutoMLSMBO(1)::airbnb] Configuration 1 not found\n",
      "[WARNING] [2023-11-29 14:29:24,338:Client-AutoMLSMBO(1)::airbnb] Configuration 9 not found\n",
      "[WARNING] [2023-11-29 14:29:24,338:Client-AutoMLSMBO(1)::airbnb] Configuration 518 not found\n",
      "[WARNING] [2023-11-29 14:29:24,338:Client-AutoMLSMBO(1)::airbnb] Configuration 227 not found\n",
      "[WARNING] [2023-11-29 14:29:24,338:Client-AutoMLSMBO(1)::airbnb] Configuration 414 not found\n",
      "[WARNING] [2023-11-29 14:29:24,338:Client-AutoMLSMBO(1)::airbnb] Configuration 605 not found\n",
      "[WARNING] [2023-11-29 14:29:24,338:Client-AutoMLSMBO(1)::airbnb] Configuration 624 not found\n",
      "[WARNING] [2023-11-29 14:29:24,338:Client-AutoMLSMBO(1)::airbnb] Configuration 191 not found\n",
      "[WARNING] [2023-11-29 14:29:24,338:Client-AutoMLSMBO(1)::airbnb] Configuration 28 not found\n",
      "[WARNING] [2023-11-29 14:29:24,338:Client-AutoMLSMBO(1)::airbnb] Configuration 521 not found\n",
      "[WARNING] [2023-11-29 14:29:24,338:Client-AutoMLSMBO(1)::airbnb] Configuration 648 not found\n",
      "[WARNING] [2023-11-29 14:29:24,338:Client-AutoMLSMBO(1)::airbnb] Configuration 262 not found\n",
      "[WARNING] [2023-11-29 14:29:24,338:Client-AutoMLSMBO(1)::airbnb] Configuration 81 not found\n",
      "[WARNING] [2023-11-29 14:29:24,338:Client-AutoMLSMBO(1)::airbnb] Configuration 676 not found\n",
      "[WARNING] [2023-11-29 14:29:24,338:Client-AutoMLSMBO(1)::airbnb] Configuration 369 not found\n",
      "[WARNING] [2023-11-29 14:29:24,339:Client-AutoMLSMBO(1)::airbnb] Configuration 579 not found\n",
      "[WARNING] [2023-11-29 14:29:24,339:Client-AutoMLSMBO(1)::airbnb] Configuration 25 not found\n",
      "[WARNING] [2023-11-29 14:29:24,339:Client-AutoMLSMBO(1)::airbnb] Configuration 393 not found\n",
      "[WARNING] [2023-11-29 14:29:24,339:Client-AutoMLSMBO(1)::airbnb] Configuration 313 not found\n",
      "[WARNING] [2023-11-29 14:29:24,339:Client-AutoMLSMBO(1)::airbnb] Configuration 165 not found\n",
      "[WARNING] [2023-11-29 14:29:24,339:Client-AutoMLSMBO(1)::airbnb] Configuration 14 not found\n",
      "[WARNING] [2023-11-29 14:29:24,339:Client-AutoMLSMBO(1)::airbnb] Configuration 53 not found\n",
      "[WARNING] [2023-11-29 14:29:24,339:Client-AutoMLSMBO(1)::airbnb] Configuration 357 not found\n",
      "[WARNING] [2023-11-29 14:29:24,339:Client-AutoMLSMBO(1)::airbnb] Configuration 160 not found\n",
      "[WARNING] [2023-11-29 14:29:24,339:Client-AutoMLSMBO(1)::airbnb] Configuration 430 not found\n",
      "[WARNING] [2023-11-29 14:29:24,340:Client-AutoMLSMBO(1)::airbnb] Configuration 264 not found\n",
      "[WARNING] [2023-11-29 14:29:24,340:Client-AutoMLSMBO(1)::airbnb] Configuration 444 not found\n",
      "[WARNING] [2023-11-29 14:29:24,340:Client-AutoMLSMBO(1)::airbnb] Configuration 608 not found\n",
      "[WARNING] [2023-11-29 14:29:24,340:Client-AutoMLSMBO(1)::airbnb] Configuration 48 not found\n",
      "[WARNING] [2023-11-29 14:29:24,340:Client-AutoMLSMBO(1)::airbnb] Configuration 680 not found\n",
      "[WARNING] [2023-11-29 14:29:24,340:Client-AutoMLSMBO(1)::airbnb] Configuration 512 not found\n",
      "[WARNING] [2023-11-29 14:29:24,340:Client-AutoMLSMBO(1)::airbnb] Configuration 145 not found\n",
      "[WARNING] [2023-11-29 14:29:24,340:Client-AutoMLSMBO(1)::airbnb] Configuration 563 not found\n",
      "[WARNING] [2023-11-29 14:29:24,340:Client-AutoMLSMBO(1)::airbnb] Configuration 670 not found\n",
      "[WARNING] [2023-11-29 14:29:24,340:Client-AutoMLSMBO(1)::airbnb] Configuration 40 not found\n",
      "[WARNING] [2023-11-29 14:29:24,341:Client-AutoMLSMBO(1)::airbnb] Configuration 193 not found\n",
      "[WARNING] [2023-11-29 14:29:24,341:Client-AutoMLSMBO(1)::airbnb] Configuration 197 not found\n",
      "[WARNING] [2023-11-29 14:29:24,341:Client-AutoMLSMBO(1)::airbnb] Configuration 378 not found\n",
      "[WARNING] [2023-11-29 14:29:24,341:Client-AutoMLSMBO(1)::airbnb] Configuration 204 not found\n",
      "[WARNING] [2023-11-29 14:29:24,341:Client-AutoMLSMBO(1)::airbnb] Configuration 88 not found\n",
      "[WARNING] [2023-11-29 14:29:24,341:Client-AutoMLSMBO(1)::airbnb] Configuration 340 not found\n",
      "[WARNING] [2023-11-29 14:29:24,341:Client-AutoMLSMBO(1)::airbnb] Configuration 37 not found\n",
      "[WARNING] [2023-11-29 14:29:24,341:Client-AutoMLSMBO(1)::airbnb] Configuration 293 not found\n",
      "[WARNING] [2023-11-29 14:29:24,341:Client-AutoMLSMBO(1)::airbnb] Configuration 595 not found\n",
      "[WARNING] [2023-11-29 14:29:24,341:Client-AutoMLSMBO(1)::airbnb] Configuration 470 not found\n",
      "[WARNING] [2023-11-29 14:29:24,342:Client-AutoMLSMBO(1)::airbnb] Configuration 154 not found\n",
      "[WARNING] [2023-11-29 14:29:24,342:Client-AutoMLSMBO(1)::airbnb] Configuration 129 not found\n",
      "[WARNING] [2023-11-29 14:29:24,342:Client-AutoMLSMBO(1)::airbnb] Configuration 172 not found\n",
      "[WARNING] [2023-11-29 14:29:24,342:Client-AutoMLSMBO(1)::airbnb] Configuration 536 not found\n",
      "[WARNING] [2023-11-29 14:29:24,342:Client-AutoMLSMBO(1)::airbnb] Configuration 277 not found\n",
      "[WARNING] [2023-11-29 14:29:24,342:Client-AutoMLSMBO(1)::airbnb] Configuration 485 not found\n",
      "[WARNING] [2023-11-29 14:29:24,342:Client-AutoMLSMBO(1)::airbnb] Configuration 461 not found\n",
      "[WARNING] [2023-11-29 14:29:24,342:Client-AutoMLSMBO(1)::airbnb] Configuration 352 not found\n",
      "[WARNING] [2023-11-29 14:29:24,342:Client-AutoMLSMBO(1)::airbnb] Configuration 237 not found\n",
      "[WARNING] [2023-11-29 14:29:24,342:Client-AutoMLSMBO(1)::airbnb] Configuration 97 not found\n",
      "[WARNING] [2023-11-29 14:29:24,342:Client-AutoMLSMBO(1)::airbnb] Configuration 232 not found\n",
      "[WARNING] [2023-11-29 14:29:24,343:Client-AutoMLSMBO(1)::airbnb] Configuration 683 not found\n",
      "[WARNING] [2023-11-29 14:29:24,343:Client-AutoMLSMBO(1)::airbnb] Configuration 58 not found\n",
      "[WARNING] [2023-11-29 14:29:24,343:Client-AutoMLSMBO(1)::airbnb] Configuration 687 not found\n",
      "[WARNING] [2023-11-29 14:29:24,343:Client-AutoMLSMBO(1)::airbnb] Configuration 124 not found\n",
      "[WARNING] [2023-11-29 14:29:24,343:Client-AutoMLSMBO(1)::airbnb] Configuration 524 not found\n",
      "[WARNING] [2023-11-29 14:29:24,343:Client-AutoMLSMBO(1)::airbnb] Configuration 635 not found\n",
      "[WARNING] [2023-11-29 14:29:24,343:Client-AutoMLSMBO(1)::airbnb] Configuration 587 not found\n",
      "[WARNING] [2023-11-29 14:29:24,343:Client-AutoMLSMBO(1)::airbnb] Configuration 653 not found\n",
      "[WARNING] [2023-11-29 14:29:24,343:Client-AutoMLSMBO(1)::airbnb] Configuration 707 not found\n",
      "[WARNING] [2023-11-29 14:29:24,343:Client-AutoMLSMBO(1)::airbnb] Configuration 434 not found\n",
      "[WARNING] [2023-11-29 14:29:24,343:Client-AutoMLSMBO(1)::airbnb] Configuration 617 not found\n",
      "[WARNING] [2023-11-29 14:29:24,343:Client-AutoMLSMBO(1)::airbnb] Configuration 69 not found\n",
      "[WARNING] [2023-11-29 14:29:24,343:Client-AutoMLSMBO(1)::airbnb] Configuration 142 not found\n",
      "[WARNING] [2023-11-29 14:29:24,345:Client-AutoMLSMBO(1)::airbnb] Configuration 99 not found\n",
      "[WARNING] [2023-11-29 14:29:24,345:Client-AutoMLSMBO(1)::airbnb] Configuration 571 not found\n",
      "[WARNING] [2023-11-29 14:29:24,345:Client-AutoMLSMBO(1)::airbnb] Configuration 615 not found\n",
      "[WARNING] [2023-11-29 14:29:24,345:Client-AutoMLSMBO(1)::airbnb] Configuration 183 not found\n",
      "[WARNING] [2023-11-29 14:29:24,346:Client-AutoMLSMBO(1)::airbnb] Configuration 515 not found\n",
      "[WARNING] [2023-11-29 14:29:24,346:Client-AutoMLSMBO(1)::airbnb] Configuration 494 not found\n",
      "[WARNING] [2023-11-29 14:29:24,346:Client-AutoMLSMBO(1)::airbnb] Configuration 112 not found\n",
      "[WARNING] [2023-11-29 14:29:24,346:Client-AutoMLSMBO(1)::airbnb] Configuration 302 not found\n",
      "[WARNING] [2023-11-29 14:29:24,346:Client-AutoMLSMBO(1)::airbnb] Configuration 647 not found\n",
      "[WARNING] [2023-11-29 14:29:24,346:Client-AutoMLSMBO(1)::airbnb] Configuration 17 not found\n",
      "[WARNING] [2023-11-29 14:29:24,346:Client-AutoMLSMBO(1)::airbnb] Configuration 445 not found\n",
      "[WARNING] [2023-11-29 14:29:24,346:Client-AutoMLSMBO(1)::airbnb] Configuration 173 not found\n",
      "[WARNING] [2023-11-29 14:29:24,346:Client-AutoMLSMBO(1)::airbnb] Configuration 375 not found\n",
      "[WARNING] [2023-11-29 14:29:24,347:Client-AutoMLSMBO(1)::airbnb] Configuration 395 not found\n",
      "[WARNING] [2023-11-29 14:29:24,347:Client-AutoMLSMBO(1)::airbnb] Configuration 412 not found\n",
      "[WARNING] [2023-11-29 14:29:24,347:Client-AutoMLSMBO(1)::airbnb] Configuration 622 not found\n",
      "[WARNING] [2023-11-29 14:29:24,347:Client-AutoMLSMBO(1)::airbnb] Configuration 56 not found\n",
      "[WARNING] [2023-11-29 14:29:24,347:Client-AutoMLSMBO(1)::airbnb] Configuration 86 not found\n",
      "[WARNING] [2023-11-29 14:29:24,347:Client-AutoMLSMBO(1)::airbnb] Configuration 628 not found\n",
      "[WARNING] [2023-11-29 14:29:24,347:Client-AutoMLSMBO(1)::airbnb] Configuration 288 not found\n",
      "[WARNING] [2023-11-29 14:29:24,347:Client-AutoMLSMBO(1)::airbnb] Configuration 298 not found\n",
      "[WARNING] [2023-11-29 14:29:24,347:Client-AutoMLSMBO(1)::airbnb] Configuration 121 not found\n",
      "[WARNING] [2023-11-29 14:29:24,347:Client-AutoMLSMBO(1)::airbnb] Configuration 553 not found\n",
      "[WARNING] [2023-11-29 14:29:24,347:Client-AutoMLSMBO(1)::airbnb] Configuration 543 not found\n",
      "[WARNING] [2023-11-29 14:29:24,348:Client-AutoMLSMBO(1)::airbnb] Configuration 419 not found\n",
      "[WARNING] [2023-11-29 14:29:24,348:Client-AutoMLSMBO(1)::airbnb] Configuration 134 not found\n",
      "[WARNING] [2023-11-29 14:29:24,348:Client-AutoMLSMBO(1)::airbnb] Configuration 363 not found\n",
      "[WARNING] [2023-11-29 14:29:24,348:Client-AutoMLSMBO(1)::airbnb] Configuration 243 not found\n",
      "[WARNING] [2023-11-29 14:29:24,348:Client-AutoMLSMBO(1)::airbnb] Configuration 448 not found\n",
      "[WARNING] [2023-11-29 14:29:24,348:Client-AutoMLSMBO(1)::airbnb] Configuration 480 not found\n",
      "[WARNING] [2023-11-29 14:29:24,348:Client-AutoMLSMBO(1)::airbnb] Configuration 528 not found\n",
      "[WARNING] [2023-11-29 14:29:24,348:Client-AutoMLSMBO(1)::airbnb] Configuration 403 not found\n",
      "[WARNING] [2023-11-29 14:29:24,348:Client-AutoMLSMBO(1)::airbnb] Configuration 199 not found\n",
      "[WARNING] [2023-11-29 14:29:24,348:Client-AutoMLSMBO(1)::airbnb] Configuration 171 not found\n",
      "[WARNING] [2023-11-29 14:29:24,348:Client-AutoMLSMBO(1)::airbnb] Configuration 548 not found\n",
      "[WARNING] [2023-11-29 14:29:24,348:Client-AutoMLSMBO(1)::airbnb] Configuration 499 not found\n",
      "[WARNING] [2023-11-29 14:29:24,348:Client-AutoMLSMBO(1)::airbnb] Configuration 509 not found\n",
      "[WARNING] [2023-11-29 14:29:24,348:Client-AutoMLSMBO(1)::airbnb] Configuration 596 not found\n",
      "[WARNING] [2023-11-29 14:29:24,348:Client-AutoMLSMBO(1)::airbnb] Configuration 640 not found\n",
      "[WARNING] [2023-11-29 14:29:24,349:Client-AutoMLSMBO(1)::airbnb] Configuration 317 not found\n",
      "[WARNING] [2023-11-29 14:29:24,349:Client-AutoMLSMBO(1)::airbnb] Configuration 322 not found\n",
      "[WARNING] [2023-11-29 14:29:24,349:Client-AutoMLSMBO(1)::airbnb] Configuration 304 not found\n",
      "[WARNING] [2023-11-29 14:29:24,349:Client-AutoMLSMBO(1)::airbnb] Configuration 643 not found\n",
      "[WARNING] [2023-11-29 14:29:24,349:Client-AutoMLSMBO(1)::airbnb] Configuration 503 not found\n",
      "[WARNING] [2023-11-29 14:29:24,349:Client-AutoMLSMBO(1)::airbnb] Configuration 120 not found\n",
      "[WARNING] [2023-11-29 14:29:24,349:Client-AutoMLSMBO(1)::airbnb] Configuration 102 not found\n",
      "[WARNING] [2023-11-29 14:29:24,349:Client-AutoMLSMBO(1)::airbnb] Configuration 291 not found\n",
      "[WARNING] [2023-11-29 14:29:24,349:Client-AutoMLSMBO(1)::airbnb] Configuration 452 not found\n",
      "[WARNING] [2023-11-29 14:29:24,349:Client-AutoMLSMBO(1)::airbnb] Configuration 150 not found\n",
      "[WARNING] [2023-11-29 14:29:24,349:Client-AutoMLSMBO(1)::airbnb] Configuration 275 not found\n"
     ]
    },
    {
     "name": "stderr",
     "output_type": "stream",
     "text": [
      "Fitting to the training data: 100%|\u001b[32m██████████\u001b[0m| 30/30 [00:20<00:00,  1.49it/s, The total time budget for this task is 0:00:30]\n"
     ]
    },
    {
     "name": "stdout",
     "output_type": "stream",
     "text": [
      "Config: Configuration(values={\n",
      "  'balancing:strategy': 'none',\n",
      "  'classifier:__choice__': 'mlp',\n",
      "  'classifier:mlp:activation': 'relu',\n",
      "  'classifier:mlp:alpha': 0.0001,\n",
      "  'classifier:mlp:batch_size': 'auto',\n",
      "  'classifier:mlp:beta_1': 0.9,\n",
      "  'classifier:mlp:beta_2': 0.999,\n",
      "  'classifier:mlp:early_stopping': 'valid',\n",
      "  'classifier:mlp:epsilon': 1e-08,\n",
      "  'classifier:mlp:hidden_layer_depth': 5,\n",
      "  'classifier:mlp:learning_rate_init': 0.001,\n",
      "  'classifier:mlp:n_iter_no_change': 32,\n",
      "  'classifier:mlp:num_nodes_per_layer': 256,\n",
      "  'classifier:mlp:shuffle': 'True',\n",
      "  'classifier:mlp:solver': 'adam',\n",
      "  'classifier:mlp:tol': 0.0001,\n",
      "  'classifier:mlp:validation_fraction': 0.1,\n",
      "  'data_preprocessor:__choice__': 'feature_type',\n",
      "  'data_preprocessor:feature_type:numerical_transformer:imputation:strategy': 'mean',\n",
      "  'data_preprocessor:feature_type:numerical_transformer:rescaling:__choice__': 'standardize',\n",
      "  'data_preprocessor:feature_type:text_transformer:text_encoding:__choice__': 'tfidf_encoding',\n",
      "  'data_preprocessor:feature_type:text_transformer:text_encoding:tfidf_encoding:analyzer': 'char',\n",
      "  'data_preprocessor:feature_type:text_transformer:text_encoding:tfidf_encoding:binary': 'False',\n",
      "  'data_preprocessor:feature_type:text_transformer:text_encoding:tfidf_encoding:max_df': 1.0,\n",
      "  'data_preprocessor:feature_type:text_transformer:text_encoding:tfidf_encoding:min_df': 0.0,\n",
      "  'data_preprocessor:feature_type:text_transformer:text_encoding:tfidf_encoding:ngram_range_char': 4,\n",
      "  'data_preprocessor:feature_type:text_transformer:text_encoding:tfidf_encoding:norm': 'l2',\n",
      "  'data_preprocessor:feature_type:text_transformer:text_encoding:tfidf_encoding:per_column': False,\n",
      "  'data_preprocessor:feature_type:text_transformer:text_encoding:tfidf_encoding:sublinear_tf': 'False',\n",
      "  'data_preprocessor:feature_type:text_transformer:text_feature_reduction:n_components': 100,\n",
      "  'feature_preprocessor:__choice__': 'no_preprocessing',\n",
      "})\n",
      "\n",
      "Leaderboard:           rank  ensemble_weight type      cost  duration\n",
      "model_id                                                \n",
      "2            1              0.9  mlp  0.133333  2.071553\n",
      "5            2              0.1  mlp  0.200000  1.833016\n"
     ]
    },
    {
     "name": "stderr",
     "output_type": "stream",
     "text": [
      "/home/preethi/projects/hitlda-project/auto-sklearn/py39/lib/python3.9/site-packages/sklearn/utils/validation.py:571: FutureWarning: is_sparse is deprecated and will be removed in a future version. Check `isinstance(dtype, pd.SparseDtype)` instead.\n",
      "  array.dtypes.apply(is_sparse).any()):\n",
      "/home/preethi/projects/hitlda-project/auto-sklearn/py39/lib/python3.9/site-packages/sklearn/utils/validation.py:571: FutureWarning: is_sparse is deprecated and will be removed in a future version. Check `isinstance(dtype, pd.SparseDtype)` instead.\n",
      "  array.dtypes.apply(is_sparse).any()):\n"
     ]
    }
   ],
   "source": [
    "from pprint import pprint\n",
    "import sklearn.metrics\n",
    "import autosklearn.classification\n",
    "import timeit\n",
    "import pandas as pd\n",
    "from sklearn.model_selection import train_test_split\n",
    "\n",
    "\n",
    "file_path = '../data/titanic_dirty_data.csv'\n",
    "df = pd.read_csv(file_path)\n",
    "df = df.dropna(subset=['Survived'])\n",
    "y = df['Survived']\n",
    "X = df.drop('Survived', axis=1)\n",
    "X_train, X_test, y_train, y_test = train_test_split(X, y, test_size=0.2, random_state=42)\n",
    "\n",
    "time_budget = [30] #, 40, 60, 90, 120]\n",
    "accuracy = []\n",
    "precision = []\n",
    "recall = []\n",
    "leaderboard = []\n",
    "config_list = []\n",
    "for t in time_budget:\n",
    "    print(\"Time budget:\", t)\n",
    "    automl = autosklearn.classification.AutoSklearnClassifier(\n",
    "    time_left_for_this_task=t,\n",
    "    include = {\n",
    "        'classifier': [\"mlp\"],\n",
    "    },\n",
    "    tmp_folder=\"tmp/autosklearn_classification_example_tmp\",\n",
    "    )\n",
    "\n",
    "    automl.fit(X_train, y_train, dataset_name=\"airbnb\")\n",
    "\n",
    "    run_key = list(automl.automl_.runhistory_.data.keys())[0]\n",
    "    run_value = automl.automl_.runhistory_.data[run_key]\n",
    "    config=automl.automl_.runhistory_.ids_config[run_key.config_id]\n",
    "    print(\"Config:\", config)\n",
    "    print(\"Leaderboard:\", automl.leaderboard())\n",
    "    config_list.append(str(config))\n",
    "    leaderboard.append(str(automl.leaderboard()))\n",
    "\n",
    "    predictions = automl.predict(X_test)\n",
    "    # print(\"Accuracy score:\", sklearn.metrics.accuracy_score(y_test, predictions))\n",
    "    # print(\"Precision\", sklearn.metrics.precision_score(y_test, predictions))\n",
    "    # print(\"Recall\", sklearn.metrics.recall_score(y_test, predictions))\n",
    "    accuracy.append(sklearn.metrics.accuracy_score(y_test, predictions))\n",
    "    precision.append(sklearn.metrics.precision_score(y_test, predictions))\n",
    "    recall.append(sklearn.metrics.recall_score(y_test, predictions))\n",
    "\n"
   ]
  },
  {
   "cell_type": "code",
   "execution_count": 2,
   "metadata": {},
   "outputs": [
    {
     "name": "stdout",
     "output_type": "stream",
     "text": [
      "[0.608]\n",
      "[0.0]\n",
      "[0.0]\n"
     ]
    }
   ],
   "source": [
    "print(accuracy)\n",
    "print(precision)\n",
    "print(recall)\n",
    "# print(config_list)\n",
    "# print(leaderboard)"
   ]
  },
  {
   "cell_type": "code",
   "execution_count": 3,
   "metadata": {},
   "outputs": [
    {
     "data": {
      "text/plain": [
       "Text(0.5, 0, 'Time Budget')"
      ]
     },
     "execution_count": 3,
     "metadata": {},
     "output_type": "execute_result"
    },
    {
     "data": {
      "image/png": "[encoded data removed]",
      "text/plain": [
       "<Figure size 640x480 with 1 Axes>"
      ]
     },
     "metadata": {},
     "output_type": "display_data"
    }
   ],
   "source": [
    "import matplotlib.pyplot as plt\n",
    "\n",
    "# plt.subplot(2, 2, 1)\n",
    "plt.plot(time_budget, accuracy, marker='o')\n",
    "plt.title('Time Budget vs. Accuracy')\n",
    "plt.ylabel('Accuracy')\n",
    "plt.xlabel('Time Budget')"
   ]
  },
  {
   "cell_type": "code",
   "execution_count": 4,
   "metadata": {},
   "outputs": [
    {
     "data": {
      "text/plain": [
       "Text(0.5, 0, 'Time Budget')"
      ]
     },
     "execution_count": 4,
     "metadata": {},
     "output_type": "execute_result"
    },
    {
     "data": {
      "image/png": "[encoded data removed]",
      "text/plain": [
       "<Figure size 640x480 with 1 Axes>"
      ]
     },
     "metadata": {},
     "output_type": "display_data"
    }
   ],
   "source": [
    "import matplotlib.pyplot as plt\n",
    "\n",
    "plt.subplot(2, 2, 1)\n",
    "plt.plot(time_budget, precision, marker='o')\n",
    "plt.title('Time Budget vs. Precision')\n",
    "plt.ylabel('Accuracy')\n",
    "plt.xlabel('Time Budget')"
   ]
  },
  {
   "cell_type": "code",
   "execution_count": 5,
   "metadata": {},
   "outputs": [
    {
     "data": {
      "text/plain": [
       "Text(0.5, 0, 'Time Budget')"
      ]
     },
     "execution_count": 5,
     "metadata": {},
     "output_type": "execute_result"
    },
    {
     "data": {
      "image/png": "[encoded data removed]",
      "text/plain": [
       "<Figure size 640x480 with 1 Axes>"
      ]
     },
     "metadata": {},
     "output_type": "display_data"
    }
   ],
   "source": [
    "import matplotlib.pyplot as plt\n",
    "\n",
    "plt.subplot(2, 2, 1)\n",
    "plt.plot(time_budget, recall, marker='o')\n",
    "plt.title('Time Budget vs. Recall')\n",
    "plt.ylabel('Accuracy')\n",
    "plt.xlabel('Time Budget')"
   ]
  }
 ],
 "metadata": {
  "kernelspec": {
   "display_name": "py39",
   "language": "python",
   "name": "python3"
  },
  "language_info": {
   "codemirror_mode": {
    "name": "ipython",
    "version": 3
   },
   "file_extension": ".py",
   "mimetype": "text/x-python",
   "name": "python",
   "nbconvert_exporter": "python",
   "pygments_lexer": "ipython3",
   "version": "3.9.18"
  }
 },
 "nbformat": 4,
 "nbformat_minor": 2
}
