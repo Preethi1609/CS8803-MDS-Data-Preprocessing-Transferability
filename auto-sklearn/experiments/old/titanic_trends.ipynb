{
 "cells": [
  {
   "cell_type": "code",
   "execution_count": 1,
   "metadata": {},
   "outputs": [
    {
     "name": "stdout",
     "output_type": "stream",
     "text": [
      "Time budget: 30\n"
     ]
    },
    {
     "name": "stderr",
     "output_type": "stream",
     "text": [
      "Fitting to the training data:   0%|\u001b[32m          \u001b[0m| 0/30 [00:00<?, ?it/s, The total time budget for this task is 0:00:30]/home/preethi/projects/hitlda-project/auto-sklearn/autosklearn/data/feature_validator.py:298: FutureWarning: is_sparse is deprecated and will be removed in a future version. Check `isinstance(dtype, pd.SparseDtype)` instead.\n",
      "  if is_sparse(X[column]):\n",
      "/home/preethi/projects/hitlda-project/auto-sklearn/autosklearn/data/feature_validator.py:318: UserWarning: Input Column Name has generic type object. Autosklearn will treat this column as string. Please ensure that this setting is suitable for your task.\n",
      "  warnings.warn(\n",
      "/home/preethi/projects/hitlda-project/auto-sklearn/autosklearn/data/feature_validator.py:318: UserWarning: Input Column Sex has generic type object. Autosklearn will treat this column as string. Please ensure that this setting is suitable for your task.\n",
      "  warnings.warn(\n",
      "/home/preethi/projects/hitlda-project/auto-sklearn/autosklearn/data/feature_validator.py:318: UserWarning: Input Column Ticket has generic type object. Autosklearn will treat this column as string. Please ensure that this setting is suitable for your task.\n",
      "  warnings.warn(\n",
      "/home/preethi/projects/hitlda-project/auto-sklearn/autosklearn/data/feature_validator.py:318: UserWarning: Input Column Cabin has generic type object. Autosklearn will treat this column as string. Please ensure that this setting is suitable for your task.\n",
      "  warnings.warn(\n",
      "/home/preethi/projects/hitlda-project/auto-sklearn/autosklearn/data/feature_validator.py:318: UserWarning: Input Column Embarked has generic type object. Autosklearn will treat this column as string. Please ensure that this setting is suitable for your task.\n",
      "  warnings.warn(\n",
      "Fitting to the training data:  27%|\u001b[32m██▋       \u001b[0m| 8/30 [00:08<00:22,  1.00s/it, The total time budget for this task is 0:00:30]"
     ]
    },
    {
     "name": "stdout",
     "output_type": "stream",
     "text": [
      "[WARNING] [2023-11-28 18:45:22,330:Client-EnsembleBuilder] No runs were available to build an ensemble from\n"
     ]
    },
    {
     "name": "stderr",
     "output_type": "stream",
     "text": [
      "Fitting to the training data:  30%|\u001b[32m███       \u001b[0m| 9/30 [00:09<00:21,  1.00s/it, The total time budget for this task is 0:00:30]"
     ]
    },
    {
     "name": "stdout",
     "output_type": "stream",
     "text": [
      "[WARNING] [2023-11-28 18:45:23,962:Client-EnsembleBuilder] No runs were available to build an ensemble from\n"
     ]
    },
    {
     "name": "stderr",
     "output_type": "stream",
     "text": [
      "Fitting to the training data: 100%|\u001b[32m██████████\u001b[0m| 30/30 [00:19<00:00,  1.57it/s, The total time budget for this task is 0:00:30]\n"
     ]
    },
    {
     "name": "stdout",
     "output_type": "stream",
     "text": [
      "Config: Configuration(values={\n",
      "  'balancing:strategy': 'none',\n",
      "  'classifier:__choice__': 'random_forest',\n",
      "  'classifier:random_forest:bootstrap': 'True',\n",
      "  'classifier:random_forest:criterion': 'gini',\n",
      "  'classifier:random_forest:max_depth': 'None',\n",
      "  'classifier:random_forest:max_features': 0.5,\n",
      "  'classifier:random_forest:max_leaf_nodes': 'None',\n",
      "  'classifier:random_forest:min_impurity_decrease': 0.0,\n",
      "  'classifier:random_forest:min_samples_leaf': 1,\n",
      "  'classifier:random_forest:min_samples_split': 2,\n",
      "  'classifier:random_forest:min_weight_fraction_leaf': 0.0,\n",
      "  'data_preprocessor:__choice__': 'feature_type',\n",
      "  'data_preprocessor:feature_type:numerical_transformer:imputation:strategy': 'mean',\n",
      "  'data_preprocessor:feature_type:numerical_transformer:rescaling:__choice__': 'standardize',\n",
      "  'data_preprocessor:feature_type:text_transformer:text_encoding:__choice__': 'tfidf_encoding',\n",
      "  'data_preprocessor:feature_type:text_transformer:text_encoding:tfidf_encoding:analyzer': 'char',\n",
      "  'data_preprocessor:feature_type:text_transformer:text_encoding:tfidf_encoding:binary': 'False',\n",
      "  'data_preprocessor:feature_type:text_transformer:text_encoding:tfidf_encoding:max_df': 1.0,\n",
      "  'data_preprocessor:feature_type:text_transformer:text_encoding:tfidf_encoding:min_df': 0.0,\n",
      "  'data_preprocessor:feature_type:text_transformer:text_encoding:tfidf_encoding:ngram_range_char': 4,\n",
      "  'data_preprocessor:feature_type:text_transformer:text_encoding:tfidf_encoding:norm': 'l2',\n",
      "  'data_preprocessor:feature_type:text_transformer:text_encoding:tfidf_encoding:per_column': False,\n",
      "  'data_preprocessor:feature_type:text_transformer:text_encoding:tfidf_encoding:sublinear_tf': 'False',\n",
      "  'data_preprocessor:feature_type:text_transformer:text_feature_reduction:n_components': 100,\n",
      "  'feature_preprocessor:__choice__': 'no_preprocessing',\n",
      "})\n",
      "\n",
      "Leaderboard:           rank  ensemble_weight type  cost  duration\n",
      "model_id                                            \n",
      "4            1              1.0  lda   0.2   2.23981\n",
      "Time budget: 40\n"
     ]
    },
    {
     "name": "stderr",
     "output_type": "stream",
     "text": [
      "/home/preethi/projects/hitlda-project/auto-sklearn/py39/lib/python3.9/site-packages/sklearn/utils/validation.py:571: FutureWarning: is_sparse is deprecated and will be removed in a future version. Check `isinstance(dtype, pd.SparseDtype)` instead.\n",
      "  array.dtypes.apply(is_sparse).any()):\n",
      "/home/preethi/projects/hitlda-project/auto-sklearn/autosklearn/data/feature_validator.py:298: FutureWarning: is_sparse is deprecated and will be removed in a future version. Check `isinstance(dtype, pd.SparseDtype)` instead.\n",
      "  if is_sparse(X[column]):\n",
      "/home/preethi/projects/hitlda-project/auto-sklearn/autosklearn/data/feature_validator.py:318: UserWarning: Input Column Name has generic type object. Autosklearn will treat this column as string. Please ensure that this setting is suitable for your task.\n",
      "  warnings.warn(\n",
      "/home/preethi/projects/hitlda-project/auto-sklearn/autosklearn/data/feature_validator.py:318: UserWarning: Input Column Sex has generic type object. Autosklearn will treat this column as string. Please ensure that this setting is suitable for your task.\n",
      "  warnings.warn(\n",
      "/home/preethi/projects/hitlda-project/auto-sklearn/autosklearn/data/feature_validator.py:318: UserWarning: Input Column Ticket has generic type object. Autosklearn will treat this column as string. Please ensure that this setting is suitable for your task.\n",
      "  warnings.warn(\n",
      "/home/preethi/projects/hitlda-project/auto-sklearn/autosklearn/data/feature_validator.py:318: UserWarning: Input Column Cabin has generic type object. Autosklearn will treat this column as string. Please ensure that this setting is suitable for your task.\n",
      "  warnings.warn(\n",
      "/home/preethi/projects/hitlda-project/auto-sklearn/autosklearn/data/feature_validator.py:318: UserWarning: Input Column Embarked has generic type object. Autosklearn will treat this column as string. Please ensure that this setting is suitable for your task.\n",
      "  warnings.warn(\n",
      "Fitting to the training data:  20%|\u001b[32m██        \u001b[0m| 8/40 [00:08<00:32,  1.01s/it, The total time budget for this task is 0:00:40]"
     ]
    },
    {
     "name": "stdout",
     "output_type": "stream",
     "text": [
      "[WARNING] [2023-11-28 18:45:47,426:Client-EnsembleBuilder] No runs were available to build an ensemble from\n"
     ]
    },
    {
     "name": "stderr",
     "output_type": "stream",
     "text": [
      "Fitting to the training data:  25%|\u001b[32m██▌       \u001b[0m| 10/40 [00:10<00:30,  1.01s/it, The total time budget for this task is 0:00:40]"
     ]
    },
    {
     "name": "stdout",
     "output_type": "stream",
     "text": [
      "[WARNING] [2023-11-28 18:45:48,895:Client-EnsembleBuilder] No runs were available to build an ensemble from\n"
     ]
    },
    {
     "name": "stderr",
     "output_type": "stream",
     "text": [
      "Fitting to the training data: 100%|\u001b[32m██████████\u001b[0m| 40/40 [00:30<00:00,  1.33it/s, The total time budget for this task is 0:00:40]\n"
     ]
    },
    {
     "name": "stdout",
     "output_type": "stream",
     "text": [
      "Config: Configuration(values={\n",
      "  'balancing:strategy': 'none',\n",
      "  'classifier:__choice__': 'random_forest',\n",
      "  'classifier:random_forest:bootstrap': 'True',\n",
      "  'classifier:random_forest:criterion': 'gini',\n",
      "  'classifier:random_forest:max_depth': 'None',\n",
      "  'classifier:random_forest:max_features': 0.5,\n",
      "  'classifier:random_forest:max_leaf_nodes': 'None',\n",
      "  'classifier:random_forest:min_impurity_decrease': 0.0,\n",
      "  'classifier:random_forest:min_samples_leaf': 1,\n",
      "  'classifier:random_forest:min_samples_split': 2,\n",
      "  'classifier:random_forest:min_weight_fraction_leaf': 0.0,\n",
      "  'data_preprocessor:__choice__': 'feature_type',\n",
      "  'data_preprocessor:feature_type:numerical_transformer:imputation:strategy': 'mean',\n",
      "  'data_preprocessor:feature_type:numerical_transformer:rescaling:__choice__': 'standardize',\n",
      "  'data_preprocessor:feature_type:text_transformer:text_encoding:__choice__': 'tfidf_encoding',\n",
      "  'data_preprocessor:feature_type:text_transformer:text_encoding:tfidf_encoding:analyzer': 'char',\n",
      "  'data_preprocessor:feature_type:text_transformer:text_encoding:tfidf_encoding:binary': 'False',\n",
      "  'data_preprocessor:feature_type:text_transformer:text_encoding:tfidf_encoding:max_df': 1.0,\n",
      "  'data_preprocessor:feature_type:text_transformer:text_encoding:tfidf_encoding:min_df': 0.0,\n",
      "  'data_preprocessor:feature_type:text_transformer:text_encoding:tfidf_encoding:ngram_range_char': 4,\n",
      "  'data_preprocessor:feature_type:text_transformer:text_encoding:tfidf_encoding:norm': 'l2',\n",
      "  'data_preprocessor:feature_type:text_transformer:text_encoding:tfidf_encoding:per_column': False,\n",
      "  'data_preprocessor:feature_type:text_transformer:text_encoding:tfidf_encoding:sublinear_tf': 'False',\n",
      "  'data_preprocessor:feature_type:text_transformer:text_feature_reduction:n_components': 100,\n",
      "  'feature_preprocessor:__choice__': 'no_preprocessing',\n",
      "})\n",
      "\n",
      "Leaderboard:           rank  ensemble_weight type  cost  duration\n",
      "model_id                                            \n",
      "4            1              1.0  lda   0.2  1.947227\n",
      "Time budget: 60\n"
     ]
    },
    {
     "name": "stderr",
     "output_type": "stream",
     "text": [
      "/home/preethi/projects/hitlda-project/auto-sklearn/py39/lib/python3.9/site-packages/sklearn/utils/validation.py:571: FutureWarning: is_sparse is deprecated and will be removed in a future version. Check `isinstance(dtype, pd.SparseDtype)` instead.\n",
      "  array.dtypes.apply(is_sparse).any()):\n",
      "/home/preethi/projects/hitlda-project/auto-sklearn/autosklearn/data/feature_validator.py:298: FutureWarning: is_sparse is deprecated and will be removed in a future version. Check `isinstance(dtype, pd.SparseDtype)` instead.\n",
      "  if is_sparse(X[column]):\n",
      "/home/preethi/projects/hitlda-project/auto-sklearn/autosklearn/data/feature_validator.py:318: UserWarning: Input Column Name has generic type object. Autosklearn will treat this column as string. Please ensure that this setting is suitable for your task.\n",
      "  warnings.warn(\n",
      "/home/preethi/projects/hitlda-project/auto-sklearn/autosklearn/data/feature_validator.py:318: UserWarning: Input Column Sex has generic type object. Autosklearn will treat this column as string. Please ensure that this setting is suitable for your task.\n",
      "  warnings.warn(\n",
      "/home/preethi/projects/hitlda-project/auto-sklearn/autosklearn/data/feature_validator.py:318: UserWarning: Input Column Ticket has generic type object. Autosklearn will treat this column as string. Please ensure that this setting is suitable for your task.\n",
      "  warnings.warn(\n",
      "/home/preethi/projects/hitlda-project/auto-sklearn/autosklearn/data/feature_validator.py:318: UserWarning: Input Column Cabin has generic type object. Autosklearn will treat this column as string. Please ensure that this setting is suitable for your task.\n",
      "  warnings.warn(\n",
      "/home/preethi/projects/hitlda-project/auto-sklearn/autosklearn/data/feature_validator.py:318: UserWarning: Input Column Embarked has generic type object. Autosklearn will treat this column as string. Please ensure that this setting is suitable for your task.\n",
      "  warnings.warn(\n",
      "Fitting to the training data: 100%|\u001b[32m██████████\u001b[0m| 60/60 [00:49<00:00,  1.22it/s, The total time budget for this task is 0:01:00]\n"
     ]
    },
    {
     "name": "stdout",
     "output_type": "stream",
     "text": [
      "Config: Configuration(values={\n",
      "  'balancing:strategy': 'none',\n",
      "  'classifier:__choice__': 'random_forest',\n",
      "  'classifier:random_forest:bootstrap': 'True',\n",
      "  'classifier:random_forest:criterion': 'gini',\n",
      "  'classifier:random_forest:max_depth': 'None',\n",
      "  'classifier:random_forest:max_features': 0.5,\n",
      "  'classifier:random_forest:max_leaf_nodes': 'None',\n",
      "  'classifier:random_forest:min_impurity_decrease': 0.0,\n",
      "  'classifier:random_forest:min_samples_leaf': 1,\n",
      "  'classifier:random_forest:min_samples_split': 2,\n",
      "  'classifier:random_forest:min_weight_fraction_leaf': 0.0,\n",
      "  'data_preprocessor:__choice__': 'feature_type',\n",
      "  'data_preprocessor:feature_type:numerical_transformer:imputation:strategy': 'mean',\n",
      "  'data_preprocessor:feature_type:numerical_transformer:rescaling:__choice__': 'standardize',\n",
      "  'data_preprocessor:feature_type:text_transformer:text_encoding:__choice__': 'tfidf_encoding',\n",
      "  'data_preprocessor:feature_type:text_transformer:text_encoding:tfidf_encoding:analyzer': 'char',\n",
      "  'data_preprocessor:feature_type:text_transformer:text_encoding:tfidf_encoding:binary': 'False',\n",
      "  'data_preprocessor:feature_type:text_transformer:text_encoding:tfidf_encoding:max_df': 1.0,\n",
      "  'data_preprocessor:feature_type:text_transformer:text_encoding:tfidf_encoding:min_df': 0.0,\n",
      "  'data_preprocessor:feature_type:text_transformer:text_encoding:tfidf_encoding:ngram_range_char': 4,\n",
      "  'data_preprocessor:feature_type:text_transformer:text_encoding:tfidf_encoding:norm': 'l2',\n",
      "  'data_preprocessor:feature_type:text_transformer:text_encoding:tfidf_encoding:per_column': False,\n",
      "  'data_preprocessor:feature_type:text_transformer:text_encoding:tfidf_encoding:sublinear_tf': 'False',\n",
      "  'data_preprocessor:feature_type:text_transformer:text_feature_reduction:n_components': 100,\n",
      "  'feature_preprocessor:__choice__': 'no_preprocessing',\n",
      "})\n",
      "\n",
      "Leaderboard:           rank  ensemble_weight           type      cost  duration\n",
      "model_id                                                          \n",
      "5            2             0.12  random_forest  0.175758  5.016302\n",
      "11           1             0.38  liblinear_svc  0.175758  2.082361\n",
      "12           3             0.24            mlp  0.181818  2.260304\n",
      "2            4             0.06  random_forest  0.187879  4.453588\n",
      "13           5             0.08    extra_trees  0.187879  2.792188\n",
      "4            6             0.12            lda  0.200000  2.029392\n"
     ]
    },
    {
     "name": "stderr",
     "output_type": "stream",
     "text": [
      "/home/preethi/projects/hitlda-project/auto-sklearn/py39/lib/python3.9/site-packages/sklearn/utils/validation.py:571: FutureWarning: is_sparse is deprecated and will be removed in a future version. Check `isinstance(dtype, pd.SparseDtype)` instead.\n",
      "  array.dtypes.apply(is_sparse).any()):\n",
      "/home/preethi/projects/hitlda-project/auto-sklearn/py39/lib/python3.9/site-packages/sklearn/utils/validation.py:571: FutureWarning: is_sparse is deprecated and will be removed in a future version. Check `isinstance(dtype, pd.SparseDtype)` instead.\n",
      "  array.dtypes.apply(is_sparse).any()):\n",
      "/home/preethi/projects/hitlda-project/auto-sklearn/py39/lib/python3.9/site-packages/sklearn/utils/validation.py:571: FutureWarning: is_sparse is deprecated and will be removed in a future version. Check `isinstance(dtype, pd.SparseDtype)` instead.\n",
      "  array.dtypes.apply(is_sparse).any()):\n",
      "/home/preethi/projects/hitlda-project/auto-sklearn/py39/lib/python3.9/site-packages/sklearn/utils/validation.py:571: FutureWarning: is_sparse is deprecated and will be removed in a future version. Check `isinstance(dtype, pd.SparseDtype)` instead.\n",
      "  array.dtypes.apply(is_sparse).any()):\n",
      "/home/preethi/projects/hitlda-project/auto-sklearn/py39/lib/python3.9/site-packages/sklearn/utils/validation.py:571: FutureWarning: is_sparse is deprecated and will be removed in a future version. Check `isinstance(dtype, pd.SparseDtype)` instead.\n",
      "  array.dtypes.apply(is_sparse).any()):\n"
     ]
    },
    {
     "name": "stdout",
     "output_type": "stream",
     "text": [
      "Time budget: 90\n"
     ]
    },
    {
     "name": "stderr",
     "output_type": "stream",
     "text": [
      "/home/preethi/projects/hitlda-project/auto-sklearn/py39/lib/python3.9/site-packages/sklearn/utils/validation.py:571: FutureWarning: is_sparse is deprecated and will be removed in a future version. Check `isinstance(dtype, pd.SparseDtype)` instead.\n",
      "  array.dtypes.apply(is_sparse).any()):\n",
      "/home/preethi/projects/hitlda-project/auto-sklearn/autosklearn/data/feature_validator.py:298: FutureWarning: is_sparse is deprecated and will be removed in a future version. Check `isinstance(dtype, pd.SparseDtype)` instead.\n",
      "  if is_sparse(X[column]):\n",
      "/home/preethi/projects/hitlda-project/auto-sklearn/autosklearn/data/feature_validator.py:318: UserWarning: Input Column Name has generic type object. Autosklearn will treat this column as string. Please ensure that this setting is suitable for your task.\n",
      "  warnings.warn(\n",
      "/home/preethi/projects/hitlda-project/auto-sklearn/autosklearn/data/feature_validator.py:318: UserWarning: Input Column Sex has generic type object. Autosklearn will treat this column as string. Please ensure that this setting is suitable for your task.\n",
      "  warnings.warn(\n",
      "/home/preethi/projects/hitlda-project/auto-sklearn/autosklearn/data/feature_validator.py:318: UserWarning: Input Column Ticket has generic type object. Autosklearn will treat this column as string. Please ensure that this setting is suitable for your task.\n",
      "  warnings.warn(\n",
      "/home/preethi/projects/hitlda-project/auto-sklearn/autosklearn/data/feature_validator.py:318: UserWarning: Input Column Cabin has generic type object. Autosklearn will treat this column as string. Please ensure that this setting is suitable for your task.\n",
      "  warnings.warn(\n",
      "/home/preethi/projects/hitlda-project/auto-sklearn/autosklearn/data/feature_validator.py:318: UserWarning: Input Column Embarked has generic type object. Autosklearn will treat this column as string. Please ensure that this setting is suitable for your task.\n",
      "  warnings.warn(\n",
      "Fitting to the training data: 100%|\u001b[32m██████████\u001b[0m| 90/90 [01:28<00:00,  1.01it/s, The total time budget for this task is 0:01:30]\n"
     ]
    },
    {
     "name": "stdout",
     "output_type": "stream",
     "text": [
      "Config: Configuration(values={\n",
      "  'balancing:strategy': 'none',\n",
      "  'classifier:__choice__': 'random_forest',\n",
      "  'classifier:random_forest:bootstrap': 'True',\n",
      "  'classifier:random_forest:criterion': 'gini',\n",
      "  'classifier:random_forest:max_depth': 'None',\n",
      "  'classifier:random_forest:max_features': 0.5,\n",
      "  'classifier:random_forest:max_leaf_nodes': 'None',\n",
      "  'classifier:random_forest:min_impurity_decrease': 0.0,\n",
      "  'classifier:random_forest:min_samples_leaf': 1,\n",
      "  'classifier:random_forest:min_samples_split': 2,\n",
      "  'classifier:random_forest:min_weight_fraction_leaf': 0.0,\n",
      "  'data_preprocessor:__choice__': 'feature_type',\n",
      "  'data_preprocessor:feature_type:numerical_transformer:imputation:strategy': 'mean',\n",
      "  'data_preprocessor:feature_type:numerical_transformer:rescaling:__choice__': 'standardize',\n",
      "  'data_preprocessor:feature_type:text_transformer:text_encoding:__choice__': 'tfidf_encoding',\n",
      "  'data_preprocessor:feature_type:text_transformer:text_encoding:tfidf_encoding:analyzer': 'char',\n",
      "  'data_preprocessor:feature_type:text_transformer:text_encoding:tfidf_encoding:binary': 'False',\n",
      "  'data_preprocessor:feature_type:text_transformer:text_encoding:tfidf_encoding:max_df': 1.0,\n",
      "  'data_preprocessor:feature_type:text_transformer:text_encoding:tfidf_encoding:min_df': 0.0,\n",
      "  'data_preprocessor:feature_type:text_transformer:text_encoding:tfidf_encoding:ngram_range_char': 4,\n",
      "  'data_preprocessor:feature_type:text_transformer:text_encoding:tfidf_encoding:norm': 'l2',\n",
      "  'data_preprocessor:feature_type:text_transformer:text_encoding:tfidf_encoding:per_column': False,\n",
      "  'data_preprocessor:feature_type:text_transformer:text_encoding:tfidf_encoding:sublinear_tf': 'False',\n",
      "  'data_preprocessor:feature_type:text_transformer:text_feature_reduction:n_components': 100,\n",
      "  'feature_preprocessor:__choice__': 'no_preprocessing',\n",
      "})\n",
      "\n",
      "Leaderboard:           rank  ensemble_weight               type      cost  duration\n",
      "model_id                                                              \n",
      "7            1             0.08        extra_trees  0.163636  7.891016\n",
      "19           2             0.14                mlp  0.163636  3.140645\n",
      "5            4             0.08      random_forest  0.175758  5.750139\n",
      "11           3             0.10      liblinear_svc  0.175758  2.183418\n",
      "12           5             0.14                mlp  0.181818  2.062717\n",
      "2            8             0.06      random_forest  0.187879  4.084480\n",
      "13           6             0.14        extra_trees  0.187879  2.656430\n",
      "20           7             0.02  gradient_boosting  0.187879  3.392865\n",
      "4            9             0.04                lda  0.200000  2.091951\n",
      "10          10             0.10                mlp  0.212121  2.808902\n",
      "18          11             0.06      random_forest  0.212121  3.708010\n",
      "23          12             0.04           adaboost  0.230303  3.350346\n"
     ]
    },
    {
     "name": "stderr",
     "output_type": "stream",
     "text": [
      "/home/preethi/projects/hitlda-project/auto-sklearn/py39/lib/python3.9/site-packages/sklearn/utils/validation.py:571: FutureWarning: is_sparse is deprecated and will be removed in a future version. Check `isinstance(dtype, pd.SparseDtype)` instead.\n",
      "  array.dtypes.apply(is_sparse).any()):\n",
      "/home/preethi/projects/hitlda-project/auto-sklearn/py39/lib/python3.9/site-packages/sklearn/utils/validation.py:571: FutureWarning: is_sparse is deprecated and will be removed in a future version. Check `isinstance(dtype, pd.SparseDtype)` instead.\n",
      "  array.dtypes.apply(is_sparse).any()):\n",
      "/home/preethi/projects/hitlda-project/auto-sklearn/py39/lib/python3.9/site-packages/sklearn/utils/validation.py:571: FutureWarning: is_sparse is deprecated and will be removed in a future version. Check `isinstance(dtype, pd.SparseDtype)` instead.\n",
      "  array.dtypes.apply(is_sparse).any()):\n",
      "/home/preethi/projects/hitlda-project/auto-sklearn/py39/lib/python3.9/site-packages/sklearn/utils/validation.py:571: FutureWarning: is_sparse is deprecated and will be removed in a future version. Check `isinstance(dtype, pd.SparseDtype)` instead.\n",
      "  array.dtypes.apply(is_sparse).any()):\n",
      "/home/preethi/projects/hitlda-project/auto-sklearn/py39/lib/python3.9/site-packages/sklearn/utils/validation.py:571: FutureWarning: is_sparse is deprecated and will be removed in a future version. Check `isinstance(dtype, pd.SparseDtype)` instead.\n",
      "  array.dtypes.apply(is_sparse).any()):\n",
      "/home/preethi/projects/hitlda-project/auto-sklearn/py39/lib/python3.9/site-packages/sklearn/utils/validation.py:571: FutureWarning: is_sparse is deprecated and will be removed in a future version. Check `isinstance(dtype, pd.SparseDtype)` instead.\n",
      "  array.dtypes.apply(is_sparse).any()):\n",
      "/home/preethi/projects/hitlda-project/auto-sklearn/py39/lib/python3.9/site-packages/sklearn/utils/validation.py:571: FutureWarning: is_sparse is deprecated and will be removed in a future version. Check `isinstance(dtype, pd.SparseDtype)` instead.\n",
      "  array.dtypes.apply(is_sparse).any()):\n",
      "/home/preethi/projects/hitlda-project/auto-sklearn/py39/lib/python3.9/site-packages/sklearn/utils/validation.py:571: FutureWarning: is_sparse is deprecated and will be removed in a future version. Check `isinstance(dtype, pd.SparseDtype)` instead.\n",
      "  array.dtypes.apply(is_sparse).any()):\n",
      "/home/preethi/projects/hitlda-project/auto-sklearn/py39/lib/python3.9/site-packages/sklearn/utils/validation.py:571: FutureWarning: is_sparse is deprecated and will be removed in a future version. Check `isinstance(dtype, pd.SparseDtype)` instead.\n",
      "  array.dtypes.apply(is_sparse).any()):\n",
      "/home/preethi/projects/hitlda-project/auto-sklearn/py39/lib/python3.9/site-packages/sklearn/utils/validation.py:571: FutureWarning: is_sparse is deprecated and will be removed in a future version. Check `isinstance(dtype, pd.SparseDtype)` instead.\n",
      "  array.dtypes.apply(is_sparse).any()):\n",
      "/home/preethi/projects/hitlda-project/auto-sklearn/py39/lib/python3.9/site-packages/sklearn/utils/validation.py:571: FutureWarning: is_sparse is deprecated and will be removed in a future version. Check `isinstance(dtype, pd.SparseDtype)` instead.\n",
      "  array.dtypes.apply(is_sparse).any()):\n"
     ]
    },
    {
     "name": "stdout",
     "output_type": "stream",
     "text": [
      "Time budget: 120\n"
     ]
    },
    {
     "name": "stderr",
     "output_type": "stream",
     "text": [
      "/home/preethi/projects/hitlda-project/auto-sklearn/py39/lib/python3.9/site-packages/sklearn/utils/validation.py:571: FutureWarning: is_sparse is deprecated and will be removed in a future version. Check `isinstance(dtype, pd.SparseDtype)` instead.\n",
      "  array.dtypes.apply(is_sparse).any()):\n",
      "/home/preethi/projects/hitlda-project/auto-sklearn/autosklearn/data/feature_validator.py:298: FutureWarning: is_sparse is deprecated and will be removed in a future version. Check `isinstance(dtype, pd.SparseDtype)` instead.\n",
      "  if is_sparse(X[column]):\n",
      "/home/preethi/projects/hitlda-project/auto-sklearn/autosklearn/data/feature_validator.py:318: UserWarning: Input Column Name has generic type object. Autosklearn will treat this column as string. Please ensure that this setting is suitable for your task.\n",
      "  warnings.warn(\n",
      "/home/preethi/projects/hitlda-project/auto-sklearn/autosklearn/data/feature_validator.py:318: UserWarning: Input Column Sex has generic type object. Autosklearn will treat this column as string. Please ensure that this setting is suitable for your task.\n",
      "  warnings.warn(\n",
      "/home/preethi/projects/hitlda-project/auto-sklearn/autosklearn/data/feature_validator.py:318: UserWarning: Input Column Ticket has generic type object. Autosklearn will treat this column as string. Please ensure that this setting is suitable for your task.\n",
      "  warnings.warn(\n",
      "/home/preethi/projects/hitlda-project/auto-sklearn/autosklearn/data/feature_validator.py:318: UserWarning: Input Column Cabin has generic type object. Autosklearn will treat this column as string. Please ensure that this setting is suitable for your task.\n",
      "  warnings.warn(\n",
      "/home/preethi/projects/hitlda-project/auto-sklearn/autosklearn/data/feature_validator.py:318: UserWarning: Input Column Embarked has generic type object. Autosklearn will treat this column as string. Please ensure that this setting is suitable for your task.\n",
      "  warnings.warn(\n",
      "Fitting to the training data: 100%|\u001b[32m██████████\u001b[0m| 120/120 [01:50<00:00,  1.09it/s, The total time budget for this task is 0:02:00]\n"
     ]
    },
    {
     "name": "stdout",
     "output_type": "stream",
     "text": [
      "Config: Configuration(values={\n",
      "  'balancing:strategy': 'none',\n",
      "  'classifier:__choice__': 'random_forest',\n",
      "  'classifier:random_forest:bootstrap': 'True',\n",
      "  'classifier:random_forest:criterion': 'gini',\n",
      "  'classifier:random_forest:max_depth': 'None',\n",
      "  'classifier:random_forest:max_features': 0.5,\n",
      "  'classifier:random_forest:max_leaf_nodes': 'None',\n",
      "  'classifier:random_forest:min_impurity_decrease': 0.0,\n",
      "  'classifier:random_forest:min_samples_leaf': 1,\n",
      "  'classifier:random_forest:min_samples_split': 2,\n",
      "  'classifier:random_forest:min_weight_fraction_leaf': 0.0,\n",
      "  'data_preprocessor:__choice__': 'feature_type',\n",
      "  'data_preprocessor:feature_type:numerical_transformer:imputation:strategy': 'mean',\n",
      "  'data_preprocessor:feature_type:numerical_transformer:rescaling:__choice__': 'standardize',\n",
      "  'data_preprocessor:feature_type:text_transformer:text_encoding:__choice__': 'tfidf_encoding',\n",
      "  'data_preprocessor:feature_type:text_transformer:text_encoding:tfidf_encoding:analyzer': 'char',\n",
      "  'data_preprocessor:feature_type:text_transformer:text_encoding:tfidf_encoding:binary': 'False',\n",
      "  'data_preprocessor:feature_type:text_transformer:text_encoding:tfidf_encoding:max_df': 1.0,\n",
      "  'data_preprocessor:feature_type:text_transformer:text_encoding:tfidf_encoding:min_df': 0.0,\n",
      "  'data_preprocessor:feature_type:text_transformer:text_encoding:tfidf_encoding:ngram_range_char': 4,\n",
      "  'data_preprocessor:feature_type:text_transformer:text_encoding:tfidf_encoding:norm': 'l2',\n",
      "  'data_preprocessor:feature_type:text_transformer:text_encoding:tfidf_encoding:per_column': False,\n",
      "  'data_preprocessor:feature_type:text_transformer:text_encoding:tfidf_encoding:sublinear_tf': 'False',\n",
      "  'data_preprocessor:feature_type:text_transformer:text_feature_reduction:n_components': 100,\n",
      "  'feature_preprocessor:__choice__': 'no_preprocessing',\n",
      "})\n",
      "\n",
      "Leaderboard:           rank  ensemble_weight           type      cost  duration\n",
      "model_id                                                          \n",
      "7            1             0.02    extra_trees  0.163636  6.487216\n",
      "19           2             0.08            mlp  0.163636  3.148363\n",
      "5            4             0.02  random_forest  0.175758  4.764954\n",
      "11           3             0.20  liblinear_svc  0.175758  2.111192\n",
      "24           5             0.08  random_forest  0.175758  3.241691\n",
      "12           6             0.12            mlp  0.181818  2.015193\n",
      "2            8             0.12  random_forest  0.187879  4.140190\n",
      "13           7             0.06    extra_trees  0.187879  2.615933\n",
      "4            9             0.02            lda  0.200000  2.014287\n",
      "10          10             0.08            mlp  0.212121  2.501088\n",
      "18          11             0.02  random_forest  0.212121  3.695530\n",
      "23          12             0.18       adaboost  0.230303  3.336997\n"
     ]
    },
    {
     "name": "stderr",
     "output_type": "stream",
     "text": [
      "/home/preethi/projects/hitlda-project/auto-sklearn/py39/lib/python3.9/site-packages/sklearn/utils/validation.py:571: FutureWarning: is_sparse is deprecated and will be removed in a future version. Check `isinstance(dtype, pd.SparseDtype)` instead.\n",
      "  array.dtypes.apply(is_sparse).any()):\n",
      "/home/preethi/projects/hitlda-project/auto-sklearn/py39/lib/python3.9/site-packages/sklearn/utils/validation.py:571: FutureWarning: is_sparse is deprecated and will be removed in a future version. Check `isinstance(dtype, pd.SparseDtype)` instead.\n",
      "  array.dtypes.apply(is_sparse).any()):\n",
      "/home/preethi/projects/hitlda-project/auto-sklearn/py39/lib/python3.9/site-packages/sklearn/utils/validation.py:571: FutureWarning: is_sparse is deprecated and will be removed in a future version. Check `isinstance(dtype, pd.SparseDtype)` instead.\n",
      "  array.dtypes.apply(is_sparse).any()):\n",
      "/home/preethi/projects/hitlda-project/auto-sklearn/py39/lib/python3.9/site-packages/sklearn/utils/validation.py:571: FutureWarning: is_sparse is deprecated and will be removed in a future version. Check `isinstance(dtype, pd.SparseDtype)` instead.\n",
      "  array.dtypes.apply(is_sparse).any()):\n",
      "/home/preethi/projects/hitlda-project/auto-sklearn/py39/lib/python3.9/site-packages/sklearn/utils/validation.py:571: FutureWarning: is_sparse is deprecated and will be removed in a future version. Check `isinstance(dtype, pd.SparseDtype)` instead.\n",
      "  array.dtypes.apply(is_sparse).any()):\n",
      "/home/preethi/projects/hitlda-project/auto-sklearn/py39/lib/python3.9/site-packages/sklearn/utils/validation.py:571: FutureWarning: is_sparse is deprecated and will be removed in a future version. Check `isinstance(dtype, pd.SparseDtype)` instead.\n",
      "  array.dtypes.apply(is_sparse).any()):\n",
      "/home/preethi/projects/hitlda-project/auto-sklearn/py39/lib/python3.9/site-packages/sklearn/utils/validation.py:571: FutureWarning: is_sparse is deprecated and will be removed in a future version. Check `isinstance(dtype, pd.SparseDtype)` instead.\n",
      "  array.dtypes.apply(is_sparse).any()):\n",
      "/home/preethi/projects/hitlda-project/auto-sklearn/py39/lib/python3.9/site-packages/sklearn/utils/validation.py:571: FutureWarning: is_sparse is deprecated and will be removed in a future version. Check `isinstance(dtype, pd.SparseDtype)` instead.\n",
      "  array.dtypes.apply(is_sparse).any()):\n",
      "/home/preethi/projects/hitlda-project/auto-sklearn/py39/lib/python3.9/site-packages/sklearn/utils/validation.py:571: FutureWarning: is_sparse is deprecated and will be removed in a future version. Check `isinstance(dtype, pd.SparseDtype)` instead.\n",
      "  array.dtypes.apply(is_sparse).any()):\n",
      "/home/preethi/projects/hitlda-project/auto-sklearn/py39/lib/python3.9/site-packages/sklearn/utils/validation.py:571: FutureWarning: is_sparse is deprecated and will be removed in a future version. Check `isinstance(dtype, pd.SparseDtype)` instead.\n",
      "  array.dtypes.apply(is_sparse).any()):\n",
      "/home/preethi/projects/hitlda-project/auto-sklearn/py39/lib/python3.9/site-packages/sklearn/utils/validation.py:571: FutureWarning: is_sparse is deprecated and will be removed in a future version. Check `isinstance(dtype, pd.SparseDtype)` instead.\n",
      "  array.dtypes.apply(is_sparse).any()):\n",
      "/home/preethi/projects/hitlda-project/auto-sklearn/py39/lib/python3.9/site-packages/sklearn/utils/validation.py:571: FutureWarning: is_sparse is deprecated and will be removed in a future version. Check `isinstance(dtype, pd.SparseDtype)` instead.\n",
      "  array.dtypes.apply(is_sparse).any()):\n"
     ]
    }
   ],
   "source": [
    "from pprint import pprint\n",
    "import sklearn.metrics\n",
    "import autosklearn.classification\n",
    "import timeit\n",
    "import pandas as pd\n",
    "from sklearn.model_selection import train_test_split\n",
    "\n",
    "\n",
    "file_path = '../data/titanic_dirty_data.csv'\n",
    "df = pd.read_csv(file_path)\n",
    "df = df.dropna(subset=['Survived'])\n",
    "y = df['Survived']\n",
    "X = df.drop('Survived', axis=1)\n",
    "X_train, X_test, y_train, y_test = train_test_split(X, y, test_size=0.2, random_state=42)\n",
    "\n",
    "time_budget = [30, 40, 60, 90, 120]\n",
    "accuracy = []\n",
    "precision = []\n",
    "recall = []\n",
    "leaderboard = []\n",
    "config_list = []\n",
    "for t in time_budget:\n",
    "    print(\"Time budget:\", t)\n",
    "    automl = autosklearn.classification.AutoSklearnClassifier(\n",
    "    time_left_for_this_task=t,\n",
    "    # include = {\n",
    "    #     'classifier': [\"mlp\"],\n",
    "    #     'feature_preprocessor': [\"no_preprocessing\"]\n",
    "    # },\n",
    "    tmp_folder=\"tmp/autosklearn_classification_example_tmp2\",\n",
    "    )\n",
    "\n",
    "    automl.fit(X_train, y_train, dataset_name=\"airbnb\")\n",
    "\n",
    "    run_key = list(automl.automl_.runhistory_.data.keys())[0]\n",
    "    run_value = automl.automl_.runhistory_.data[run_key]\n",
    "    config=automl.automl_.runhistory_.ids_config[run_key.config_id]\n",
    "    print(\"Config:\", config)\n",
    "    print(\"Leaderboard:\", automl.leaderboard())\n",
    "    config_list.append(str(config))\n",
    "    leaderboard.append(str(automl.leaderboard()))\n",
    "\n",
    "    predictions = automl.predict(X_test)\n",
    "    # print(\"Accuracy score:\", sklearn.metrics.accuracy_score(y_test, predictions))\n",
    "    # print(\"Precision\", sklearn.metrics.precision_score(y_test, predictions))\n",
    "    # print(\"Recall\", sklearn.metrics.recall_score(y_test, predictions))\n",
    "    accuracy.append(sklearn.metrics.accuracy_score(y_test, predictions))\n",
    "    precision.append(sklearn.metrics.precision_score(y_test, predictions))\n",
    "    recall.append(sklearn.metrics.recall_score(y_test, predictions))\n",
    "\n"
   ]
  },
  {
   "cell_type": "code",
   "execution_count": 2,
   "metadata": {},
   "outputs": [
    {
     "name": "stdout",
     "output_type": "stream",
     "text": [
      "[0.704, 0.704, 0.8, 0.784, 0.768]\n",
      "[0.6666666666666666, 0.6666666666666666, 0.875, 0.8666666666666667, 0.8571428571428571]\n",
      "[0.4897959183673469, 0.4897959183673469, 0.5714285714285714, 0.5306122448979592, 0.4897959183673469]\n"
     ]
    }
   ],
   "source": [
    "print(accuracy)\n",
    "print(precision)\n",
    "print(recall)\n",
    "# print(config_list)\n",
    "# print(leaderboard)"
   ]
  },
  {
   "cell_type": "code",
   "execution_count": 3,
   "metadata": {},
   "outputs": [
    {
     "data": {
      "text/plain": [
       "Text(0.5, 0, 'Time Budget')"
      ]
     },
     "execution_count": 3,
     "metadata": {},
     "output_type": "execute_result"
    },
    {
     "data": {
      "image/png": "[encoded data removed]",
      "text/plain": [
       "<Figure size 640x480 with 1 Axes>"
      ]
     },
     "metadata": {},
     "output_type": "display_data"
    }
   ],
   "source": [
    "import matplotlib.pyplot as plt\n",
    "\n",
    "plt.subplot(2, 2, 1)\n",
    "plt.plot(time_budget, accuracy, marker='o')\n",
    "plt.title('Time Budget vs. Accuracy')\n",
    "plt.ylabel('Accuracy')\n",
    "plt.xlabel('Time Budget')"
   ]
  },
  {
   "cell_type": "code",
   "execution_count": 4,
   "metadata": {},
   "outputs": [
    {
     "data": {
      "text/plain": [
       "Text(0.5, 0, 'Time Budget')"
      ]
     },
     "execution_count": 4,
     "metadata": {},
     "output_type": "execute_result"
    },
    {
     "data": {
      "image/png": "[encoded data removed]",
      "text/plain": [
       "<Figure size 640x480 with 1 Axes>"
      ]
     },
     "metadata": {},
     "output_type": "display_data"
    }
   ],
   "source": [
    "import matplotlib.pyplot as plt\n",
    "\n",
    "plt.subplot(2, 2, 1)\n",
    "plt.plot(time_budget, precision, marker='o')\n",
    "plt.title('Time Budget vs. Precision')\n",
    "plt.ylabel('Accuracy')\n",
    "plt.xlabel('Time Budget')"
   ]
  },
  {
   "cell_type": "code",
   "execution_count": 9,
   "metadata": {},
   "outputs": [
    {
     "data": {
      "text/plain": [
       "Text(0.5, 0, 'Time Budget')"
      ]
     },
     "execution_count": 9,
     "metadata": {},
     "output_type": "execute_result"
    },
    {
     "data": {
      "image/png": "[encoded data removed]",
      "text/plain": [
       "<Figure size 640x480 with 1 Axes>"
      ]
     },
     "metadata": {},
     "output_type": "display_data"
    }
   ],
   "source": [
    "import matplotlib.pyplot as plt\n",
    "\n",
    "plt.subplot(2, 2, 1)\n",
    "plt.plot(time_budget, recall, marker='o')\n",
    "plt.title('Time Budget vs. Recall')\n",
    "plt.ylabel('Accuracy')\n",
    "plt.xlabel('Time Budget')"
   ]
  }
 ],
 "metadata": {
  "kernelspec": {
   "display_name": "py39",
   "language": "python",
   "name": "python3"
  },
  "language_info": {
   "codemirror_mode": {
    "name": "ipython",
    "version": 3
   },
   "file_extension": ".py",
   "mimetype": "text/x-python",
   "name": "python",
   "nbconvert_exporter": "python",
   "pygments_lexer": "ipython3",
   "version": "3.9.18"
  }
 },
 "nbformat": 4,
 "nbformat_minor": 2
}
