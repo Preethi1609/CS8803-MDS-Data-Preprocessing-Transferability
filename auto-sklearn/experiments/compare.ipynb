{
 "cells": [
  {
   "cell_type": "markdown",
   "metadata": {},
   "source": [
    "### Imports"
   ]
  },
  {
   "cell_type": "code",
   "execution_count": 2,
   "metadata": {},
   "outputs": [],
   "source": [
    "from scipy import stats"
   ]
  },
  {
   "cell_type": "markdown",
   "metadata": {},
   "source": [
    "## Comparing MLP cleaned and RF cleaned dataset"
   ]
  },
  {
   "cell_type": "markdown",
   "metadata": {},
   "source": [
    "### Titanic dataset"
   ]
  },
  {
   "cell_type": "code",
   "execution_count": 7,
   "metadata": {},
   "outputs": [
    {
     "name": "stdout",
     "output_type": "stream",
     "text": [
      "Spearman's correlation coefficient: 0.0898\n",
      "P-value: 0.3597\n"
     ]
    }
   ],
   "source": [
    "rf_cleaned_feature_importances = [6, 7, 14, 5, 9, 74, 12, 91, 1, 13, 81, 76, 10, 96, 93, 79, 57, 51, 39, 83, 65, 73, 52, 19, 97, 86, 77, 31, 34, 24, 29, 82, 8, 23, 54, 85, 27, 64, 11, 87, 44, 25, 2, 59, 20, 90, 88, 56, 41, 99, 80, 48, 21, 15, 58, 101, 22, 38, 89, 92, 35, 63, 69, 45, 18, 61, 60, 0, 66, 84, 98, 55, 37, 50, 47, 36, 40, 100, 70, 53, 68, 17, 43, 32, 30, 49, 71, 46, 94, 102, 33, 67, 42, 26, 16, 103, 28, 78, 75, 105, 72, 62, 95, 104, 3, 4]\n",
    "mlp_cleaned_feature_importances = [6, 7, 14, 5, 9, 13, 84, 12, 51, 1, 39, 75, 89, 10, 82, 81, 37, 22, 80, 15, 85, 88, 27, 77, 52, 24, 68, 41, 59, 57, 86, 83, 64, 29, 76, 105, 25, 53, 38, 65, 103, 97, 63, 94, 43, 95, 87, 19, 44, 11, 2, 58, 54, 0, 74, 102, 48, 78, 100, 99, 31, 35, 36, 46, 79, 42, 91, 96, 23, 101, 17, 98, 34, 93, 49, 8, 90, 71, 60, 72, 73, 28, 55, 32, 20, 30, 56, 69, 47, 18, 66, 61, 50, 104, 62, 16, 70, 40, 92, 21, 45, 26, 67, 3, 4, 33]\n",
    "\n",
    "correlation, p_value = stats.spearmanr(rf_cleaned_feature_importances, mlp_cleaned_feature_importances)\n",
    "\n",
    "print(f\"Spearman's correlation coefficient: {correlation:.4f}\")\n",
    "print(f\"P-value: {p_value:.4f}\")\n"
   ]
  },
  {
   "cell_type": "markdown",
   "metadata": {},
   "source": [
    "### Credit dataset "
   ]
  },
  {
   "cell_type": "code",
   "execution_count": null,
   "metadata": {},
   "outputs": [],
   "source": [
    "rf_cleaned_feature_importances = [6, 7, 14, 5, 9, 74, 12, 91, 1, 13, 81, 76, 10, 96, 93, 79, 57, 51, 39, 83, 65, 73, 52, 19, 97, 86, 77, 31, 34, 24, 29, 82, 8, 23, 54, 85, 27, 64, 11, 87, 44, 25, 2, 59, 20, 90, 88, 56, 41, 99, 80, 48, 21, 15, 58, 101, 22, 38, 89, 92, 35, 63, 69, 45, 18, 61, 60, 0, 66, 84, 98, 55, 37, 50, 47, 36, 40, 100, 70, 53, 68, 17, 43, 32, 30, 49, 71, 46, 94, 102, 33, 67, 42, 26, 16, 103, 28, 78, 75, 105, 72, 62, 95, 104, 3, 4]\n",
    "mlp_cleaned_feature_importances = [6, 7, 14, 5, 9, 13, 84, 12, 51, 1, 39, 75, 89, 10, 82, 81, 37, 22, 80, 15, 85, 88, 27, 77, 52, 24, 68, 41, 59, 57, 86, 83, 64, 29, 76, 105, 25, 53, 38, 65, 103, 97, 63, 94, 43, 95, 87, 19, 44, 11, 2, 58, 54, 0, 74, 102, 48, 78, 100, 99, 31, 35, 36, 46, 79, 42, 91, 96, 23, 101, 17, 98, 34, 93, 49, 8, 90, 71, 60, 72, 73, 28, 55, 32, 20, 30, 56, 69, 47, 18, 66, 61, 50, 104, 62, 16, 70, 40, 92, 21, 45, 26, 67, 3, 4, 33]\n",
    "\n",
    "correlation, p_value = stats.spearmanr(rf_cleaned_feature_importances, mlp_cleaned_feature_importances)\n",
    "\n",
    "print(f\"Spearman's correlation coefficient: {correlation:.4f}\")\n",
    "print(f\"P-value: {p_value:.4f}\")"
   ]
  },
  {
   "cell_type": "markdown",
   "metadata": {},
   "source": [
    "### Airbnb dataset"
   ]
  },
  {
   "cell_type": "code",
   "execution_count": 8,
   "metadata": {},
   "outputs": [
    {
     "name": "stdout",
     "output_type": "stream",
     "text": [
      "Spearman's correlation coefficient: 0.7080\n",
      "P-value: 0.0000\n"
     ]
    }
   ],
   "source": [
    "rf_cleaned_feature_importances = [6, 7, 5, 4, 3, 2, 1, 0, 33, 8, 29, 35, 12, 15, 13, 31, 30, 32, 22, 34, 24, 37, 25, 36, 27, 10, 26, 20, 9, 19, 16, 23, 17, 21, 11, 28, 18, 14, 137, 72, 120, 84, 102, 131, 74, 116, 87, 129, 127, 64, 117, 75, 132, 118, 136, 135, 122, 133, 93, 130, 73, 78, 125, 128, 90, 134, 94, 107, 121, 98, 97, 40, 124, 108, 110, 126, 58, 85, 43, 100, 59, 55, 86, 54, 109, 57, 99, 38, 106, 111, 113, 82, 119, 88, 123, 68, 77, 92, 91, 81, 47, 51, 39, 62, 49, 48, 66, 112, 45, 61, 53, 114, 101, 115, 104, 63, 105, 103, 56, 52, 69, 42, 46, 50, 95, 80, 96, 70, 41, 89, 60, 79, 44, 83, 71, 65, 76, 67]\n",
    "mlp_cleaned_feature_importances = [6, 7, 5, 4, 3, 2, 1, 0, 33, 8, 35, 29, 12, 13, 34, 15, 31, 30, 37, 22, 32, 20, 27, 10, 16, 23, 25, 24, 28, 9, 19, 36, 26, 11, 17, 21, 18, 14, 72, 84, 102, 128, 74, 131, 137, 132, 136, 87, 133, 122, 118, 116, 135, 126, 43, 64, 94, 73, 90, 78, 127, 130, 129, 121, 134, 110, 109, 97, 54, 117, 75, 86, 111, 68, 107, 59, 58, 85, 38, 112, 93, 113, 55, 57, 125, 106, 98, 77, 99, 108, 120, 119, 100, 92, 40, 91, 124, 123, 82, 47, 115, 88, 81, 114, 51, 48, 45, 39, 61, 105, 53, 62, 101, 66, 104, 96, 103, 49, 95, 44, 41, 69, 52, 46, 80, 56, 60, 70, 79, 42, 63, 89, 50, 76, 65, 83, 71, 67]\n",
    "\n",
    "correlation, p_value = stats.spearmanr(rf_cleaned_feature_importances, mlp_cleaned_feature_importances)\n",
    "\n",
    "print(f\"Spearman's correlation coefficient: {correlation:.4f}\")\n",
    "print(f\"P-value: {p_value:.4f}\")"
   ]
  },
  {
   "cell_type": "markdown",
   "metadata": {},
   "source": [
    "## Comparing GradientBoost cleaned and RF cleaned dataset"
   ]
  },
  {
   "cell_type": "markdown",
   "metadata": {},
   "source": [
    "### Titanic dataset"
   ]
  },
  {
   "cell_type": "code",
   "execution_count": 10,
   "metadata": {},
   "outputs": [
    {
     "name": "stdout",
     "output_type": "stream",
     "text": [
      "Spearman's correlation coefficient: 0.1662\n",
      "P-value: 0.0887\n"
     ]
    }
   ],
   "source": [
    "rf_cleaned_feature_importances = [6, 7, 14, 5, 9, 74, 12, 91, 1, 13, 81, 76, 10, 96, 93, 79, 57, 51, 39, 83, 65, 73, 52, 19, 97, 86, 77, 31, 34, 24, 29, 82, 8, 23, 54, 85, 27, 64, 11, 87, 44, 25, 2, 59, 20, 90, 88, 56, 41, 99, 80, 48, 21, 15, 58, 101, 22, 38, 89, 92, 35, 63, 69, 45, 18, 61, 60, 0, 66, 84, 98, 55, 37, 50, 47, 36, 40, 100, 70, 53, 68, 17, 43, 32, 30, 49, 71, 46, 94, 102, 33, 67, 42, 26, 16, 103, 28, 78, 75, 105, 72, 62, 95, 104, 3, 4]\n",
    "gb_cleaned_feature_importances  = [6, 7, 14, 5, 9, 87, 69, 83, 59, 12, 10, 39, 13, 1, 89, 100, 76, 88, 77, 81, 51, 11, 97, 38, 40, 55, 31, 22, 74, 57, 23, 80, 90, 25, 52, 92, 8, 44, 95, 34, 94, 19, 73, 21, 79, 27, 2, 20, 58, 18, 41, 66, 37, 93, 98, 70, 28, 82, 78, 35, 36, 68, 104, 30, 46, 48, 15, 42, 85, 86, 17, 54, 102, 64, 99, 24, 50, 49, 43, 32, 56, 29, 0, 72, 101, 84, 65, 91, 53, 61, 75, 96, 63, 60, 47, 71, 16, 103, 67, 62, 105, 26, 45, 33, 3, 4]\n",
    "\n",
    "\n",
    "correlation, p_value = stats.spearmanr(rf_cleaned_feature_importances, gb_cleaned_feature_importances)\n",
    "\n",
    "print(f\"Spearman's correlation coefficient: {correlation:.4f}\")\n",
    "print(f\"P-value: {p_value:.4f}\")"
   ]
  },
  {
   "cell_type": "markdown",
   "metadata": {},
   "source": [
    "### Airbnb dataset"
   ]
  },
  {
   "cell_type": "code",
   "execution_count": 9,
   "metadata": {},
   "outputs": [
    {
     "name": "stdout",
     "output_type": "stream",
     "text": [
      "Spearman's correlation coefficient: 0.7268\n",
      "P-value: 0.0000\n"
     ]
    }
   ],
   "source": [
    "rf_cleaned_feature_importances = [6, 7, 5, 4, 3, 2, 1, 0, 33, 8, 29, 35, 12, 15, 13, 31, 30, 32, 22, 34, 24, 37, 25, 36, 27, 10, 26, 20, 9, 19, 16, 23, 17, 21, 11, 28, 18, 14, 137, 72, 120, 84, 102, 131, 74, 116, 87, 129, 127, 64, 117, 75, 132, 118, 136, 135, 122, 133, 93, 130, 73, 78, 125, 128, 90, 134, 94, 107, 121, 98, 97, 40, 124, 108, 110, 126, 58, 85, 43, 100, 59, 55, 86, 54, 109, 57, 99, 38, 106, 111, 113, 82, 119, 88, 123, 68, 77, 92, 91, 81, 47, 51, 39, 62, 49, 48, 66, 112, 45, 61, 53, 114, 101, 115, 104, 63, 105, 103, 56, 52, 69, 42, 46, 50, 95, 80, 96, 70, 41, 89, 60, 79, 44, 83, 71, 65, 76, 67]\n",
    "gb_cleaned_feature_importances = [6, 5, 7, 4, 3, 2, 1, 0, 33, 8, 35, 29, 12, 13, 30, 31, 15, 22, 32, 34, 10, 24, 16, 19, 27, 20, 25, 37, 36, 21, 11, 23, 26, 17, 9, 28, 18, 14, 116, 84, 102, 135, 136, 130, 72, 74, 137, 129, 118, 87, 132, 73, 64, 133, 94, 126, 122, 90, 75, 43, 131, 125, 107, 134, 128, 110, 117, 121, 93, 78, 97, 113, 58, 55, 98, 127, 68, 57, 59, 100, 111, 123, 40, 54, 120, 124, 109, 106, 86, 99, 85, 82, 38, 108, 77, 92, 91, 119, 112, 51, 88, 47, 39, 62, 81, 48, 115, 66, 53, 101, 114, 61, 103, 105, 49, 45, 44, 96, 104, 50, 41, 52, 69, 63, 56, 42, 80, 70, 95, 79, 60, 46, 71, 89, 83, 76, 67, 65]\n",
    "\n",
    "\n",
    "correlation, p_value = stats.spearmanr(rf_cleaned_feature_importances, gb_cleaned_feature_importances)\n",
    "\n",
    "print(f\"Spearman's correlation coefficient: {correlation:.4f}\")\n",
    "print(f\"P-value: {p_value:.4f}\")"
   ]
  }
 ],
 "metadata": {
  "kernelspec": {
   "display_name": "py39",
   "language": "python",
   "name": "python3"
  },
  "language_info": {
   "codemirror_mode": {
    "name": "ipython",
    "version": 3
   },
   "file_extension": ".py",
   "mimetype": "text/x-python",
   "name": "python",
   "nbconvert_exporter": "python",
   "pygments_lexer": "ipython3",
   "version": "3.9.18"
  }
 },
 "nbformat": 4,
 "nbformat_minor": 2
}
