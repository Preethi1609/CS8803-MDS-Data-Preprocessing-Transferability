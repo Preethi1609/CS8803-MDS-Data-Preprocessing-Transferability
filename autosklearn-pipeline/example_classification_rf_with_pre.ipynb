{
  "cells": [
    {
      "cell_type": "markdown",
      "metadata": {},
      "source": [
        "\n",
        "# Classification\n",
        "\n",
        "The following example shows how to fit a simple classification model with\n",
        "*auto-sklearn*.\n"
      ]
    },
    {
      "cell_type": "code",
      "execution_count": 9,
      "metadata": {
        "collapsed": false
      },
      "outputs": [],
      "source": [
        "from pprint import pprint\n",
        "import sklearn.metrics\n",
        "import autosklearn.classification\n",
        "import timeit"
      ]
    },
    {
      "cell_type": "markdown",
      "metadata": {},
      "source": [
        "## Data Loading\n",
        "\n"
      ]
    },
    {
      "cell_type": "code",
      "execution_count": 4,
      "metadata": {
        "collapsed": false
      },
      "outputs": [
        {
          "name": "stdout",
          "output_type": "stream",
          "text": [
            "Original df len 1000\n",
            "Checking if y has nulls 0\n",
            "Confirming y doesnt have nulls 0\n",
            "xlen 800\n",
            "ylen 800\n"
          ]
        }
      ],
      "source": [
        "\n",
        "import pandas as pd\n",
        "from sklearn.model_selection import train_test_split\n",
        "import autosklearn\n",
        "file_path = '../data/airbnb.csv'\n",
        "\n",
        "df = pd.read_csv(file_path)\n",
        "df = df.sample(n = 1000, random_state=16)\n",
        "print(\"Original df len\", len(df))\n",
        "print(\"Checking if y has nulls\", df[\"Rating\"].isnull().sum())\n",
        "# df = df.dropna(subset=['Rating'])\n",
        "# print(\"Drop empty rating cols df len\", len(df))\n",
        "y = df['Rating']\n",
        "print(\"Confirming y doesnt have nulls\", y.isnull().sum())\n",
        "X = df.drop('Rating', axis=1)\n",
        "X_train, X_test, y_train, y_test = train_test_split(X, y, test_size=0.2, random_state=42)\n",
        "y_train.isnull().sum()\n",
        "print(\"xlen\", (X_train.shape[0]))\n",
        "print(\"ylen\", len(y_train))"
      ]
    },
    {
      "cell_type": "code",
      "execution_count": 11,
      "metadata": {},
      "outputs": [
        {
          "data": {
            "text/plain": [
              "0"
            ]
          },
          "execution_count": 11,
          "metadata": {},
          "output_type": "execute_result"
        }
      ],
      "source": [
        "df['Rating'].isnull().sum()\n",
        "# y_train\n",
        "# df"
      ]
    },
    {
      "cell_type": "markdown",
      "metadata": {},
      "source": [
        "## Build and fit a classifier\n",
        "\n"
      ]
    },
    {
      "cell_type": "code",
      "execution_count": 12,
      "metadata": {
        "collapsed": false
      },
      "outputs": [
        {
          "name": "stdout",
          "output_type": "stream",
          "text": [
            "INITT\n",
            "helloo\n"
          ]
        }
      ],
      "source": [
        "start_time = timeit.default_timer()\n",
        "\n",
        "automl = autosklearn.classification.AutoSklearnClassifier(\n",
        "    time_left_for_this_task=120,\n",
        "    per_run_time_limit=30,\n",
        "    include = {\n",
        "        'classifier': [\"random_forest\"],\n",
        "        'feature_preprocessor': [\"no_preprocessing\"],\n",
        "    },\n",
        "    tmp_folder=\"tmp/autosklearn_classification_example_tmp4\",\n",
        ")\n",
        "\n",
        "automl.fit(X_train, y_train, dataset_name=\"airbnb\")\n",
        "## get configuration for a model/run\n",
        "run_key = list(automl.automl_.runhistory_.data.keys())[0]\n",
        "run_value = automl.automl_.runhistory_.data[run_key]\n",
        "config=automl.automl_.runhistory_.ids_config[run_key.config_id]\n",
        "print(config)\n",
        "\n",
        "\n",
        "end_time = timeit.default_timer()\n",
        "execution_time = end_time - start_time\n",
        "print(f\"Execution time: {execution_time} seconds\")"
      ]
    },
    {
      "cell_type": "code",
      "execution_count": 7,
      "metadata": {},
      "outputs": [
        {
          "name": "stdout",
          "output_type": "stream",
          "text": [
            "xlen 800\n",
            "ylen 800\n",
            "len xtrain cleaned csv 536\n"
          ]
        }
      ],
      "source": [
        "import pandas as pd\n",
        "print(\"xlen\", len(X_train))\n",
        "print(\"ylen\", len(y_train))\n",
        "file_path_X_train = \"/home/preethi/projects/CS8803-MDS-Data-Preprocessing-Transferability/autosklearn-pipeline/tr_file.csv\"\n",
        "file_path_X_train_w_labels = \"/home/preethi/projects/CS8803-MDS-Data-Preprocessing-Transferability/autosklearn-pipeline/tr_file_labels.csv\"\n",
        "X_train_without_labels = pd.read_csv(file_path_X_train)\n",
        "print('len xtrain cleaned csv', X_train_without_labels.shape[0])\n",
        "# X_train_without_labels['Label'] = y_train \n",
        "# print(y_train.isnull().sum())\n",
        "# X_train_without_labels.to_csv(file_path_X_train_w_labels, index=False)"
      ]
    },
    {
      "cell_type": "code",
      "execution_count": 31,
      "metadata": {},
      "outputs": [
        {
          "ename": "TypeError",
          "evalue": "string indices must be integers",
          "output_type": "error",
          "traceback": [
            "\u001b[0;31m---------------------------------------------------------------------------\u001b[0m",
            "\u001b[0;31mTypeError\u001b[0m                                 Traceback (most recent call last)",
            "\u001b[1;32m/home/preethi/projects/CS8803-MDS-Data-Preprocessing-Transferability/autosklearn-pipeline/example_classification_rf_with_pre.ipynb Cell 10\u001b[0m line \u001b[0;36m1\n\u001b[0;32m----> <a href='vscode-notebook-cell:/home/preethi/projects/CS8803-MDS-Data-Preprocessing-Transferability/autosklearn-pipeline/example_classification_rf_with_pre.ipynb#X20sZmlsZQ%3D%3D?line=0'>1</a>\u001b[0m file_path_X_train[\u001b[39m'\u001b[39;49m\u001b[39m1\u001b[39;49m\u001b[39m'\u001b[39;49m]\u001b[39m.\u001b[39misnull()\u001b[39m.\u001b[39msum()\n",
            "\u001b[0;31mTypeError\u001b[0m: string indices must be integers"
          ]
        }
      ],
      "source": [
        "file_path_X_train['1'].isnull().sum()"
      ]
    },
    {
      "cell_type": "markdown",
      "metadata": {},
      "source": [
        "## View the models found by auto-sklearn\n",
        "\n"
      ]
    },
    {
      "cell_type": "code",
      "execution_count": 13,
      "metadata": {
        "collapsed": false
      },
      "outputs": [
        {
          "name": "stdout",
          "output_type": "stream",
          "text": [
            "          rank  ensemble_weight           type      cost   duration\n",
            "model_id                                                           \n",
            "2            1             0.82  random_forest  0.277016  23.999457\n",
            "3            2             0.18  random_forest  0.289259  27.258831\n"
          ]
        }
      ],
      "source": [
        "print(automl.leaderboard())"
      ]
    },
    {
      "cell_type": "markdown",
      "metadata": {},
      "source": [
        "## Print the final ensemble constructed by auto-sklearn\n",
        "\n"
      ]
    },
    {
      "cell_type": "code",
      "execution_count": 14,
      "metadata": {
        "collapsed": false
      },
      "outputs": [
        {
          "name": "stdout",
          "output_type": "stream",
          "text": [
            "{   2: {   'balancing': Balancing(random_state=1),\n",
            "           'classifier': <autosklearn.pipeline.components.classification.ClassifierChoice object at 0x7f9652f29df0>,\n",
            "           'cost': 0.2770159973881815,\n",
            "           'data_preprocessor': <autosklearn.pipeline.components.data_preprocessing.DataPreprocessorChoice object at 0x7f9652f32640>,\n",
            "           'ensemble_weight': 0.82,\n",
            "           'feature_preprocessor': <autosklearn.pipeline.components.feature_preprocessing.FeaturePreprocessorChoice object at 0x7f9652f29730>,\n",
            "           'model_id': 2,\n",
            "           'rank': 1,\n",
            "           'sklearn_classifier': RandomForestClassifier(max_features=11, n_estimators=512, n_jobs=1,\n",
            "                       random_state=1, warm_start=True)},\n",
            "    3: {   'balancing': Balancing(random_state=1, strategy='weighting'),\n",
            "           'classifier': <autosklearn.pipeline.components.classification.ClassifierChoice object at 0x7f9652eacd60>,\n",
            "           'cost': 0.2892588965066928,\n",
            "           'data_preprocessor': <autosklearn.pipeline.components.data_preprocessing.DataPreprocessorChoice object at 0x7f9652ea7a60>,\n",
            "           'ensemble_weight': 0.18,\n",
            "           'feature_preprocessor': <autosklearn.pipeline.components.feature_preprocessing.FeaturePreprocessorChoice object at 0x7f9652eace20>,\n",
            "           'model_id': 3,\n",
            "           'rank': 2,\n",
            "           'sklearn_classifier': RandomForestClassifier(bootstrap=False, criterion='entropy', max_features=7,\n",
            "                       min_samples_split=4, n_estimators=512, n_jobs=1,\n",
            "                       random_state=1, warm_start=True)}}\n"
          ]
        }
      ],
      "source": [
        "pprint(automl.show_models(), indent=4)"
      ]
    },
    {
      "cell_type": "markdown",
      "metadata": {},
      "source": [
        "## Get the Score of the final ensemble\n",
        "\n"
      ]
    },
    {
      "cell_type": "code",
      "execution_count": 15,
      "metadata": {
        "collapsed": false
      },
      "outputs": [
        {
          "name": "stdout",
          "output_type": "stream",
          "text": [
            "[]\n",
            "DFFFF\n",
            "       0         1    2    3      4          5         6          7        8   \\\n",
            "0     2.0  2.000000  2.0  4.0    9.0  179.00000  32.75659 -117.11892  92116.0   \n",
            "1     1.0  1.474143  1.0  2.0   27.0  129.00000  38.90513  -77.05231  20037.0   \n",
            "2     1.0  1.000000  1.0  2.0  172.0  112.00000  37.58423 -122.35999  94134.0   \n",
            "3     1.0  2.000000  5.0  6.0   69.0  100.00000  40.72976  -73.95189  11222.0   \n",
            "4     1.0  1.000000  1.0  3.0  112.0  130.00000  40.67026  -73.94970  11225.0   \n",
            "...   ...       ...  ...  ...    ...        ...       ...        ...      ...   \n",
            "4636  1.0  1.000000  1.0  2.0  154.0   99.00000  40.76717  -73.95532  10021.0   \n",
            "4637  1.0  2.000000  3.0  6.0   15.0   90.00000  38.93348  -77.03006  20010.0   \n",
            "4638  1.0  2.000000  2.0  5.0   79.0  118.41095  32.74007 -117.12474  92104.0   \n",
            "4639  1.0  1.000000  4.0  2.0   40.0   19.00000  29.97211  -90.06534  70116.0   \n",
            "4640  2.0  3.000000  3.0  5.0   17.0  110.00000  33.73939  -84.38542  30312.0   \n",
            "\n",
            "           9   ...       28      29         30          31         32  \\\n",
            "0     33392.0  ...  13356.8   306.0   2.290968  111.423841  43.131222   \n",
            "1     15504.0  ...   6201.6   419.0   6.756321  153.592233  38.372822   \n",
            "2     42274.0  ...  16909.6  1101.0   6.511094  154.094518  48.453384   \n",
            "3     36207.0  ...  14482.8   133.0   0.918331  124.914062  37.710744   \n",
            "4     61188.0  ...  24475.2   109.0   0.445349   89.580952  49.520000   \n",
            "...       ...  ...      ...     ...        ...         ...        ...   \n",
            "4636  45910.0  ...  18364.0    47.0   0.255936  150.510638  44.071429   \n",
            "4637  32886.0  ...  13154.4   294.0   2.234994  107.122449  48.944000   \n",
            "4638  46444.0  ...  18577.6   391.0   2.104685  118.631169  56.503125   \n",
            "4639  11761.0  ...   4704.4   703.0  14.943457   94.171920  83.967239   \n",
            "4640  22786.0  ...   9114.4   200.0   2.194330  119.368687  40.400000   \n",
            "\n",
            "            33        34        35        36        37  \n",
            "0     4.895522  1.140984  1.439716  1.764706  1.764706  \n",
            "1     4.766537  1.215827  1.425000  1.894988  1.894988  \n",
            "2     4.845794  1.322878  1.549407  1.934862  1.934862  \n",
            "3     4.858974  1.067669  1.245455  1.466165  1.466165  \n",
            "4     4.846939  1.055046  1.306931  1.752294  1.752294  \n",
            "...        ...       ...       ...       ...       ...  \n",
            "4636  4.684211  1.042553  1.277778  1.574468  1.574468  \n",
            "4637  4.849785  1.197279  1.314607  1.806122  1.806122  \n",
            "4638  4.920712  1.153846  1.517442  1.792839  1.792839  \n",
            "4639  4.823668  1.211127  1.524242  2.066856  2.066856  \n",
            "4640  4.937500  1.375000  1.602094  1.925000  1.925000  \n",
            "\n",
            "[4641 rows x 38 columns]\n",
            "NULL COUNTS AFTER NEW 0     0\n",
            "1     0\n",
            "2     0\n",
            "3     0\n",
            "4     0\n",
            "5     0\n",
            "6     0\n",
            "7     0\n",
            "8     0\n",
            "9     0\n",
            "10    0\n",
            "11    0\n",
            "12    0\n",
            "13    0\n",
            "14    0\n",
            "15    0\n",
            "16    0\n",
            "17    0\n",
            "18    0\n",
            "19    0\n",
            "20    0\n",
            "21    0\n",
            "22    0\n",
            "23    0\n",
            "24    0\n",
            "25    0\n",
            "26    0\n",
            "27    0\n",
            "28    0\n",
            "29    0\n",
            "30    0\n",
            "31    0\n",
            "32    0\n",
            "33    0\n",
            "34    0\n",
            "35    0\n",
            "36    0\n",
            "37    0\n",
            "dtype: int64\n",
            "TRANSFORMED DFFFFFFFFFFFF\n",
            "            0         1         2         3         4         5         6   \\\n",
            "0     1.443735  0.664505  0.049028  0.212378 -0.677634  0.628325 -0.764584   \n",
            "1    -0.396652  0.000000 -0.681052 -0.684700 -0.386827  0.109811  0.420601   \n",
            "2    -0.396652 -0.599157 -0.681052 -0.684700  1.955780 -0.066483  0.165986   \n",
            "3    -0.396652  0.664505  2.239268  1.109456  0.291721 -0.190927  0.772314   \n",
            "4    -0.396652 -0.599157 -0.681052 -0.236161  0.986425  0.120182  0.760845   \n",
            "...        ...       ...       ...       ...       ...       ...       ...   \n",
            "4636 -0.396652 -0.599157 -0.681052 -0.684700  1.664973 -0.201297  0.779525   \n",
            "4637 -0.396652  0.664505  0.779108  1.109456 -0.580698 -0.294629  0.426065   \n",
            "4638 -0.396652  0.664505  0.049028  0.660917  0.453280  0.000000 -0.767768   \n",
            "4639 -0.396652 -0.599157  1.509188 -0.684700 -0.176801 -1.030919 -1.301317   \n",
            "4640  1.443735  1.928168  0.779108  0.660917 -0.548386 -0.087224 -0.575141   \n",
            "\n",
            "            7         8         9   ...        28        29        30  \\\n",
            "0    -0.907800  0.921134 -0.033408  ... -0.033408 -0.371294 -0.354256   \n",
            "1     0.974622 -1.038296 -0.826958  ... -0.826958 -0.274327 -0.307772   \n",
            "2    -1.154037  0.975993  0.360617  ...  0.360617  0.310907 -0.310325   \n",
            "3     1.120287 -1.277927  0.091472  ...  0.091472 -0.519747 -0.368545   \n",
            "4     1.120390 -1.277845  1.199683  ...  1.199683 -0.540342 -0.373468   \n",
            "...        ...       ...       ...  ...       ...       ...       ...   \n",
            "4636  1.120126 -1.310575  0.521918  ...  0.521918 -0.593545 -0.375440   \n",
            "4637  0.975667 -1.039030 -0.055855  ... -0.055855 -0.381591 -0.354838   \n",
            "4638 -0.908073  0.920808  0.545607  ...  0.545607 -0.298354 -0.356195   \n",
            "4639  0.363240  0.323076 -0.993006  ... -0.993006 -0.030622 -0.222546   \n",
            "4640  0.630096 -0.758975 -0.503913  ... -0.503913 -0.462254 -0.355262   \n",
            "\n",
            "            31        32        33        34        35        36        37  \n",
            "0    -0.388437 -0.363592  1.083346 -0.714734 -0.269644 -0.525247 -0.525247  \n",
            "1     0.708606 -0.653419 -0.765310 -0.147827 -0.334961 -0.158749 -0.158749  \n",
            "2     0.721673 -0.039427  0.370630  0.663035  0.217210 -0.046578 -0.046578  \n",
            "3    -0.037479 -0.693746  0.559529 -1.270058 -1.131858 -1.365073 -1.365073  \n",
            "4    -0.956696  0.025539  0.387031 -1.365673 -0.859001 -0.560164 -0.560164  \n",
            "...        ...       ...       ...       ...       ...       ...       ...  \n",
            "4636  0.628436 -0.306325 -1.945236 -1.460300 -0.988394 -1.060406 -1.060406  \n",
            "4637 -0.500341 -0.009544  0.427830 -0.288323 -0.824932 -0.408738 -0.408738  \n",
            "4638 -0.200933  0.450871  1.444370 -0.617306  0.075334 -0.446106 -0.446106  \n",
            "4639 -0.837259  2.123671  0.053504 -0.183430  0.105518  0.324735  0.324735  \n",
            "4640 -0.181746 -0.529947  1.684981  1.057834  0.451057 -0.074322 -0.074322  \n",
            "\n",
            "[4641 rows x 38 columns]\n",
            "[]\n",
            "DFFFF\n",
            "       0    1    2    3      4      5         6          7        8        9   \\\n",
            "0     2.0  2.0  2.0  4.0    9.0  179.0  32.75659 -117.11892  92116.0  33392.0   \n",
            "1     1.0  1.0  1.0  2.0   27.0  129.0  38.90513  -77.05231  20037.0  15504.0   \n",
            "2     1.0  1.0  1.0  2.0  172.0  112.0  37.58423 -122.35999  94134.0  42274.0   \n",
            "3     1.0  2.0  5.0  6.0   69.0  100.0  40.72976  -73.95189  11222.0  36207.0   \n",
            "4     1.0  1.0  1.0  3.0  112.0  130.0  40.67026  -73.94970  11225.0  61188.0   \n",
            "...   ...  ...  ...  ...    ...    ...       ...        ...      ...      ...   \n",
            "4636  1.0  1.0  1.0  2.0  154.0   99.0  40.76717  -73.95532  10021.0  45910.0   \n",
            "4637  1.0  2.0  3.0  6.0   15.0   90.0  38.93348  -77.03006  20010.0  32886.0   \n",
            "4638  1.0  2.0  2.0  5.0   79.0   90.0  32.74007 -117.12474  92104.0  46444.0   \n",
            "4639  1.0  1.0  4.0  2.0   40.0   19.0  29.97211  -90.06534  70116.0  11761.0   \n",
            "4640  2.0  3.0  3.0  5.0   17.0  110.0  33.73939  -84.38542  30312.0  22786.0   \n",
            "\n",
            "      ...       28      29         30          31         32        33  \\\n",
            "0     ...  13356.8   306.0   2.290968  111.423841  43.131222  4.895522   \n",
            "1     ...   6201.6   419.0   6.756321  153.592233  38.372822  4.766537   \n",
            "2     ...  16909.6  1101.0   6.511094  154.094518  48.453384  4.845794   \n",
            "3     ...  14482.8   133.0   0.918331  124.914062  37.710744  4.858974   \n",
            "4     ...  24475.2   109.0   0.445349   89.580952  49.520000  4.846939   \n",
            "...   ...      ...     ...        ...         ...        ...       ...   \n",
            "4636  ...  18364.0    47.0   0.255936  150.510638  44.071429  4.684211   \n",
            "4637  ...  13154.4   294.0   2.234994  107.122449  48.944000  4.849785   \n",
            "4638  ...  18577.6   391.0   2.104685  118.631169  56.503125  4.920712   \n",
            "4639  ...   4704.4   703.0  14.943457   94.171920  83.967239  4.823668   \n",
            "4640  ...   9114.4   200.0   2.194330  119.368687  40.400000  4.937500   \n",
            "\n",
            "            34        35        36        37  \n",
            "0     1.140984  1.439716  1.764706  1.764706  \n",
            "1     1.215827  1.425000  1.894988  1.894988  \n",
            "2     1.322878  1.549407  1.934862  1.934862  \n",
            "3     1.067669  1.245455  1.466165  1.466165  \n",
            "4     1.055046  1.306931  1.752294  1.752294  \n",
            "...        ...       ...       ...       ...  \n",
            "4636  1.042553  1.277778  1.574468  1.574468  \n",
            "4637  1.197279  1.314607  1.806122  1.806122  \n",
            "4638  1.153846  1.517442  1.792839  1.792839  \n",
            "4639  1.211127  1.524242  2.066856  2.066856  \n",
            "4640  1.375000  1.602094  1.925000  1.925000  \n",
            "\n",
            "[4641 rows x 38 columns]\n",
            "NULL COUNTS AFTER NEW 0     0\n",
            "1     0\n",
            "2     0\n",
            "3     0\n",
            "4     0\n",
            "5     0\n",
            "6     0\n",
            "7     0\n",
            "8     0\n",
            "9     0\n",
            "10    0\n",
            "11    0\n",
            "12    0\n",
            "13    0\n",
            "14    0\n",
            "15    0\n",
            "16    0\n",
            "17    0\n",
            "18    0\n",
            "19    0\n",
            "20    0\n",
            "21    0\n",
            "22    0\n",
            "23    0\n",
            "24    0\n",
            "25    0\n",
            "26    0\n",
            "27    0\n",
            "28    0\n",
            "29    0\n",
            "30    0\n",
            "31    0\n",
            "32    0\n",
            "33    0\n",
            "34    0\n",
            "35    0\n",
            "36    0\n",
            "37    0\n",
            "dtype: int64\n",
            "TRANSFORMED DFFFFFFFFFFFF\n",
            "            0         1         2         3         4         5         6   \\\n",
            "0     1.447669  0.711279  0.055477  0.214599 -0.673581  0.633362 -0.764584   \n",
            "1    -0.390746 -0.533059 -0.672990 -0.682240 -0.382967  0.115263  0.420601   \n",
            "2    -0.390746 -0.533059 -0.672990 -0.682240  1.958091 -0.060890  0.165986   \n",
            "3    -0.390746  0.711279  2.240879  1.111439  0.295132 -0.185234  0.772314   \n",
            "4    -0.390746 -0.533059 -0.672990 -0.233820  0.989377  0.125625  0.760845   \n",
            "...        ...       ...       ...       ...       ...       ...       ...   \n",
            "4636 -0.390746 -0.533059 -0.672990 -0.682240  1.667477 -0.195596  0.779525   \n",
            "4637 -0.390746  0.711279  0.783944  1.111439 -0.576710 -0.288854  0.426065   \n",
            "4638 -0.390746  0.711279  0.055477  0.663019  0.456585 -0.288854 -0.767768   \n",
            "4639 -0.390746 -0.533059  1.512412 -0.682240 -0.173079 -1.024554 -1.301317   \n",
            "4640  1.447669  1.955618  0.783944  0.663019 -0.544419 -0.081614 -0.575141   \n",
            "\n",
            "            7         8         9   ...        28        29        30  \\\n",
            "0    -0.907800  0.921134 -0.033393  ... -0.033393 -0.371294 -0.353680   \n",
            "1     0.974622 -1.038296 -0.826944  ... -0.826944 -0.274327 -0.307201   \n",
            "2    -1.154037  0.975993  0.360631  ...  0.360631  0.310907 -0.309753   \n",
            "3     1.120287 -1.277927  0.091486  ...  0.091486 -0.519747 -0.367967   \n",
            "4     1.120390 -1.277845  1.199698  ...  1.199698 -0.540342 -0.372890   \n",
            "...        ...       ...       ...  ...       ...       ...       ...   \n",
            "4636  1.120126 -1.310575  0.521932  ...  0.521932 -0.593545 -0.374862   \n",
            "4637  0.975667 -1.039030 -0.055841  ... -0.055841 -0.381591 -0.354262   \n",
            "4638 -0.908073  0.920808  0.545622  ...  0.545622 -0.298354 -0.355619   \n",
            "4639  0.363240  0.323076 -0.992992  ... -0.992992 -0.030622 -0.221982   \n",
            "4640  0.630096 -0.758975 -0.503899  ... -0.503899 -0.462254 -0.354685   \n",
            "\n",
            "            31        32        33        34        35        36        37  \n",
            "0    -0.388437 -0.363592  1.083346 -0.714734 -0.269644 -0.525247 -0.525247  \n",
            "1     0.708606 -0.653419 -0.765310 -0.147827 -0.334961 -0.158749 -0.158749  \n",
            "2     0.721673 -0.039427  0.370630  0.663035  0.217210 -0.046578 -0.046578  \n",
            "3    -0.037479 -0.693746  0.559529 -1.270058 -1.131858 -1.365073 -1.365073  \n",
            "4    -0.956696  0.025539  0.387031 -1.365673 -0.859001 -0.560164 -0.560164  \n",
            "...        ...       ...       ...       ...       ...       ...       ...  \n",
            "4636  0.628436 -0.306325 -1.945236 -1.460300 -0.988394 -1.060406 -1.060406  \n",
            "4637 -0.500341 -0.009544  0.427830 -0.288323 -0.824932 -0.408738 -0.408738  \n",
            "4638 -0.200933  0.450871  1.444370 -0.617306  0.075334 -0.446106 -0.446106  \n",
            "4639 -0.837259  2.123671  0.053504 -0.183430  0.105518  0.324735  0.324735  \n",
            "4640 -0.181746 -0.529947  1.684981  1.057834  0.451057 -0.074322 -0.074322  \n",
            "\n",
            "[4641 rows x 38 columns]\n",
            "Accuracy score: 0.709114414996768\n"
          ]
        }
      ],
      "source": [
        "start_time = timeit.default_timer()\n",
        "\n",
        "predictions = automl.predict(X_test)\n",
        "\n",
        "end_time = timeit.default_timer()\n",
        "execution_time = end_time - start_time\n",
        "print(f\"Execution time: {execution_time} seconds\")\n",
        "print(\"Accuracy score:\", sklearn.metrics.accuracy_score(y_test, predictions))"
      ]
    }
  ],
  "metadata": {
    "kernelspec": {
      "display_name": "Python 3",
      "language": "python",
      "name": "python3"
    },
    "language_info": {
      "codemirror_mode": {
        "name": "ipython",
        "version": 3
      },
      "file_extension": ".py",
      "mimetype": "text/x-python",
      "name": "python",
      "nbconvert_exporter": "python",
      "pygments_lexer": "ipython3",
      "version": "3.9.18"
    }
  },
  "nbformat": 4,
  "nbformat_minor": 0
}
