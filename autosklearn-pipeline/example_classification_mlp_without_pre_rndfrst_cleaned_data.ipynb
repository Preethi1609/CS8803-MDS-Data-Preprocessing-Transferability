{
  "cells": [
    {
      "cell_type": "code",
      "execution_count": 1,
      "metadata": {
        "collapsed": false
      },
      "outputs": [],
      "source": [
        "# %matplotlib inline"
      ]
    },
    {
      "cell_type": "markdown",
      "metadata": {},
      "source": [
        "\n",
        "# Classification\n",
        "\n",
        "The following example shows how to fit a simple classification model with\n",
        "*auto-sklearn*.\n"
      ]
    },
    {
      "cell_type": "code",
      "execution_count": 2,
      "metadata": {
        "collapsed": false
      },
      "outputs": [],
      "source": [
        "from pprint import pprint\n",
        "import sklearn.metrics\n",
        "\n",
        "import autosklearn.classification"
      ]
    },
    {
      "cell_type": "markdown",
      "metadata": {},
      "source": [
        "## Data Loading\n",
        "\n"
      ]
    },
    {
      "cell_type": "code",
      "execution_count": 3,
      "metadata": {},
      "outputs": [],
      "source": [
        "from typing import Optional\n",
        "from pprint import pprint\n",
        "\n",
        "import autosklearn.classification\n",
        "import autosklearn.pipeline.components.data_preprocessing\n",
        "import sklearn.metrics\n",
        "from ConfigSpace.configuration_space import ConfigurationSpace\n",
        "\n",
        "from autosklearn.askl_typing import FEAT_TYPE_TYPE\n",
        "from autosklearn.pipeline.components.base import AutoSklearnPreprocessingAlgorithm\n",
        "from autosklearn.pipeline.constants import SPARSE, DENSE, UNSIGNED_DATA, INPUT\n",
        "from sklearn.datasets import load_breast_cancer\n",
        "from sklearn.model_selection import train_test_split\n",
        "\n",
        "\n",
        "class NoPreprocessing(AutoSklearnPreprocessingAlgorithm):\n",
        "    def __init__(self, **kwargs):\n",
        "        \"\"\"This preprocessors does not change the data\"\"\"\n",
        "        # Some internal checks makes sure parameters are set\n",
        "        for key, val in kwargs.items():\n",
        "            setattr(self, key, val)\n",
        "\n",
        "    def fit(self, X, Y=None):\n",
        "        return self\n",
        "\n",
        "    def transform(self, X):\n",
        "        return X\n",
        "\n",
        "    @staticmethod\n",
        "    def get_properties(dataset_properties=None):\n",
        "        return {\n",
        "            \"shortname\": \"NoPreprocessing\",\n",
        "            \"name\": \"NoPreprocessing\",\n",
        "            \"handles_regression\": True,\n",
        "            \"handles_classification\": True,\n",
        "            \"handles_multiclass\": True,\n",
        "            \"handles_multilabel\": True,\n",
        "            \"handles_multioutput\": True,\n",
        "            \"is_deterministic\": True,\n",
        "            \"input\": (SPARSE, DENSE, UNSIGNED_DATA),\n",
        "            \"output\": (INPUT,),\n",
        "        }\n",
        "\n",
        "    @staticmethod\n",
        "    def get_hyperparameter_search_space(\n",
        "        feat_type: Optional[FEAT_TYPE_TYPE] = None, dataset_properties=None\n",
        "    ):\n",
        "        return ConfigurationSpace()  # Return an empty configuration as there is None\n",
        "\n",
        "\n",
        "# Add NoPreprocessing component to auto-sklearn.\n",
        "autosklearn.pipeline.components.data_preprocessing.add_preprocessor(NoPreprocessing)"
      ]
    },
    {
      "cell_type": "code",
      "execution_count": 4,
      "metadata": {
        "collapsed": false
      },
      "outputs": [],
      "source": [
        "\n",
        "import pandas as pd\n",
        "from sklearn.model_selection import train_test_split\n",
        "import autosklearn\n",
        "file_path = 'clean_data_random_forest.csv'\n",
        "\n",
        "df = pd.read_csv(file_path)\n",
        "\n",
        "df.dropna(subset=['Rating'])\n",
        "y = df['Rating']\n",
        "X = df.drop('Rating', axis=1)\n",
        "X_train, X_test, y_train, y_test = train_test_split(X, y, test_size=0.2, random_state=42)\n",
        "df = pd.read_csv(file_path)"
      ]
    },
    {
      "cell_type": "markdown",
      "metadata": {},
      "source": [
        "## Build and fit a classifier\n",
        "\n"
      ]
    },
    {
      "cell_type": "code",
      "execution_count": 6,
      "metadata": {
        "collapsed": false
      },
      "outputs": [
        {
          "name": "stdout",
          "output_type": "stream",
          "text": [
            "INITT\n",
            "helloo\n"
          ]
        },
        {
          "name": "stderr",
          "output_type": "stream",
          "text": [
            "Fitting to the training data:   0%|\u001b[32m          \u001b[0m| 0/120 [00:00<?, ?it/s, The total time budget for this task is 0:02:00]"
          ]
        },
        {
          "name": "stdout",
          "output_type": "stream",
          "text": [
            "SKIPPING RESAMPLING\n",
            "Before data managing, null counts in X test\n",
            "0      0\n",
            "1      0\n",
            "2      0\n",
            "3      0\n",
            "4      0\n",
            "      ..\n",
            "133    0\n",
            "134    0\n",
            "135    0\n",
            "136    0\n",
            "137    0\n",
            "Length: 138, dtype: int64\n",
            "inside data manager:\n",
            "{'X_train':             0         1             2         3             4         5  \\\n",
            "264 -0.415794  0.000000 -6.879288e-01 -0.663075 -4.374283e-01 -0.781371   \n",
            "615 -0.415794  0.673504  2.396025e+00  1.699917 -7.125304e-01  0.840483   \n",
            "329 -0.415794  0.673504  8.540479e-01  0.282122 -2.998772e-01 -0.411835   \n",
            "342  0.000000  0.000000 -1.711938e-16  0.000000 -1.085955e-16  0.000000   \n",
            "394 -0.415794 -0.606516 -6.879288e-01 -0.663075  2.817947e+00 -0.247596   \n",
            "..        ...       ...           ...       ...           ...       ...   \n",
            "71  -0.415794 -0.606516  8.305958e-02 -0.190477 -4.221448e-01 -0.237331   \n",
            "106 -0.415794 -0.606516  8.305958e-02  0.282122 -4.527117e-01  0.707040   \n",
            "270 -0.415794 -0.606516  8.305958e-02  0.282122  6.476968e-01 -0.401570   \n",
            "435 -0.415794 -0.606516 -6.879288e-01 -1.135674 -5.138455e-01 -0.832696   \n",
            "102 -0.415794 -0.606516 -6.879288e-01 -0.663075 -5.902628e-01  0.070616   \n",
            "\n",
            "            6         7         8         9  ...           128           129  \\\n",
            "264  0.212120 -1.215415  1.044330 -1.332109  ...  3.469447e-18 -2.081668e-17   \n",
            "615 -1.334413  0.289383  0.395632  0.120624  ... -3.469447e-18 -8.760354e-17   \n",
            "329 -1.346786  0.292654  0.395956 -0.843205  ...  9.540979e-18  2.428613e-17   \n",
            "342  0.213417 -1.215370  1.044330 -1.332109  ...  0.000000e+00  0.000000e+00   \n",
            "394  0.802323  1.049626 -1.228249  1.196458  ... -6.938894e-17  1.387779e-17   \n",
            "..        ...       ...       ...       ...  ...           ...           ...   \n",
            "71  -0.786109 -0.978431  0.989597  0.571724  ... -1.834995e-17 -2.723942e-17   \n",
            "106  0.228112 -1.219810  1.044330 -1.332109  ...  3.469447e-18 -2.081668e-17   \n",
            "270 -1.340965  0.293054  0.395470 -1.347319  ...  9.540979e-18  2.428613e-17   \n",
            "435  0.794791  1.054724 -1.190103  0.462619  ...  3.440693e-17  4.509290e-17   \n",
            "102  0.214462 -1.227627  1.043574 -0.162599  ...  6.236861e-17 -3.297923e-17   \n",
            "\n",
            "              130           131           132           133           134  \\\n",
            "264 -6.938894e-18 -4.510281e-17 -6.591949e-17 -3.816392e-17 -6.938894e-18   \n",
            "615  9.540979e-17 -1.700029e-16 -4.423545e-17 -3.469447e-18  1.016982e-16   \n",
            "329  8.760354e-17 -1.778092e-17 -5.637851e-18  3.773024e-17  3.989864e-17   \n",
            "342  0.000000e+00  0.000000e+00  0.000000e+00  0.000000e+00  0.000000e+00   \n",
            "394  5.898060e-17 -7.459311e-17  1.062518e-17 -3.903128e-17 -6.071532e-17   \n",
            "..            ...           ...           ...           ...           ...   \n",
            "71  -1.500905e-16  4.684276e-17  3.782138e-17  2.211372e-17  1.851696e-18   \n",
            "106 -6.938894e-18 -4.510281e-17 -6.591949e-17 -3.816392e-17 -6.938894e-18   \n",
            "270  8.760354e-17 -1.778092e-17 -5.637851e-18  3.773024e-17  3.989864e-17   \n",
            "435  6.138814e-17  9.112215e-18 -2.825110e-17 -4.871844e-17 -3.165338e-17   \n",
            "102  2.597042e-17  2.289250e-16  1.298831e-16  1.077074e-16  4.122745e-19   \n",
            "\n",
            "              135           136           137  \n",
            "264  2.385245e-18  1.283695e-16 -1.040834e-17  \n",
            "615 -1.387779e-17  8.326673e-17  2.081668e-17  \n",
            "329  5.247539e-17  2.168404e-17  5.551115e-17  \n",
            "342  0.000000e+00  0.000000e+00  0.000000e+00  \n",
            "394  4.163336e-17  3.816392e-17 -2.775558e-17  \n",
            "..            ...           ...           ...  \n",
            "71  -4.004016e-17  5.466893e-17 -6.660421e-17  \n",
            "106  2.385245e-18  1.283695e-16 -1.040834e-17  \n",
            "270  5.247539e-17  2.168404e-17  5.551115e-17  \n",
            "435 -1.911873e-17  4.002505e-17 -8.496666e-17  \n",
            "102  4.592514e-17  8.451809e-17  1.505604e-16  \n",
            "\n",
            "[640 rows x 138 columns], 'Y_train': array([0., 1., 0., 1., 1., 0., 0., 1., 0., 1., 0., 0., 0., 0., 1., 0., 1.,\n",
            "       1., 1., 1., 1., 1., 0., 0., 1., 1., 1., 1., 1., 0., 1., 1., 0., 1.,\n",
            "       1., 1., 1., 1., 1., 1., 1., 1., 1., 0., 1., 1., 1., 1., 1., 1., 1.,\n",
            "       1., 1., 0., 1., 1., 1., 1., 0., 1., 0., 1., 0., 1., 1., 1., 0., 0.,\n",
            "       0., 1., 1., 1., 1., 1., 0., 1., 1., 1., 1., 0., 1., 0., 1., 1., 1.,\n",
            "       1., 0., 1., 1., 1., 1., 0., 1., 0., 1., 1., 0., 1., 1., 1., 1., 1.,\n",
            "       1., 1., 1., 0., 1., 1., 1., 1., 1., 1., 1., 1., 1., 1., 1., 0., 0.,\n",
            "       1., 0., 1., 0., 1., 1., 1., 0., 1., 1., 0., 1., 1., 1., 1., 0., 1.,\n",
            "       1., 1., 1., 0., 0., 1., 1., 1., 0., 0., 1., 1., 0., 0., 0., 0., 1.,\n",
            "       1., 1., 1., 1., 0., 1., 0., 0., 0., 0., 1., 0., 1., 1., 0., 0., 1.,\n",
            "       1., 1., 1., 0., 0., 1., 0., 1., 1., 1., 1., 0., 1., 1., 1., 1., 1.,\n",
            "       0., 0., 0., 0., 0., 1., 1., 1., 0., 0., 0., 1., 1., 1., 1., 1., 1.,\n",
            "       0., 1., 0., 1., 1., 1., 0., 1., 1., 1., 1., 0., 1., 1., 1., 1., 1.,\n",
            "       1., 1., 1., 1., 1., 1., 1., 1., 1., 1., 1., 0., 1., 1., 0., 1., 1.,\n",
            "       1., 1., 0., 1., 0., 1., 0., 0., 1., 1., 0., 1., 0., 0., 0., 1., 1.,\n",
            "       1., 0., 1., 1., 0., 1., 1., 1., 1., 1., 0., 1., 1., 0., 1., 1., 0.,\n",
            "       1., 1., 1., 1., 1., 0., 1., 1., 1., 1., 0., 0., 0., 0., 0., 1., 1.,\n",
            "       0., 1., 1., 1., 1., 1., 1., 1., 1., 0., 1., 0., 1., 1., 0., 0., 0.,\n",
            "       1., 0., 0., 0., 0., 1., 1., 0., 0., 1., 1., 0., 1., 1., 1., 1., 1.,\n",
            "       1., 1., 1., 1., 1., 1., 1., 0., 1., 1., 1., 1., 0., 1., 1., 0., 1.,\n",
            "       0., 0., 0., 1., 1., 0., 1., 1., 1., 0., 1., 1., 1., 0., 1., 1., 1.,\n",
            "       0., 0., 1., 0., 1., 0., 1., 1., 1., 1., 0., 0., 1., 1., 1., 0., 1.,\n",
            "       1., 1., 1., 0., 1., 0., 1., 0., 0., 0., 1., 0., 1., 1., 1., 0., 0.,\n",
            "       1., 1., 0., 1., 1., 1., 0., 1., 1., 0., 1., 0., 0., 1., 0., 1., 0.,\n",
            "       1., 1., 1., 1., 1., 1., 1., 1., 1., 0., 1., 1., 1., 1., 1., 1., 0.,\n",
            "       0., 1., 1., 0., 1., 1., 1., 0., 1., 1., 1., 1., 1., 0., 1., 1., 1.,\n",
            "       0., 1., 0., 1., 1., 0., 1., 1., 0., 1., 0., 0., 0., 1., 0., 1., 0.,\n",
            "       1., 1., 1., 1., 0., 1., 0., 1., 1., 1., 1., 1., 0., 0., 1., 0., 0.,\n",
            "       1., 1., 1., 1., 0., 1., 1., 1., 1., 1., 0., 1., 1., 1., 1., 0., 1.,\n",
            "       0., 1., 1., 1., 1., 1., 1., 1., 1., 1., 0., 1., 1., 1., 1., 0., 1.,\n",
            "       0., 1., 0., 1., 1., 1., 1., 1., 0., 1., 1., 0., 0., 1., 1., 1., 1.,\n",
            "       0., 0., 1., 1., 1., 1., 0., 1., 0., 0., 1., 1., 1., 1., 1., 1., 1.,\n",
            "       1., 1., 1., 0., 0., 0., 1., 1., 1., 1., 0., 0., 1., 1., 1., 1., 1.,\n",
            "       1., 0., 1., 0., 1., 1., 1., 0., 1., 0., 0., 1., 1., 0., 1., 1., 0.,\n",
            "       0., 1., 0., 1., 1., 1., 1., 1., 1., 0., 1., 1., 1., 1., 0., 1., 1.,\n",
            "       1., 1., 0., 1., 0., 1., 1., 1., 0., 1., 1., 0., 0., 0., 0., 1., 0.,\n",
            "       1., 0., 0., 1., 1., 1., 1., 0., 0., 1., 1., 0., 0., 1., 0., 0., 1.,\n",
            "       1., 1., 1., 0., 1., 1., 1., 1., 0., 1., 1.])}\n",
            "YYYY None\n",
            "[]\n",
            "DFFFF\n",
            "          0         1             2         3             4         5    \\\n",
            "0   -0.415794  0.000000 -6.879288e-01 -0.663075 -4.374283e-01 -0.781371   \n",
            "1   -0.415794  0.673504  2.396025e+00  1.699917 -7.125304e-01  0.840483   \n",
            "2   -0.415794  0.673504  8.540479e-01  0.282122 -2.998772e-01 -0.411835   \n",
            "3    0.000000  0.000000 -1.711938e-16  0.000000 -1.085955e-16  0.000000   \n",
            "4   -0.415794 -0.606516 -6.879288e-01 -0.663075  2.817947e+00 -0.247596   \n",
            "..        ...       ...           ...       ...           ...       ...   \n",
            "635 -0.415794 -0.606516  8.305958e-02 -0.190477 -4.221448e-01 -0.237331   \n",
            "636 -0.415794 -0.606516  8.305958e-02  0.282122 -4.527117e-01  0.707040   \n",
            "637 -0.415794 -0.606516  8.305958e-02  0.282122  6.476968e-01 -0.401570   \n",
            "638 -0.415794 -0.606516 -6.879288e-01 -1.135674 -5.138455e-01 -0.832696   \n",
            "639 -0.415794 -0.606516 -6.879288e-01 -0.663075 -5.902628e-01  0.070616   \n",
            "\n",
            "          6         7         8         9    ...           128           129  \\\n",
            "0    0.212120 -1.215415  1.044330 -1.332109  ...  3.469447e-18 -2.081668e-17   \n",
            "1   -1.334413  0.289383  0.395632  0.120624  ... -3.469447e-18 -8.760354e-17   \n",
            "2   -1.346786  0.292654  0.395956 -0.843205  ...  9.540979e-18  2.428613e-17   \n",
            "3    0.213417 -1.215370  1.044330 -1.332109  ...  0.000000e+00  0.000000e+00   \n",
            "4    0.802323  1.049626 -1.228249  1.196458  ... -6.938894e-17  1.387779e-17   \n",
            "..        ...       ...       ...       ...  ...           ...           ...   \n",
            "635 -0.786109 -0.978431  0.989597  0.571724  ... -1.834995e-17 -2.723942e-17   \n",
            "636  0.228112 -1.219810  1.044330 -1.332109  ...  3.469447e-18 -2.081668e-17   \n",
            "637 -1.340965  0.293054  0.395470 -1.347319  ...  9.540979e-18  2.428613e-17   \n",
            "638  0.794791  1.054724 -1.190103  0.462619  ...  3.440693e-17  4.509290e-17   \n",
            "639  0.214462 -1.227627  1.043574 -0.162599  ...  6.236861e-17 -3.297923e-17   \n",
            "\n",
            "              130           131           132           133           134  \\\n",
            "0   -6.938894e-18 -4.510281e-17 -6.591949e-17 -3.816392e-17 -6.938894e-18   \n",
            "1    9.540979e-17 -1.700029e-16 -4.423545e-17 -3.469447e-18  1.016982e-16   \n",
            "2    8.760354e-17 -1.778092e-17 -5.637851e-18  3.773024e-17  3.989864e-17   \n",
            "3    0.000000e+00  0.000000e+00  0.000000e+00  0.000000e+00  0.000000e+00   \n",
            "4    5.898060e-17 -7.459311e-17  1.062518e-17 -3.903128e-17 -6.071532e-17   \n",
            "..            ...           ...           ...           ...           ...   \n",
            "635 -1.500905e-16  4.684276e-17  3.782138e-17  2.211372e-17  1.851696e-18   \n",
            "636 -6.938894e-18 -4.510281e-17 -6.591949e-17 -3.816392e-17 -6.938894e-18   \n",
            "637  8.760354e-17 -1.778092e-17 -5.637851e-18  3.773024e-17  3.989864e-17   \n",
            "638  6.138814e-17  9.112215e-18 -2.825110e-17 -4.871844e-17 -3.165338e-17   \n",
            "639  2.597042e-17  2.289250e-16  1.298831e-16  1.077074e-16  4.122745e-19   \n",
            "\n",
            "              135           136           137  \n",
            "0    2.385245e-18  1.283695e-16 -1.040834e-17  \n",
            "1   -1.387779e-17  8.326673e-17  2.081668e-17  \n",
            "2    5.247539e-17  2.168404e-17  5.551115e-17  \n",
            "3    0.000000e+00  0.000000e+00  0.000000e+00  \n",
            "4    4.163336e-17  3.816392e-17 -2.775558e-17  \n",
            "..            ...           ...           ...  \n",
            "635 -4.004016e-17  5.466893e-17 -6.660421e-17  \n",
            "636  2.385245e-18  1.283695e-16 -1.040834e-17  \n",
            "637  5.247539e-17  2.168404e-17  5.551115e-17  \n",
            "638 -1.911873e-17  4.002505e-17 -8.496666e-17  \n",
            "639  4.592514e-17  8.451809e-17  1.505604e-16  \n",
            "\n",
            "[640 rows x 138 columns]\n",
            "NULL COUNTS AFTER NEW 0      0\n",
            "1      0\n",
            "2      0\n",
            "3      0\n",
            "4      0\n",
            "      ..\n",
            "133    0\n",
            "134    0\n",
            "135    0\n",
            "136    0\n",
            "137    0\n",
            "Length: 138, dtype: int64\n",
            "TRANSFORMED DFFFFFFFFFFFF\n",
            "          0         1         2         3         4         5         6    \\\n",
            "0   -0.434570 -0.003105 -0.679155 -0.653699 -0.429713 -0.814575  0.225333   \n",
            "1   -0.434570  0.672057  2.482447  1.726010 -0.699834  0.891399 -1.321362   \n",
            "2   -0.434570  0.672057  0.901646  0.298185 -0.294652 -0.425872 -1.333736   \n",
            "3   -0.010249 -0.003105  0.026095  0.014067 -0.000205  0.007323  0.226630   \n",
            "4   -0.434570 -0.611114 -0.679155 -0.653699  2.766717 -0.253115  0.815597   \n",
            "..        ...       ...       ...       ...       ...       ...       ...   \n",
            "635 -0.434570 -0.611114  0.111246 -0.177757 -0.414706 -0.242318 -0.773001   \n",
            "636 -0.434570 -0.611114  0.111246  0.298185 -0.444720  0.751034  0.241326   \n",
            "637 -0.434570 -0.611114  0.111246  0.298185  0.635764 -0.415075 -1.327915   \n",
            "638 -0.434570 -0.611114 -0.679155 -1.129641 -0.504746 -0.868562  0.808064   \n",
            "639 -0.434570 -0.611114 -0.679155 -0.653699 -0.579780  0.081601  0.227674   \n",
            "\n",
            "          7         8         9    ...       128       129       130  \\\n",
            "0   -1.228330  1.054030 -1.320525  ...  0.037207 -0.501624 -0.014316   \n",
            "1    0.279428  0.404921  0.110131  ... -0.089606 -2.178317  1.274403   \n",
            "2    0.282706  0.405246 -0.839051  ...  0.148168  0.630689  1.176111   \n",
            "3   -1.228286  1.054030 -1.320525  ... -0.026199  0.020982  0.073055   \n",
            "4    1.041167 -1.219985  1.169616  ... -1.294328  0.369386  0.815706   \n",
            "..        ...       ...       ...  ...       ...       ...       ...   \n",
            "635 -0.990880  0.999262  0.554375  ... -0.361557 -0.662868 -1.816804   \n",
            "636 -1.232734  1.054030 -1.320525  ...  0.037207 -0.501624 -0.014316   \n",
            "637  0.283107  0.404759 -1.335504  ...  0.148168  0.630689  1.176111   \n",
            "638  1.046275 -1.181815  0.446929  ...  0.602610  1.153046  0.846021   \n",
            "639 -1.240566  1.053273 -0.168788  ...  1.113628 -0.806966  0.400060   \n",
            "\n",
            "          131       132       133       134       135       136       137  \n",
            "0   -0.734183 -1.375487 -0.767950 -0.353989 -0.246543  1.792051 -0.135778  \n",
            "1   -2.202917 -1.002348 -0.104026  1.774377 -0.643533  0.989093  0.301940  \n",
            "2   -0.412898 -0.338160  0.684383  0.563630  0.976184 -0.107252  0.788292  \n",
            "3   -0.203807 -0.241144 -0.037634 -0.218045 -0.304769 -0.493289  0.010128  \n",
            "4   -1.080967 -0.058306 -0.784548 -1.407551  0.711524  0.186136 -0.378954  \n",
            "..        ...       ...       ...       ...       ...       ...       ...  \n",
            "635  0.347029  0.409686  0.385541 -0.181768 -1.282170  0.479972 -0.923541  \n",
            "636 -0.734183 -1.375487 -0.767950 -0.353989 -0.246543  1.792051 -0.135778  \n",
            "637 -0.412898 -0.338160  0.684383  0.563630  0.976184 -0.107252  0.788292  \n",
            "638 -0.096654 -0.727289 -0.969924 -0.838183 -0.771467  0.219269 -1.180949  \n",
            "639  2.488184  1.993885  2.023485 -0.209968  0.816289  1.011371  2.120709  \n",
            "\n",
            "[640 rows x 138 columns]\n",
            "[]\n",
            "DFFFF\n",
            "          0         1             2         3             4         5    \\\n",
            "0   -0.415794  0.000000 -6.879288e-01 -0.663075 -4.374283e-01 -0.781371   \n",
            "1   -0.415794  0.673504  2.396025e+00  1.699917 -7.125304e-01  0.840483   \n",
            "2   -0.415794  0.673504  8.540479e-01  0.282122 -2.998772e-01 -0.411835   \n",
            "3    0.000000  0.000000 -1.711938e-16  0.000000 -1.085955e-16  0.000000   \n",
            "4   -0.415794 -0.606516 -6.879288e-01 -0.663075  2.817947e+00 -0.247596   \n",
            "..        ...       ...           ...       ...           ...       ...   \n",
            "635 -0.415794 -0.606516  8.305958e-02 -0.190477 -4.221448e-01 -0.237331   \n",
            "636 -0.415794 -0.606516  8.305958e-02  0.282122 -4.527117e-01  0.707040   \n",
            "637 -0.415794 -0.606516  8.305958e-02  0.282122  6.476968e-01 -0.401570   \n",
            "638 -0.415794 -0.606516 -6.879288e-01 -1.135674 -5.138455e-01 -0.832696   \n",
            "639 -0.415794 -0.606516 -6.879288e-01 -0.663075 -5.902628e-01  0.070616   \n",
            "\n",
            "          6         7         8         9    ...           128           129  \\\n",
            "0    0.212120 -1.215415  1.044330 -1.332109  ...  3.469447e-18 -2.081668e-17   \n",
            "1   -1.334413  0.289383  0.395632  0.120624  ... -3.469447e-18 -8.760354e-17   \n",
            "2   -1.346786  0.292654  0.395956 -0.843205  ...  9.540979e-18  2.428613e-17   \n",
            "3    0.213417 -1.215370  1.044330 -1.332109  ...  0.000000e+00  0.000000e+00   \n",
            "4    0.802323  1.049626 -1.228249  1.196458  ... -6.938894e-17  1.387779e-17   \n",
            "..        ...       ...       ...       ...  ...           ...           ...   \n",
            "635 -0.786109 -0.978431  0.989597  0.571724  ... -1.834995e-17 -2.723942e-17   \n",
            "636  0.228112 -1.219810  1.044330 -1.332109  ...  3.469447e-18 -2.081668e-17   \n",
            "637 -1.340965  0.293054  0.395470 -1.347319  ...  9.540979e-18  2.428613e-17   \n",
            "638  0.794791  1.054724 -1.190103  0.462619  ...  3.440693e-17  4.509290e-17   \n",
            "639  0.214462 -1.227627  1.043574 -0.162599  ...  6.236861e-17 -3.297923e-17   \n",
            "\n",
            "              130           131           132           133           134  \\\n",
            "0   -6.938894e-18 -4.510281e-17 -6.591949e-17 -3.816392e-17 -6.938894e-18   \n",
            "1    9.540979e-17 -1.700029e-16 -4.423545e-17 -3.469447e-18  1.016982e-16   \n",
            "2    8.760354e-17 -1.778092e-17 -5.637851e-18  3.773024e-17  3.989864e-17   \n",
            "3    0.000000e+00  0.000000e+00  0.000000e+00  0.000000e+00  0.000000e+00   \n",
            "4    5.898060e-17 -7.459311e-17  1.062518e-17 -3.903128e-17 -6.071532e-17   \n",
            "..            ...           ...           ...           ...           ...   \n",
            "635 -1.500905e-16  4.684276e-17  3.782138e-17  2.211372e-17  1.851696e-18   \n",
            "636 -6.938894e-18 -4.510281e-17 -6.591949e-17 -3.816392e-17 -6.938894e-18   \n",
            "637  8.760354e-17 -1.778092e-17 -5.637851e-18  3.773024e-17  3.989864e-17   \n",
            "638  6.138814e-17  9.112215e-18 -2.825110e-17 -4.871844e-17 -3.165338e-17   \n",
            "639  2.597042e-17  2.289250e-16  1.298831e-16  1.077074e-16  4.122745e-19   \n",
            "\n",
            "              135           136           137  \n",
            "0    2.385245e-18  1.283695e-16 -1.040834e-17  \n",
            "1   -1.387779e-17  8.326673e-17  2.081668e-17  \n",
            "2    5.247539e-17  2.168404e-17  5.551115e-17  \n",
            "3    0.000000e+00  0.000000e+00  0.000000e+00  \n",
            "4    4.163336e-17  3.816392e-17 -2.775558e-17  \n",
            "..            ...           ...           ...  \n",
            "635 -4.004016e-17  5.466893e-17 -6.660421e-17  \n",
            "636  2.385245e-18  1.283695e-16 -1.040834e-17  \n",
            "637  5.247539e-17  2.168404e-17  5.551115e-17  \n",
            "638 -1.911873e-17  4.002505e-17 -8.496666e-17  \n",
            "639  4.592514e-17  8.451809e-17  1.505604e-16  \n",
            "\n",
            "[640 rows x 138 columns]\n",
            "NULL COUNTS AFTER NEW 0      0\n",
            "1      0\n",
            "2      0\n",
            "3      0\n",
            "4      0\n",
            "      ..\n",
            "133    0\n",
            "134    0\n",
            "135    0\n",
            "136    0\n",
            "137    0\n",
            "Length: 138, dtype: int64\n",
            "TRANSFORMED DFFFFFFFFFFFF\n",
            "          0         1         2         3         4         5         6    \\\n",
            "0   -0.434570 -0.003105 -0.679155 -0.653699 -0.429713 -0.814575  0.225333   \n",
            "1   -0.434570  0.672057  2.482447  1.726010 -0.699834  0.891399 -1.321362   \n",
            "2   -0.434570  0.672057  0.901646  0.298185 -0.294652 -0.425872 -1.333736   \n",
            "3   -0.010249 -0.003105  0.026095  0.014067 -0.000205  0.007323  0.226630   \n",
            "4   -0.434570 -0.611114 -0.679155 -0.653699  2.766717 -0.253115  0.815597   \n",
            "..        ...       ...       ...       ...       ...       ...       ...   \n",
            "635 -0.434570 -0.611114  0.111246 -0.177757 -0.414706 -0.242318 -0.773001   \n",
            "636 -0.434570 -0.611114  0.111246  0.298185 -0.444720  0.751034  0.241326   \n",
            "637 -0.434570 -0.611114  0.111246  0.298185  0.635764 -0.415075 -1.327915   \n",
            "638 -0.434570 -0.611114 -0.679155 -1.129641 -0.504746 -0.868562  0.808064   \n",
            "639 -0.434570 -0.611114 -0.679155 -0.653699 -0.579780  0.081601  0.227674   \n",
            "\n",
            "          7         8         9    ...       128       129       130  \\\n",
            "0   -1.228330  1.054030 -1.320525  ...  0.037207 -0.501624 -0.014316   \n",
            "1    0.279428  0.404921  0.110131  ... -0.089606 -2.178317  1.274403   \n",
            "2    0.282706  0.405246 -0.839051  ...  0.148168  0.630689  1.176111   \n",
            "3   -1.228286  1.054030 -1.320525  ... -0.026199  0.020982  0.073055   \n",
            "4    1.041167 -1.219985  1.169616  ... -1.294328  0.369386  0.815706   \n",
            "..        ...       ...       ...  ...       ...       ...       ...   \n",
            "635 -0.990880  0.999262  0.554375  ... -0.361557 -0.662868 -1.816804   \n",
            "636 -1.232734  1.054030 -1.320525  ...  0.037207 -0.501624 -0.014316   \n",
            "637  0.283107  0.404759 -1.335504  ...  0.148168  0.630689  1.176111   \n",
            "638  1.046275 -1.181815  0.446929  ...  0.602610  1.153046  0.846021   \n",
            "639 -1.240566  1.053273 -0.168788  ...  1.113628 -0.806966  0.400060   \n",
            "\n",
            "          131       132       133       134       135       136       137  \n",
            "0   -0.734183 -1.375487 -0.767950 -0.353989 -0.246543  1.792051 -0.135778  \n",
            "1   -2.202917 -1.002348 -0.104026  1.774377 -0.643533  0.989093  0.301940  \n",
            "2   -0.412898 -0.338160  0.684383  0.563630  0.976184 -0.107252  0.788292  \n",
            "3   -0.203807 -0.241144 -0.037634 -0.218045 -0.304769 -0.493289  0.010128  \n",
            "4   -1.080967 -0.058306 -0.784548 -1.407551  0.711524  0.186136 -0.378954  \n",
            "..        ...       ...       ...       ...       ...       ...       ...  \n",
            "635  0.347029  0.409686  0.385541 -0.181768 -1.282170  0.479972 -0.923541  \n",
            "636 -0.734183 -1.375487 -0.767950 -0.353989 -0.246543  1.792051 -0.135778  \n",
            "637 -0.412898 -0.338160  0.684383  0.563630  0.976184 -0.107252  0.788292  \n",
            "638 -0.096654 -0.727289 -0.969924 -0.838183 -0.771467  0.219269 -1.180949  \n",
            "639  2.488184  1.993885  2.023485 -0.209968  0.816289  1.011371  2.120709  \n",
            "\n",
            "[640 rows x 138 columns]\n",
            "[WARNING] [2023-11-18 18:49:59,731:Client-AutoMLSMBO(1)::airbnb] Configuration 601 not found\n",
            "[WARNING] [2023-11-18 18:49:59,731:Client-AutoMLSMBO(1)::airbnb] Configuration 220 not found\n",
            "[WARNING] [2023-11-18 18:49:59,731:Client-AutoMLSMBO(1)::airbnb] Configuration 176 not found\n",
            "[WARNING] [2023-11-18 18:49:59,731:Client-AutoMLSMBO(1)::airbnb] Configuration 546 not found\n",
            "[WARNING] [2023-11-18 18:49:59,731:Client-AutoMLSMBO(1)::airbnb] Configuration 476 not found\n",
            "[WARNING] [2023-11-18 18:49:59,731:Client-AutoMLSMBO(1)::airbnb] Configuration 162 not found\n",
            "[WARNING] [2023-11-18 18:49:59,731:Client-AutoMLSMBO(1)::airbnb] Configuration 702 not found\n",
            "[WARNING] [2023-11-18 18:49:59,731:Client-AutoMLSMBO(1)::airbnb] Configuration 7 not found\n",
            "[WARNING] [2023-11-18 18:49:59,731:Client-AutoMLSMBO(1)::airbnb] Configuration 631 not found\n",
            "[WARNING] [2023-11-18 18:49:59,731:Client-AutoMLSMBO(1)::airbnb] Configuration 492 not found\n",
            "[WARNING] [2023-11-18 18:49:59,731:Client-AutoMLSMBO(1)::airbnb] Configuration 32 not found\n",
            "[WARNING] [2023-11-18 18:49:59,731:Client-AutoMLSMBO(1)::airbnb] Configuration 467 not found\n",
            "[WARNING] [2023-11-18 18:49:59,731:Client-AutoMLSMBO(1)::airbnb] Configuration 91 not found\n",
            "[WARNING] [2023-11-18 18:49:59,731:Client-AutoMLSMBO(1)::airbnb] Configuration 22 not found\n",
            "[WARNING] [2023-11-18 18:49:59,731:Client-AutoMLSMBO(1)::airbnb] Configuration 440 not found\n",
            "[WARNING] [2023-11-18 18:49:59,731:Client-AutoMLSMBO(1)::airbnb] Configuration 657 not found\n",
            "[WARNING] [2023-11-18 18:49:59,731:Client-AutoMLSMBO(1)::airbnb] Configuration 386 not found\n",
            "[WARNING] [2023-11-18 18:49:59,731:Client-AutoMLSMBO(1)::airbnb] Configuration 238 not found\n",
            "[WARNING] [2023-11-18 18:49:59,731:Client-AutoMLSMBO(1)::airbnb] Configuration 254 not found\n",
            "[WARNING] [2023-11-18 18:49:59,731:Client-AutoMLSMBO(1)::airbnb] Configuration 9 not found\n",
            "[WARNING] [2023-11-18 18:49:59,731:Client-AutoMLSMBO(1)::airbnb] Configuration 690 not found\n",
            "[WARNING] [2023-11-18 18:49:59,731:Client-AutoMLSMBO(1)::airbnb] Configuration 407 not found\n",
            "[WARNING] [2023-11-18 18:49:59,731:Client-AutoMLSMBO(1)::airbnb] Configuration 332 not found\n",
            "[WARNING] [2023-11-18 18:49:59,731:Client-AutoMLSMBO(1)::airbnb] Configuration 61 not found\n",
            "[WARNING] [2023-11-18 18:49:59,731:Client-AutoMLSMBO(1)::airbnb] Configuration 206 not found\n",
            "[WARNING] [2023-11-18 18:49:59,731:Client-AutoMLSMBO(1)::airbnb] Configuration 71 not found\n",
            "[WARNING] [2023-11-18 18:49:59,732:Client-AutoMLSMBO(1)::airbnb] Configuration 566 not found\n",
            "[WARNING] [2023-11-18 18:49:59,732:Client-AutoMLSMBO(1)::airbnb] Configuration 701 not found\n",
            "[WARNING] [2023-11-18 18:49:59,732:Client-AutoMLSMBO(1)::airbnb] Configuration 81 not found\n",
            "[WARNING] [2023-11-18 18:49:59,732:Client-AutoMLSMBO(1)::airbnb] Configuration 257 not found\n",
            "[WARNING] [2023-11-18 18:49:59,732:Client-AutoMLSMBO(1)::airbnb] Configuration 28 not found\n",
            "[WARNING] [2023-11-18 18:49:59,732:Client-AutoMLSMBO(1)::airbnb] Configuration 393 not found\n",
            "[WARNING] [2023-11-18 18:49:59,732:Client-AutoMLSMBO(1)::airbnb] Configuration 579 not found\n",
            "[WARNING] [2023-11-18 18:49:59,732:Client-AutoMLSMBO(1)::airbnb] Configuration 663 not found\n",
            "[WARNING] [2023-11-18 18:49:59,732:Client-AutoMLSMBO(1)::airbnb] Configuration 694 not found\n",
            "[WARNING] [2023-11-18 18:49:59,732:Client-AutoMLSMBO(1)::airbnb] Configuration 145 not found\n",
            "[WARNING] [2023-11-18 18:49:59,732:Client-AutoMLSMBO(1)::airbnb] Configuration 230 not found\n",
            "[WARNING] [2023-11-18 18:49:59,732:Client-AutoMLSMBO(1)::airbnb] Configuration 574 not found\n",
            "[WARNING] [2023-11-18 18:49:59,732:Client-AutoMLSMBO(1)::airbnb] Configuration 473 not found\n",
            "[WARNING] [2023-11-18 18:49:59,732:Client-AutoMLSMBO(1)::airbnb] Configuration 585 not found\n",
            "[WARNING] [2023-11-18 18:49:59,732:Client-AutoMLSMBO(1)::airbnb] Configuration 460 not found\n",
            "[WARNING] [2023-11-18 18:49:59,732:Client-AutoMLSMBO(1)::airbnb] Configuration 184 not found\n",
            "[WARNING] [2023-11-18 18:49:59,732:Client-AutoMLSMBO(1)::airbnb] Configuration 211 not found\n"
          ]
        },
        {
          "name": "stderr",
          "output_type": "stream",
          "text": [
            "Fitting to the training data:   1%|\u001b[32m          \u001b[0m| 1/120 [00:01<01:59,  1.00s/it, The total time budget for this task is 0:02:00]"
          ]
        },
        {
          "name": "stdout",
          "output_type": "stream",
          "text": [
            "[WARNING] [2023-11-18 18:49:59,732:Client-AutoMLSMBO(1)::airbnb] Configuration 668 not found\n",
            "[WARNING] [2023-11-18 18:49:59,732:Client-AutoMLSMBO(1)::airbnb] Configuration 262 not found\n",
            "[WARNING] [2023-11-18 18:49:59,732:Client-AutoMLSMBO(1)::airbnb] Configuration 329 not found\n",
            "[WARNING] [2023-11-18 18:49:59,732:Client-AutoMLSMBO(1)::airbnb] Configuration 266 not found\n",
            "[WARNING] [2023-11-18 18:49:59,732:Client-AutoMLSMBO(1)::airbnb] Configuration 430 not found\n",
            "[WARNING] [2023-11-18 18:49:59,732:Client-AutoMLSMBO(1)::airbnb] Configuration 670 not found\n",
            "[WARNING] [2023-11-18 18:49:59,732:Client-AutoMLSMBO(1)::airbnb] Configuration 560 not found\n",
            "[WARNING] [2023-11-18 18:49:59,732:Client-AutoMLSMBO(1)::airbnb] Configuration 75 not found\n",
            "[WARNING] [2023-11-18 18:49:59,732:Client-AutoMLSMBO(1)::airbnb] Configuration 222 not found\n",
            "[WARNING] [2023-11-18 18:49:59,732:Client-AutoMLSMBO(1)::airbnb] Configuration 536 not found\n",
            "[WARNING] [2023-11-18 18:49:59,732:Client-AutoMLSMBO(1)::airbnb] Configuration 367 not found\n",
            "[WARNING] [2023-11-18 18:49:59,732:Client-AutoMLSMBO(1)::airbnb] Configuration 444 not found\n",
            "[WARNING] [2023-11-18 18:49:59,732:Client-AutoMLSMBO(1)::airbnb] Configuration 188 not found\n",
            "[WARNING] [2023-11-18 18:49:59,732:Client-AutoMLSMBO(1)::airbnb] Configuration 345 not found\n",
            "[WARNING] [2023-11-18 18:49:59,732:Client-AutoMLSMBO(1)::airbnb] Configuration 426 not found\n",
            "[WARNING] [2023-11-18 18:49:59,732:Client-AutoMLSMBO(1)::airbnb] Configuration 399 not found\n",
            "[WARNING] [2023-11-18 18:49:59,732:Client-AutoMLSMBO(1)::airbnb] Configuration 506 not found\n",
            "[WARNING] [2023-11-18 18:49:59,732:Client-AutoMLSMBO(1)::airbnb] Configuration 680 not found\n",
            "[WARNING] [2023-11-18 18:49:59,732:Client-AutoMLSMBO(1)::airbnb] Configuration 149 not found\n",
            "[WARNING] [2023-11-18 18:49:59,732:Client-AutoMLSMBO(1)::airbnb] Configuration 358 not found\n",
            "[WARNING] [2023-11-18 18:49:59,732:Client-AutoMLSMBO(1)::airbnb] Configuration 138 not found\n",
            "[WARNING] [2023-11-18 18:49:59,732:Client-AutoMLSMBO(1)::airbnb] Configuration 108 not found\n",
            "[WARNING] [2023-11-18 18:49:59,732:Client-AutoMLSMBO(1)::airbnb] Configuration 315 not found\n",
            "[WARNING] [2023-11-18 18:49:59,732:Client-AutoMLSMBO(1)::airbnb] Configuration 264 not found\n",
            "[WARNING] [2023-11-18 18:49:59,732:Client-AutoMLSMBO(1)::airbnb] Configuration 648 not found\n",
            "[WARNING] [2023-11-18 18:49:59,732:Client-AutoMLSMBO(1)::airbnb] Configuration 590 not found\n",
            "[WARNING] [2023-11-18 18:49:59,732:Client-AutoMLSMBO(1)::airbnb] Configuration 327 not found\n",
            "[WARNING] [2023-11-18 18:49:59,732:Client-AutoMLSMBO(1)::airbnb] Configuration 357 not found\n",
            "[WARNING] [2023-11-18 18:49:59,732:Client-AutoMLSMBO(1)::airbnb] Configuration 532 not found\n",
            "[WARNING] [2023-11-18 18:49:59,732:Client-AutoMLSMBO(1)::airbnb] Configuration 659 not found\n",
            "[WARNING] [2023-11-18 18:49:59,732:Client-AutoMLSMBO(1)::airbnb] Configuration 282 not found\n",
            "[WARNING] [2023-11-18 18:49:59,732:Client-AutoMLSMBO(1)::airbnb] Configuration 369 not found\n",
            "[WARNING] [2023-11-18 18:49:59,732:Client-AutoMLSMBO(1)::airbnb] Configuration 251 not found\n",
            "[WARNING] [2023-11-18 18:49:59,732:Client-AutoMLSMBO(1)::airbnb] Configuration 521 not found\n",
            "[WARNING] [2023-11-18 18:49:59,732:Client-AutoMLSMBO(1)::airbnb] Configuration 147 not found\n",
            "[WARNING] [2023-11-18 18:49:59,732:Client-AutoMLSMBO(1)::airbnb] Configuration 454 not found\n",
            "[WARNING] [2023-11-18 18:49:59,732:Client-AutoMLSMBO(1)::airbnb] Configuration 1 not found\n",
            "[WARNING] [2023-11-18 18:49:59,732:Client-AutoMLSMBO(1)::airbnb] Configuration 676 not found\n",
            "[WARNING] [2023-11-18 18:49:59,732:Client-AutoMLSMBO(1)::airbnb] Configuration 347 not found\n",
            "[WARNING] [2023-11-18 18:49:59,732:Client-AutoMLSMBO(1)::airbnb] Configuration 414 not found\n",
            "[WARNING] [2023-11-18 18:49:59,732:Client-AutoMLSMBO(1)::airbnb] Configuration 687 not found\n",
            "[WARNING] [2023-11-18 18:49:59,732:Client-AutoMLSMBO(1)::airbnb] Configuration 674 not found\n",
            "[WARNING] [2023-11-18 18:49:59,732:Client-AutoMLSMBO(1)::airbnb] Configuration 518 not found\n",
            "[WARNING] [2023-11-18 18:49:59,732:Client-AutoMLSMBO(1)::airbnb] Configuration 382 not found\n",
            "[WARNING] [2023-11-18 18:49:59,732:Client-AutoMLSMBO(1)::airbnb] Configuration 67 not found\n",
            "[WARNING] [2023-11-18 18:49:59,732:Client-AutoMLSMBO(1)::airbnb] Configuration 14 not found\n",
            "[WARNING] [2023-11-18 18:49:59,733:Client-AutoMLSMBO(1)::airbnb] Configuration 114 not found\n",
            "[WARNING] [2023-11-18 18:49:59,733:Client-AutoMLSMBO(1)::airbnb] Configuration 227 not found\n",
            "[WARNING] [2023-11-18 18:49:59,733:Client-AutoMLSMBO(1)::airbnb] Configuration 183 not found\n",
            "[WARNING] [2023-11-18 18:49:59,733:Client-AutoMLSMBO(1)::airbnb] Configuration 563 not found\n",
            "[WARNING] [2023-11-18 18:49:59,733:Client-AutoMLSMBO(1)::airbnb] Configuration 576 not found\n",
            "[WARNING] [2023-11-18 18:49:59,733:Client-AutoMLSMBO(1)::airbnb] Configuration 605 not found\n",
            "[WARNING] [2023-11-18 18:49:59,733:Client-AutoMLSMBO(1)::airbnb] Configuration 53 not found\n",
            "[WARNING] [2023-11-18 18:49:59,733:Client-AutoMLSMBO(1)::airbnb] Configuration 624 not found\n",
            "[WARNING] [2023-11-18 18:49:59,733:Client-AutoMLSMBO(1)::airbnb] Configuration 191 not found\n",
            "[WARNING] [2023-11-18 18:49:59,733:Client-AutoMLSMBO(1)::airbnb] Configuration 555 not found\n",
            "[WARNING] [2023-11-18 18:49:59,733:Client-AutoMLSMBO(1)::airbnb] Configuration 283 not found\n",
            "[WARNING] [2023-11-18 18:49:59,733:Client-AutoMLSMBO(1)::airbnb] Configuration 608 not found\n",
            "[WARNING] [2023-11-18 18:49:59,733:Client-AutoMLSMBO(1)::airbnb] Configuration 512 not found\n",
            "[WARNING] [2023-11-18 18:49:59,733:Client-AutoMLSMBO(1)::airbnb] Configuration 48 not found\n",
            "[WARNING] [2023-11-18 18:49:59,733:Client-AutoMLSMBO(1)::airbnb] Configuration 40 not found\n",
            "[WARNING] [2023-11-18 18:49:59,733:Client-AutoMLSMBO(1)::airbnb] Configuration 237 not found\n",
            "[WARNING] [2023-11-18 18:49:59,733:Client-AutoMLSMBO(1)::airbnb] Configuration 160 not found\n",
            "[WARNING] [2023-11-18 18:49:59,733:Client-AutoMLSMBO(1)::airbnb] Configuration 388 not found\n",
            "[WARNING] [2023-11-18 18:49:59,733:Client-AutoMLSMBO(1)::airbnb] Configuration 485 not found\n",
            "[WARNING] [2023-11-18 18:49:59,733:Client-AutoMLSMBO(1)::airbnb] Configuration 422 not found\n",
            "[WARNING] [2023-11-18 18:49:59,733:Client-AutoMLSMBO(1)::airbnb] Configuration 270 not found\n",
            "[WARNING] [2023-11-18 18:49:59,733:Client-AutoMLSMBO(1)::airbnb] Configuration 214 not found\n",
            "[WARNING] [2023-11-18 18:49:59,734:Client-AutoMLSMBO(1)::airbnb] Configuration 617 not found\n",
            "[WARNING] [2023-11-18 18:49:59,734:Client-AutoMLSMBO(1)::airbnb] Configuration 338 not found\n",
            "[WARNING] [2023-11-18 18:49:59,734:Client-AutoMLSMBO(1)::airbnb] Configuration 43 not found\n",
            "[WARNING] [2023-11-18 18:49:59,734:Client-AutoMLSMBO(1)::airbnb] Configuration 88 not found\n",
            "[WARNING] [2023-11-18 18:49:59,734:Client-AutoMLSMBO(1)::airbnb] Configuration 97 not found\n",
            "[WARNING] [2023-11-18 18:49:59,734:Client-AutoMLSMBO(1)::airbnb] Configuration 635 not found\n",
            "[WARNING] [2023-11-18 18:49:59,734:Client-AutoMLSMBO(1)::airbnb] Configuration 112 not found\n",
            "[WARNING] [2023-11-18 18:49:59,734:Client-AutoMLSMBO(1)::airbnb] Configuration 83 not found\n",
            "[WARNING] [2023-11-18 18:49:59,734:Client-AutoMLSMBO(1)::airbnb] Configuration 595 not found\n",
            "[WARNING] [2023-11-18 18:49:59,734:Client-AutoMLSMBO(1)::airbnb] Configuration 193 not found\n",
            "[WARNING] [2023-11-18 18:49:59,734:Client-AutoMLSMBO(1)::airbnb] Configuration 293 not found\n",
            "[WARNING] [2023-11-18 18:49:59,734:Client-AutoMLSMBO(1)::airbnb] Configuration 613 not found\n",
            "[WARNING] [2023-11-18 18:49:59,734:Client-AutoMLSMBO(1)::airbnb] Configuration 154 not found\n",
            "[WARNING] [2023-11-18 18:49:59,734:Client-AutoMLSMBO(1)::airbnb] Configuration 378 not found\n",
            "[WARNING] [2023-11-18 18:49:59,734:Client-AutoMLSMBO(1)::airbnb] Configuration 204 not found\n",
            "[WARNING] [2023-11-18 18:49:59,734:Client-AutoMLSMBO(1)::airbnb] Configuration 232 not found\n",
            "[WARNING] [2023-11-18 18:49:59,734:Client-AutoMLSMBO(1)::airbnb] Configuration 129 not found\n",
            "[WARNING] [2023-11-18 18:49:59,734:Client-AutoMLSMBO(1)::airbnb] Configuration 340 not found\n",
            "[WARNING] [2023-11-18 18:49:59,734:Client-AutoMLSMBO(1)::airbnb] Configuration 470 not found\n",
            "[WARNING] [2023-11-18 18:49:59,734:Client-AutoMLSMBO(1)::airbnb] Configuration 172 not found\n",
            "[WARNING] [2023-11-18 18:49:59,734:Client-AutoMLSMBO(1)::airbnb] Configuration 247 not found\n",
            "[WARNING] [2023-11-18 18:49:59,734:Client-AutoMLSMBO(1)::airbnb] Configuration 197 not found\n",
            "[WARNING] [2023-11-18 18:49:59,734:Client-AutoMLSMBO(1)::airbnb] Configuration 131 not found\n",
            "[WARNING] [2023-11-18 18:49:59,734:Client-AutoMLSMBO(1)::airbnb] Configuration 302 not found\n",
            "[WARNING] [2023-11-18 18:49:59,734:Client-AutoMLSMBO(1)::airbnb] Configuration 571 not found\n",
            "[WARNING] [2023-11-18 18:49:59,735:Client-AutoMLSMBO(1)::airbnb] Configuration 99 not found\n",
            "[WARNING] [2023-11-18 18:49:59,735:Client-AutoMLSMBO(1)::airbnb] Configuration 37 not found\n",
            "[WARNING] [2023-11-18 18:49:59,735:Client-AutoMLSMBO(1)::airbnb] Configuration 524 not found\n",
            "[WARNING] [2023-11-18 18:49:59,735:Client-AutoMLSMBO(1)::airbnb] Configuration 277 not found\n",
            "[WARNING] [2023-11-18 18:49:59,735:Client-AutoMLSMBO(1)::airbnb] Configuration 445 not found\n",
            "[WARNING] [2023-11-18 18:49:59,735:Client-AutoMLSMBO(1)::airbnb] Configuration 515 not found\n",
            "[WARNING] [2023-11-18 18:49:59,735:Client-AutoMLSMBO(1)::airbnb] Configuration 683 not found\n",
            "[WARNING] [2023-11-18 18:49:59,735:Client-AutoMLSMBO(1)::airbnb] Configuration 352 not found\n",
            "[WARNING] [2023-11-18 18:49:59,735:Client-AutoMLSMBO(1)::airbnb] Configuration 461 not found\n",
            "[WARNING] [2023-11-18 18:49:59,735:Client-AutoMLSMBO(1)::airbnb] Configuration 124 not found\n",
            "[WARNING] [2023-11-18 18:49:59,735:Client-AutoMLSMBO(1)::airbnb] Configuration 707 not found\n",
            "[WARNING] [2023-11-18 18:49:59,735:Client-AutoMLSMBO(1)::airbnb] Configuration 395 not found\n",
            "[WARNING] [2023-11-18 18:49:59,735:Client-AutoMLSMBO(1)::airbnb] Configuration 587 not found\n",
            "[WARNING] [2023-11-18 18:49:59,735:Client-AutoMLSMBO(1)::airbnb] Configuration 653 not found\n",
            "[WARNING] [2023-11-18 18:49:59,735:Client-AutoMLSMBO(1)::airbnb] Configuration 173 not found\n",
            "[WARNING] [2023-11-18 18:49:59,735:Client-AutoMLSMBO(1)::airbnb] Configuration 69 not found\n",
            "[WARNING] [2023-11-18 18:49:59,735:Client-AutoMLSMBO(1)::airbnb] Configuration 142 not found\n",
            "[WARNING] [2023-11-18 18:49:59,735:Client-AutoMLSMBO(1)::airbnb] Configuration 437 not found\n",
            "[WARNING] [2023-11-18 18:49:59,735:Client-AutoMLSMBO(1)::airbnb] Configuration 363 not found\n",
            "[WARNING] [2023-11-18 18:49:59,735:Client-AutoMLSMBO(1)::airbnb] Configuration 310 not found\n",
            "[WARNING] [2023-11-18 18:49:59,735:Client-AutoMLSMBO(1)::airbnb] Configuration 434 not found\n",
            "[WARNING] [2023-11-18 18:49:59,735:Client-AutoMLSMBO(1)::airbnb] Configuration 494 not found\n",
            "[WARNING] [2023-11-18 18:49:59,735:Client-AutoMLSMBO(1)::airbnb] Configuration 56 not found\n",
            "[WARNING] [2023-11-18 18:49:59,735:Client-AutoMLSMBO(1)::airbnb] Configuration 121 not found\n",
            "[WARNING] [2023-11-18 18:49:59,735:Client-AutoMLSMBO(1)::airbnb] Configuration 615 not found\n",
            "[WARNING] [2023-11-18 18:49:59,735:Client-AutoMLSMBO(1)::airbnb] Configuration 165 not found\n",
            "[WARNING] [2023-11-18 18:49:59,735:Client-AutoMLSMBO(1)::airbnb] Configuration 199 not found\n",
            "[WARNING] [2023-11-18 18:49:59,735:Client-AutoMLSMBO(1)::airbnb] Configuration 313 not found\n",
            "[WARNING] [2023-11-18 18:49:59,735:Client-AutoMLSMBO(1)::airbnb] Configuration 548 not found\n",
            "[WARNING] [2023-11-18 18:49:59,735:Client-AutoMLSMBO(1)::airbnb] Configuration 499 not found\n",
            "[WARNING] [2023-11-18 18:49:59,735:Client-AutoMLSMBO(1)::airbnb] Configuration 647 not found\n",
            "[WARNING] [2023-11-18 18:49:59,735:Client-AutoMLSMBO(1)::airbnb] Configuration 480 not found\n",
            "[WARNING] [2023-11-18 18:49:59,735:Client-AutoMLSMBO(1)::airbnb] Configuration 17 not found\n",
            "[WARNING] [2023-11-18 18:49:59,735:Client-AutoMLSMBO(1)::airbnb] Configuration 596 not found\n",
            "[WARNING] [2023-11-18 18:49:59,735:Client-AutoMLSMBO(1)::airbnb] Configuration 25 not found\n",
            "[WARNING] [2023-11-18 18:49:59,735:Client-AutoMLSMBO(1)::airbnb] Configuration 412 not found\n",
            "[WARNING] [2023-11-18 18:49:59,735:Client-AutoMLSMBO(1)::airbnb] Configuration 317 not found\n",
            "[WARNING] [2023-11-18 18:49:59,736:Client-AutoMLSMBO(1)::airbnb] Configuration 486 not found\n",
            "[WARNING] [2023-11-18 18:49:59,736:Client-AutoMLSMBO(1)::airbnb] Configuration 448 not found\n",
            "[WARNING] [2023-11-18 18:49:59,736:Client-AutoMLSMBO(1)::airbnb] Configuration 640 not found\n",
            "[WARNING] [2023-11-18 18:49:59,736:Client-AutoMLSMBO(1)::airbnb] Configuration 304 not found\n",
            "[WARNING] [2023-11-18 18:49:59,736:Client-AutoMLSMBO(1)::airbnb] Configuration 288 not found\n",
            "[WARNING] [2023-11-18 18:49:59,736:Client-AutoMLSMBO(1)::airbnb] Configuration 628 not found\n",
            "[WARNING] [2023-11-18 18:49:59,736:Client-AutoMLSMBO(1)::airbnb] Configuration 243 not found\n",
            "[WARNING] [2023-11-18 18:49:59,736:Client-AutoMLSMBO(1)::airbnb] Configuration 503 not found\n",
            "[WARNING] [2023-11-18 18:49:59,736:Client-AutoMLSMBO(1)::airbnb] Configuration 298 not found\n",
            "[WARNING] [2023-11-18 18:49:59,736:Client-AutoMLSMBO(1)::airbnb] Configuration 528 not found\n",
            "[WARNING] [2023-11-18 18:49:59,736:Client-AutoMLSMBO(1)::airbnb] Configuration 403 not found\n",
            "[WARNING] [2023-11-18 18:49:59,736:Client-AutoMLSMBO(1)::airbnb] Configuration 58 not found\n",
            "[WARNING] [2023-11-18 18:49:59,736:Client-AutoMLSMBO(1)::airbnb] Configuration 553 not found\n",
            "[WARNING] [2023-11-18 18:49:59,736:Client-AutoMLSMBO(1)::airbnb] Configuration 622 not found\n",
            "[WARNING] [2023-11-18 18:49:59,736:Client-AutoMLSMBO(1)::airbnb] Configuration 134 not found\n",
            "[WARNING] [2023-11-18 18:49:59,736:Client-AutoMLSMBO(1)::airbnb] Configuration 171 not found\n",
            "[WARNING] [2023-11-18 18:49:59,736:Client-AutoMLSMBO(1)::airbnb] Configuration 543 not found\n",
            "[WARNING] [2023-11-18 18:49:59,736:Client-AutoMLSMBO(1)::airbnb] Configuration 419 not found\n",
            "[WARNING] [2023-11-18 18:49:59,736:Client-AutoMLSMBO(1)::airbnb] Configuration 375 not found\n",
            "[WARNING] [2023-11-18 18:49:59,736:Client-AutoMLSMBO(1)::airbnb] Configuration 19 not found\n",
            "[WARNING] [2023-11-18 18:49:59,736:Client-AutoMLSMBO(1)::airbnb] Configuration 509 not found\n",
            "[WARNING] [2023-11-18 18:49:59,736:Client-AutoMLSMBO(1)::airbnb] Configuration 643 not found\n",
            "[WARNING] [2023-11-18 18:49:59,736:Client-AutoMLSMBO(1)::airbnb] Configuration 86 not found\n",
            "[WARNING] [2023-11-18 18:49:59,736:Client-AutoMLSMBO(1)::airbnb] Configuration 538 not found\n",
            "[WARNING] [2023-11-18 18:49:59,737:Client-AutoMLSMBO(1)::airbnb] Configuration 322 not found\n",
            "[WARNING] [2023-11-18 18:49:59,737:Client-AutoMLSMBO(1)::airbnb] Configuration 452 not found\n",
            "[WARNING] [2023-11-18 18:49:59,737:Client-AutoMLSMBO(1)::airbnb] Configuration 120 not found\n",
            "[WARNING] [2023-11-18 18:49:59,737:Client-AutoMLSMBO(1)::airbnb] Configuration 291 not found\n",
            "[WARNING] [2023-11-18 18:49:59,737:Client-AutoMLSMBO(1)::airbnb] Configuration 102 not found\n",
            "[WARNING] [2023-11-18 18:49:59,737:Client-AutoMLSMBO(1)::airbnb] Configuration 275 not found\n",
            "[WARNING] [2023-11-18 18:49:59,737:Client-AutoMLSMBO(1)::airbnb] Configuration 150 not found\n",
            "XDATAAA: None\n",
            "XDATAAA: None\n"
          ]
        },
        {
          "name": "stderr",
          "output_type": "stream",
          "text": [
            "Fitting to the training data:   2%|\u001b[32m▎         \u001b[0m| 3/120 [00:03<01:57,  1.00s/it, The total time budget for this task is 0:02:00]"
          ]
        },
        {
          "name": "stdout",
          "output_type": "stream",
          "text": [
            "XDATAAA: None\n",
            "XDATAAA: None\n"
          ]
        },
        {
          "name": "stderr",
          "output_type": "stream",
          "text": [
            "Fitting to the training data:   3%|\u001b[32m▎         \u001b[0m| 4/120 [00:04<01:56,  1.00s/it, The total time budget for this task is 0:02:00]"
          ]
        },
        {
          "name": "stdout",
          "output_type": "stream",
          "text": [
            "XDATAAA: None\n",
            "XDATAAA: None\n"
          ]
        },
        {
          "name": "stderr",
          "output_type": "stream",
          "text": [
            "Fitting to the training data:   4%|\u001b[32m▍         \u001b[0m| 5/120 [00:05<01:55,  1.00s/it, The total time budget for this task is 0:02:00]"
          ]
        },
        {
          "name": "stdout",
          "output_type": "stream",
          "text": [
            "XDATAAA: None\n"
          ]
        },
        {
          "name": "stderr",
          "output_type": "stream",
          "text": [
            "Fitting to the training data:   6%|\u001b[32m▌         \u001b[0m| 7/120 [00:07<01:53,  1.00s/it, The total time budget for this task is 0:02:00]"
          ]
        },
        {
          "name": "stdout",
          "output_type": "stream",
          "text": [
            "XDATAAA: None\n",
            "XDATAAA: None\n"
          ]
        },
        {
          "name": "stderr",
          "output_type": "stream",
          "text": [
            "Fitting to the training data:   8%|\u001b[32m▊         \u001b[0m| 9/120 [00:09<01:51,  1.00s/it, The total time budget for this task is 0:02:00]"
          ]
        },
        {
          "name": "stdout",
          "output_type": "stream",
          "text": [
            "XDATAAA: None\n"
          ]
        },
        {
          "name": "stderr",
          "output_type": "stream",
          "text": [
            "Fitting to the training data:   8%|\u001b[32m▊         \u001b[0m| 10/120 [00:10<01:50,  1.00s/it, The total time budget for this task is 0:02:00]"
          ]
        },
        {
          "name": "stdout",
          "output_type": "stream",
          "text": [
            "XDATAAA: None\n"
          ]
        },
        {
          "name": "stderr",
          "output_type": "stream",
          "text": [
            "Fitting to the training data:  10%|\u001b[32m█         \u001b[0m| 12/120 [00:12<01:48,  1.00s/it, The total time budget for this task is 0:02:00]"
          ]
        },
        {
          "name": "stdout",
          "output_type": "stream",
          "text": [
            "XDATAAA: None\n",
            "XDATAAA: None\n"
          ]
        },
        {
          "name": "stderr",
          "output_type": "stream",
          "text": [
            "Fitting to the training data:  11%|\u001b[32m█         \u001b[0m| 13/120 [00:13<01:47,  1.00s/it, The total time budget for this task is 0:02:00]"
          ]
        },
        {
          "name": "stdout",
          "output_type": "stream",
          "text": [
            "XDATAAA: None\n"
          ]
        },
        {
          "name": "stderr",
          "output_type": "stream",
          "text": [
            "Fitting to the training data:  12%|\u001b[32m█▎        \u001b[0m| 15/120 [00:15<01:45,  1.00s/it, The total time budget for this task is 0:02:00]"
          ]
        },
        {
          "name": "stdout",
          "output_type": "stream",
          "text": [
            "XDATAAA: None\n"
          ]
        },
        {
          "name": "stderr",
          "output_type": "stream",
          "text": [
            "Fitting to the training data:  13%|\u001b[32m█▎        \u001b[0m| 16/120 [00:16<01:44,  1.00s/it, The total time budget for this task is 0:02:00]"
          ]
        },
        {
          "name": "stdout",
          "output_type": "stream",
          "text": [
            "XDATAAA: None\n"
          ]
        },
        {
          "name": "stderr",
          "output_type": "stream",
          "text": [
            "Fitting to the training data:  14%|\u001b[32m█▍        \u001b[0m| 17/120 [00:17<01:43,  1.00s/it, The total time budget for this task is 0:02:00]"
          ]
        },
        {
          "name": "stdout",
          "output_type": "stream",
          "text": [
            "XDATAAA: None\n"
          ]
        },
        {
          "name": "stderr",
          "output_type": "stream",
          "text": [
            "Fitting to the training data:  15%|\u001b[32m█▌        \u001b[0m| 18/120 [00:18<01:42,  1.00s/it, The total time budget for this task is 0:02:00]"
          ]
        },
        {
          "name": "stdout",
          "output_type": "stream",
          "text": [
            "XDATAAA: None\n"
          ]
        },
        {
          "name": "stderr",
          "output_type": "stream",
          "text": [
            "Fitting to the training data:  16%|\u001b[32m█▌        \u001b[0m| 19/120 [00:19<01:41,  1.00s/it, The total time budget for this task is 0:02:00]"
          ]
        },
        {
          "name": "stdout",
          "output_type": "stream",
          "text": [
            "XDATAAA: None\n"
          ]
        },
        {
          "name": "stderr",
          "output_type": "stream",
          "text": [
            "Fitting to the training data:  17%|\u001b[32m█▋        \u001b[0m| 20/120 [00:20<01:40,  1.00s/it, The total time budget for this task is 0:02:00]"
          ]
        },
        {
          "name": "stdout",
          "output_type": "stream",
          "text": [
            "XDATAAA: None\n",
            "XDATAAA: None\n"
          ]
        },
        {
          "name": "stderr",
          "output_type": "stream",
          "text": [
            "Fitting to the training data:  18%|\u001b[32m█▊        \u001b[0m| 21/120 [00:21<01:39,  1.00s/it, The total time budget for this task is 0:02:00]"
          ]
        },
        {
          "name": "stdout",
          "output_type": "stream",
          "text": [
            "XDATAAA: None\n"
          ]
        },
        {
          "name": "stderr",
          "output_type": "stream",
          "text": [
            "Fitting to the training data:  18%|\u001b[32m█▊        \u001b[0m| 22/120 [00:22<01:38,  1.00s/it, The total time budget for this task is 0:02:00]"
          ]
        },
        {
          "name": "stdout",
          "output_type": "stream",
          "text": [
            "XDATAAA: None\n"
          ]
        },
        {
          "name": "stderr",
          "output_type": "stream",
          "text": [
            "Fitting to the training data:  19%|\u001b[32m█▉        \u001b[0m| 23/120 [00:23<01:37,  1.00s/it, The total time budget for this task is 0:02:00]"
          ]
        },
        {
          "name": "stdout",
          "output_type": "stream",
          "text": [
            "XDATAAA: None\n"
          ]
        },
        {
          "name": "stderr",
          "output_type": "stream",
          "text": [
            "Fitting to the training data:  20%|\u001b[32m██        \u001b[0m| 24/120 [00:24<01:36,  1.00s/it, The total time budget for this task is 0:02:00]"
          ]
        },
        {
          "name": "stdout",
          "output_type": "stream",
          "text": [
            "XDATAAA: None\n"
          ]
        },
        {
          "name": "stderr",
          "output_type": "stream",
          "text": [
            "Fitting to the training data:  21%|\u001b[32m██        \u001b[0m| 25/120 [00:25<01:35,  1.00s/it, The total time budget for this task is 0:02:00]"
          ]
        },
        {
          "name": "stdout",
          "output_type": "stream",
          "text": [
            "XDATAAA: None\n",
            "XDATAAA: None\n"
          ]
        },
        {
          "name": "stderr",
          "output_type": "stream",
          "text": [
            "Fitting to the training data:  22%|\u001b[32m██▎       \u001b[0m| 27/120 [00:27<01:33,  1.00s/it, The total time budget for this task is 0:02:00]"
          ]
        },
        {
          "name": "stdout",
          "output_type": "stream",
          "text": [
            "XDATAAA: None\n",
            "XDATAAA: None\n"
          ]
        },
        {
          "name": "stderr",
          "output_type": "stream",
          "text": [
            "Fitting to the training data:  23%|\u001b[32m██▎       \u001b[0m| 28/120 [00:28<01:32,  1.00s/it, The total time budget for this task is 0:02:00]"
          ]
        },
        {
          "name": "stdout",
          "output_type": "stream",
          "text": [
            "XDATAAA: None\n"
          ]
        },
        {
          "name": "stderr",
          "output_type": "stream",
          "text": [
            "Fitting to the training data:  24%|\u001b[32m██▍       \u001b[0m| 29/120 [00:29<01:31,  1.00s/it, The total time budget for this task is 0:02:00]"
          ]
        },
        {
          "name": "stdout",
          "output_type": "stream",
          "text": [
            "XDATAAA: None\n"
          ]
        },
        {
          "name": "stderr",
          "output_type": "stream",
          "text": [
            "Fitting to the training data:  25%|\u001b[32m██▌       \u001b[0m| 30/120 [00:30<01:30,  1.00s/it, The total time budget for this task is 0:02:00]"
          ]
        },
        {
          "name": "stdout",
          "output_type": "stream",
          "text": [
            "XDATAAA: None\n"
          ]
        },
        {
          "name": "stderr",
          "output_type": "stream",
          "text": [
            "Fitting to the training data:  27%|\u001b[32m██▋       \u001b[0m| 32/120 [00:32<01:28,  1.00s/it, The total time budget for this task is 0:02:00]"
          ]
        },
        {
          "name": "stdout",
          "output_type": "stream",
          "text": [
            "XDATAAA: None\n",
            "XDATAAA: None\n"
          ]
        },
        {
          "name": "stderr",
          "output_type": "stream",
          "text": [
            "Fitting to the training data:  28%|\u001b[32m██▊       \u001b[0m| 33/120 [00:33<01:27,  1.00s/it, The total time budget for this task is 0:02:00]"
          ]
        },
        {
          "name": "stdout",
          "output_type": "stream",
          "text": [
            "XDATAAA: None\n"
          ]
        },
        {
          "name": "stderr",
          "output_type": "stream",
          "text": [
            "Fitting to the training data:  28%|\u001b[32m██▊       \u001b[0m| 34/120 [00:34<01:26,  1.00s/it, The total time budget for this task is 0:02:00]"
          ]
        },
        {
          "name": "stdout",
          "output_type": "stream",
          "text": [
            "XDATAAA: None\n"
          ]
        },
        {
          "name": "stderr",
          "output_type": "stream",
          "text": [
            "Fitting to the training data:  30%|\u001b[32m███       \u001b[0m| 36/120 [00:36<01:24,  1.00s/it, The total time budget for this task is 0:02:00]"
          ]
        },
        {
          "name": "stdout",
          "output_type": "stream",
          "text": [
            "XDATAAA: None\n"
          ]
        },
        {
          "name": "stderr",
          "output_type": "stream",
          "text": [
            "Fitting to the training data:  31%|\u001b[32m███       \u001b[0m| 37/120 [00:37<01:23,  1.00s/it, The total time budget for this task is 0:02:00]"
          ]
        },
        {
          "name": "stdout",
          "output_type": "stream",
          "text": [
            "XDATAAA: None\n"
          ]
        },
        {
          "name": "stderr",
          "output_type": "stream",
          "text": [
            "Fitting to the training data:  32%|\u001b[32m███▏      \u001b[0m| 38/120 [00:38<01:22,  1.00s/it, The total time budget for this task is 0:02:00]"
          ]
        },
        {
          "name": "stdout",
          "output_type": "stream",
          "text": [
            "XDATAAA: None\n",
            "XDATAAA: None\n"
          ]
        },
        {
          "name": "stderr",
          "output_type": "stream",
          "text": [
            "Fitting to the training data:  33%|\u001b[32m███▎      \u001b[0m| 40/120 [00:40<01:20,  1.00s/it, The total time budget for this task is 0:02:00]"
          ]
        },
        {
          "name": "stdout",
          "output_type": "stream",
          "text": [
            "XDATAAA: None\n"
          ]
        },
        {
          "name": "stderr",
          "output_type": "stream",
          "text": [
            "Fitting to the training data:  34%|\u001b[32m███▍      \u001b[0m| 41/120 [00:41<01:19,  1.00s/it, The total time budget for this task is 0:02:00]"
          ]
        },
        {
          "name": "stdout",
          "output_type": "stream",
          "text": [
            "XDATAAA: None\n"
          ]
        },
        {
          "name": "stderr",
          "output_type": "stream",
          "text": [
            "Fitting to the training data:  35%|\u001b[32m███▌      \u001b[0m| 42/120 [00:42<01:18,  1.00s/it, The total time budget for this task is 0:02:00]"
          ]
        },
        {
          "name": "stdout",
          "output_type": "stream",
          "text": [
            "XDATAAA: None\n"
          ]
        },
        {
          "name": "stderr",
          "output_type": "stream",
          "text": [
            "Fitting to the training data:  36%|\u001b[32m███▌      \u001b[0m| 43/120 [00:43<01:17,  1.00s/it, The total time budget for this task is 0:02:00]"
          ]
        },
        {
          "name": "stdout",
          "output_type": "stream",
          "text": [
            "XDATAAA: None\n"
          ]
        },
        {
          "name": "stderr",
          "output_type": "stream",
          "text": [
            "Fitting to the training data:  37%|\u001b[32m███▋      \u001b[0m| 44/120 [00:44<01:16,  1.00s/it, The total time budget for this task is 0:02:00]"
          ]
        },
        {
          "name": "stdout",
          "output_type": "stream",
          "text": [
            "XDATAAA: None\n"
          ]
        },
        {
          "name": "stderr",
          "output_type": "stream",
          "text": [
            "Fitting to the training data:  38%|\u001b[32m███▊      \u001b[0m| 45/120 [00:45<01:15,  1.00s/it, The total time budget for this task is 0:02:00]"
          ]
        },
        {
          "name": "stdout",
          "output_type": "stream",
          "text": [
            "XDATAAA: None\n"
          ]
        },
        {
          "name": "stderr",
          "output_type": "stream",
          "text": [
            "Fitting to the training data:  39%|\u001b[32m███▉      \u001b[0m| 47/120 [00:47<01:13,  1.00s/it, The total time budget for this task is 0:02:00]"
          ]
        },
        {
          "name": "stdout",
          "output_type": "stream",
          "text": [
            "XDATAAA: None\n"
          ]
        },
        {
          "name": "stderr",
          "output_type": "stream",
          "text": [
            "Fitting to the training data:  40%|\u001b[32m████      \u001b[0m| 48/120 [00:48<01:12,  1.00s/it, The total time budget for this task is 0:02:00]"
          ]
        },
        {
          "name": "stdout",
          "output_type": "stream",
          "text": [
            "XDATAAA: None\n"
          ]
        },
        {
          "name": "stderr",
          "output_type": "stream",
          "text": [
            "Fitting to the training data:  41%|\u001b[32m████      \u001b[0m| 49/120 [00:49<01:11,  1.00s/it, The total time budget for this task is 0:02:00]"
          ]
        },
        {
          "name": "stdout",
          "output_type": "stream",
          "text": [
            "XDATAAA: None\n"
          ]
        },
        {
          "name": "stderr",
          "output_type": "stream",
          "text": [
            "Fitting to the training data:  42%|\u001b[32m████▏     \u001b[0m| 50/120 [00:50<01:10,  1.00s/it, The total time budget for this task is 0:02:00]"
          ]
        },
        {
          "name": "stdout",
          "output_type": "stream",
          "text": [
            "XDATAAA: None\n"
          ]
        },
        {
          "name": "stderr",
          "output_type": "stream",
          "text": [
            "Fitting to the training data:  42%|\u001b[32m████▎     \u001b[0m| 51/120 [00:51<01:09,  1.00s/it, The total time budget for this task is 0:02:00]"
          ]
        },
        {
          "name": "stdout",
          "output_type": "stream",
          "text": [
            "XDATAAA: None\n"
          ]
        },
        {
          "name": "stderr",
          "output_type": "stream",
          "text": [
            "Fitting to the training data:  44%|\u001b[32m████▍     \u001b[0m| 53/120 [00:53<01:07,  1.00s/it, The total time budget for this task is 0:02:00]"
          ]
        },
        {
          "name": "stdout",
          "output_type": "stream",
          "text": [
            "XDATAAA: None\n"
          ]
        },
        {
          "name": "stderr",
          "output_type": "stream",
          "text": [
            "Fitting to the training data:  45%|\u001b[32m████▌     \u001b[0m| 54/120 [00:54<01:06,  1.00s/it, The total time budget for this task is 0:02:00]"
          ]
        },
        {
          "name": "stdout",
          "output_type": "stream",
          "text": [
            "XDATAAA: None\n"
          ]
        },
        {
          "name": "stderr",
          "output_type": "stream",
          "text": [
            "Fitting to the training data:  48%|\u001b[32m████▊     \u001b[0m| 57/120 [00:57<01:03,  1.00s/it, The total time budget for this task is 0:02:00]"
          ]
        },
        {
          "name": "stdout",
          "output_type": "stream",
          "text": [
            "XDATAAA: None\n"
          ]
        },
        {
          "name": "stderr",
          "output_type": "stream",
          "text": [
            "Fitting to the training data:  49%|\u001b[32m████▉     \u001b[0m| 59/120 [00:59<01:01,  1.00s/it, The total time budget for this task is 0:02:00]"
          ]
        },
        {
          "name": "stdout",
          "output_type": "stream",
          "text": [
            "XDATAAA: None\n"
          ]
        },
        {
          "name": "stderr",
          "output_type": "stream",
          "text": [
            "Fitting to the training data:  51%|\u001b[32m█████     \u001b[0m| 61/120 [01:01<00:59,  1.00s/it, The total time budget for this task is 0:02:00]"
          ]
        },
        {
          "name": "stdout",
          "output_type": "stream",
          "text": [
            "XDATAAA: None\n"
          ]
        },
        {
          "name": "stderr",
          "output_type": "stream",
          "text": [
            "Fitting to the training data:  52%|\u001b[32m█████▎    \u001b[0m| 63/120 [01:03<00:57,  1.00s/it, The total time budget for this task is 0:02:00]"
          ]
        },
        {
          "name": "stdout",
          "output_type": "stream",
          "text": [
            "XDATAAA: None\n"
          ]
        },
        {
          "name": "stderr",
          "output_type": "stream",
          "text": [
            "Fitting to the training data:  53%|\u001b[32m█████▎    \u001b[0m| 64/120 [01:04<00:56,  1.00s/it, The total time budget for this task is 0:02:00]"
          ]
        },
        {
          "name": "stdout",
          "output_type": "stream",
          "text": [
            "XDATAAA: None\n"
          ]
        },
        {
          "name": "stderr",
          "output_type": "stream",
          "text": [
            "Fitting to the training data:  57%|\u001b[32m█████▋    \u001b[0m| 68/120 [01:08<00:52,  1.00s/it, The total time budget for this task is 0:02:00]"
          ]
        },
        {
          "name": "stdout",
          "output_type": "stream",
          "text": [
            "XDATAAA: None\n"
          ]
        },
        {
          "name": "stderr",
          "output_type": "stream",
          "text": [
            "Fitting to the training data:  60%|\u001b[32m██████    \u001b[0m| 72/120 [01:12<00:48,  1.00s/it, The total time budget for this task is 0:02:00]"
          ]
        },
        {
          "name": "stdout",
          "output_type": "stream",
          "text": [
            "XDATAAA: None\n"
          ]
        },
        {
          "name": "stderr",
          "output_type": "stream",
          "text": [
            "Fitting to the training data:  62%|\u001b[32m██████▏   \u001b[0m| 74/120 [01:14<00:46,  1.00s/it, The total time budget for this task is 0:02:00]"
          ]
        },
        {
          "name": "stdout",
          "output_type": "stream",
          "text": [
            "XDATAAA: None\n"
          ]
        },
        {
          "name": "stderr",
          "output_type": "stream",
          "text": [
            "Fitting to the training data:  63%|\u001b[32m██████▎   \u001b[0m| 76/120 [01:16<00:44,  1.00s/it, The total time budget for this task is 0:02:00]"
          ]
        },
        {
          "name": "stdout",
          "output_type": "stream",
          "text": [
            "XDATAAA: None\n"
          ]
        },
        {
          "name": "stderr",
          "output_type": "stream",
          "text": [
            "Fitting to the training data:  65%|\u001b[32m██████▌   \u001b[0m| 78/120 [01:18<00:42,  1.00s/it, The total time budget for this task is 0:02:00]"
          ]
        },
        {
          "name": "stdout",
          "output_type": "stream",
          "text": [
            "XDATAAA: None\n"
          ]
        },
        {
          "name": "stderr",
          "output_type": "stream",
          "text": [
            "Fitting to the training data:  67%|\u001b[32m██████▋   \u001b[0m| 80/120 [01:20<00:40,  1.00s/it, The total time budget for this task is 0:02:00]"
          ]
        },
        {
          "name": "stdout",
          "output_type": "stream",
          "text": [
            "XDATAAA: None\n"
          ]
        },
        {
          "name": "stderr",
          "output_type": "stream",
          "text": [
            "Fitting to the training data:  68%|\u001b[32m██████▊   \u001b[0m| 81/120 [01:21<00:39,  1.00s/it, The total time budget for this task is 0:02:00]"
          ]
        },
        {
          "name": "stdout",
          "output_type": "stream",
          "text": [
            "XDATAAA: None\n"
          ]
        },
        {
          "name": "stderr",
          "output_type": "stream",
          "text": [
            "Fitting to the training data:  68%|\u001b[32m██████▊   \u001b[0m| 82/120 [01:22<00:38,  1.00s/it, The total time budget for this task is 0:02:00]"
          ]
        },
        {
          "name": "stdout",
          "output_type": "stream",
          "text": [
            "XDATAAA: None\n"
          ]
        },
        {
          "name": "stderr",
          "output_type": "stream",
          "text": [
            "Fitting to the training data:  71%|\u001b[32m███████   \u001b[0m| 85/120 [01:25<00:35,  1.00s/it, The total time budget for this task is 0:02:00]"
          ]
        },
        {
          "name": "stdout",
          "output_type": "stream",
          "text": [
            "XDATAAA: None\n"
          ]
        },
        {
          "name": "stderr",
          "output_type": "stream",
          "text": [
            "Fitting to the training data:  72%|\u001b[32m███████▎  \u001b[0m| 87/120 [01:27<00:33,  1.01s/it, The total time budget for this task is 0:02:00]"
          ]
        },
        {
          "name": "stdout",
          "output_type": "stream",
          "text": [
            "XDATAAA: None\n"
          ]
        },
        {
          "name": "stderr",
          "output_type": "stream",
          "text": [
            "Fitting to the training data:  76%|\u001b[32m███████▌  \u001b[0m| 91/120 [01:31<00:29,  1.01s/it, The total time budget for this task is 0:02:00]"
          ]
        },
        {
          "name": "stdout",
          "output_type": "stream",
          "text": [
            "XDATAAA: None\n"
          ]
        },
        {
          "name": "stderr",
          "output_type": "stream",
          "text": [
            "Fitting to the training data:  77%|\u001b[32m███████▋  \u001b[0m| 92/120 [01:32<00:28,  1.01s/it, The total time budget for this task is 0:02:00]"
          ]
        },
        {
          "name": "stdout",
          "output_type": "stream",
          "text": [
            "XDATAAA: None\n"
          ]
        },
        {
          "name": "stderr",
          "output_type": "stream",
          "text": [
            "Fitting to the training data:  78%|\u001b[32m███████▊  \u001b[0m| 94/120 [01:34<00:26,  1.00s/it, The total time budget for this task is 0:02:00]"
          ]
        },
        {
          "name": "stdout",
          "output_type": "stream",
          "text": [
            "XDATAAA: None\n"
          ]
        },
        {
          "name": "stderr",
          "output_type": "stream",
          "text": [
            "Fitting to the training data:  81%|\u001b[32m████████  \u001b[0m| 97/120 [01:37<00:23,  1.00s/it, The total time budget for this task is 0:02:00]"
          ]
        },
        {
          "name": "stdout",
          "output_type": "stream",
          "text": [
            "XDATAAA: None\n"
          ]
        },
        {
          "name": "stderr",
          "output_type": "stream",
          "text": [
            "Fitting to the training data:  82%|\u001b[32m████████▏ \u001b[0m| 98/120 [01:38<00:22,  1.00s/it, The total time budget for this task is 0:02:00]"
          ]
        },
        {
          "name": "stdout",
          "output_type": "stream",
          "text": [
            "XDATAAA: None\n"
          ]
        },
        {
          "name": "stderr",
          "output_type": "stream",
          "text": [
            "Fitting to the training data:  82%|\u001b[32m████████▎ \u001b[0m| 99/120 [01:39<00:21,  1.00s/it, The total time budget for this task is 0:02:00]"
          ]
        },
        {
          "name": "stdout",
          "output_type": "stream",
          "text": [
            "XDATAAA: None\n"
          ]
        },
        {
          "name": "stderr",
          "output_type": "stream",
          "text": [
            "Fitting to the training data:  87%|\u001b[32m████████▋ \u001b[0m| 104/120 [01:44<00:16,  1.03s/it, The total time budget for this task is 0:02:00]"
          ]
        },
        {
          "name": "stdout",
          "output_type": "stream",
          "text": [
            "XDATAAA: None\n"
          ]
        },
        {
          "name": "stderr",
          "output_type": "stream",
          "text": [
            "Fitting to the training data:  88%|\u001b[32m████████▊ \u001b[0m| 105/120 [01:45<00:15,  1.02s/it, The total time budget for this task is 0:02:00]"
          ]
        },
        {
          "name": "stdout",
          "output_type": "stream",
          "text": [
            "XDATAAA: None\n"
          ]
        },
        {
          "name": "stderr",
          "output_type": "stream",
          "text": [
            "Fitting to the training data:  89%|\u001b[32m████████▉ \u001b[0m| 107/120 [01:47<00:13,  1.01s/it, The total time budget for this task is 0:02:00]"
          ]
        },
        {
          "name": "stdout",
          "output_type": "stream",
          "text": [
            "XDATAAA: None\n"
          ]
        },
        {
          "name": "stderr",
          "output_type": "stream",
          "text": [
            "Fitting to the training data:  90%|\u001b[32m█████████ \u001b[0m| 108/120 [01:48<00:12,  1.01s/it, The total time budget for this task is 0:02:00]"
          ]
        },
        {
          "name": "stdout",
          "output_type": "stream",
          "text": [
            "{'X_train':             0         1             2         3             4         5  \\\n",
            "264 -0.415794  0.000000 -6.879288e-01 -0.663075 -4.374283e-01 -0.781371   \n",
            "615 -0.415794  0.673504  2.396025e+00  1.699917 -7.125304e-01  0.840483   \n",
            "329 -0.415794  0.673504  8.540479e-01  0.282122 -2.998772e-01 -0.411835   \n",
            "342  0.000000  0.000000 -1.711938e-16  0.000000 -1.085955e-16  0.000000   \n",
            "394 -0.415794 -0.606516 -6.879288e-01 -0.663075  2.817947e+00 -0.247596   \n",
            "..        ...       ...           ...       ...           ...       ...   \n",
            "71  -0.415794 -0.606516  8.305958e-02 -0.190477 -4.221448e-01 -0.237331   \n",
            "106 -0.415794 -0.606516  8.305958e-02  0.282122 -4.527117e-01  0.707040   \n",
            "270 -0.415794 -0.606516  8.305958e-02  0.282122  6.476968e-01 -0.401570   \n",
            "435 -0.415794 -0.606516 -6.879288e-01 -1.135674 -5.138455e-01 -0.832696   \n",
            "102 -0.415794 -0.606516 -6.879288e-01 -0.663075 -5.902628e-01  0.070616   \n",
            "\n",
            "            6         7         8         9  ...           128           129  \\\n",
            "264  0.212120 -1.215415  1.044330 -1.332109  ...  3.469447e-18 -2.081668e-17   \n",
            "615 -1.334413  0.289383  0.395632  0.120624  ... -3.469447e-18 -8.760354e-17   \n",
            "329 -1.346786  0.292654  0.395956 -0.843205  ...  9.540979e-18  2.428613e-17   \n",
            "342  0.213417 -1.215370  1.044330 -1.332109  ...  0.000000e+00  0.000000e+00   \n",
            "394  0.802323  1.049626 -1.228249  1.196458  ... -6.938894e-17  1.387779e-17   \n",
            "..        ...       ...       ...       ...  ...           ...           ...   \n",
            "71  -0.786109 -0.978431  0.989597  0.571724  ... -1.834995e-17 -2.723942e-17   \n",
            "106  0.228112 -1.219810  1.044330 -1.332109  ...  3.469447e-18 -2.081668e-17   \n",
            "270 -1.340965  0.293054  0.395470 -1.347319  ...  9.540979e-18  2.428613e-17   \n",
            "435  0.794791  1.054724 -1.190103  0.462619  ...  3.440693e-17  4.509290e-17   \n",
            "102  0.214462 -1.227627  1.043574 -0.162599  ...  6.236861e-17 -3.297923e-17   \n",
            "\n",
            "              130           131           132           133           134  \\\n",
            "264 -6.938894e-18 -4.510281e-17 -6.591949e-17 -3.816392e-17 -6.938894e-18   \n",
            "615  9.540979e-17 -1.700029e-16 -4.423545e-17 -3.469447e-18  1.016982e-16   \n",
            "329  8.760354e-17 -1.778092e-17 -5.637851e-18  3.773024e-17  3.989864e-17   \n",
            "342  0.000000e+00  0.000000e+00  0.000000e+00  0.000000e+00  0.000000e+00   \n",
            "394  5.898060e-17 -7.459311e-17  1.062518e-17 -3.903128e-17 -6.071532e-17   \n",
            "..            ...           ...           ...           ...           ...   \n",
            "71  -1.500905e-16  4.684276e-17  3.782138e-17  2.211372e-17  1.851696e-18   \n",
            "106 -6.938894e-18 -4.510281e-17 -6.591949e-17 -3.816392e-17 -6.938894e-18   \n",
            "270  8.760354e-17 -1.778092e-17 -5.637851e-18  3.773024e-17  3.989864e-17   \n",
            "435  6.138814e-17  9.112215e-18 -2.825110e-17 -4.871844e-17 -3.165338e-17   \n",
            "102  2.597042e-17  2.289250e-16  1.298831e-16  1.077074e-16  4.122745e-19   \n",
            "\n",
            "              135           136           137  \n",
            "264  2.385245e-18  1.283695e-16 -1.040834e-17  \n",
            "615 -1.387779e-17  8.326673e-17  2.081668e-17  \n",
            "329  5.247539e-17  2.168404e-17  5.551115e-17  \n",
            "342  0.000000e+00  0.000000e+00  0.000000e+00  \n",
            "394  4.163336e-17  3.816392e-17 -2.775558e-17  \n",
            "..            ...           ...           ...  \n",
            "71  -4.004016e-17  5.466893e-17 -6.660421e-17  \n",
            "106  2.385245e-18  1.283695e-16 -1.040834e-17  \n",
            "270  5.247539e-17  2.168404e-17  5.551115e-17  \n",
            "435 -1.911873e-17  4.002505e-17 -8.496666e-17  \n",
            "102  4.592514e-17  8.451809e-17  1.505604e-16  \n",
            "\n",
            "[640 rows x 138 columns], 'Y_train': array([0., 1., 0., 1., 1., 0., 0., 1., 0., 1., 0., 0., 0., 0., 1., 0., 1.,\n",
            "       1., 1., 1., 1., 1., 0., 0., 1., 1., 1., 1., 1., 0., 1., 1., 0., 1.,\n",
            "       1., 1., 1., 1., 1., 1., 1., 1., 1., 0., 1., 1., 1., 1., 1., 1., 1.,\n",
            "       1., 1., 0., 1., 1., 1., 1., 0., 1., 0., 1., 0., 1., 1., 1., 0., 0.,\n",
            "       0., 1., 1., 1., 1., 1., 0., 1., 1., 1., 1., 0., 1., 0., 1., 1., 1.,\n",
            "       1., 0., 1., 1., 1., 1., 0., 1., 0., 1., 1., 0., 1., 1., 1., 1., 1.,\n",
            "       1., 1., 1., 0., 1., 1., 1., 1., 1., 1., 1., 1., 1., 1., 1., 0., 0.,\n",
            "       1., 0., 1., 0., 1., 1., 1., 0., 1., 1., 0., 1., 1., 1., 1., 0., 1.,\n",
            "       1., 1., 1., 0., 0., 1., 1., 1., 0., 0., 1., 1., 0., 0., 0., 0., 1.,\n",
            "       1., 1., 1., 1., 0., 1., 0., 0., 0., 0., 1., 0., 1., 1., 0., 0., 1.,\n",
            "       1., 1., 1., 0., 0., 1., 0., 1., 1., 1., 1., 0., 1., 1., 1., 1., 1.,\n",
            "       0., 0., 0., 0., 0., 1., 1., 1., 0., 0., 0., 1., 1., 1., 1., 1., 1.,\n",
            "       0., 1., 0., 1., 1., 1., 0., 1., 1., 1., 1., 0., 1., 1., 1., 1., 1.,\n",
            "       1., 1., 1., 1., 1., 1., 1., 1., 1., 1., 1., 0., 1., 1., 0., 1., 1.,\n",
            "       1., 1., 0., 1., 0., 1., 0., 0., 1., 1., 0., 1., 0., 0., 0., 1., 1.,\n",
            "       1., 0., 1., 1., 0., 1., 1., 1., 1., 1., 0., 1., 1., 0., 1., 1., 0.,\n",
            "       1., 1., 1., 1., 1., 0., 1., 1., 1., 1., 0., 0., 0., 0., 0., 1., 1.,\n",
            "       0., 1., 1., 1., 1., 1., 1., 1., 1., 0., 1., 0., 1., 1., 0., 0., 0.,\n",
            "       1., 0., 0., 0., 0., 1., 1., 0., 0., 1., 1., 0., 1., 1., 1., 1., 1.,\n",
            "       1., 1., 1., 1., 1., 1., 1., 0., 1., 1., 1., 1., 0., 1., 1., 0., 1.,\n",
            "       0., 0., 0., 1., 1., 0., 1., 1., 1., 0., 1., 1., 1., 0., 1., 1., 1.,\n",
            "       0., 0., 1., 0., 1., 0., 1., 1., 1., 1., 0., 0., 1., 1., 1., 0., 1.,\n",
            "       1., 1., 1., 0., 1., 0., 1., 0., 0., 0., 1., 0., 1., 1., 1., 0., 0.,\n",
            "       1., 1., 0., 1., 1., 1., 0., 1., 1., 0., 1., 0., 0., 1., 0., 1., 0.,\n",
            "       1., 1., 1., 1., 1., 1., 1., 1., 1., 0., 1., 1., 1., 1., 1., 1., 0.,\n",
            "       0., 1., 1., 0., 1., 1., 1., 0., 1., 1., 1., 1., 1., 0., 1., 1., 1.,\n",
            "       0., 1., 0., 1., 1., 0., 1., 1., 0., 1., 0., 0., 0., 1., 0., 1., 0.,\n",
            "       1., 1., 1., 1., 0., 1., 0., 1., 1., 1., 1., 1., 0., 0., 1., 0., 0.,\n",
            "       1., 1., 1., 1., 0., 1., 1., 1., 1., 1., 0., 1., 1., 1., 1., 0., 1.,\n",
            "       0., 1., 1., 1., 1., 1., 1., 1., 1., 1., 0., 1., 1., 1., 1., 0., 1.,\n",
            "       0., 1., 0., 1., 1., 1., 1., 1., 0., 1., 1., 0., 0., 1., 1., 1., 1.,\n",
            "       0., 0., 1., 1., 1., 1., 0., 1., 0., 0., 1., 1., 1., 1., 1., 1., 1.,\n",
            "       1., 1., 1., 0., 0., 0., 1., 1., 1., 1., 0., 0., 1., 1., 1., 1., 1.,\n",
            "       1., 0., 1., 0., 1., 1., 1., 0., 1., 0., 0., 1., 1., 0., 1., 1., 0.,\n",
            "       0., 1., 0., 1., 1., 1., 1., 1., 1., 0., 1., 1., 1., 1., 0., 1., 1.,\n",
            "       1., 1., 0., 1., 0., 1., 1., 1., 0., 1., 1., 0., 0., 0., 0., 1., 0.,\n",
            "       1., 0., 0., 1., 1., 1., 1., 0., 0., 1., 1., 0., 0., 1., 0., 0., 1.,\n",
            "       1., 1., 1., 0., 1., 1., 1., 1., 0., 1., 1.])}\n"
          ]
        },
        {
          "name": "stderr",
          "output_type": "stream",
          "text": [
            "Fitting to the training data: 100%|\u001b[32m██████████\u001b[0m| 120/120 [01:49<00:00,  1.10it/s, The total time budget for this task is 0:02:00]\n"
          ]
        },
        {
          "name": "stdout",
          "output_type": "stream",
          "text": [
            "Configuration(values={\n",
            "  'balancing:strategy': 'none',\n",
            "  'classifier:__choice__': 'mlp',\n",
            "  'classifier:mlp:activation': 'relu',\n",
            "  'classifier:mlp:alpha': 0.0001,\n",
            "  'classifier:mlp:batch_size': 'auto',\n",
            "  'classifier:mlp:beta_1': 0.9,\n",
            "  'classifier:mlp:beta_2': 0.999,\n",
            "  'classifier:mlp:early_stopping': 'valid',\n",
            "  'classifier:mlp:epsilon': 1e-08,\n",
            "  'classifier:mlp:hidden_layer_depth': 1,\n",
            "  'classifier:mlp:learning_rate_init': 0.001,\n",
            "  'classifier:mlp:n_iter_no_change': 32,\n",
            "  'classifier:mlp:num_nodes_per_layer': 32,\n",
            "  'classifier:mlp:shuffle': 'True',\n",
            "  'classifier:mlp:solver': 'adam',\n",
            "  'classifier:mlp:tol': 0.0001,\n",
            "  'classifier:mlp:validation_fraction': 0.1,\n",
            "  'data_preprocessor:__choice__': 'NoPreprocessing',\n",
            "  'feature_preprocessor:__choice__': 'no_preprocessing',\n",
            "})\n",
            "\n"
          ]
        }
      ],
      "source": [
        "# from autosklearn.experimental.askl2 import AutoSklearn2Classifier\n",
        "\n",
        "automl = autosklearn.classification.AutoSklearnClassifier(\n",
        "    time_left_for_this_task=120,\n",
        "    per_run_time_limit=30,\n",
        "    include = {\n",
        "        'classifier': [\"mlp\"],\n",
        "        'feature_preprocessor': [\"no_preprocessing\"],\n",
        "        'data_preprocessor': [\"NoPreprocessing\"]\n",
        "    },\n",
        "    tmp_folder=\"tmp/autosklearn_classification_example_tmp9\",\n",
        ")\n",
        "\n",
        "automl.fit(X_train, y_train, dataset_name=\"airbnb\")\n",
        "## get configuration for a model/run\n",
        "run_key = list(automl.automl_.runhistory_.data.keys())[0]\n",
        "run_value = automl.automl_.runhistory_.data[run_key]\n",
        "config=automl.automl_.runhistory_.ids_config[run_key.config_id]\n",
        "print(config)\n",
        "\n"
      ]
    },
    {
      "cell_type": "markdown",
      "metadata": {},
      "source": [
        "## View the models found by auto-sklearn\n",
        "\n"
      ]
    },
    {
      "cell_type": "code",
      "execution_count": 7,
      "metadata": {
        "collapsed": false
      },
      "outputs": [
        {
          "name": "stdout",
          "output_type": "stream",
          "text": [
            "          rank  ensemble_weight type      cost  duration\n",
            "model_id                                                \n",
            "70           1             0.04  mlp  0.297170  0.528144\n",
            "42           3             0.02  mlp  0.301887  0.349071\n",
            "49           2             0.12  mlp  0.301887  0.371793\n",
            "2            4             0.02  mlp  0.306604  0.411904\n",
            "22           6             0.02  mlp  0.306604  0.385399\n",
            "27           8             0.16  mlp  0.306604  0.479656\n",
            "47           7             0.02  mlp  0.306604  0.451138\n",
            "48           5             0.04  mlp  0.306604  0.352690\n",
            "29           9             0.10  mlp  0.311321  0.425970\n",
            "44          11             0.08  mlp  0.316038  0.341057\n",
            "57          10             0.04  mlp  0.316038  0.478840\n",
            "80          12             0.02  mlp  0.320755  0.558581\n",
            "34          14             0.02  mlp  0.325472  0.454061\n",
            "37          15             0.04  mlp  0.325472  0.428214\n",
            "87          13             0.02  mlp  0.325472  0.545648\n",
            "14          16             0.02  mlp  0.330189  0.438244\n",
            "65          17             0.02  mlp  0.330189  0.401552\n",
            "20          19             0.02  mlp  0.334906  0.315718\n",
            "24          18             0.04  mlp  0.334906  0.303424\n",
            "53          20             0.08  mlp  0.334906  0.357214\n",
            "9           21             0.02  mlp  0.344340  1.447341\n",
            "39          22             0.02  mlp  0.344340  0.347026\n",
            "5           23             0.02  mlp  0.353774  0.254099\n"
          ]
        }
      ],
      "source": [
        "print(automl.leaderboard())"
      ]
    },
    {
      "cell_type": "markdown",
      "metadata": {},
      "source": [
        "## Print the final ensemble constructed by auto-sklearn\n",
        "\n"
      ]
    },
    {
      "cell_type": "code",
      "execution_count": 8,
      "metadata": {
        "collapsed": false
      },
      "outputs": [
        {
          "name": "stdout",
          "output_type": "stream",
          "text": [
            "{   2: {   'balancing': Balancing(random_state=1),\n",
            "           'classifier': <autosklearn.pipeline.components.classification.ClassifierChoice object at 0x7fe740d8d250>,\n",
            "           'cost': 0.30660377358490565,\n",
            "           'data_preprocessor': <autosklearn.pipeline.components.data_preprocessing.DataPreprocessorChoice object at 0x7fe744ce9910>,\n",
            "           'ensemble_weight': 0.02,\n",
            "           'feature_preprocessor': <autosklearn.pipeline.components.feature_preprocessing.FeaturePreprocessorChoice object at 0x7fe744984d00>,\n",
            "           'model_id': 2,\n",
            "           'rank': 12,\n",
            "           'sklearn_classifier': MLPClassifier(beta_1=0.999, beta_2=0.9, early_stopping=True,\n",
            "              hidden_layer_sizes=(32,), max_iter=32, n_iter_no_change=32,\n",
            "              random_state=1, verbose=0, warm_start=True)},\n",
            "    5: {   'balancing': Balancing(random_state=1),\n",
            "           'classifier': <autosklearn.pipeline.components.classification.ClassifierChoice object at 0x7fe73ec5c400>,\n",
            "           'cost': 0.35377358490566035,\n",
            "           'data_preprocessor': <autosklearn.pipeline.components.data_preprocessing.DataPreprocessorChoice object at 0x7fe744ce7430>,\n",
            "           'ensemble_weight': 0.02,\n",
            "           'feature_preprocessor': <autosklearn.pipeline.components.feature_preprocessing.FeaturePreprocessorChoice object at 0x7fe744ce7970>,\n",
            "           'model_id': 5,\n",
            "           'rank': 47,\n",
            "           'sklearn_classifier': MLPClassifier(alpha=0.00023623429035142602, beta_1=0.999, beta_2=0.9,\n",
            "              early_stopping=True, hidden_layer_sizes=(35,),\n",
            "              learning_rate_init=0.10001773915922516, max_iter=32,\n",
            "              n_iter_no_change=32, random_state=1, verbose=0, warm_start=True)},\n",
            "    9: {   'balancing': Balancing(random_state=1, strategy='weighting'),\n",
            "           'classifier': <autosklearn.pipeline.components.classification.ClassifierChoice object at 0x7fe73ec5ccd0>,\n",
            "           'cost': 0.3443396226415094,\n",
            "           'data_preprocessor': <autosklearn.pipeline.components.data_preprocessing.DataPreprocessorChoice object at 0x7fe73ec5c2b0>,\n",
            "           'ensemble_weight': 0.02,\n",
            "           'feature_preprocessor': <autosklearn.pipeline.components.feature_preprocessing.FeaturePreprocessorChoice object at 0x7fe73ec5c430>,\n",
            "           'model_id': 9,\n",
            "           'rank': 41,\n",
            "           'sklearn_classifier': MLPClassifier(alpha=1.924963733220904e-06, beta_1=0.999, beta_2=0.9,\n",
            "              hidden_layer_sizes=(53, 53, 53),\n",
            "              learning_rate_init=0.00011443448639933431, max_iter=256,\n",
            "              n_iter_no_change=32, random_state=1, validation_fraction=0.0,\n",
            "              verbose=0, warm_start=True)},\n",
            "    14: {   'balancing': Balancing(random_state=1),\n",
            "            'classifier': <autosklearn.pipeline.components.classification.ClassifierChoice object at 0x7fe73ec5c160>,\n",
            "            'cost': 0.33018867924528306,\n",
            "            'data_preprocessor': <autosklearn.pipeline.components.data_preprocessing.DataPreprocessorChoice object at 0x7fe73ec5c0a0>,\n",
            "            'ensemble_weight': 0.02,\n",
            "            'feature_preprocessor': <autosklearn.pipeline.components.feature_preprocessing.FeaturePreprocessorChoice object at 0x7fe73ec5ca30>,\n",
            "            'model_id': 14,\n",
            "            'rank': 31,\n",
            "            'sklearn_classifier': MLPClassifier(alpha=0.06113401657735013, beta_1=0.999, beta_2=0.9,\n",
            "              early_stopping=True, hidden_layer_sizes=(129, 129),\n",
            "              learning_rate_init=0.0003060455459278256, max_iter=32,\n",
            "              n_iter_no_change=32, random_state=1, verbose=0, warm_start=True)},\n",
            "    20: {   'balancing': Balancing(random_state=1),\n",
            "            'classifier': <autosklearn.pipeline.components.classification.ClassifierChoice object at 0x7fe73ec5c910>,\n",
            "            'cost': 0.33490566037735847,\n",
            "            'data_preprocessor': <autosklearn.pipeline.components.data_preprocessing.DataPreprocessorChoice object at 0x7fe73ec5c610>,\n",
            "            'ensemble_weight': 0.02,\n",
            "            'feature_preprocessor': <autosklearn.pipeline.components.feature_preprocessing.FeaturePreprocessorChoice object at 0x7fe73ec5c880>,\n",
            "            'model_id': 20,\n",
            "            'rank': 36,\n",
            "            'sklearn_classifier': MLPClassifier(alpha=6.962990211990293e-05, beta_1=0.999, beta_2=0.9,\n",
            "              early_stopping=True, hidden_layer_sizes=(73, 73, 73),\n",
            "              learning_rate_init=0.00027026139429987746, max_iter=32,\n",
            "              n_iter_no_change=32, random_state=1, verbose=0, warm_start=True)},\n",
            "    22: {   'balancing': Balancing(random_state=1, strategy='weighting'),\n",
            "            'classifier': <autosklearn.pipeline.components.classification.ClassifierChoice object at 0x7fe73ec5c670>,\n",
            "            'cost': 0.30660377358490565,\n",
            "            'data_preprocessor': <autosklearn.pipeline.components.data_preprocessing.DataPreprocessorChoice object at 0x7fe73ec5cf70>,\n",
            "            'ensemble_weight': 0.02,\n",
            "            'feature_preprocessor': <autosklearn.pipeline.components.feature_preprocessing.FeaturePreprocessorChoice object at 0x7fe73ec5ce80>,\n",
            "            'model_id': 22,\n",
            "            'rank': 11,\n",
            "            'sklearn_classifier': MLPClassifier(alpha=2.385408923385353e-06, beta_1=0.999, beta_2=0.9,\n",
            "              early_stopping=True, hidden_layer_sizes=(90, 90),\n",
            "              learning_rate_init=0.0004601236031450724, max_iter=32,\n",
            "              n_iter_no_change=32, random_state=1, verbose=0, warm_start=True)},\n",
            "    24: {   'balancing': Balancing(random_state=1),\n",
            "            'classifier': <autosklearn.pipeline.components.classification.ClassifierChoice object at 0x7fe7428f80d0>,\n",
            "            'cost': 0.33490566037735847,\n",
            "            'data_preprocessor': <autosklearn.pipeline.components.data_preprocessing.DataPreprocessorChoice object at 0x7fe74509dee0>,\n",
            "            'ensemble_weight': 0.04,\n",
            "            'feature_preprocessor': <autosklearn.pipeline.components.feature_preprocessing.FeaturePreprocessorChoice object at 0x7fe7428f8040>,\n",
            "            'model_id': 24,\n",
            "            'rank': 38,\n",
            "            'sklearn_classifier': MLPClassifier(activation='tanh', alpha=1.3937452661494179e-06, beta_1=0.999,\n",
            "              beta_2=0.9, early_stopping=True, hidden_layer_sizes=(98,),\n",
            "              learning_rate_init=0.0013252429910904037, max_iter=32,\n",
            "              n_iter_no_change=32, random_state=1, verbose=0, warm_start=True)},\n",
            "    27: {   'balancing': Balancing(random_state=1, strategy='weighting'),\n",
            "            'classifier': <autosklearn.pipeline.components.classification.ClassifierChoice object at 0x7fe73eddde50>,\n",
            "            'cost': 0.30660377358490565,\n",
            "            'data_preprocessor': <autosklearn.pipeline.components.data_preprocessing.DataPreprocessorChoice object at 0x7fe73eddd7c0>,\n",
            "            'ensemble_weight': 0.16,\n",
            "            'feature_preprocessor': <autosklearn.pipeline.components.feature_preprocessing.FeaturePreprocessorChoice object at 0x7fe73eddd970>,\n",
            "            'model_id': 27,\n",
            "            'rank': 10,\n",
            "            'sklearn_classifier': MLPClassifier(alpha=0.001255729103988993, beta_1=0.999, beta_2=0.9,\n",
            "              early_stopping=True, hidden_layer_sizes=(127,),\n",
            "              learning_rate_init=0.00046507785729829365, max_iter=32,\n",
            "              n_iter_no_change=32, random_state=1, verbose=0, warm_start=True)},\n",
            "    29: {   'balancing': Balancing(random_state=1, strategy='weighting'),\n",
            "            'classifier': <autosklearn.pipeline.components.classification.ClassifierChoice object at 0x7fe744cb3ca0>,\n",
            "            'cost': 0.3113207547169812,\n",
            "            'data_preprocessor': <autosklearn.pipeline.components.data_preprocessing.DataPreprocessorChoice object at 0x7fe740d77b80>,\n",
            "            'ensemble_weight': 0.1,\n",
            "            'feature_preprocessor': <autosklearn.pipeline.components.feature_preprocessing.FeaturePreprocessorChoice object at 0x7fe744c8c5e0>,\n",
            "            'model_id': 29,\n",
            "            'rank': 13,\n",
            "            'sklearn_classifier': MLPClassifier(alpha=2.5422704683202395e-07, beta_1=0.999, beta_2=0.9,\n",
            "              early_stopping=True, hidden_layer_sizes=(113,),\n",
            "              learning_rate_init=0.00045170056038242197, max_iter=64,\n",
            "              n_iter_no_change=32, random_state=1, verbose=0, warm_start=True)},\n",
            "    34: {   'balancing': Balancing(random_state=1, strategy='weighting'),\n",
            "            'classifier': <autosklearn.pipeline.components.classification.ClassifierChoice object at 0x7fe73eab4f10>,\n",
            "            'cost': 0.32547169811320753,\n",
            "            'data_preprocessor': <autosklearn.pipeline.components.data_preprocessing.DataPreprocessorChoice object at 0x7fe7448faf40>,\n",
            "            'ensemble_weight': 0.02,\n",
            "            'feature_preprocessor': <autosklearn.pipeline.components.feature_preprocessing.FeaturePreprocessorChoice object at 0x7fe7448f56a0>,\n",
            "            'model_id': 34,\n",
            "            'rank': 24,\n",
            "            'sklearn_classifier': MLPClassifier(activation='tanh', alpha=0.019353416374218894, beta_1=0.999,\n",
            "              beta_2=0.9, early_stopping=True, hidden_layer_sizes=(115, 115),\n",
            "              learning_rate_init=0.0001415447482846942, max_iter=32,\n",
            "              n_iter_no_change=32, random_state=1, verbose=0, warm_start=True)},\n",
            "    37: {   'balancing': Balancing(random_state=1, strategy='weighting'),\n",
            "            'classifier': <autosklearn.pipeline.components.classification.ClassifierChoice object at 0x7fe73eab4df0>,\n",
            "            'cost': 0.32547169811320753,\n",
            "            'data_preprocessor': <autosklearn.pipeline.components.data_preprocessing.DataPreprocessorChoice object at 0x7fe73eab4760>,\n",
            "            'ensemble_weight': 0.04,\n",
            "            'feature_preprocessor': <autosklearn.pipeline.components.feature_preprocessing.FeaturePreprocessorChoice object at 0x7fe73eab45b0>,\n",
            "            'model_id': 37,\n",
            "            'rank': 25,\n",
            "            'sklearn_classifier': MLPClassifier(alpha=1.0973651627973991e-07, beta_1=0.999, beta_2=0.9,\n",
            "              early_stopping=True, hidden_layer_sizes=(116,),\n",
            "              learning_rate_init=0.0004681256521322751, max_iter=64,\n",
            "              n_iter_no_change=32, random_state=1, verbose=0, warm_start=True)},\n",
            "    39: {   'balancing': Balancing(random_state=1),\n",
            "            'classifier': <autosklearn.pipeline.components.classification.ClassifierChoice object at 0x7fe73eab4070>,\n",
            "            'cost': 0.3443396226415094,\n",
            "            'data_preprocessor': <autosklearn.pipeline.components.data_preprocessing.DataPreprocessorChoice object at 0x7fe73eab4fd0>,\n",
            "            'ensemble_weight': 0.02,\n",
            "            'feature_preprocessor': <autosklearn.pipeline.components.feature_preprocessing.FeaturePreprocessorChoice object at 0x7fe73eab4040>,\n",
            "            'model_id': 39,\n",
            "            'rank': 43,\n",
            "            'sklearn_classifier': MLPClassifier(activation='tanh', alpha=0.00013424628728486086, beta_1=0.999,\n",
            "              beta_2=0.9, early_stopping=True, hidden_layer_sizes=(135,),\n",
            "              learning_rate_init=0.0007366550037528227, max_iter=32,\n",
            "              n_iter_no_change=32, random_state=1, verbose=0, warm_start=True)},\n",
            "    42: {   'balancing': Balancing(random_state=1, strategy='weighting'),\n",
            "            'classifier': <autosklearn.pipeline.components.classification.ClassifierChoice object at 0x7fe73eab4700>,\n",
            "            'cost': 0.30188679245283023,\n",
            "            'data_preprocessor': <autosklearn.pipeline.components.data_preprocessing.DataPreprocessorChoice object at 0x7fe73eab4730>,\n",
            "            'ensemble_weight': 0.02,\n",
            "            'feature_preprocessor': <autosklearn.pipeline.components.feature_preprocessing.FeaturePreprocessorChoice object at 0x7fe73eab4d90>,\n",
            "            'model_id': 42,\n",
            "            'rank': 5,\n",
            "            'sklearn_classifier': MLPClassifier(alpha=5.339392184014225e-07, beta_1=0.999, beta_2=0.9,\n",
            "              early_stopping=True, hidden_layer_sizes=(30,),\n",
            "              learning_rate_init=0.0004693694644816902, max_iter=32,\n",
            "              n_iter_no_change=32, random_state=1, verbose=0, warm_start=True)},\n",
            "    44: {   'balancing': Balancing(random_state=1, strategy='weighting'),\n",
            "            'classifier': <autosklearn.pipeline.components.classification.ClassifierChoice object at 0x7fe740040790>,\n",
            "            'cost': 0.3160377358490566,\n",
            "            'data_preprocessor': <autosklearn.pipeline.components.data_preprocessing.DataPreprocessorChoice object at 0x7fe73eab4c40>,\n",
            "            'ensemble_weight': 0.08,\n",
            "            'feature_preprocessor': <autosklearn.pipeline.components.feature_preprocessing.FeaturePreprocessorChoice object at 0x7fe7400837f0>,\n",
            "            'model_id': 44,\n",
            "            'rank': 15,\n",
            "            'sklearn_classifier': MLPClassifier(alpha=3.438265618745518e-06, beta_1=0.999, beta_2=0.9,\n",
            "              early_stopping=True, hidden_layer_sizes=(25,),\n",
            "              learning_rate_init=0.000986203008032588, max_iter=32,\n",
            "              n_iter_no_change=32, random_state=1, verbose=0, warm_start=True)},\n",
            "    47: {   'balancing': Balancing(random_state=1, strategy='weighting'),\n",
            "            'classifier': <autosklearn.pipeline.components.classification.ClassifierChoice object at 0x7fe73ec8cbe0>,\n",
            "            'cost': 0.30660377358490565,\n",
            "            'data_preprocessor': <autosklearn.pipeline.components.data_preprocessing.DataPreprocessorChoice object at 0x7fe73ec8c6a0>,\n",
            "            'ensemble_weight': 0.02,\n",
            "            'feature_preprocessor': <autosklearn.pipeline.components.feature_preprocessing.FeaturePreprocessorChoice object at 0x7fe73ec8c910>,\n",
            "            'model_id': 47,\n",
            "            'rank': 8,\n",
            "            'sklearn_classifier': MLPClassifier(alpha=6.04330790067936e-06, beta_1=0.999, beta_2=0.9,\n",
            "              early_stopping=True, hidden_layer_sizes=(135,),\n",
            "              learning_rate_init=0.000471086458690669, max_iter=64,\n",
            "              n_iter_no_change=32, random_state=1, verbose=0, warm_start=True)},\n",
            "    48: {   'balancing': Balancing(random_state=1, strategy='weighting'),\n",
            "            'classifier': <autosklearn.pipeline.components.classification.ClassifierChoice object at 0x7fe73ec8c0d0>,\n",
            "            'cost': 0.30660377358490565,\n",
            "            'data_preprocessor': <autosklearn.pipeline.components.data_preprocessing.DataPreprocessorChoice object at 0x7fe73ec8c340>,\n",
            "            'ensemble_weight': 0.04,\n",
            "            'feature_preprocessor': <autosklearn.pipeline.components.feature_preprocessing.FeaturePreprocessorChoice object at 0x7fe73ec8ca00>,\n",
            "            'model_id': 48,\n",
            "            'rank': 7,\n",
            "            'sklearn_classifier': MLPClassifier(alpha=4.828498923346116e-06, beta_1=0.999, beta_2=0.9,\n",
            "              early_stopping=True, hidden_layer_sizes=(18,),\n",
            "              learning_rate_init=0.000496724682993025, max_iter=64,\n",
            "              n_iter_no_change=32, random_state=1, verbose=0, warm_start=True)},\n",
            "    49: {   'balancing': Balancing(random_state=1, strategy='weighting'),\n",
            "            'classifier': <autosklearn.pipeline.components.classification.ClassifierChoice object at 0x7fe73ec29d00>,\n",
            "            'cost': 0.30188679245283023,\n",
            "            'data_preprocessor': <autosklearn.pipeline.components.data_preprocessing.DataPreprocessorChoice object at 0x7fe73ec294f0>,\n",
            "            'ensemble_weight': 0.12,\n",
            "            'feature_preprocessor': <autosklearn.pipeline.components.feature_preprocessing.FeaturePreprocessorChoice object at 0x7fe73ec29eb0>,\n",
            "            'model_id': 49,\n",
            "            'rank': 4,\n",
            "            'sklearn_classifier': MLPClassifier(alpha=1.1000388311380165e-07, beta_1=0.999, beta_2=0.9,\n",
            "              early_stopping=True, hidden_layer_sizes=(102,),\n",
            "              learning_rate_init=0.0004560280911492279, max_iter=32,\n",
            "              n_iter_no_change=32, random_state=1, verbose=0, warm_start=True)},\n",
            "    53: {   'balancing': Balancing(random_state=1, strategy='weighting'),\n",
            "            'classifier': <autosklearn.pipeline.components.classification.ClassifierChoice object at 0x7fe73ec29bb0>,\n",
            "            'cost': 0.33490566037735847,\n",
            "            'data_preprocessor': <autosklearn.pipeline.components.data_preprocessing.DataPreprocessorChoice object at 0x7fe73ec29910>,\n",
            "            'ensemble_weight': 0.08,\n",
            "            'feature_preprocessor': <autosklearn.pipeline.components.feature_preprocessing.FeaturePreprocessorChoice object at 0x7fe73ec29a90>,\n",
            "            'model_id': 53,\n",
            "            'rank': 32,\n",
            "            'sklearn_classifier': MLPClassifier(alpha=1.565684090999911e-05, beta_1=0.999, beta_2=0.9,\n",
            "              early_stopping=True, hidden_layer_sizes=(16,),\n",
            "              learning_rate_init=0.00048266985330888885, max_iter=64,\n",
            "              n_iter_no_change=32, random_state=1, verbose=0, warm_start=True)},\n",
            "    57: {   'balancing': Balancing(random_state=1, strategy='weighting'),\n",
            "            'classifier': <autosklearn.pipeline.components.classification.ClassifierChoice object at 0x7fe73ea73ee0>,\n",
            "            'cost': 0.3160377358490566,\n",
            "            'data_preprocessor': <autosklearn.pipeline.components.data_preprocessing.DataPreprocessorChoice object at 0x7fe73ec29f10>,\n",
            "            'ensemble_weight': 0.04,\n",
            "            'feature_preprocessor': <autosklearn.pipeline.components.feature_preprocessing.FeaturePreprocessorChoice object at 0x7fe73ea734c0>,\n",
            "            'model_id': 57,\n",
            "            'rank': 16,\n",
            "            'sklearn_classifier': MLPClassifier(activation='tanh', alpha=1.415311484128007e-07, beta_1=0.999,\n",
            "              beta_2=0.9, early_stopping=True, hidden_layer_sizes=(30, 30, 30),\n",
            "              learning_rate_init=0.0004755612727866217, max_iter=32,\n",
            "              n_iter_no_change=32, random_state=1, verbose=0, warm_start=True)},\n",
            "    65: {   'balancing': Balancing(random_state=1),\n",
            "            'classifier': <autosklearn.pipeline.components.classification.ClassifierChoice object at 0x7fe73ea73070>,\n",
            "            'cost': 0.33018867924528306,\n",
            "            'data_preprocessor': <autosklearn.pipeline.components.data_preprocessing.DataPreprocessorChoice object at 0x7fe73ea730a0>,\n",
            "            'ensemble_weight': 0.02,\n",
            "            'feature_preprocessor': <autosklearn.pipeline.components.feature_preprocessing.FeaturePreprocessorChoice object at 0x7fe73ea73f70>,\n",
            "            'model_id': 65,\n",
            "            'rank': 29,\n",
            "            'sklearn_classifier': MLPClassifier(alpha=1.3876850154101467e-07, beta_1=0.999, beta_2=0.9,\n",
            "              early_stopping=True, hidden_layer_sizes=(25,),\n",
            "              learning_rate_init=0.0004614054144372708, max_iter=32,\n",
            "              n_iter_no_change=32, random_state=1, verbose=0, warm_start=True)},\n",
            "    70: {   'balancing': Balancing(random_state=1, strategy='weighting'),\n",
            "            'classifier': <autosklearn.pipeline.components.classification.ClassifierChoice object at 0x7fe73ea73df0>,\n",
            "            'cost': 0.2971698113207547,\n",
            "            'data_preprocessor': <autosklearn.pipeline.components.data_preprocessing.DataPreprocessorChoice object at 0x7fe73ea73d30>,\n",
            "            'ensemble_weight': 0.04,\n",
            "            'feature_preprocessor': <autosklearn.pipeline.components.feature_preprocessing.FeaturePreprocessorChoice object at 0x7fe73ea737c0>,\n",
            "            'model_id': 70,\n",
            "            'rank': 2,\n",
            "            'sklearn_classifier': MLPClassifier(alpha=7.571141626465379e-07, beta_1=0.999, beta_2=0.9,\n",
            "              early_stopping=True, hidden_layer_sizes=(32, 32, 32),\n",
            "              learning_rate_init=0.0005925235286568053, max_iter=32,\n",
            "              n_iter_no_change=32, random_state=1, verbose=0, warm_start=True)},\n",
            "    80: {   'balancing': Balancing(random_state=1, strategy='weighting'),\n",
            "            'classifier': <autosklearn.pipeline.components.classification.ClassifierChoice object at 0x7fe7400f1430>,\n",
            "            'cost': 0.3207547169811321,\n",
            "            'data_preprocessor': <autosklearn.pipeline.components.data_preprocessing.DataPreprocessorChoice object at 0x7fe7400f1460>,\n",
            "            'ensemble_weight': 0.02,\n",
            "            'feature_preprocessor': <autosklearn.pipeline.components.feature_preprocessing.FeaturePreprocessorChoice object at 0x7fe7400f19a0>,\n",
            "            'model_id': 80,\n",
            "            'rank': 20,\n",
            "            'sklearn_classifier': MLPClassifier(alpha=7.221914688033504e-07, beta_1=0.999, beta_2=0.9,\n",
            "              early_stopping=True, hidden_layer_sizes=(23, 23),\n",
            "              learning_rate_init=0.00048158531938692785, max_iter=64,\n",
            "              n_iter_no_change=32, random_state=1, verbose=0, warm_start=True)},\n",
            "    87: {   'balancing': Balancing(random_state=1, strategy='weighting'),\n",
            "            'classifier': <autosklearn.pipeline.components.classification.ClassifierChoice object at 0x7fe73ec178e0>,\n",
            "            'cost': 0.32547169811320753,\n",
            "            'data_preprocessor': <autosklearn.pipeline.components.data_preprocessing.DataPreprocessorChoice object at 0x7fe73ec17430>,\n",
            "            'ensemble_weight': 0.02,\n",
            "            'feature_preprocessor': <autosklearn.pipeline.components.feature_preprocessing.FeaturePreprocessorChoice object at 0x7fe73ec171f0>,\n",
            "            'model_id': 87,\n",
            "            'rank': 28,\n",
            "            'sklearn_classifier': MLPClassifier(activation='tanh', alpha=8.997043102001994e-07, beta_1=0.999,\n",
            "              beta_2=0.9, early_stopping=True, hidden_layer_sizes=(44,),\n",
            "              learning_rate_init=0.0004652250823392753, max_iter=64,\n",
            "              n_iter_no_change=32, random_state=1, verbose=0, warm_start=True)}}\n"
          ]
        }
      ],
      "source": [
        "pprint(automl.show_models(), indent=4)"
      ]
    },
    {
      "cell_type": "markdown",
      "metadata": {},
      "source": [
        "## Get the Score of the final ensemble\n",
        "\n"
      ]
    },
    {
      "cell_type": "code",
      "execution_count": 9,
      "metadata": {
        "collapsed": false
      },
      "outputs": [
        {
          "name": "stdout",
          "output_type": "stream",
          "text": [
            "Accuracy score: 0.6875\n"
          ]
        }
      ],
      "source": [
        "predictions = automl.predict(X_test)\n",
        "print(\"Accuracy score:\", sklearn.metrics.accuracy_score(y_test, predictions))"
      ]
    }
  ],
  "metadata": {
    "kernelspec": {
      "display_name": "Python 3",
      "language": "python",
      "name": "python3"
    },
    "language_info": {
      "codemirror_mode": {
        "name": "ipython",
        "version": 3
      },
      "file_extension": ".py",
      "mimetype": "text/x-python",
      "name": "python",
      "nbconvert_exporter": "python",
      "pygments_lexer": "ipython3",
      "version": "3.9.18"
    }
  },
  "nbformat": 4,
  "nbformat_minor": 0
}
