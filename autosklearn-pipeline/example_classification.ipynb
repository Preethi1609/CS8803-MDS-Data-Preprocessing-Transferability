{
  "cells": [
    {
      "cell_type": "code",
      "execution_count": 9,
      "metadata": {
        "collapsed": false
      },
      "outputs": [],
      "source": [
        "%matplotlib inline"
      ]
    },
    {
      "cell_type": "markdown",
      "metadata": {},
      "source": [
        "\n",
        "# Classification\n",
        "\n",
        "The following example shows how to fit a simple classification model with\n",
        "*auto-sklearn*.\n"
      ]
    },
    {
      "cell_type": "code",
      "execution_count": 10,
      "metadata": {
        "collapsed": false
      },
      "outputs": [],
      "source": [
        "from pprint import pprint\n",
        "\n",
        "import sklearn.datasets\n",
        "import sklearn.metrics\n",
        "\n",
        "import autosklearn.classification"
      ]
    },
    {
      "cell_type": "markdown",
      "metadata": {},
      "source": [
        "## Data Loading\n",
        "\n"
      ]
    },
    {
      "cell_type": "code",
      "execution_count": 12,
      "metadata": {
        "collapsed": false
      },
      "outputs": [],
      "source": [
        "\n",
        "import pandas as pd\n",
        "from sklearn.model_selection import train_test_split\n",
        "\n",
        "file_path = '../data/airbnb.csv'\n",
        "\n",
        "df = pd.read_csv(file_path)\n",
        "\n",
        "y = df['Rating']\n",
        "\n",
        "X = df.drop('Rating', axis=1)\n",
        "X_train, X_test, y_train, y_test = train_test_split(X, y, test_size=0.2, random_state=42)"
      ]
    },
    {
      "cell_type": "markdown",
      "metadata": {},
      "source": [
        "## Build and fit a classifier\n",
        "\n"
      ]
    },
    {
      "cell_type": "code",
      "execution_count": 13,
      "metadata": {
        "collapsed": false
      },
      "outputs": [
        {
          "name": "stderr",
          "output_type": "stream",
          "text": [
            "Fitting to the training data:   0%|\u001b[32m          \u001b[0m| 0/120 [00:00<?, ?it/s, The total time budget for this task is 0:02:00]/home/preethi/projects/CS8803-MDS-Data-Preprocessing-Transferability/autosklearn-pipeline/autosklearn/data/feature_validator.py:318: UserWarning: Input Column LocationName has generic type object. Autosklearn will treat this column as string. Please ensure that this setting is suitable for your task.\n",
            "  warnings.warn(\n",
            "Fitting to the training data: 100%|\u001b[32m██████████\u001b[0m| 120/120 [01:51<00:00,  1.08it/s, The total time budget for this task is 0:02:00]\n"
          ]
        },
        {
          "data": {
            "text/plain": [
              "AutoSklearnClassifier(ensemble_class=<class 'autosklearn.ensembles.ensemble_selection.EnsembleSelection'>,\n",
              "                      per_run_time_limit=30, time_left_for_this_task=120,\n",
              "                      tmp_folder='/tmp/autosklearn_classification_example_tmp')"
            ]
          },
          "execution_count": 13,
          "metadata": {},
          "output_type": "execute_result"
        }
      ],
      "source": [
        "automl = autosklearn.classification.AutoSklearnClassifier(\n",
        "    time_left_for_this_task=120,\n",
        "    per_run_time_limit=30,\n",
        "    tmp_folder=\"/tmp/autosklearn_classification_example_tmp\",\n",
        ")\n",
        "automl.fit(X_train, y_train, dataset_name=\"airbnb\")"
      ]
    },
    {
      "cell_type": "markdown",
      "metadata": {},
      "source": [
        "## View the models found by auto-sklearn\n",
        "\n"
      ]
    },
    {
      "cell_type": "code",
      "execution_count": 14,
      "metadata": {
        "collapsed": false
      },
      "outputs": [
        {
          "name": "stdout",
          "output_type": "stream",
          "text": [
            "          rank  ensemble_weight               type      cost   duration\n",
            "model_id                                                               \n",
            "2            1             0.52      random_forest  0.276363  16.915586\n",
            "9            2             0.14  gradient_boosting  0.298727  12.411541\n",
            "3            3             0.10                mlp  0.305093  29.759696\n",
            "8            4             0.24      liblinear_svc  0.312602  11.302748\n"
          ]
        }
      ],
      "source": [
        "print(automl.leaderboard())"
      ]
    },
    {
      "cell_type": "markdown",
      "metadata": {},
      "source": [
        "## Print the final ensemble constructed by auto-sklearn\n",
        "\n"
      ]
    },
    {
      "cell_type": "code",
      "execution_count": 15,
      "metadata": {
        "collapsed": false
      },
      "outputs": [
        {
          "name": "stdout",
          "output_type": "stream",
          "text": [
            "{   2: {   'balancing': Balancing(random_state=1),\n",
            "           'classifier': <autosklearn.pipeline.components.classification.ClassifierChoice object at 0x7f4353cf1c70>,\n",
            "           'cost': 0.27636304276852763,\n",
            "           'data_preprocessor': <autosklearn.pipeline.components.data_preprocessing.DataPreprocessorChoice object at 0x7f4353de26a0>,\n",
            "           'ensemble_weight': 0.52,\n",
            "           'feature_preprocessor': <autosklearn.pipeline.components.feature_preprocessing.FeaturePreprocessorChoice object at 0x7f4353cf6880>,\n",
            "           'model_id': 2,\n",
            "           'rank': 1,\n",
            "           'sklearn_classifier': RandomForestClassifier(max_features=11, n_estimators=512, n_jobs=1,\n",
            "                       random_state=1, warm_start=True)},\n",
            "    3: {   'balancing': Balancing(random_state=1, strategy='weighting'),\n",
            "           'classifier': <autosklearn.pipeline.components.classification.ClassifierChoice object at 0x7f4353cdd6a0>,\n",
            "           'cost': 0.3050930460333007,\n",
            "           'data_preprocessor': <autosklearn.pipeline.components.data_preprocessing.DataPreprocessorChoice object at 0x7f4353de25b0>,\n",
            "           'ensemble_weight': 0.1,\n",
            "           'feature_preprocessor': <autosklearn.pipeline.components.feature_preprocessing.FeaturePreprocessorChoice object at 0x7f4353cdd9d0>,\n",
            "           'model_id': 3,\n",
            "           'rank': 3,\n",
            "           'sklearn_classifier': MLPClassifier(activation='tanh', alpha=0.0288316953521873, beta_1=0.999,\n",
            "              beta_2=0.9, hidden_layer_sizes=(91,),\n",
            "              learning_rate_init=0.0002309951929622804, max_iter=256,\n",
            "              n_iter_no_change=32, random_state=1, validation_fraction=0.0,\n",
            "              verbose=0, warm_start=True)},\n",
            "    8: {   'balancing': Balancing(random_state=1),\n",
            "           'classifier': <autosklearn.pipeline.components.classification.ClassifierChoice object at 0x7f4353464a60>,\n",
            "           'cost': 0.3126020241593209,\n",
            "           'data_preprocessor': <autosklearn.pipeline.components.data_preprocessing.DataPreprocessorChoice object at 0x7f4353cf6a90>,\n",
            "           'ensemble_weight': 0.24,\n",
            "           'feature_preprocessor': <autosklearn.pipeline.components.feature_preprocessing.FeaturePreprocessorChoice object at 0x7f4353464940>,\n",
            "           'model_id': 8,\n",
            "           'rank': 4,\n",
            "           'sklearn_classifier': LinearSVC(C=17045.7732372673, dual=False, intercept_scaling=1.0, random_state=1,\n",
            "          tol=0.0008192814934567822)},\n",
            "    9: {   'balancing': Balancing(random_state=1),\n",
            "           'classifier': <autosklearn.pipeline.components.classification.ClassifierChoice object at 0x7f43531e5400>,\n",
            "           'cost': 0.29872673849167486,\n",
            "           'data_preprocessor': <autosklearn.pipeline.components.data_preprocessing.DataPreprocessorChoice object at 0x7f4353cf16a0>,\n",
            "           'ensemble_weight': 0.14,\n",
            "           'feature_preprocessor': <autosklearn.pipeline.components.feature_preprocessing.FeaturePreprocessorChoice object at 0x7f43531e5340>,\n",
            "           'model_id': 9,\n",
            "           'rank': 2,\n",
            "           'sklearn_classifier': HistGradientBoostingClassifier(early_stopping=True,\n",
            "                               l2_regularization=1.7108930238344161e-10,\n",
            "                               learning_rate=0.010827728124541558, max_iter=512,\n",
            "                               max_leaf_nodes=25, min_samples_leaf=4,\n",
            "                               n_iter_no_change=19, random_state=1,\n",
            "                               validation_fraction=0.1759114608225653,\n",
            "                               warm_start=True)}}\n"
          ]
        }
      ],
      "source": [
        "pprint(automl.show_models(), indent=4)"
      ]
    },
    {
      "cell_type": "markdown",
      "metadata": {},
      "source": [
        "## Get the Score of the final ensemble\n",
        "\n"
      ]
    },
    {
      "cell_type": "code",
      "execution_count": 16,
      "metadata": {
        "collapsed": false
      },
      "outputs": [
        {
          "name": "stdout",
          "output_type": "stream",
          "text": [
            "Accuracy score: 0.7185951303598362\n"
          ]
        }
      ],
      "source": [
        "predictions = automl.predict(X_test)\n",
        "print(\"Accuracy score:\", sklearn.metrics.accuracy_score(y_test, predictions))"
      ]
    }
  ],
  "metadata": {
    "kernelspec": {
      "display_name": "Python 3",
      "language": "python",
      "name": "python3"
    },
    "language_info": {
      "codemirror_mode": {
        "name": "ipython",
        "version": 3
      },
      "file_extension": ".py",
      "mimetype": "text/x-python",
      "name": "python",
      "nbconvert_exporter": "python",
      "pygments_lexer": "ipython3",
      "version": "3.9.18"
    }
  },
  "nbformat": 4,
  "nbformat_minor": 0
}
