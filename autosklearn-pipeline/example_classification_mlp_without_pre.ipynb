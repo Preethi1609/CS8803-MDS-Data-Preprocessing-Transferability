{
  "cells": [
    {
      "cell_type": "code",
      "execution_count": 15,
      "metadata": {
        "collapsed": false
      },
      "outputs": [],
      "source": [
        "# %matplotlib inline"
      ]
    },
    {
      "cell_type": "markdown",
      "metadata": {},
      "source": [
        "\n",
        "# Classification\n",
        "\n",
        "The following example shows how to fit a simple classification model with\n",
        "*auto-sklearn*.\n"
      ]
    },
    {
      "cell_type": "code",
      "execution_count": 1,
      "metadata": {
        "collapsed": false
      },
      "outputs": [],
      "source": [
        "from pprint import pprint\n",
        "import sklearn.metrics\n",
        "\n",
        "import autosklearn.classification"
      ]
    },
    {
      "cell_type": "markdown",
      "metadata": {},
      "source": [
        "## Data Loading\n",
        "\n"
      ]
    },
    {
      "cell_type": "code",
      "execution_count": 4,
      "metadata": {},
      "outputs": [],
      "source": [
        "from typing import Optional\n",
        "from pprint import pprint\n",
        "\n",
        "import autosklearn.classification\n",
        "import autosklearn.pipeline.components.data_preprocessing\n",
        "import sklearn.metrics\n",
        "from ConfigSpace.configuration_space import ConfigurationSpace\n",
        "\n",
        "from autosklearn.askl_typing import FEAT_TYPE_TYPE\n",
        "from autosklearn.pipeline.components.base import AutoSklearnPreprocessingAlgorithm\n",
        "from autosklearn.pipeline.constants import SPARSE, DENSE, UNSIGNED_DATA, INPUT\n",
        "from sklearn.datasets import load_breast_cancer\n",
        "from sklearn.model_selection import train_test_split\n",
        "\n",
        "\n",
        "class NoPreprocessing(AutoSklearnPreprocessingAlgorithm):\n",
        "    def __init__(self, **kwargs):\n",
        "        \"\"\"This preprocessors does not change the data\"\"\"\n",
        "        # Some internal checks makes sure parameters are set\n",
        "        for key, val in kwargs.items():\n",
        "            setattr(self, key, val)\n",
        "\n",
        "    def fit(self, X, Y=None):\n",
        "        return self\n",
        "\n",
        "    def transform(self, X):\n",
        "        return X\n",
        "\n",
        "    @staticmethod\n",
        "    def get_properties(dataset_properties=None):\n",
        "        return {\n",
        "            \"shortname\": \"NoPreprocessing\",\n",
        "            \"name\": \"NoPreprocessing\",\n",
        "            \"handles_regression\": True,\n",
        "            \"handles_classification\": True,\n",
        "            \"handles_multiclass\": True,\n",
        "            \"handles_multilabel\": True,\n",
        "            \"handles_multioutput\": True,\n",
        "            \"is_deterministic\": True,\n",
        "            \"input\": (SPARSE, DENSE, UNSIGNED_DATA),\n",
        "            \"output\": (INPUT,),\n",
        "        }\n",
        "\n",
        "    @staticmethod\n",
        "    def get_hyperparameter_search_space(\n",
        "        feat_type: Optional[FEAT_TYPE_TYPE] = None, dataset_properties=None\n",
        "    ):\n",
        "        return ConfigurationSpace()  # Return an empty configuration as there is None\n",
        "\n",
        "\n",
        "# Add NoPreprocessing component to auto-sklearn.\n",
        "autosklearn.pipeline.components.data_preprocessing.add_preprocessor(NoPreprocessing)"
      ]
    },
    {
      "cell_type": "code",
      "execution_count": 3,
      "metadata": {
        "collapsed": false
      },
      "outputs": [],
      "source": [
        "\n",
        "import pandas as pd\n",
        "from sklearn.model_selection import train_test_split\n",
        "import autosklearn\n",
        "file_path = '../data/airbnb.csv'\n",
        "\n",
        "df = pd.read_csv(file_path)\n",
        "\n",
        "df.dropna(subset=['Rating'])\n",
        "y = df['Rating']\n",
        "X = df.drop('Rating', axis=1)\n",
        "X_train, X_test, y_train, y_test = train_test_split(X, y, test_size=0.2, random_state=42)\n",
        "df = pd.read_csv(file_path)"
      ]
    },
    {
      "cell_type": "markdown",
      "metadata": {},
      "source": [
        "## Build and fit a classifier\n",
        "\n"
      ]
    },
    {
      "cell_type": "code",
      "execution_count": 5,
      "metadata": {
        "collapsed": false
      },
      "outputs": [
        {
          "name": "stdout",
          "output_type": "stream",
          "text": [
            "INITT\n",
            "helloo\n"
          ]
        },
        {
          "name": "stderr",
          "output_type": "stream",
          "text": [
            "Fitting to the training data:   0%|\u001b[32m          \u001b[0m| 0/120 [00:00<?, ?it/s, The total time budget for this task is 0:02:00]"
          ]
        },
        {
          "name": "stdout",
          "output_type": "stream",
          "text": [
            "Before data managing, null counts in X test\n",
            "<class 'pandas.core.frame.DataFrame'>\n",
            "Bathrooms                                              258\n",
            "Bedrooms                                              1842\n",
            "Beds                                                   186\n",
            "LocationName                                           191\n",
            "NumGuests                                              186\n",
            "NumReviews                                             188\n",
            "Price                                                  364\n",
            "latitude                                                 0\n",
            "longitude                                                0\n",
            "zipcode                                                  0\n",
            "pop2016                                                 22\n",
            "pop2010                                                 22\n",
            "pop2000                                                  0\n",
            "cost_living_index (US avg. = 100)                       22\n",
            "land_area (sq.mi.)                                       0\n",
            "water_area (sq.mi.)                                      0\n",
            "pop_density (people per mile)                            0\n",
            "number of males                                          0\n",
            "number of females                                        0\n",
            "prop taxes paid 2016                                    47\n",
            "median taxes (with mortgage                           2012\n",
            "median taxes (no mortgage)                            1959\n",
            "median house value                                    1849\n",
            "median houshold income                                  40\n",
            "median monthly owner costs (with mortgage)            1871\n",
            "median monthly owner costs (no mortgage)              1953\n",
            "median gross rent                                      100\n",
            "median asking price for vacant for-sale home/condo      65\n",
            "unemployment (%)                                        65\n",
            "Number of Homes                                         22\n",
            "Count of Abnb                                            0\n",
            "Density of Abnb (%)                                     22\n",
            "Average Abnb Price (by zipcode)                          0\n",
            "Average NumReviews (by zipcode)                          0\n",
            "Average Rating (by zipcode)                              0\n",
            "Average Number of Bathrooms (by zipcode)                 0\n",
            "Average Number of Bedrooms (by zipcode)                  0\n",
            "Average Number of Beds (by zipcode)                      0\n",
            "Average Number of Guests (by zipcode)                    0\n",
            "dtype: int64\n",
            "inside data manager:\n",
            "{'task': 1, 'is_sparse': 0, 'has_missing': True, 'label_num': 2}\n"
          ]
        },
        {
          "name": "stderr",
          "output_type": "stream",
          "text": [
            "/home/preethi/projects/CS8803-MDS-Data-Preprocessing-Transferability/autosklearn-pipeline/autosklearn/data/feature_validator.py:318: UserWarning: Input Column LocationName has generic type object. Autosklearn will treat this column as string. Please ensure that this setting is suitable for your task.\n",
            "  warnings.warn(\n"
          ]
        },
        {
          "name": "stdout",
          "output_type": "stream",
          "text": [
            "YYYY None\n",
            "[]\n",
            "DFFFF\n",
            "        0    1    2    3      4      5         6          7        8   \\\n",
            "0      2.0  2.0  3.0  4.0   86.0  437.0  37.79712 -122.41548  94133.0   \n",
            "1      1.0  2.0  2.0  5.0   32.0  140.0  40.68518  -73.99247  11201.0   \n",
            "2      1.0  1.0  1.0  2.0   53.0   55.0  25.93360  -80.13548  33141.0   \n",
            "3      1.0  1.0  2.0  5.0  280.0  109.0  39.94632  -75.16195  19107.0   \n",
            "4      1.0  1.0  3.0  3.0    8.0   30.0  29.97606  -90.03862  70117.0   \n",
            "...    ...  ...  ...  ...    ...    ...       ...        ...      ...   \n",
            "18556  1.0  1.0  2.0  4.0  107.0   50.0  40.76446  -73.90698  11103.0   \n",
            "18557  1.0  1.0  2.0  3.0  185.0   55.0  33.74231  -84.33843  30316.0   \n",
            "18558  1.0  1.0  1.0  2.0   49.0   85.0  39.94618  -75.16306  19102.0   \n",
            "18559  1.0  1.0  1.0  2.0   19.0  110.0  37.77765 -122.28337  94130.0   \n",
            "18560  1.0  2.0  3.0  6.0   42.0  115.0  42.31179  -71.12133   2130.0   \n",
            "\n",
            "            9   ...       28      29          30          31         32  \\\n",
            "0      27885.0  ...  11154.0   143.0    1.282051  269.923664  62.594828   \n",
            "1      60922.0  ...  24368.8   165.0    0.677095  174.141975  39.301587   \n",
            "2      40307.0  ...  16122.8   829.0    5.141787  123.443489  25.918790   \n",
            "3      13657.0  ...   5462.8   173.0    3.166874   99.618497  54.150327   \n",
            "4      24945.0  ...   9978.0   386.0    3.868511  106.580729  73.790960   \n",
            "...        ...  ...      ...     ...         ...         ...        ...   \n",
            "18556  39418.0  ...  15767.2    93.0    0.589832   86.945055  44.493151   \n",
            "18557  32108.0  ...  12843.2    53.0    0.412670  115.547170  51.333333   \n",
            "18558   4936.0  ...   1974.4    64.0    3.241491   73.515625  71.758065   \n",
            "18559   3134.0  ...   1253.6  4143.0  330.488194  117.697403  43.552975   \n",
            "18560  39879.0  ...  15951.6    39.0    0.244490  100.447368  48.848485   \n",
            "\n",
            "             33        34        35        36        37  \n",
            "0      4.865079  1.135338  1.566929  2.142857  2.142857  \n",
            "1      4.824324  1.085890  1.410959  1.684848  1.684848  \n",
            "2      4.756522  1.507246  1.754226  2.530193  2.530193  \n",
            "3      4.726667  1.248555  1.537500  2.387283  2.387283  \n",
            "4      4.829971  1.329016  1.798942  2.393782  2.393782  \n",
            "...         ...       ...       ...       ...       ...  \n",
            "18556  4.742857  1.119565  1.247191  1.677419  1.677419  \n",
            "18557  4.860465  1.396226  1.620000  2.056604  2.056604  \n",
            "18558  4.717742  1.093750  1.280000  1.750000  1.750000  \n",
            "18559  4.837386  1.189232  1.461605  1.775992  1.775992  \n",
            "18560  4.870968  1.157895  1.526316  1.743590  1.743590  \n",
            "\n",
            "[18561 rows x 38 columns]\n",
            "NULL COUNTS AFTER NEW 0     0\n",
            "1     0\n",
            "2     0\n",
            "3     0\n",
            "4     0\n",
            "5     0\n",
            "6     0\n",
            "7     0\n",
            "8     0\n",
            "9     0\n",
            "10    0\n",
            "11    0\n",
            "12    0\n",
            "13    0\n",
            "14    0\n",
            "15    0\n",
            "16    0\n",
            "17    0\n",
            "18    0\n",
            "19    0\n",
            "20    0\n",
            "21    0\n",
            "22    0\n",
            "23    0\n",
            "24    0\n",
            "25    0\n",
            "26    0\n",
            "27    0\n",
            "28    0\n",
            "29    0\n",
            "30    0\n",
            "31    0\n",
            "32    0\n",
            "33    0\n",
            "34    0\n",
            "35    0\n",
            "36    0\n",
            "37    0\n",
            "dtype: int64\n",
            "TRANSFORMED DFFFFFFFFFFFF\n",
            "             0         1         2         3         4         5         6   \\\n",
            "0      1.426385  0.651561  0.749986  0.208261  0.559020  3.294735  0.204375   \n",
            "1     -0.397502  0.651561  0.040795  0.652875 -0.307916  0.222932  0.761171   \n",
            "2     -0.397502 -0.596828 -0.668395 -0.680967  0.029226 -0.656203 -2.082820   \n",
            "3     -0.397502 -0.596828  0.040795  0.652875  3.673566 -0.097694  0.618725   \n",
            "4     -0.397502 -0.596828  0.749986 -0.236353 -0.693220 -0.914773 -1.303465   \n",
            "...         ...       ...       ...       ...       ...       ...       ...   \n",
            "18556 -0.397502 -0.596828  0.040795  0.208261  0.896162 -0.707917  0.776456   \n",
            "18557 -0.397502 -0.596828  0.040795 -0.236353  2.148402 -0.656203 -0.577361   \n",
            "18558 -0.397502 -0.596828 -0.668395 -0.680967 -0.034991 -0.345920  0.618698   \n",
            "18559 -0.397502 -0.596828 -0.668395 -0.680967 -0.516622 -0.087351  0.200622   \n",
            "18560 -0.397502  0.651561  0.749986  1.097489 -0.147372 -0.035637  1.074769   \n",
            "\n",
            "             7         8         9   ...        28        29        30  \\\n",
            "0     -1.165152  0.983669 -0.279512  ... -0.279512 -0.509537 -0.363031   \n",
            "1      1.111212 -1.271936  1.190138  ...  1.190138 -0.490597 -0.369353   \n",
            "2      0.822430 -0.675206  0.273080  ...  0.273080  0.081048 -0.322699   \n",
            "3      1.056235 -1.056907 -0.912444  ... -0.912444 -0.483710 -0.343336   \n",
            "4      0.356884  0.330476 -0.410298  ... -0.410298 -0.300336 -0.336004   \n",
            "...         ...       ...       ...  ...       ...       ...       ...   \n",
            "18556  1.115231 -1.274601  0.233533  ...  0.233533 -0.552583 -0.370265   \n",
            "18557  0.624849 -0.752041 -0.091652  ... -0.091652 -0.587019 -0.372116   \n",
            "18558  1.056183 -1.057043 -1.300398  ... -1.300398 -0.577549 -0.342556   \n",
            "18559 -1.158941  0.983588 -1.380559  ... -1.380559  2.934110  3.076970   \n",
            "18560  1.246185 -1.518651  0.254041  ...  0.254041 -0.599072 -0.373873   \n",
            "\n",
            "             31        32        33        34        35        36        37  \n",
            "0      3.752280  0.810207  0.649104 -0.758507  0.294982  0.536179  0.536179  \n",
            "1      1.251006 -0.600311  0.067028 -1.134679 -0.394755 -0.749083 -0.749083  \n",
            "2     -0.072950 -1.410704 -0.901350  2.070709  1.123254  1.623120  1.623120  \n",
            "3     -0.695123  0.298852 -1.327749  0.102765  0.164840  1.222087  1.222087  \n",
            "4     -0.513309  1.488187  0.147678  0.714853  1.320997  1.240325  1.240325  \n",
            "...         ...       ...       ...       ...       ...       ...       ...  \n",
            "18556 -1.026082 -0.285937 -1.096512 -0.878498 -1.118975 -0.769930 -0.769930  \n",
            "18557 -0.279157  0.128269  0.583202  1.226146  0.529674  0.294135  0.294135  \n",
            "18558 -1.376782  1.365085 -1.455215 -1.074882 -0.973886 -0.566255 -0.566255  \n",
            "18559 -0.223005 -0.342869  0.253572 -0.348525 -0.170786 -0.493317 -0.493317  \n",
            "18560 -0.673478 -0.022200  0.733204 -0.586914  0.115380 -0.584243 -0.584243  \n",
            "\n",
            "[18561 rows x 38 columns]\n"
          ]
        },
        {
          "name": "stderr",
          "output_type": "stream",
          "text": [
            "Fitting to the training data:   1%|\u001b[32m          \u001b[0m| 1/120 [00:01<01:59,  1.00s/it, The total time budget for this task is 0:02:00]"
          ]
        },
        {
          "name": "stdout",
          "output_type": "stream",
          "text": [
            "[]\n",
            "DFFFF\n",
            "        0    1    2    3      4      5         6          7        8   \\\n",
            "0      2.0  2.0  3.0  4.0   86.0  437.0  37.79712 -122.41548  94133.0   \n",
            "1      1.0  2.0  2.0  5.0   32.0  140.0  40.68518  -73.99247  11201.0   \n",
            "2      1.0  1.0  1.0  2.0   53.0   55.0  25.93360  -80.13548  33141.0   \n",
            "3      1.0  1.0  2.0  5.0  280.0  109.0  39.94632  -75.16195  19107.0   \n",
            "4      1.0  1.0  3.0  3.0    8.0   30.0  29.97606  -90.03862  70117.0   \n",
            "...    ...  ...  ...  ...    ...    ...       ...        ...      ...   \n",
            "18556  1.0  1.0  2.0  4.0  107.0   50.0  40.76446  -73.90698  11103.0   \n",
            "18557  1.0  1.0  2.0  3.0  185.0   55.0  33.74231  -84.33843  30316.0   \n",
            "18558  1.0  1.0  1.0  2.0   49.0   85.0  39.94618  -75.16306  19102.0   \n",
            "18559  1.0  1.0  1.0  2.0   19.0  110.0  37.77765 -122.28337  94130.0   \n",
            "18560  1.0  2.0  3.0  6.0   42.0  115.0  42.31179  -71.12133   2130.0   \n",
            "\n",
            "            9   ...       28      29          30          31         32  \\\n",
            "0      27885.0  ...  11154.0   143.0    1.282051  269.923664  62.594828   \n",
            "1      60922.0  ...  24368.8   165.0    0.677095  174.141975  39.301587   \n",
            "2      40307.0  ...  16122.8   829.0    5.141787  123.443489  25.918790   \n",
            "3      13657.0  ...   5462.8   173.0    3.166874   99.618497  54.150327   \n",
            "4      24945.0  ...   9978.0   386.0    3.868511  106.580729  73.790960   \n",
            "...        ...  ...      ...     ...         ...         ...        ...   \n",
            "18556  39418.0  ...  15767.2    93.0    0.589832   86.945055  44.493151   \n",
            "18557  32108.0  ...  12843.2    53.0    0.412670  115.547170  51.333333   \n",
            "18558   4936.0  ...   1974.4    64.0    3.241491   73.515625  71.758065   \n",
            "18559   3134.0  ...   1253.6  4143.0  330.488194  117.697403  43.552975   \n",
            "18560  39879.0  ...  15951.6    39.0    0.244490  100.447368  48.848485   \n",
            "\n",
            "             33        34        35        36        37  \n",
            "0      4.865079  1.135338  1.566929  2.142857  2.142857  \n",
            "1      4.824324  1.085890  1.410959  1.684848  1.684848  \n",
            "2      4.756522  1.507246  1.754226  2.530193  2.530193  \n",
            "3      4.726667  1.248555  1.537500  2.387283  2.387283  \n",
            "4      4.829971  1.329016  1.798942  2.393782  2.393782  \n",
            "...         ...       ...       ...       ...       ...  \n",
            "18556  4.742857  1.119565  1.247191  1.677419  1.677419  \n",
            "18557  4.860465  1.396226  1.620000  2.056604  2.056604  \n",
            "18558  4.717742  1.093750  1.280000  1.750000  1.750000  \n",
            "18559  4.837386  1.189232  1.461605  1.775992  1.775992  \n",
            "18560  4.870968  1.157895  1.526316  1.743590  1.743590  \n",
            "\n",
            "[18561 rows x 38 columns]\n"
          ]
        },
        {
          "name": "stderr",
          "output_type": "stream",
          "text": [
            "Fitting to the training data:   2%|\u001b[32m▏         \u001b[0m| 2/120 [00:02<01:58,  1.00s/it, The total time budget for this task is 0:02:00]"
          ]
        },
        {
          "name": "stdout",
          "output_type": "stream",
          "text": [
            "NULL COUNTS AFTER NEW 0     0\n",
            "1     0\n",
            "2     0\n",
            "3     0\n",
            "4     0\n",
            "5     0\n",
            "6     0\n",
            "7     0\n",
            "8     0\n",
            "9     0\n",
            "10    0\n",
            "11    0\n",
            "12    0\n",
            "13    0\n",
            "14    0\n",
            "15    0\n",
            "16    0\n",
            "17    0\n",
            "18    0\n",
            "19    0\n",
            "20    0\n",
            "21    0\n",
            "22    0\n",
            "23    0\n",
            "24    0\n",
            "25    0\n",
            "26    0\n",
            "27    0\n",
            "28    0\n",
            "29    0\n",
            "30    0\n",
            "31    0\n",
            "32    0\n",
            "33    0\n",
            "34    0\n",
            "35    0\n",
            "36    0\n",
            "37    0\n",
            "dtype: int64\n",
            "TRANSFORMED DFFFFFFFFFFFF\n",
            "             0         1         2         3         4         5         6   \\\n",
            "0      1.426385  0.651561  0.749986  0.208261  0.559020  3.294735  0.204375   \n",
            "1     -0.397502  0.651561  0.040795  0.652875 -0.307916  0.222932  0.761171   \n",
            "2     -0.397502 -0.596828 -0.668395 -0.680967  0.029226 -0.656203 -2.082820   \n",
            "3     -0.397502 -0.596828  0.040795  0.652875  3.673566 -0.097694  0.618725   \n",
            "4     -0.397502 -0.596828  0.749986 -0.236353 -0.693220 -0.914773 -1.303465   \n",
            "...         ...       ...       ...       ...       ...       ...       ...   \n",
            "18556 -0.397502 -0.596828  0.040795  0.208261  0.896162 -0.707917  0.776456   \n",
            "18557 -0.397502 -0.596828  0.040795 -0.236353  2.148402 -0.656203 -0.577361   \n",
            "18558 -0.397502 -0.596828 -0.668395 -0.680967 -0.034991 -0.345920  0.618698   \n",
            "18559 -0.397502 -0.596828 -0.668395 -0.680967 -0.516622 -0.087351  0.200622   \n",
            "18560 -0.397502  0.651561  0.749986  1.097489 -0.147372 -0.035637  1.074769   \n",
            "\n",
            "             7         8         9   ...        28        29        30  \\\n",
            "0     -1.165152  0.983669 -0.279512  ... -0.279512 -0.509537 -0.363031   \n",
            "1      1.111212 -1.271936  1.190138  ...  1.190138 -0.490597 -0.369353   \n",
            "2      0.822430 -0.675206  0.273080  ...  0.273080  0.081048 -0.322699   \n",
            "3      1.056235 -1.056907 -0.912444  ... -0.912444 -0.483710 -0.343336   \n",
            "4      0.356884  0.330476 -0.410298  ... -0.410298 -0.300336 -0.336004   \n",
            "...         ...       ...       ...  ...       ...       ...       ...   \n",
            "18556  1.115231 -1.274601  0.233533  ...  0.233533 -0.552583 -0.370265   \n",
            "18557  0.624849 -0.752041 -0.091652  ... -0.091652 -0.587019 -0.372116   \n",
            "18558  1.056183 -1.057043 -1.300398  ... -1.300398 -0.577549 -0.342556   \n",
            "18559 -1.158941  0.983588 -1.380559  ... -1.380559  2.934110  3.076970   \n",
            "18560  1.246185 -1.518651  0.254041  ...  0.254041 -0.599072 -0.373873   \n",
            "\n",
            "             31        32        33        34        35        36        37  \n",
            "0      3.752280  0.810207  0.649104 -0.758507  0.294982  0.536179  0.536179  \n",
            "1      1.251006 -0.600311  0.067028 -1.134679 -0.394755 -0.749083 -0.749083  \n",
            "2     -0.072950 -1.410704 -0.901350  2.070709  1.123254  1.623120  1.623120  \n",
            "3     -0.695123  0.298852 -1.327749  0.102765  0.164840  1.222087  1.222087  \n",
            "4     -0.513309  1.488187  0.147678  0.714853  1.320997  1.240325  1.240325  \n",
            "...         ...       ...       ...       ...       ...       ...       ...  \n",
            "18556 -1.026082 -0.285937 -1.096512 -0.878498 -1.118975 -0.769930 -0.769930  \n",
            "18557 -0.279157  0.128269  0.583202  1.226146  0.529674  0.294135  0.294135  \n",
            "18558 -1.376782  1.365085 -1.455215 -1.074882 -0.973886 -0.566255 -0.566255  \n",
            "18559 -0.223005 -0.342869  0.253572 -0.348525 -0.170786 -0.493317 -0.493317  \n",
            "18560 -0.673478 -0.022200  0.733204 -0.586914  0.115380 -0.584243 -0.584243  \n",
            "\n",
            "[18561 rows x 38 columns]\n"
          ]
        },
        {
          "name": "stderr",
          "output_type": "stream",
          "text": [
            "Fitting to the training data:   2%|\u001b[32m▎         \u001b[0m| 3/120 [00:03<01:57,  1.00s/it, The total time budget for this task is 0:02:00]"
          ]
        },
        {
          "name": "stdout",
          "output_type": "stream",
          "text": [
            "[WARNING] [2023-11-16 16:05:52,093:Client-AutoMLSMBO(1)::airbnb] Configuration 114 not found\n",
            "[WARNING] [2023-11-16 16:05:52,093:Client-AutoMLSMBO(1)::airbnb] Configuration 238 not found\n",
            "[WARNING] [2023-11-16 16:05:52,093:Client-AutoMLSMBO(1)::airbnb] Configuration 262 not found\n",
            "[WARNING] [2023-11-16 16:05:52,093:Client-AutoMLSMBO(1)::airbnb] Configuration 676 not found\n",
            "[WARNING] [2023-11-16 16:05:52,093:Client-AutoMLSMBO(1)::airbnb] Configuration 657 not found\n",
            "[WARNING] [2023-11-16 16:05:52,093:Client-AutoMLSMBO(1)::airbnb] Configuration 701 not found\n",
            "[WARNING] [2023-11-16 16:05:52,093:Client-AutoMLSMBO(1)::airbnb] Configuration 206 not found\n",
            "[WARNING] [2023-11-16 16:05:52,093:Client-AutoMLSMBO(1)::airbnb] Configuration 386 not found\n",
            "[WARNING] [2023-11-16 16:05:52,093:Client-AutoMLSMBO(1)::airbnb] Configuration 574 not found\n",
            "[WARNING] [2023-11-16 16:05:52,093:Client-AutoMLSMBO(1)::airbnb] Configuration 367 not found\n",
            "[WARNING] [2023-11-16 16:05:52,093:Client-AutoMLSMBO(1)::airbnb] Configuration 426 not found\n",
            "[WARNING] [2023-11-16 16:05:52,093:Client-AutoMLSMBO(1)::airbnb] Configuration 690 not found\n",
            "[WARNING] [2023-11-16 16:05:52,093:Client-AutoMLSMBO(1)::airbnb] Configuration 251 not found\n",
            "[WARNING] [2023-11-16 16:05:52,093:Client-AutoMLSMBO(1)::airbnb] Configuration 563 not found\n",
            "[WARNING] [2023-11-16 16:05:52,093:Client-AutoMLSMBO(1)::airbnb] Configuration 524 not found\n",
            "[WARNING] [2023-11-16 16:05:52,093:Client-AutoMLSMBO(1)::airbnb] Configuration 71 not found\n",
            "[WARNING] [2023-11-16 16:05:52,093:Client-AutoMLSMBO(1)::airbnb] Configuration 674 not found\n",
            "[WARNING] [2023-11-16 16:05:52,093:Client-AutoMLSMBO(1)::airbnb] Configuration 601 not found\n",
            "[WARNING] [2023-11-16 16:05:52,093:Client-AutoMLSMBO(1)::airbnb] Configuration 467 not found\n",
            "[WARNING] [2023-11-16 16:05:52,093:Client-AutoMLSMBO(1)::airbnb] Configuration 266 not found\n",
            "[WARNING] [2023-11-16 16:05:52,093:Client-AutoMLSMBO(1)::airbnb] Configuration 108 not found\n",
            "[WARNING] [2023-11-16 16:05:52,093:Client-AutoMLSMBO(1)::airbnb] Configuration 506 not found\n",
            "[WARNING] [2023-11-16 16:05:52,093:Client-AutoMLSMBO(1)::airbnb] Configuration 162 not found\n",
            "[WARNING] [2023-11-16 16:05:52,093:Client-AutoMLSMBO(1)::airbnb] Configuration 518 not found\n",
            "[WARNING] [2023-11-16 16:05:52,093:Client-AutoMLSMBO(1)::airbnb] Configuration 605 not found\n",
            "[WARNING] [2023-11-16 16:05:52,093:Client-AutoMLSMBO(1)::airbnb] Configuration 220 not found\n",
            "[WARNING] [2023-11-16 16:05:52,093:Client-AutoMLSMBO(1)::airbnb] Configuration 444 not found\n",
            "[WARNING] [2023-11-16 16:05:52,093:Client-AutoMLSMBO(1)::airbnb] Configuration 702 not found\n",
            "[WARNING] [2023-11-16 16:05:52,093:Client-AutoMLSMBO(1)::airbnb] Configuration 302 not found\n",
            "[WARNING] [2023-11-16 16:05:52,093:Client-AutoMLSMBO(1)::airbnb] Configuration 388 not found\n",
            "[WARNING] [2023-11-16 16:05:52,093:Client-AutoMLSMBO(1)::airbnb] Configuration 492 not found\n",
            "[WARNING] [2023-11-16 16:05:52,093:Client-AutoMLSMBO(1)::airbnb] Configuration 22 not found\n",
            "[WARNING] [2023-11-16 16:05:52,093:Client-AutoMLSMBO(1)::airbnb] Configuration 91 not found\n",
            "[WARNING] [2023-11-16 16:05:52,093:Client-AutoMLSMBO(1)::airbnb] Configuration 659 not found\n",
            "[WARNING] [2023-11-16 16:05:52,093:Client-AutoMLSMBO(1)::airbnb] Configuration 147 not found\n",
            "[WARNING] [2023-11-16 16:05:52,093:Client-AutoMLSMBO(1)::airbnb] Configuration 138 not found\n",
            "[WARNING] [2023-11-16 16:05:52,093:Client-AutoMLSMBO(1)::airbnb] Configuration 631 not found\n",
            "[WARNING] [2023-11-16 16:05:52,093:Client-AutoMLSMBO(1)::airbnb] Configuration 7 not found\n",
            "[WARNING] [2023-11-16 16:05:52,093:Client-AutoMLSMBO(1)::airbnb] Configuration 532 not found\n",
            "[WARNING] [2023-11-16 16:05:52,094:Client-AutoMLSMBO(1)::airbnb] Configuration 327 not found\n",
            "[WARNING] [2023-11-16 16:05:52,094:Client-AutoMLSMBO(1)::airbnb] Configuration 454 not found\n",
            "[WARNING] [2023-11-16 16:05:52,094:Client-AutoMLSMBO(1)::airbnb] Configuration 1 not found\n",
            "[WARNING] [2023-11-16 16:05:52,094:Client-AutoMLSMBO(1)::airbnb] Configuration 576 not found\n",
            "[WARNING] [2023-11-16 16:05:52,094:Client-AutoMLSMBO(1)::airbnb] Configuration 227 not found\n",
            "[WARNING] [2023-11-16 16:05:52,094:Client-AutoMLSMBO(1)::airbnb] Configuration 214 not found\n",
            "[WARNING] [2023-11-16 16:05:52,094:Client-AutoMLSMBO(1)::airbnb] Configuration 176 not found\n",
            "[WARNING] [2023-11-16 16:05:52,094:Client-AutoMLSMBO(1)::airbnb] Configuration 14 not found\n",
            "[WARNING] [2023-11-16 16:05:52,094:Client-AutoMLSMBO(1)::airbnb] Configuration 191 not found\n",
            "[WARNING] [2023-11-16 16:05:52,094:Client-AutoMLSMBO(1)::airbnb] Configuration 624 not found\n",
            "[WARNING] [2023-11-16 16:05:52,094:Client-AutoMLSMBO(1)::airbnb] Configuration 668 not found\n",
            "[WARNING] [2023-11-16 16:05:52,094:Client-AutoMLSMBO(1)::airbnb] Configuration 635 not found\n",
            "[WARNING] [2023-11-16 16:05:52,094:Client-AutoMLSMBO(1)::airbnb] Configuration 694 not found\n",
            "[WARNING] [2023-11-16 16:05:52,094:Client-AutoMLSMBO(1)::airbnb] Configuration 369 not found\n",
            "[WARNING] [2023-11-16 16:05:52,094:Client-AutoMLSMBO(1)::airbnb] Configuration 515 not found\n",
            "[WARNING] [2023-11-16 16:05:52,094:Client-AutoMLSMBO(1)::airbnb] Configuration 188 not found\n",
            "[WARNING] [2023-11-16 16:05:52,094:Client-AutoMLSMBO(1)::airbnb] Configuration 283 not found\n",
            "[WARNING] [2023-11-16 16:05:52,094:Client-AutoMLSMBO(1)::airbnb] Configuration 338 not found\n",
            "[WARNING] [2023-11-16 16:05:52,094:Client-AutoMLSMBO(1)::airbnb] Configuration 43 not found\n",
            "[WARNING] [2023-11-16 16:05:52,094:Client-AutoMLSMBO(1)::airbnb] Configuration 67 not found\n",
            "[WARNING] [2023-11-16 16:05:52,094:Client-AutoMLSMBO(1)::airbnb] Configuration 257 not found\n",
            "[WARNING] [2023-11-16 16:05:52,094:Client-AutoMLSMBO(1)::airbnb] Configuration 230 not found\n",
            "[WARNING] [2023-11-16 16:05:52,094:Client-AutoMLSMBO(1)::airbnb] Configuration 254 not found\n",
            "[WARNING] [2023-11-16 16:05:52,094:Client-AutoMLSMBO(1)::airbnb] Configuration 347 not found\n",
            "[WARNING] [2023-11-16 16:05:52,094:Client-AutoMLSMBO(1)::airbnb] Configuration 430 not found\n",
            "[WARNING] [2023-11-16 16:05:52,094:Client-AutoMLSMBO(1)::airbnb] Configuration 382 not found\n",
            "[WARNING] [2023-11-16 16:05:52,094:Client-AutoMLSMBO(1)::airbnb] Configuration 86 not found\n",
            "[WARNING] [2023-11-16 16:05:52,094:Client-AutoMLSMBO(1)::airbnb] Configuration 473 not found\n",
            "[WARNING] [2023-11-16 16:05:52,094:Client-AutoMLSMBO(1)::airbnb] Configuration 585 not found\n",
            "[WARNING] [2023-11-16 16:05:52,094:Client-AutoMLSMBO(1)::airbnb] Configuration 460 not found\n",
            "[WARNING] [2023-11-16 16:05:52,094:Client-AutoMLSMBO(1)::airbnb] Configuration 88 not found\n",
            "[WARNING] [2023-11-16 16:05:52,094:Client-AutoMLSMBO(1)::airbnb] Configuration 332 not found\n",
            "[WARNING] [2023-11-16 16:05:52,094:Client-AutoMLSMBO(1)::airbnb] Configuration 61 not found\n",
            "[WARNING] [2023-11-16 16:05:52,094:Client-AutoMLSMBO(1)::airbnb] Configuration 566 not found\n",
            "[WARNING] [2023-11-16 16:05:52,094:Client-AutoMLSMBO(1)::airbnb] Configuration 211 not found\n",
            "[WARNING] [2023-11-16 16:05:52,094:Client-AutoMLSMBO(1)::airbnb] Configuration 28 not found\n",
            "[WARNING] [2023-11-16 16:05:52,094:Client-AutoMLSMBO(1)::airbnb] Configuration 476 not found\n",
            "[WARNING] [2023-11-16 16:05:52,094:Client-AutoMLSMBO(1)::airbnb] Configuration 440 not found\n",
            "[WARNING] [2023-11-16 16:05:52,094:Client-AutoMLSMBO(1)::airbnb] Configuration 145 not found\n",
            "[WARNING] [2023-11-16 16:05:52,094:Client-AutoMLSMBO(1)::airbnb] Configuration 165 not found\n",
            "[WARNING] [2023-11-16 16:05:52,094:Client-AutoMLSMBO(1)::airbnb] Configuration 407 not found\n",
            "[WARNING] [2023-11-16 16:05:52,094:Client-AutoMLSMBO(1)::airbnb] Configuration 521 not found\n",
            "[WARNING] [2023-11-16 16:05:52,094:Client-AutoMLSMBO(1)::airbnb] Configuration 329 not found\n",
            "[WARNING] [2023-11-16 16:05:52,094:Client-AutoMLSMBO(1)::airbnb] Configuration 222 not found\n",
            "[WARNING] [2023-11-16 16:05:52,094:Client-AutoMLSMBO(1)::airbnb] Configuration 131 not found\n",
            "[WARNING] [2023-11-16 16:05:52,094:Client-AutoMLSMBO(1)::airbnb] Configuration 663 not found\n",
            "[WARNING] [2023-11-16 16:05:52,094:Client-AutoMLSMBO(1)::airbnb] Configuration 32 not found\n",
            "[WARNING] [2023-11-16 16:05:52,094:Client-AutoMLSMBO(1)::airbnb] Configuration 237 not found\n",
            "[WARNING] [2023-11-16 16:05:52,094:Client-AutoMLSMBO(1)::airbnb] Configuration 422 not found\n",
            "[WARNING] [2023-11-16 16:05:52,094:Client-AutoMLSMBO(1)::airbnb] Configuration 75 not found\n",
            "[WARNING] [2023-11-16 16:05:52,094:Client-AutoMLSMBO(1)::airbnb] Configuration 590 not found\n",
            "[WARNING] [2023-11-16 16:05:52,094:Client-AutoMLSMBO(1)::airbnb] Configuration 184 not found\n",
            "[WARNING] [2023-11-16 16:05:52,094:Client-AutoMLSMBO(1)::airbnb] Configuration 282 not found\n",
            "[WARNING] [2023-11-16 16:05:52,094:Client-AutoMLSMBO(1)::airbnb] Configuration 461 not found\n",
            "[WARNING] [2023-11-16 16:05:52,094:Client-AutoMLSMBO(1)::airbnb] Configuration 560 not found\n",
            "[WARNING] [2023-11-16 16:05:52,094:Client-AutoMLSMBO(1)::airbnb] Configuration 232 not found\n",
            "[WARNING] [2023-11-16 16:05:52,094:Client-AutoMLSMBO(1)::airbnb] Configuration 546 not found\n",
            "[WARNING] [2023-11-16 16:05:52,094:Client-AutoMLSMBO(1)::airbnb] Configuration 608 not found\n",
            "[WARNING] [2023-11-16 16:05:52,094:Client-AutoMLSMBO(1)::airbnb] Configuration 399 not found\n",
            "[WARNING] [2023-11-16 16:05:52,094:Client-AutoMLSMBO(1)::airbnb] Configuration 37 not found\n",
            "[WARNING] [2023-11-16 16:05:52,094:Client-AutoMLSMBO(1)::airbnb] Configuration 358 not found\n",
            "[WARNING] [2023-11-16 16:05:52,094:Client-AutoMLSMBO(1)::airbnb] Configuration 99 not found\n",
            "[WARNING] [2023-11-16 16:05:52,095:Client-AutoMLSMBO(1)::airbnb] Configuration 149 not found\n",
            "[WARNING] [2023-11-16 16:05:52,095:Client-AutoMLSMBO(1)::airbnb] Configuration 345 not found\n",
            "[WARNING] [2023-11-16 16:05:52,095:Client-AutoMLSMBO(1)::airbnb] Configuration 579 not found\n",
            "[WARNING] [2023-11-16 16:05:52,095:Client-AutoMLSMBO(1)::airbnb] Configuration 9 not found\n",
            "[WARNING] [2023-11-16 16:05:52,095:Client-AutoMLSMBO(1)::airbnb] Configuration 81 not found\n",
            "[WARNING] [2023-11-16 16:05:52,095:Client-AutoMLSMBO(1)::airbnb] Configuration 357 not found\n",
            "[WARNING] [2023-11-16 16:05:52,095:Client-AutoMLSMBO(1)::airbnb] Configuration 595 not found\n",
            "[WARNING] [2023-11-16 16:05:52,095:Client-AutoMLSMBO(1)::airbnb] Configuration 613 not found\n",
            "[WARNING] [2023-11-16 16:05:52,095:Client-AutoMLSMBO(1)::airbnb] Configuration 315 not found\n",
            "[WARNING] [2023-11-16 16:05:52,095:Client-AutoMLSMBO(1)::airbnb] Configuration 40 not found\n",
            "[WARNING] [2023-11-16 16:05:52,095:Client-AutoMLSMBO(1)::airbnb] Configuration 414 not found\n",
            "[WARNING] [2023-11-16 16:05:52,095:Client-AutoMLSMBO(1)::airbnb] Configuration 536 not found\n",
            "[WARNING] [2023-11-16 16:05:52,095:Client-AutoMLSMBO(1)::airbnb] Configuration 264 not found\n",
            "[WARNING] [2023-11-16 16:05:52,095:Client-AutoMLSMBO(1)::airbnb] Configuration 193 not found\n",
            "[WARNING] [2023-11-16 16:05:52,095:Client-AutoMLSMBO(1)::airbnb] Configuration 277 not found\n",
            "[WARNING] [2023-11-16 16:05:52,095:Client-AutoMLSMBO(1)::airbnb] Configuration 670 not found\n",
            "[WARNING] [2023-11-16 16:05:52,095:Client-AutoMLSMBO(1)::airbnb] Configuration 53 not found\n",
            "[WARNING] [2023-11-16 16:05:52,095:Client-AutoMLSMBO(1)::airbnb] Configuration 393 not found\n",
            "[WARNING] [2023-11-16 16:05:52,095:Client-AutoMLSMBO(1)::airbnb] Configuration 648 not found\n",
            "[WARNING] [2023-11-16 16:05:52,095:Client-AutoMLSMBO(1)::airbnb] Configuration 270 not found\n",
            "[WARNING] [2023-11-16 16:05:52,095:Client-AutoMLSMBO(1)::airbnb] Configuration 173 not found\n",
            "[WARNING] [2023-11-16 16:05:52,095:Client-AutoMLSMBO(1)::airbnb] Configuration 25 not found\n",
            "[WARNING] [2023-11-16 16:05:52,095:Client-AutoMLSMBO(1)::airbnb] Configuration 48 not found\n",
            "[WARNING] [2023-11-16 16:05:52,095:Client-AutoMLSMBO(1)::airbnb] Configuration 512 not found\n",
            "[WARNING] [2023-11-16 16:05:52,095:Client-AutoMLSMBO(1)::airbnb] Configuration 129 not found\n",
            "[WARNING] [2023-11-16 16:05:52,095:Client-AutoMLSMBO(1)::airbnb] Configuration 378 not found\n",
            "[WARNING] [2023-11-16 16:05:52,095:Client-AutoMLSMBO(1)::airbnb] Configuration 313 not found\n",
            "[WARNING] [2023-11-16 16:05:52,095:Client-AutoMLSMBO(1)::airbnb] Configuration 340 not found\n",
            "[WARNING] [2023-11-16 16:05:52,095:Client-AutoMLSMBO(1)::airbnb] Configuration 247 not found\n",
            "[WARNING] [2023-11-16 16:05:52,095:Client-AutoMLSMBO(1)::airbnb] Configuration 445 not found\n",
            "[WARNING] [2023-11-16 16:05:52,095:Client-AutoMLSMBO(1)::airbnb] Configuration 587 not found\n",
            "[WARNING] [2023-11-16 16:05:52,095:Client-AutoMLSMBO(1)::airbnb] Configuration 653 not found\n",
            "[WARNING] [2023-11-16 16:05:52,095:Client-AutoMLSMBO(1)::airbnb] Configuration 680 not found\n",
            "[WARNING] [2023-11-16 16:05:52,095:Client-AutoMLSMBO(1)::airbnb] Configuration 204 not found\n",
            "[WARNING] [2023-11-16 16:05:52,095:Client-AutoMLSMBO(1)::airbnb] Configuration 437 not found\n",
            "[WARNING] [2023-11-16 16:05:52,095:Client-AutoMLSMBO(1)::airbnb] Configuration 142 not found\n",
            "[WARNING] [2023-11-16 16:05:52,095:Client-AutoMLSMBO(1)::airbnb] Configuration 69 not found\n",
            "[WARNING] [2023-11-16 16:05:52,095:Client-AutoMLSMBO(1)::airbnb] Configuration 485 not found\n",
            "[WARNING] [2023-11-16 16:05:52,095:Client-AutoMLSMBO(1)::airbnb] Configuration 310 not found\n",
            "[WARNING] [2023-11-16 16:05:52,095:Client-AutoMLSMBO(1)::airbnb] Configuration 160 not found\n",
            "[WARNING] [2023-11-16 16:05:52,095:Client-AutoMLSMBO(1)::airbnb] Configuration 434 not found\n",
            "[WARNING] [2023-11-16 16:05:52,095:Client-AutoMLSMBO(1)::airbnb] Configuration 615 not found\n",
            "[WARNING] [2023-11-16 16:05:52,095:Client-AutoMLSMBO(1)::airbnb] Configuration 375 not found\n",
            "[WARNING] [2023-11-16 16:05:52,095:Client-AutoMLSMBO(1)::airbnb] Configuration 470 not found\n",
            "[WARNING] [2023-11-16 16:05:52,095:Client-AutoMLSMBO(1)::airbnb] Configuration 419 not found\n",
            "[WARNING] [2023-11-16 16:05:52,095:Client-AutoMLSMBO(1)::airbnb] Configuration 293 not found\n",
            "[WARNING] [2023-11-16 16:05:52,095:Client-AutoMLSMBO(1)::airbnb] Configuration 83 not found\n",
            "[WARNING] [2023-11-16 16:05:52,095:Client-AutoMLSMBO(1)::airbnb] Configuration 154 not found\n",
            "[WARNING] [2023-11-16 16:05:52,095:Client-AutoMLSMBO(1)::airbnb] Configuration 197 not found\n",
            "[WARNING] [2023-11-16 16:05:52,095:Client-AutoMLSMBO(1)::airbnb] Configuration 172 not found\n",
            "[WARNING] [2023-11-16 16:05:52,095:Client-AutoMLSMBO(1)::airbnb] Configuration 412 not found\n",
            "[WARNING] [2023-11-16 16:05:52,095:Client-AutoMLSMBO(1)::airbnb] Configuration 647 not found\n",
            "[WARNING] [2023-11-16 16:05:52,095:Client-AutoMLSMBO(1)::airbnb] Configuration 183 not found\n",
            "[WARNING] [2023-11-16 16:05:52,095:Client-AutoMLSMBO(1)::airbnb] Configuration 617 not found\n",
            "[WARNING] [2023-11-16 16:05:52,096:Client-AutoMLSMBO(1)::airbnb] Configuration 486 not found\n",
            "[WARNING] [2023-11-16 16:05:52,096:Client-AutoMLSMBO(1)::airbnb] Configuration 707 not found\n",
            "[WARNING] [2023-11-16 16:05:52,096:Client-AutoMLSMBO(1)::airbnb] Configuration 643 not found\n",
            "[WARNING] [2023-11-16 16:05:52,096:Client-AutoMLSMBO(1)::airbnb] Configuration 687 not found\n",
            "[WARNING] [2023-11-16 16:05:52,096:Client-AutoMLSMBO(1)::airbnb] Configuration 58 not found\n",
            "[WARNING] [2023-11-16 16:05:52,096:Client-AutoMLSMBO(1)::airbnb] Configuration 124 not found\n",
            "[WARNING] [2023-11-16 16:05:52,096:Client-AutoMLSMBO(1)::airbnb] Configuration 571 not found\n",
            "[WARNING] [2023-11-16 16:05:52,096:Client-AutoMLSMBO(1)::airbnb] Configuration 56 not found\n",
            "[WARNING] [2023-11-16 16:05:52,096:Client-AutoMLSMBO(1)::airbnb] Configuration 555 not found\n",
            "[WARNING] [2023-11-16 16:05:52,096:Client-AutoMLSMBO(1)::airbnb] Configuration 288 not found\n",
            "[WARNING] [2023-11-16 16:05:52,096:Client-AutoMLSMBO(1)::airbnb] Configuration 628 not found\n",
            "[WARNING] [2023-11-16 16:05:52,096:Client-AutoMLSMBO(1)::airbnb] Configuration 97 not found\n",
            "[WARNING] [2023-11-16 16:05:52,096:Client-AutoMLSMBO(1)::airbnb] Configuration 622 not found\n",
            "[WARNING] [2023-11-16 16:05:52,096:Client-AutoMLSMBO(1)::airbnb] Configuration 17 not found\n",
            "[WARNING] [2023-11-16 16:05:52,096:Client-AutoMLSMBO(1)::airbnb] Configuration 298 not found\n",
            "[WARNING] [2023-11-16 16:05:52,096:Client-AutoMLSMBO(1)::airbnb] Configuration 683 not found\n",
            "[WARNING] [2023-11-16 16:05:52,096:Client-AutoMLSMBO(1)::airbnb] Configuration 553 not found\n",
            "[WARNING] [2023-11-16 16:05:52,096:Client-AutoMLSMBO(1)::airbnb] Configuration 352 not found\n",
            "[WARNING] [2023-11-16 16:05:52,096:Client-AutoMLSMBO(1)::airbnb] Configuration 395 not found\n",
            "[WARNING] [2023-11-16 16:05:52,096:Client-AutoMLSMBO(1)::airbnb] Configuration 538 not found\n",
            "[WARNING] [2023-11-16 16:05:52,096:Client-AutoMLSMBO(1)::airbnb] Configuration 448 not found\n",
            "[WARNING] [2023-11-16 16:05:52,096:Client-AutoMLSMBO(1)::airbnb] Configuration 112 not found\n",
            "[WARNING] [2023-11-16 16:05:52,096:Client-AutoMLSMBO(1)::airbnb] Configuration 543 not found\n",
            "[WARNING] [2023-11-16 16:05:52,096:Client-AutoMLSMBO(1)::airbnb] Configuration 494 not found\n",
            "[WARNING] [2023-11-16 16:05:52,096:Client-AutoMLSMBO(1)::airbnb] Configuration 19 not found\n",
            "[WARNING] [2023-11-16 16:05:52,096:Client-AutoMLSMBO(1)::airbnb] Configuration 121 not found\n",
            "[WARNING] [2023-11-16 16:05:52,096:Client-AutoMLSMBO(1)::airbnb] Configuration 134 not found\n",
            "[WARNING] [2023-11-16 16:05:52,096:Client-AutoMLSMBO(1)::airbnb] Configuration 499 not found\n",
            "[WARNING] [2023-11-16 16:05:52,096:Client-AutoMLSMBO(1)::airbnb] Configuration 509 not found\n",
            "[WARNING] [2023-11-16 16:05:52,096:Client-AutoMLSMBO(1)::airbnb] Configuration 528 not found\n",
            "[WARNING] [2023-11-16 16:05:52,096:Client-AutoMLSMBO(1)::airbnb] Configuration 171 not found\n",
            "[WARNING] [2023-11-16 16:05:52,096:Client-AutoMLSMBO(1)::airbnb] Configuration 403 not found\n",
            "[WARNING] [2023-11-16 16:05:52,096:Client-AutoMLSMBO(1)::airbnb] Configuration 363 not found\n",
            "[WARNING] [2023-11-16 16:05:52,096:Client-AutoMLSMBO(1)::airbnb] Configuration 102 not found\n",
            "[WARNING] [2023-11-16 16:05:52,096:Client-AutoMLSMBO(1)::airbnb] Configuration 322 not found\n",
            "[WARNING] [2023-11-16 16:05:52,096:Client-AutoMLSMBO(1)::airbnb] Configuration 199 not found\n",
            "[WARNING] [2023-11-16 16:05:52,096:Client-AutoMLSMBO(1)::airbnb] Configuration 480 not found\n",
            "[WARNING] [2023-11-16 16:05:52,096:Client-AutoMLSMBO(1)::airbnb] Configuration 548 not found\n",
            "[WARNING] [2023-11-16 16:05:52,096:Client-AutoMLSMBO(1)::airbnb] Configuration 291 not found\n",
            "[WARNING] [2023-11-16 16:05:52,096:Client-AutoMLSMBO(1)::airbnb] Configuration 243 not found\n",
            "[WARNING] [2023-11-16 16:05:52,096:Client-AutoMLSMBO(1)::airbnb] Configuration 596 not found\n",
            "[WARNING] [2023-11-16 16:05:52,096:Client-AutoMLSMBO(1)::airbnb] Configuration 317 not found\n",
            "[WARNING] [2023-11-16 16:05:52,096:Client-AutoMLSMBO(1)::airbnb] Configuration 304 not found\n",
            "[WARNING] [2023-11-16 16:05:52,096:Client-AutoMLSMBO(1)::airbnb] Configuration 503 not found\n",
            "[WARNING] [2023-11-16 16:05:52,096:Client-AutoMLSMBO(1)::airbnb] Configuration 640 not found\n",
            "[WARNING] [2023-11-16 16:05:52,097:Client-AutoMLSMBO(1)::airbnb] Configuration 150 not found\n",
            "[WARNING] [2023-11-16 16:05:52,097:Client-AutoMLSMBO(1)::airbnb] Configuration 275 not found\n",
            "[WARNING] [2023-11-16 16:05:52,097:Client-AutoMLSMBO(1)::airbnb] Configuration 452 not found\n",
            "[WARNING] [2023-11-16 16:05:52,097:Client-AutoMLSMBO(1)::airbnb] Configuration 120 not found\n",
            "[WARNING] [2023-11-16 16:05:52,499:Client-EnsembleBuilder] No runs were available to build an ensemble from\n",
            "XDATAAA: None\n"
          ]
        },
        {
          "name": "stderr",
          "output_type": "stream",
          "text": [
            "Fitting to the training data:   3%|\u001b[32m▎         \u001b[0m| 4/120 [00:04<01:56,  1.00s/it, The total time budget for this task is 0:02:00]"
          ]
        },
        {
          "name": "stdout",
          "output_type": "stream",
          "text": [
            "[WARNING] [2023-11-16 16:05:53,022:Client-EnsembleBuilder] No runs were available to build an ensemble from\n",
            "[WARNING] [2023-11-16 16:05:53,547:Client-EnsembleBuilder] No runs were available to build an ensemble from\n",
            "[WARNING] [2023-11-16 16:05:53,813:Client-EnsembleBuilder] No runs were available to build an ensemble from\n"
          ]
        },
        {
          "name": "stderr",
          "output_type": "stream",
          "text": [
            "Fitting to the training data:   4%|\u001b[32m▍         \u001b[0m| 5/120 [00:05<01:55,  1.00s/it, The total time budget for this task is 0:02:00]"
          ]
        },
        {
          "name": "stdout",
          "output_type": "stream",
          "text": [
            "[WARNING] [2023-11-16 16:05:54,353:Client-EnsembleBuilder] No runs were available to build an ensemble from\n",
            "[WARNING] [2023-11-16 16:05:54,635:Client-EnsembleBuilder] No runs were available to build an ensemble from\n"
          ]
        },
        {
          "name": "stderr",
          "output_type": "stream",
          "text": [
            "Fitting to the training data:   5%|\u001b[32m▌         \u001b[0m| 6/120 [00:06<01:54,  1.00s/it, The total time budget for this task is 0:02:00]"
          ]
        },
        {
          "name": "stdout",
          "output_type": "stream",
          "text": [
            "[WARNING] [2023-11-16 16:05:54,991:Client-EnsembleBuilder] No runs were available to build an ensemble from\n",
            "[WARNING] [2023-11-16 16:05:55,575:Client-EnsembleBuilder] No runs were available to build an ensemble from\n"
          ]
        },
        {
          "name": "stderr",
          "output_type": "stream",
          "text": [
            "Fitting to the training data:   6%|\u001b[32m▌         \u001b[0m| 7/120 [00:07<01:53,  1.00s/it, The total time budget for this task is 0:02:00]"
          ]
        },
        {
          "name": "stdout",
          "output_type": "stream",
          "text": [
            "[WARNING] [2023-11-16 16:05:56,167:Client-EnsembleBuilder] No runs were available to build an ensemble from\n",
            "[WARNING] [2023-11-16 16:05:56,764:Client-EnsembleBuilder] No runs were available to build an ensemble from\n"
          ]
        },
        {
          "name": "stderr",
          "output_type": "stream",
          "text": [
            "Fitting to the training data:   7%|\u001b[32m▋         \u001b[0m| 8/120 [00:08<01:52,  1.00s/it, The total time budget for this task is 0:02:00]"
          ]
        },
        {
          "name": "stdout",
          "output_type": "stream",
          "text": [
            "[WARNING] [2023-11-16 16:05:57,101:Client-EnsembleBuilder] No runs were available to build an ensemble from\n",
            "[WARNING] [2023-11-16 16:05:57,675:Client-EnsembleBuilder] No runs were available to build an ensemble from\n"
          ]
        },
        {
          "name": "stderr",
          "output_type": "stream",
          "text": [
            "Fitting to the training data:   8%|\u001b[32m▊         \u001b[0m| 9/120 [00:09<01:51,  1.00s/it, The total time budget for this task is 0:02:00]"
          ]
        },
        {
          "name": "stdout",
          "output_type": "stream",
          "text": [
            "[WARNING] [2023-11-16 16:05:58,353:Client-EnsembleBuilder] No runs were available to build an ensemble from\n",
            "[WARNING] [2023-11-16 16:05:58,628:Client-EnsembleBuilder] No runs were available to build an ensemble from\n"
          ]
        },
        {
          "name": "stderr",
          "output_type": "stream",
          "text": [
            "Fitting to the training data:   8%|\u001b[32m▊         \u001b[0m| 10/120 [00:10<01:50,  1.00s/it, The total time budget for this task is 0:02:00]"
          ]
        },
        {
          "name": "stdout",
          "output_type": "stream",
          "text": [
            "[WARNING] [2023-11-16 16:05:59,384:Client-EnsembleBuilder] No runs were available to build an ensemble from\n",
            "[WARNING] [2023-11-16 16:05:59,726:Client-EnsembleBuilder] No runs were available to build an ensemble from\n"
          ]
        },
        {
          "name": "stderr",
          "output_type": "stream",
          "text": [
            "Fitting to the training data:   9%|\u001b[32m▉         \u001b[0m| 11/120 [00:11<01:49,  1.00s/it, The total time budget for this task is 0:02:00]"
          ]
        },
        {
          "name": "stdout",
          "output_type": "stream",
          "text": [
            "[WARNING] [2023-11-16 16:06:00,361:Client-EnsembleBuilder] No runs were available to build an ensemble from\n",
            "[WARNING] [2023-11-16 16:06:00,705:Client-EnsembleBuilder] No runs were available to build an ensemble from\n"
          ]
        },
        {
          "name": "stderr",
          "output_type": "stream",
          "text": [
            "Fitting to the training data:  10%|\u001b[32m█         \u001b[0m| 12/120 [00:12<01:48,  1.00s/it, The total time budget for this task is 0:02:00]"
          ]
        },
        {
          "name": "stdout",
          "output_type": "stream",
          "text": [
            "[WARNING] [2023-11-16 16:06:01,054:Client-EnsembleBuilder] No runs were available to build an ensemble from\n",
            "[WARNING] [2023-11-16 16:06:01,653:Client-EnsembleBuilder] No runs were available to build an ensemble from\n"
          ]
        },
        {
          "name": "stderr",
          "output_type": "stream",
          "text": [
            "Fitting to the training data:  11%|\u001b[32m█         \u001b[0m| 13/120 [00:13<01:47,  1.00s/it, The total time budget for this task is 0:02:00]"
          ]
        },
        {
          "name": "stdout",
          "output_type": "stream",
          "text": [
            "[WARNING] [2023-11-16 16:06:02,001:Client-EnsembleBuilder] No runs were available to build an ensemble from\n",
            "[WARNING] [2023-11-16 16:06:02,628:Client-EnsembleBuilder] No runs were available to build an ensemble from\n"
          ]
        },
        {
          "name": "stderr",
          "output_type": "stream",
          "text": [
            "Fitting to the training data:  12%|\u001b[32m█▏        \u001b[0m| 14/120 [00:14<01:46,  1.00s/it, The total time budget for this task is 0:02:00]"
          ]
        },
        {
          "name": "stdout",
          "output_type": "stream",
          "text": [
            "[WARNING] [2023-11-16 16:06:03,421:Client-EnsembleBuilder] No runs were available to build an ensemble from\n",
            "[WARNING] [2023-11-16 16:06:03,713:Client-EnsembleBuilder] No runs were available to build an ensemble from\n"
          ]
        },
        {
          "name": "stderr",
          "output_type": "stream",
          "text": [
            "Fitting to the training data:  12%|\u001b[32m█▎        \u001b[0m| 15/120 [00:15<01:45,  1.00s/it, The total time budget for this task is 0:02:00]"
          ]
        },
        {
          "name": "stdout",
          "output_type": "stream",
          "text": [
            "[WARNING] [2023-11-16 16:06:04,391:Client-EnsembleBuilder] No runs were available to build an ensemble from\n"
          ]
        },
        {
          "name": "stderr",
          "output_type": "stream",
          "text": [
            "Fitting to the training data:  13%|\u001b[32m█▎        \u001b[0m| 16/120 [00:16<01:44,  1.00s/it, The total time budget for this task is 0:02:00]"
          ]
        },
        {
          "name": "stdout",
          "output_type": "stream",
          "text": [
            "[WARNING] [2023-11-16 16:06:05,094:Client-EnsembleBuilder] No runs were available to build an ensemble from\n",
            "[WARNING] [2023-11-16 16:06:05,376:Client-EnsembleBuilder] No runs were available to build an ensemble from\n"
          ]
        },
        {
          "name": "stderr",
          "output_type": "stream",
          "text": [
            "Fitting to the training data:  14%|\u001b[32m█▍        \u001b[0m| 17/120 [00:17<01:43,  1.00s/it, The total time budget for this task is 0:02:00]"
          ]
        },
        {
          "name": "stdout",
          "output_type": "stream",
          "text": [
            "[WARNING] [2023-11-16 16:06:06,185:Client-EnsembleBuilder] No runs were available to build an ensemble from\n",
            "[WARNING] [2023-11-16 16:06:06,463:Client-EnsembleBuilder] No runs were available to build an ensemble from\n",
            "[WARNING] [2023-11-16 16:06:06,806:Client-EnsembleBuilder] No runs were available to build an ensemble from\n"
          ]
        },
        {
          "name": "stderr",
          "output_type": "stream",
          "text": [
            "Fitting to the training data:  15%|\u001b[32m█▌        \u001b[0m| 18/120 [00:18<01:42,  1.00s/it, The total time budget for this task is 0:02:00]"
          ]
        },
        {
          "name": "stdout",
          "output_type": "stream",
          "text": [
            "[WARNING] [2023-11-16 16:06:07,533:Client-EnsembleBuilder] No runs were available to build an ensemble from\n"
          ]
        },
        {
          "name": "stderr",
          "output_type": "stream",
          "text": [
            "Fitting to the training data:  16%|\u001b[32m█▌        \u001b[0m| 19/120 [00:19<01:41,  1.00s/it, The total time budget for this task is 0:02:00]"
          ]
        },
        {
          "name": "stdout",
          "output_type": "stream",
          "text": [
            "[WARNING] [2023-11-16 16:06:08,281:Client-EnsembleBuilder] No runs were available to build an ensemble from\n"
          ]
        },
        {
          "name": "stderr",
          "output_type": "stream",
          "text": [
            "Fitting to the training data:  17%|\u001b[32m█▋        \u001b[0m| 20/120 [00:20<01:40,  1.00s/it, The total time budget for this task is 0:02:00]"
          ]
        },
        {
          "name": "stdout",
          "output_type": "stream",
          "text": [
            "[WARNING] [2023-11-16 16:06:09,006:Client-EnsembleBuilder] No runs were available to build an ensemble from\n",
            "[WARNING] [2023-11-16 16:06:09,693:Client-EnsembleBuilder] No runs were available to build an ensemble from\n"
          ]
        },
        {
          "name": "stderr",
          "output_type": "stream",
          "text": [
            "Fitting to the training data:  18%|\u001b[32m█▊        \u001b[0m| 21/120 [00:21<01:39,  1.00s/it, The total time budget for this task is 0:02:00]"
          ]
        },
        {
          "name": "stdout",
          "output_type": "stream",
          "text": [
            "[WARNING] [2023-11-16 16:06:10,333:Client-EnsembleBuilder] No runs were available to build an ensemble from\n",
            "[WARNING] [2023-11-16 16:06:10,619:Client-EnsembleBuilder] No runs were available to build an ensemble from\n",
            "[WARNING] [2023-11-16 16:06:10,903:Client-EnsembleBuilder] No runs were available to build an ensemble from\n"
          ]
        },
        {
          "name": "stderr",
          "output_type": "stream",
          "text": [
            "Fitting to the training data:  18%|\u001b[32m█▊        \u001b[0m| 22/120 [00:22<01:39,  1.01s/it, The total time budget for this task is 0:02:00]"
          ]
        },
        {
          "name": "stdout",
          "output_type": "stream",
          "text": [
            "[WARNING] [2023-11-16 16:06:11,604:Client-EnsembleBuilder] No runs were available to build an ensemble from\n"
          ]
        },
        {
          "name": "stderr",
          "output_type": "stream",
          "text": [
            "Fitting to the training data:  19%|\u001b[32m█▉        \u001b[0m| 23/120 [00:23<01:37,  1.01s/it, The total time budget for this task is 0:02:00]"
          ]
        },
        {
          "name": "stdout",
          "output_type": "stream",
          "text": [
            "[WARNING] [2023-11-16 16:06:12,487:Client-EnsembleBuilder] No runs were available to build an ensemble from\n",
            "[WARNING] [2023-11-16 16:06:12,784:Client-EnsembleBuilder] No runs were available to build an ensemble from\n"
          ]
        },
        {
          "name": "stderr",
          "output_type": "stream",
          "text": [
            "Fitting to the training data:  20%|\u001b[32m██        \u001b[0m| 24/120 [00:24<01:36,  1.01s/it, The total time budget for this task is 0:02:00]"
          ]
        },
        {
          "name": "stdout",
          "output_type": "stream",
          "text": [
            "[WARNING] [2023-11-16 16:06:13,425:Client-EnsembleBuilder] No runs were available to build an ensemble from\n",
            "[WARNING] [2023-11-16 16:06:13,717:Client-EnsembleBuilder] No runs were available to build an ensemble from\n"
          ]
        },
        {
          "name": "stderr",
          "output_type": "stream",
          "text": [
            "Fitting to the training data:  21%|\u001b[32m██        \u001b[0m| 25/120 [00:25<01:35,  1.01s/it, The total time budget for this task is 0:02:00]"
          ]
        },
        {
          "name": "stdout",
          "output_type": "stream",
          "text": [
            "[WARNING] [2023-11-16 16:06:14,001:Client-EnsembleBuilder] No runs were available to build an ensemble from\n",
            "[WARNING] [2023-11-16 16:06:14,671:Client-EnsembleBuilder] No runs were available to build an ensemble from\n"
          ]
        },
        {
          "name": "stderr",
          "output_type": "stream",
          "text": [
            "Fitting to the training data:  22%|\u001b[32m██▏       \u001b[0m| 26/120 [00:26<01:34,  1.01s/it, The total time budget for this task is 0:02:00]"
          ]
        },
        {
          "name": "stdout",
          "output_type": "stream",
          "text": [
            "[WARNING] [2023-11-16 16:06:15,508:Client-EnsembleBuilder] No runs were available to build an ensemble from\n",
            "[WARNING] [2023-11-16 16:06:15,945:Client-EnsembleBuilder] No runs were available to build an ensemble from\n"
          ]
        },
        {
          "name": "stderr",
          "output_type": "stream",
          "text": [
            "Fitting to the training data:  22%|\u001b[32m██▎       \u001b[0m| 27/120 [00:27<01:35,  1.02s/it, The total time budget for this task is 0:02:00]"
          ]
        },
        {
          "name": "stdout",
          "output_type": "stream",
          "text": [
            "[WARNING] [2023-11-16 16:06:16,773:Client-EnsembleBuilder] No runs were available to build an ensemble from\n"
          ]
        },
        {
          "name": "stderr",
          "output_type": "stream",
          "text": [
            "Fitting to the training data:  23%|\u001b[32m██▎       \u001b[0m| 28/120 [00:28<01:34,  1.02s/it, The total time budget for this task is 0:02:00]"
          ]
        },
        {
          "name": "stdout",
          "output_type": "stream",
          "text": [
            "[WARNING] [2023-11-16 16:06:17,453:Client-EnsembleBuilder] No runs were available to build an ensemble from\n",
            "[WARNING] [2023-11-16 16:06:17,812:Client-EnsembleBuilder] No runs were available to build an ensemble from\n"
          ]
        },
        {
          "name": "stderr",
          "output_type": "stream",
          "text": [
            "Fitting to the training data:  24%|\u001b[32m██▍       \u001b[0m| 29/120 [00:29<01:32,  1.02s/it, The total time budget for this task is 0:02:00]"
          ]
        },
        {
          "name": "stdout",
          "output_type": "stream",
          "text": [
            "[WARNING] [2023-11-16 16:06:18,102:Client-EnsembleBuilder] No runs were available to build an ensemble from\n",
            "[WARNING] [2023-11-16 16:06:18,396:Client-EnsembleBuilder] No runs were available to build an ensemble from\n"
          ]
        },
        {
          "name": "stderr",
          "output_type": "stream",
          "text": [
            "Fitting to the training data:  25%|\u001b[32m██▌       \u001b[0m| 30/120 [00:30<01:31,  1.01s/it, The total time budget for this task is 0:02:00]"
          ]
        },
        {
          "name": "stdout",
          "output_type": "stream",
          "text": [
            "[WARNING] [2023-11-16 16:06:19,082:Client-EnsembleBuilder] No runs were available to build an ensemble from\n",
            "[WARNING] [2023-11-16 16:06:19,450:Client-EnsembleBuilder] No runs were available to build an ensemble from\n",
            "[WARNING] [2023-11-16 16:06:19,805:Client-EnsembleBuilder] No runs were available to build an ensemble from\n"
          ]
        },
        {
          "name": "stderr",
          "output_type": "stream",
          "text": [
            "Fitting to the training data:  26%|\u001b[32m██▌       \u001b[0m| 31/120 [00:31<01:29,  1.01s/it, The total time budget for this task is 0:02:00]"
          ]
        },
        {
          "name": "stdout",
          "output_type": "stream",
          "text": [
            "[WARNING] [2023-11-16 16:06:20,178:Client-EnsembleBuilder] No runs were available to build an ensemble from\n",
            "[WARNING] [2023-11-16 16:06:20,969:Client-EnsembleBuilder] No runs were available to build an ensemble from\n"
          ]
        },
        {
          "name": "stderr",
          "output_type": "stream",
          "text": [
            "Fitting to the training data:  27%|\u001b[32m██▋       \u001b[0m| 32/120 [00:32<01:28,  1.01s/it, The total time budget for this task is 0:02:00]"
          ]
        },
        {
          "name": "stdout",
          "output_type": "stream",
          "text": [
            "[WARNING] [2023-11-16 16:06:21,683:Client-EnsembleBuilder] No runs were available to build an ensemble from\n"
          ]
        },
        {
          "name": "stderr",
          "output_type": "stream",
          "text": [
            "Fitting to the training data:  28%|\u001b[32m██▊       \u001b[0m| 33/120 [00:33<01:27,  1.01s/it, The total time budget for this task is 0:02:00]"
          ]
        },
        {
          "name": "stdout",
          "output_type": "stream",
          "text": [
            "[WARNING] [2023-11-16 16:06:22,409:Client-EnsembleBuilder] No runs were available to build an ensemble from\n"
          ]
        },
        {
          "name": "stderr",
          "output_type": "stream",
          "text": [
            "Fitting to the training data:  28%|\u001b[32m██▊       \u001b[0m| 34/120 [00:34<01:26,  1.01s/it, The total time budget for this task is 0:02:00]"
          ]
        },
        {
          "name": "stdout",
          "output_type": "stream",
          "text": [
            "[WARNING] [2023-11-16 16:06:23,169:Client-EnsembleBuilder] No runs were available to build an ensemble from\n",
            "[WARNING] [2023-11-16 16:06:23,900:Client-EnsembleBuilder] No runs were available to build an ensemble from\n"
          ]
        },
        {
          "name": "stderr",
          "output_type": "stream",
          "text": [
            "Fitting to the training data:  29%|\u001b[32m██▉       \u001b[0m| 35/120 [00:35<01:25,  1.00s/it, The total time budget for this task is 0:02:00]"
          ]
        },
        {
          "name": "stdout",
          "output_type": "stream",
          "text": [
            "[WARNING] [2023-11-16 16:06:24,653:Client-EnsembleBuilder] No runs were available to build an ensemble from\n"
          ]
        },
        {
          "name": "stderr",
          "output_type": "stream",
          "text": [
            "Fitting to the training data:  30%|\u001b[32m███       \u001b[0m| 36/120 [00:36<01:24,  1.01s/it, The total time budget for this task is 0:02:00]"
          ]
        },
        {
          "name": "stdout",
          "output_type": "stream",
          "text": [
            "[WARNING] [2023-11-16 16:06:25,569:Client-EnsembleBuilder] No runs were available to build an ensemble from\n"
          ]
        },
        {
          "name": "stderr",
          "output_type": "stream",
          "text": [
            "Fitting to the training data:  31%|\u001b[32m███       \u001b[0m| 37/120 [00:37<01:23,  1.01s/it, The total time budget for this task is 0:02:00]"
          ]
        },
        {
          "name": "stdout",
          "output_type": "stream",
          "text": [
            "[WARNING] [2023-11-16 16:06:26,652:Client-EnsembleBuilder] No runs were available to build an ensemble from\n"
          ]
        },
        {
          "name": "stderr",
          "output_type": "stream",
          "text": [
            "Fitting to the training data:  32%|\u001b[32m███▏      \u001b[0m| 38/120 [00:38<01:22,  1.01s/it, The total time budget for this task is 0:02:00]"
          ]
        },
        {
          "name": "stdout",
          "output_type": "stream",
          "text": [
            "[WARNING] [2023-11-16 16:06:27,580:Client-EnsembleBuilder] No runs were available to build an ensemble from\n"
          ]
        },
        {
          "name": "stderr",
          "output_type": "stream",
          "text": [
            "Fitting to the training data:  32%|\u001b[32m███▎      \u001b[0m| 39/120 [00:39<01:21,  1.00s/it, The total time budget for this task is 0:02:00]"
          ]
        },
        {
          "name": "stdout",
          "output_type": "stream",
          "text": [
            "[WARNING] [2023-11-16 16:06:28,581:Client-EnsembleBuilder] No runs were available to build an ensemble from\n"
          ]
        },
        {
          "name": "stderr",
          "output_type": "stream",
          "text": [
            "Fitting to the training data:  33%|\u001b[32m███▎      \u001b[0m| 40/120 [00:40<01:20,  1.01s/it, The total time budget for this task is 0:02:00]"
          ]
        },
        {
          "name": "stdout",
          "output_type": "stream",
          "text": [
            "[WARNING] [2023-11-16 16:06:29,662:Client-EnsembleBuilder] No runs were available to build an ensemble from\n"
          ]
        },
        {
          "name": "stderr",
          "output_type": "stream",
          "text": [
            "Fitting to the training data:  34%|\u001b[32m███▍      \u001b[0m| 41/120 [00:41<01:19,  1.00s/it, The total time budget for this task is 0:02:00]"
          ]
        },
        {
          "name": "stdout",
          "output_type": "stream",
          "text": [
            "[WARNING] [2023-11-16 16:06:30,129:Client-EnsembleBuilder] No runs were available to build an ensemble from\n",
            "[WARNING] [2023-11-16 16:06:31,078:Client-EnsembleBuilder] No runs were available to build an ensemble from\n"
          ]
        },
        {
          "name": "stderr",
          "output_type": "stream",
          "text": [
            "Fitting to the training data:  35%|\u001b[32m███▌      \u001b[0m| 42/120 [00:42<01:18,  1.00s/it, The total time budget for this task is 0:02:00]"
          ]
        },
        {
          "name": "stdout",
          "output_type": "stream",
          "text": [
            "[WARNING] [2023-11-16 16:06:31,466:Client-EnsembleBuilder] No runs were available to build an ensemble from\n",
            "[WARNING] [2023-11-16 16:06:31,884:Client-EnsembleBuilder] No runs were available to build an ensemble from\n"
          ]
        },
        {
          "name": "stderr",
          "output_type": "stream",
          "text": [
            "Fitting to the training data:  36%|\u001b[32m███▌      \u001b[0m| 43/120 [00:43<01:17,  1.00s/it, The total time budget for this task is 0:02:00]"
          ]
        },
        {
          "name": "stdout",
          "output_type": "stream",
          "text": [
            "[WARNING] [2023-11-16 16:06:32,836:Client-EnsembleBuilder] No runs were available to build an ensemble from\n"
          ]
        },
        {
          "name": "stderr",
          "output_type": "stream",
          "text": [
            "Fitting to the training data:  37%|\u001b[32m███▋      \u001b[0m| 44/120 [00:44<01:16,  1.00s/it, The total time budget for this task is 0:02:00]"
          ]
        },
        {
          "name": "stdout",
          "output_type": "stream",
          "text": [
            "[WARNING] [2023-11-16 16:06:33,244:Client-EnsembleBuilder] No runs were available to build an ensemble from\n"
          ]
        },
        {
          "name": "stderr",
          "output_type": "stream",
          "text": [
            "Fitting to the training data:  38%|\u001b[32m███▊      \u001b[0m| 45/120 [00:45<01:15,  1.00s/it, The total time budget for this task is 0:02:00]"
          ]
        },
        {
          "name": "stdout",
          "output_type": "stream",
          "text": [
            "[WARNING] [2023-11-16 16:06:34,412:Client-EnsembleBuilder] No runs were available to build an ensemble from\n"
          ]
        },
        {
          "name": "stderr",
          "output_type": "stream",
          "text": [
            "Fitting to the training data:  38%|\u001b[32m███▊      \u001b[0m| 46/120 [00:46<01:14,  1.00s/it, The total time budget for this task is 0:02:00]"
          ]
        },
        {
          "name": "stdout",
          "output_type": "stream",
          "text": [
            "[WARNING] [2023-11-16 16:06:35,331:Client-EnsembleBuilder] No runs were available to build an ensemble from\n"
          ]
        },
        {
          "name": "stderr",
          "output_type": "stream",
          "text": [
            "Fitting to the training data:  39%|\u001b[32m███▉      \u001b[0m| 47/120 [00:47<01:13,  1.00s/it, The total time budget for this task is 0:02:00]"
          ]
        },
        {
          "name": "stdout",
          "output_type": "stream",
          "text": [
            "[WARNING] [2023-11-16 16:06:36,254:Client-EnsembleBuilder] No runs were available to build an ensemble from\n"
          ]
        },
        {
          "name": "stderr",
          "output_type": "stream",
          "text": [
            "Fitting to the training data:  40%|\u001b[32m████      \u001b[0m| 48/120 [00:48<01:12,  1.00s/it, The total time budget for this task is 0:02:00]"
          ]
        },
        {
          "name": "stdout",
          "output_type": "stream",
          "text": [
            "[WARNING] [2023-11-16 16:06:37,253:Client-EnsembleBuilder] No runs were available to build an ensemble from\n"
          ]
        },
        {
          "name": "stderr",
          "output_type": "stream",
          "text": [
            "Fitting to the training data:  41%|\u001b[32m████      \u001b[0m| 49/120 [00:49<01:11,  1.00s/it, The total time budget for this task is 0:02:00]"
          ]
        },
        {
          "name": "stdout",
          "output_type": "stream",
          "text": [
            "[WARNING] [2023-11-16 16:06:38,381:Client-EnsembleBuilder] No runs were available to build an ensemble from\n"
          ]
        },
        {
          "name": "stderr",
          "output_type": "stream",
          "text": [
            "Fitting to the training data:  42%|\u001b[32m████▏     \u001b[0m| 50/120 [00:50<01:10,  1.00s/it, The total time budget for this task is 0:02:00]"
          ]
        },
        {
          "name": "stdout",
          "output_type": "stream",
          "text": [
            "[WARNING] [2023-11-16 16:06:39,288:Client-EnsembleBuilder] No runs were available to build an ensemble from\n",
            "[WARNING] [2023-11-16 16:06:39,667:Client-EnsembleBuilder] No runs were available to build an ensemble from\n"
          ]
        },
        {
          "name": "stderr",
          "output_type": "stream",
          "text": [
            "Fitting to the training data:  42%|\u001b[32m████▎     \u001b[0m| 51/120 [00:51<01:09,  1.00s/it, The total time budget for this task is 0:02:00]"
          ]
        },
        {
          "name": "stdout",
          "output_type": "stream",
          "text": [
            "[WARNING] [2023-11-16 16:06:40,619:Client-EnsembleBuilder] No runs were available to build an ensemble from\n",
            "[WARNING] [2023-11-16 16:06:41,002:Client-EnsembleBuilder] No runs were available to build an ensemble from\n"
          ]
        },
        {
          "name": "stderr",
          "output_type": "stream",
          "text": [
            "Fitting to the training data:  43%|\u001b[32m████▎     \u001b[0m| 52/120 [00:52<01:08,  1.00s/it, The total time budget for this task is 0:02:00]"
          ]
        },
        {
          "name": "stdout",
          "output_type": "stream",
          "text": [
            "[WARNING] [2023-11-16 16:06:42,080:Client-EnsembleBuilder] No runs were available to build an ensemble from\n"
          ]
        },
        {
          "name": "stderr",
          "output_type": "stream",
          "text": [
            "Fitting to the training data:  44%|\u001b[32m████▍     \u001b[0m| 53/120 [00:53<01:07,  1.00s/it, The total time budget for this task is 0:02:00]"
          ]
        },
        {
          "name": "stdout",
          "output_type": "stream",
          "text": [
            "[WARNING] [2023-11-16 16:06:43,054:Client-EnsembleBuilder] No runs were available to build an ensemble from\n"
          ]
        },
        {
          "name": "stderr",
          "output_type": "stream",
          "text": [
            "Fitting to the training data:  45%|\u001b[32m████▌     \u001b[0m| 54/120 [00:54<01:06,  1.01s/it, The total time budget for this task is 0:02:00]"
          ]
        },
        {
          "name": "stdout",
          "output_type": "stream",
          "text": [
            "[WARNING] [2023-11-16 16:06:43,532:Client-EnsembleBuilder] No runs were available to build an ensemble from\n"
          ]
        },
        {
          "name": "stderr",
          "output_type": "stream",
          "text": [
            "Fitting to the training data:  46%|\u001b[32m████▌     \u001b[0m| 55/120 [00:55<01:05,  1.01s/it, The total time budget for this task is 0:02:00]"
          ]
        },
        {
          "name": "stdout",
          "output_type": "stream",
          "text": [
            "[WARNING] [2023-11-16 16:06:44,541:Client-EnsembleBuilder] No runs were available to build an ensemble from\n"
          ]
        },
        {
          "name": "stderr",
          "output_type": "stream",
          "text": [
            "Fitting to the training data:  47%|\u001b[32m████▋     \u001b[0m| 56/120 [00:56<01:04,  1.00s/it, The total time budget for this task is 0:02:00]"
          ]
        },
        {
          "name": "stdout",
          "output_type": "stream",
          "text": [
            "[WARNING] [2023-11-16 16:06:45,598:Client-EnsembleBuilder] No runs were available to build an ensemble from\n",
            "[WARNING] [2023-11-16 16:06:46,081:Client-EnsembleBuilder] No runs were available to build an ensemble from\n"
          ]
        },
        {
          "name": "stderr",
          "output_type": "stream",
          "text": [
            "Fitting to the training data:  48%|\u001b[32m████▊     \u001b[0m| 57/120 [00:57<01:03,  1.00s/it, The total time budget for this task is 0:02:00]"
          ]
        },
        {
          "name": "stdout",
          "output_type": "stream",
          "text": [
            "[WARNING] [2023-11-16 16:06:46,478:Client-EnsembleBuilder] No runs were available to build an ensemble from\n"
          ]
        },
        {
          "name": "stderr",
          "output_type": "stream",
          "text": [
            "Fitting to the training data:  48%|\u001b[32m████▊     \u001b[0m| 58/120 [00:58<01:02,  1.00s/it, The total time budget for this task is 0:02:00]"
          ]
        },
        {
          "name": "stdout",
          "output_type": "stream",
          "text": [
            "[WARNING] [2023-11-16 16:06:47,589:Client-EnsembleBuilder] No runs were available to build an ensemble from\n",
            "[WARNING] [2023-11-16 16:06:47,980:Client-EnsembleBuilder] No runs were available to build an ensemble from\n"
          ]
        },
        {
          "name": "stderr",
          "output_type": "stream",
          "text": [
            "Fitting to the training data:  49%|\u001b[32m████▉     \u001b[0m| 59/120 [00:59<01:01,  1.00s/it, The total time budget for this task is 0:02:00]"
          ]
        },
        {
          "name": "stdout",
          "output_type": "stream",
          "text": [
            "[WARNING] [2023-11-16 16:06:48,917:Client-EnsembleBuilder] No runs were available to build an ensemble from\n"
          ]
        },
        {
          "name": "stderr",
          "output_type": "stream",
          "text": [
            "Fitting to the training data:  50%|\u001b[32m█████     \u001b[0m| 60/120 [01:00<01:00,  1.01s/it, The total time budget for this task is 0:02:00]"
          ]
        },
        {
          "name": "stdout",
          "output_type": "stream",
          "text": [
            "[WARNING] [2023-11-16 16:06:49,965:Client-EnsembleBuilder] No runs were available to build an ensemble from\n"
          ]
        },
        {
          "name": "stderr",
          "output_type": "stream",
          "text": [
            "Fitting to the training data:  51%|\u001b[32m█████     \u001b[0m| 61/120 [01:01<00:59,  1.01s/it, The total time budget for this task is 0:02:00]"
          ]
        },
        {
          "name": "stdout",
          "output_type": "stream",
          "text": [
            "[WARNING] [2023-11-16 16:06:51,127:Client-EnsembleBuilder] No runs were available to build an ensemble from\n"
          ]
        },
        {
          "name": "stderr",
          "output_type": "stream",
          "text": [
            "Fitting to the training data:  52%|\u001b[32m█████▏    \u001b[0m| 62/120 [01:02<00:58,  1.01s/it, The total time budget for this task is 0:02:00]"
          ]
        },
        {
          "name": "stdout",
          "output_type": "stream",
          "text": [
            "[WARNING] [2023-11-16 16:06:52,085:Client-EnsembleBuilder] No runs were available to build an ensemble from\n"
          ]
        },
        {
          "name": "stderr",
          "output_type": "stream",
          "text": [
            "Fitting to the training data:  52%|\u001b[32m█████▎    \u001b[0m| 63/120 [01:03<00:57,  1.01s/it, The total time budget for this task is 0:02:00]"
          ]
        },
        {
          "name": "stdout",
          "output_type": "stream",
          "text": [
            "[WARNING] [2023-11-16 16:06:53,201:Client-EnsembleBuilder] No runs were available to build an ensemble from\n"
          ]
        },
        {
          "name": "stderr",
          "output_type": "stream",
          "text": [
            "Fitting to the training data:  54%|\u001b[32m█████▍    \u001b[0m| 65/120 [01:05<00:55,  1.01s/it, The total time budget for this task is 0:02:00]"
          ]
        },
        {
          "name": "stdout",
          "output_type": "stream",
          "text": [
            "[WARNING] [2023-11-16 16:06:54,444:Client-EnsembleBuilder] No runs were available to build an ensemble from\n",
            "[WARNING] [2023-11-16 16:06:54,936:Client-EnsembleBuilder] No runs were available to build an ensemble from\n"
          ]
        },
        {
          "name": "stderr",
          "output_type": "stream",
          "text": [
            "Fitting to the training data:  55%|\u001b[32m█████▌    \u001b[0m| 66/120 [01:06<00:54,  1.01s/it, The total time budget for this task is 0:02:00]"
          ]
        },
        {
          "name": "stdout",
          "output_type": "stream",
          "text": [
            "[WARNING] [2023-11-16 16:06:56,067:Client-EnsembleBuilder] No runs were available to build an ensemble from\n"
          ]
        },
        {
          "name": "stderr",
          "output_type": "stream",
          "text": [
            "Fitting to the training data:  56%|\u001b[32m█████▌    \u001b[0m| 67/120 [01:07<00:53,  1.00s/it, The total time budget for this task is 0:02:00]"
          ]
        },
        {
          "name": "stdout",
          "output_type": "stream",
          "text": [
            "[WARNING] [2023-11-16 16:06:56,470:Client-EnsembleBuilder] No runs were available to build an ensemble from\n",
            "[WARNING] [2023-11-16 16:06:56,949:Client-EnsembleBuilder] No runs were available to build an ensemble from\n"
          ]
        },
        {
          "name": "stderr",
          "output_type": "stream",
          "text": [
            "Fitting to the training data:  57%|\u001b[32m█████▋    \u001b[0m| 68/120 [01:08<00:52,  1.00s/it, The total time budget for this task is 0:02:00]"
          ]
        },
        {
          "name": "stdout",
          "output_type": "stream",
          "text": [
            "[WARNING] [2023-11-16 16:06:57,456:Client-EnsembleBuilder] No runs were available to build an ensemble from\n"
          ]
        },
        {
          "name": "stderr",
          "output_type": "stream",
          "text": [
            "Fitting to the training data:  57%|\u001b[32m█████▊    \u001b[0m| 69/120 [01:09<00:51,  1.00s/it, The total time budget for this task is 0:02:00]"
          ]
        },
        {
          "name": "stdout",
          "output_type": "stream",
          "text": [
            "[WARNING] [2023-11-16 16:06:59,127:Client-EnsembleBuilder] No runs were available to build an ensemble from\n"
          ]
        },
        {
          "name": "stderr",
          "output_type": "stream",
          "text": [
            "Fitting to the training data:  58%|\u001b[32m█████▊    \u001b[0m| 70/120 [01:10<00:50,  1.01s/it, The total time budget for this task is 0:02:00]"
          ]
        },
        {
          "name": "stdout",
          "output_type": "stream",
          "text": [
            "[WARNING] [2023-11-16 16:07:00,060:Client-EnsembleBuilder] No runs were available to build an ensemble from\n"
          ]
        },
        {
          "name": "stderr",
          "output_type": "stream",
          "text": [
            "Fitting to the training data:  59%|\u001b[32m█████▉    \u001b[0m| 71/120 [01:11<00:49,  1.00s/it, The total time budget for this task is 0:02:00]"
          ]
        },
        {
          "name": "stdout",
          "output_type": "stream",
          "text": [
            "[WARNING] [2023-11-16 16:07:00,564:Client-EnsembleBuilder] No runs were available to build an ensemble from\n"
          ]
        },
        {
          "name": "stderr",
          "output_type": "stream",
          "text": [
            "Fitting to the training data:  60%|\u001b[32m██████    \u001b[0m| 72/120 [01:12<00:48,  1.00s/it, The total time budget for this task is 0:02:00]"
          ]
        },
        {
          "name": "stdout",
          "output_type": "stream",
          "text": [
            "[WARNING] [2023-11-16 16:07:01,533:Client-EnsembleBuilder] No runs were available to build an ensemble from\n"
          ]
        },
        {
          "name": "stderr",
          "output_type": "stream",
          "text": [
            "Fitting to the training data:  61%|\u001b[32m██████    \u001b[0m| 73/120 [01:13<00:47,  1.00s/it, The total time budget for this task is 0:02:00]"
          ]
        },
        {
          "name": "stdout",
          "output_type": "stream",
          "text": [
            "[WARNING] [2023-11-16 16:07:02,540:Client-EnsembleBuilder] No runs were available to build an ensemble from\n"
          ]
        },
        {
          "name": "stderr",
          "output_type": "stream",
          "text": [
            "Fitting to the training data:  62%|\u001b[32m██████▏   \u001b[0m| 74/120 [01:14<00:46,  1.00s/it, The total time budget for this task is 0:02:00]"
          ]
        },
        {
          "name": "stdout",
          "output_type": "stream",
          "text": [
            "[WARNING] [2023-11-16 16:07:03,474:Client-EnsembleBuilder] No runs were available to build an ensemble from\n",
            "[WARNING] [2023-11-16 16:07:03,855:Client-EnsembleBuilder] No runs were available to build an ensemble from\n"
          ]
        },
        {
          "name": "stderr",
          "output_type": "stream",
          "text": [
            "Fitting to the training data:  62%|\u001b[32m██████▎   \u001b[0m| 75/120 [01:15<00:45,  1.00s/it, The total time budget for this task is 0:02:00]"
          ]
        },
        {
          "name": "stdout",
          "output_type": "stream",
          "text": [
            "[WARNING] [2023-11-16 16:07:04,933:Client-EnsembleBuilder] No runs were available to build an ensemble from\n"
          ]
        },
        {
          "name": "stderr",
          "output_type": "stream",
          "text": [
            "Fitting to the training data:  63%|\u001b[32m██████▎   \u001b[0m| 76/120 [01:16<00:44,  1.00s/it, The total time budget for this task is 0:02:00]"
          ]
        },
        {
          "name": "stdout",
          "output_type": "stream",
          "text": [
            "[WARNING] [2023-11-16 16:07:05,992:Client-EnsembleBuilder] No runs were available to build an ensemble from\n"
          ]
        },
        {
          "name": "stderr",
          "output_type": "stream",
          "text": [
            "Fitting to the training data:  64%|\u001b[32m██████▍   \u001b[0m| 77/120 [01:17<00:43,  1.01s/it, The total time budget for this task is 0:02:00]"
          ]
        },
        {
          "name": "stdout",
          "output_type": "stream",
          "text": [
            "[WARNING] [2023-11-16 16:07:06,508:Client-EnsembleBuilder] No runs were available to build an ensemble from\n"
          ]
        },
        {
          "name": "stderr",
          "output_type": "stream",
          "text": [
            "Fitting to the training data:  65%|\u001b[32m██████▌   \u001b[0m| 78/120 [01:18<00:42,  1.01s/it, The total time budget for this task is 0:02:00]"
          ]
        },
        {
          "name": "stdout",
          "output_type": "stream",
          "text": [
            "[WARNING] [2023-11-16 16:07:07,471:Client-EnsembleBuilder] No runs were available to build an ensemble from\n",
            "[WARNING] [2023-11-16 16:07:07,979:Client-EnsembleBuilder] No runs were available to build an ensemble from\n"
          ]
        },
        {
          "name": "stderr",
          "output_type": "stream",
          "text": [
            "Fitting to the training data:  66%|\u001b[32m██████▌   \u001b[0m| 79/120 [01:19<00:41,  1.01s/it, The total time budget for this task is 0:02:00]"
          ]
        },
        {
          "name": "stdout",
          "output_type": "stream",
          "text": [
            "[WARNING] [2023-11-16 16:07:08,970:Client-EnsembleBuilder] No runs were available to build an ensemble from\n"
          ]
        },
        {
          "name": "stderr",
          "output_type": "stream",
          "text": [
            "Fitting to the training data:  67%|\u001b[32m██████▋   \u001b[0m| 80/120 [01:20<00:40,  1.00s/it, The total time budget for this task is 0:02:00]"
          ]
        },
        {
          "name": "stdout",
          "output_type": "stream",
          "text": [
            "[WARNING] [2023-11-16 16:07:09,518:Client-EnsembleBuilder] No runs were available to build an ensemble from\n",
            "[WARNING] [2023-11-16 16:07:10,017:Client-EnsembleBuilder] No runs were available to build an ensemble from\n"
          ]
        },
        {
          "name": "stderr",
          "output_type": "stream",
          "text": [
            "Fitting to the training data:  68%|\u001b[32m██████▊   \u001b[0m| 81/120 [01:21<00:39,  1.00s/it, The total time budget for this task is 0:02:00]"
          ]
        },
        {
          "name": "stdout",
          "output_type": "stream",
          "text": [
            "[WARNING] [2023-11-16 16:07:11,064:Client-EnsembleBuilder] No runs were available to build an ensemble from\n"
          ]
        },
        {
          "name": "stderr",
          "output_type": "stream",
          "text": [
            "Fitting to the training data:  68%|\u001b[32m██████▊   \u001b[0m| 82/120 [01:22<00:38,  1.00s/it, The total time budget for this task is 0:02:00]"
          ]
        },
        {
          "name": "stdout",
          "output_type": "stream",
          "text": [
            "[WARNING] [2023-11-16 16:07:11,569:Client-EnsembleBuilder] No runs were available to build an ensemble from\n",
            "[WARNING] [2023-11-16 16:07:11,963:Client-EnsembleBuilder] No runs were available to build an ensemble from\n"
          ]
        },
        {
          "name": "stderr",
          "output_type": "stream",
          "text": [
            "Fitting to the training data:  69%|\u001b[32m██████▉   \u001b[0m| 83/120 [01:23<00:37,  1.00s/it, The total time budget for this task is 0:02:00]"
          ]
        },
        {
          "name": "stdout",
          "output_type": "stream",
          "text": [
            "[WARNING] [2023-11-16 16:07:12,455:Client-EnsembleBuilder] No runs were available to build an ensemble from\n"
          ]
        },
        {
          "name": "stderr",
          "output_type": "stream",
          "text": [
            "Fitting to the training data:  70%|\u001b[32m███████   \u001b[0m| 84/120 [01:24<00:36,  1.00s/it, The total time budget for this task is 0:02:00]"
          ]
        },
        {
          "name": "stdout",
          "output_type": "stream",
          "text": [
            "[WARNING] [2023-11-16 16:07:13,408:Client-EnsembleBuilder] No runs were available to build an ensemble from\n"
          ]
        },
        {
          "name": "stderr",
          "output_type": "stream",
          "text": [
            "Fitting to the training data:  71%|\u001b[32m███████   \u001b[0m| 85/120 [01:25<00:35,  1.00s/it, The total time budget for this task is 0:02:00]"
          ]
        },
        {
          "name": "stdout",
          "output_type": "stream",
          "text": [
            "[WARNING] [2023-11-16 16:07:14,483:Client-EnsembleBuilder] No runs were available to build an ensemble from\n"
          ]
        },
        {
          "name": "stderr",
          "output_type": "stream",
          "text": [
            "Fitting to the training data:  72%|\u001b[32m███████▏  \u001b[0m| 86/120 [01:26<00:34,  1.00s/it, The total time budget for this task is 0:02:00]"
          ]
        },
        {
          "name": "stdout",
          "output_type": "stream",
          "text": [
            "[WARNING] [2023-11-16 16:07:15,705:Client-EnsembleBuilder] No runs were available to build an ensemble from\n"
          ]
        },
        {
          "name": "stderr",
          "output_type": "stream",
          "text": [
            "Fitting to the training data:  72%|\u001b[32m███████▎  \u001b[0m| 87/120 [01:27<00:33,  1.00s/it, The total time budget for this task is 0:02:00]"
          ]
        },
        {
          "name": "stdout",
          "output_type": "stream",
          "text": [
            "[WARNING] [2023-11-16 16:07:16,704:Client-EnsembleBuilder] No runs were available to build an ensemble from\n"
          ]
        },
        {
          "name": "stderr",
          "output_type": "stream",
          "text": [
            "Fitting to the training data:  73%|\u001b[32m███████▎  \u001b[0m| 88/120 [01:28<00:32,  1.00s/it, The total time budget for this task is 0:02:00]"
          ]
        },
        {
          "name": "stdout",
          "output_type": "stream",
          "text": [
            "[WARNING] [2023-11-16 16:07:17,706:Client-EnsembleBuilder] No runs were available to build an ensemble from\n",
            "[WARNING] [2023-11-16 16:07:18,215:Client-EnsembleBuilder] No runs were available to build an ensemble from\n"
          ]
        },
        {
          "name": "stderr",
          "output_type": "stream",
          "text": [
            "Fitting to the training data:  75%|\u001b[32m███████▌  \u001b[0m| 90/120 [01:30<00:30,  1.01s/it, The total time budget for this task is 0:02:00]"
          ]
        },
        {
          "name": "stdout",
          "output_type": "stream",
          "text": [
            "[WARNING] [2023-11-16 16:07:19,451:Client-EnsembleBuilder] No runs were available to build an ensemble from\n",
            "[WARNING] [2023-11-16 16:07:19,927:Client-EnsembleBuilder] No runs were available to build an ensemble from\n",
            "[WARNING] [2023-11-16 16:07:20,314:Client-EnsembleBuilder] No runs were available to build an ensemble from\n"
          ]
        },
        {
          "name": "stderr",
          "output_type": "stream",
          "text": [
            "Fitting to the training data:  76%|\u001b[32m███████▌  \u001b[0m| 91/120 [01:31<00:29,  1.01s/it, The total time budget for this task is 0:02:00]"
          ]
        },
        {
          "name": "stdout",
          "output_type": "stream",
          "text": [
            "[WARNING] [2023-11-16 16:07:20,744:Client-EnsembleBuilder] No runs were available to build an ensemble from\n"
          ]
        },
        {
          "name": "stderr",
          "output_type": "stream",
          "text": [
            "Fitting to the training data:  77%|\u001b[32m███████▋  \u001b[0m| 92/120 [01:32<00:28,  1.01s/it, The total time budget for this task is 0:02:00]"
          ]
        },
        {
          "name": "stdout",
          "output_type": "stream",
          "text": [
            "[WARNING] [2023-11-16 16:07:21,934:Client-EnsembleBuilder] No runs were available to build an ensemble from\n"
          ]
        },
        {
          "name": "stderr",
          "output_type": "stream",
          "text": [
            "Fitting to the training data:  78%|\u001b[32m███████▊  \u001b[0m| 93/120 [01:33<00:27,  1.01s/it, The total time budget for this task is 0:02:00]"
          ]
        },
        {
          "name": "stdout",
          "output_type": "stream",
          "text": [
            "[WARNING] [2023-11-16 16:07:22,423:Client-EnsembleBuilder] No runs were available to build an ensemble from\n"
          ]
        },
        {
          "name": "stderr",
          "output_type": "stream",
          "text": [
            "Fitting to the training data:  78%|\u001b[32m███████▊  \u001b[0m| 94/120 [01:34<00:26,  1.01s/it, The total time budget for this task is 0:02:00]"
          ]
        },
        {
          "name": "stdout",
          "output_type": "stream",
          "text": [
            "[WARNING] [2023-11-16 16:07:23,508:Client-EnsembleBuilder] No runs were available to build an ensemble from\n"
          ]
        },
        {
          "name": "stderr",
          "output_type": "stream",
          "text": [
            "Fitting to the training data:  79%|\u001b[32m███████▉  \u001b[0m| 95/120 [01:35<00:25,  1.00s/it, The total time budget for this task is 0:02:00]"
          ]
        },
        {
          "name": "stdout",
          "output_type": "stream",
          "text": [
            "[WARNING] [2023-11-16 16:07:24,503:Client-EnsembleBuilder] No runs were available to build an ensemble from\n"
          ]
        },
        {
          "name": "stderr",
          "output_type": "stream",
          "text": [
            "Fitting to the training data:  80%|\u001b[32m████████  \u001b[0m| 96/120 [01:36<00:24,  1.00s/it, The total time budget for this task is 0:02:00]"
          ]
        },
        {
          "name": "stdout",
          "output_type": "stream",
          "text": [
            "[WARNING] [2023-11-16 16:07:25,705:Client-EnsembleBuilder] No runs were available to build an ensemble from\n",
            "[WARNING] [2023-11-16 16:07:26,115:Client-EnsembleBuilder] No runs were available to build an ensemble from\n"
          ]
        },
        {
          "name": "stderr",
          "output_type": "stream",
          "text": [
            "Fitting to the training data:  81%|\u001b[32m████████  \u001b[0m| 97/120 [01:37<00:23,  1.00s/it, The total time budget for this task is 0:02:00]"
          ]
        },
        {
          "name": "stdout",
          "output_type": "stream",
          "text": [
            "[WARNING] [2023-11-16 16:07:26,546:Client-EnsembleBuilder] No runs were available to build an ensemble from\n",
            "[WARNING] [2023-11-16 16:07:27,042:Client-EnsembleBuilder] No runs were available to build an ensemble from\n"
          ]
        },
        {
          "name": "stderr",
          "output_type": "stream",
          "text": [
            "Fitting to the training data:  82%|\u001b[32m████████▏ \u001b[0m| 98/120 [01:38<00:22,  1.00s/it, The total time budget for this task is 0:02:00]"
          ]
        },
        {
          "name": "stdout",
          "output_type": "stream",
          "text": [
            "[WARNING] [2023-11-16 16:07:27,463:Client-EnsembleBuilder] No runs were available to build an ensemble from\n"
          ]
        },
        {
          "name": "stderr",
          "output_type": "stream",
          "text": [
            "Fitting to the training data:  82%|\u001b[32m████████▎ \u001b[0m| 99/120 [01:39<00:21,  1.00s/it, The total time budget for this task is 0:02:00]"
          ]
        },
        {
          "name": "stdout",
          "output_type": "stream",
          "text": [
            "[WARNING] [2023-11-16 16:07:28,578:Client-EnsembleBuilder] No runs were available to build an ensemble from\n"
          ]
        },
        {
          "name": "stderr",
          "output_type": "stream",
          "text": [
            "Fitting to the training data:  83%|\u001b[32m████████▎ \u001b[0m| 100/120 [01:40<00:20,  1.00s/it, The total time budget for this task is 0:02:00]"
          ]
        },
        {
          "name": "stdout",
          "output_type": "stream",
          "text": [
            "[WARNING] [2023-11-16 16:07:29,512:Client-EnsembleBuilder] No runs were available to build an ensemble from\n",
            "[WARNING] [2023-11-16 16:07:30,001:Client-EnsembleBuilder] No runs were available to build an ensemble from\n"
          ]
        },
        {
          "name": "stderr",
          "output_type": "stream",
          "text": [
            "Fitting to the training data:  84%|\u001b[32m████████▍ \u001b[0m| 101/120 [01:41<00:19,  1.00s/it, The total time budget for this task is 0:02:00]"
          ]
        },
        {
          "name": "stdout",
          "output_type": "stream",
          "text": [
            "[WARNING] [2023-11-16 16:07:31,089:Client-EnsembleBuilder] No runs were available to build an ensemble from\n"
          ]
        },
        {
          "name": "stderr",
          "output_type": "stream",
          "text": [
            "Fitting to the training data:  85%|\u001b[32m████████▌ \u001b[0m| 102/120 [01:42<00:18,  1.00s/it, The total time budget for this task is 0:02:00]"
          ]
        },
        {
          "name": "stdout",
          "output_type": "stream",
          "text": [
            "[WARNING] [2023-11-16 16:07:31,598:Client-EnsembleBuilder] No runs were available to build an ensemble from\n",
            "[WARNING] [2023-11-16 16:07:32,201:Client-EnsembleBuilder] No runs were available to build an ensemble from\n"
          ]
        },
        {
          "name": "stderr",
          "output_type": "stream",
          "text": [
            "Fitting to the training data:  86%|\u001b[32m████████▌ \u001b[0m| 103/120 [01:43<00:17,  1.00s/it, The total time budget for this task is 0:02:00]"
          ]
        },
        {
          "name": "stdout",
          "output_type": "stream",
          "text": [
            "[WARNING] [2023-11-16 16:07:32,820:Client-EnsembleBuilder] No runs were available to build an ensemble from\n",
            "[WARNING] [2023-11-16 16:07:33,342:Client-EnsembleBuilder] No runs were available to build an ensemble from\n"
          ]
        },
        {
          "name": "stderr",
          "output_type": "stream",
          "text": [
            "Fitting to the training data:  87%|\u001b[32m████████▋ \u001b[0m| 104/120 [01:44<00:16,  1.03s/it, The total time budget for this task is 0:02:00]"
          ]
        },
        {
          "name": "stdout",
          "output_type": "stream",
          "text": [
            "[WARNING] [2023-11-16 16:07:34,506:Client-EnsembleBuilder] No runs were available to build an ensemble from\n"
          ]
        },
        {
          "name": "stderr",
          "output_type": "stream",
          "text": [
            "Fitting to the training data:  88%|\u001b[32m████████▊ \u001b[0m| 105/120 [01:45<00:15,  1.03s/it, The total time budget for this task is 0:02:00]"
          ]
        },
        {
          "name": "stdout",
          "output_type": "stream",
          "text": [
            "[WARNING] [2023-11-16 16:07:34,924:Client-EnsembleBuilder] No runs were available to build an ensemble from\n"
          ]
        },
        {
          "name": "stderr",
          "output_type": "stream",
          "text": [
            "Fitting to the training data:  88%|\u001b[32m████████▊ \u001b[0m| 106/120 [01:46<00:14,  1.02s/it, The total time budget for this task is 0:02:00]"
          ]
        },
        {
          "name": "stdout",
          "output_type": "stream",
          "text": [
            "[WARNING] [2023-11-16 16:07:35,902:Client-EnsembleBuilder] No runs were available to build an ensemble from\n",
            "[WARNING] [2023-11-16 16:07:36,428:Client-EnsembleBuilder] No runs were available to build an ensemble from\n"
          ]
        },
        {
          "name": "stderr",
          "output_type": "stream",
          "text": [
            "Fitting to the training data:  89%|\u001b[32m████████▉ \u001b[0m| 107/120 [01:47<00:13,  1.02s/it, The total time budget for this task is 0:02:00]"
          ]
        },
        {
          "name": "stdout",
          "output_type": "stream",
          "text": [
            "[WARNING] [2023-11-16 16:07:36,831:Client-EnsembleBuilder] No runs were available to build an ensemble from\n",
            "[WARNING] [2023-11-16 16:07:37,323:Client-EnsembleBuilder] No runs were available to build an ensemble from\n"
          ]
        },
        {
          "name": "stderr",
          "output_type": "stream",
          "text": [
            "Fitting to the training data: 100%|\u001b[32m██████████\u001b[0m| 120/120 [01:49<00:00,  1.09it/s, The total time budget for this task is 0:02:00]\n"
          ]
        },
        {
          "name": "stdout",
          "output_type": "stream",
          "text": [
            "Configuration(values={\n",
            "  'balancing:strategy': 'none',\n",
            "  'classifier:__choice__': 'mlp',\n",
            "  'classifier:mlp:activation': 'relu',\n",
            "  'classifier:mlp:alpha': 0.0001,\n",
            "  'classifier:mlp:batch_size': 'auto',\n",
            "  'classifier:mlp:beta_1': 0.9,\n",
            "  'classifier:mlp:beta_2': 0.999,\n",
            "  'classifier:mlp:early_stopping': 'valid',\n",
            "  'classifier:mlp:epsilon': 1e-08,\n",
            "  'classifier:mlp:hidden_layer_depth': 1,\n",
            "  'classifier:mlp:learning_rate_init': 0.001,\n",
            "  'classifier:mlp:n_iter_no_change': 32,\n",
            "  'classifier:mlp:num_nodes_per_layer': 32,\n",
            "  'classifier:mlp:shuffle': 'True',\n",
            "  'classifier:mlp:solver': 'adam',\n",
            "  'classifier:mlp:tol': 0.0001,\n",
            "  'classifier:mlp:validation_fraction': 0.1,\n",
            "  'data_preprocessor:__choice__': 'NoPreprocessing',\n",
            "  'feature_preprocessor:__choice__': 'no_preprocessing',\n",
            "})\n",
            "\n"
          ]
        }
      ],
      "source": [
        "# from autosklearn.experimental.askl2 import AutoSklearn2Classifier\n",
        "\n",
        "automl = autosklearn.classification.AutoSklearnClassifier(\n",
        "    time_left_for_this_task=120,\n",
        "    per_run_time_limit=30,\n",
        "    include = {\n",
        "        'classifier': [\"mlp\"],\n",
        "        'feature_preprocessor': [\"no_preprocessing\"],\n",
        "        'data_preprocessor': [\"NoPreprocessing\"]\n",
        "    },\n",
        "    tmp_folder=\"tmp/autosklearn_classification_example_tmp4\",\n",
        ")\n",
        "\n",
        "automl.fit(X_train, y_train, dataset_name=\"airbnb\")\n",
        "## get configuration for a model/run\n",
        "run_key = list(automl.automl_.runhistory_.data.keys())[0]\n",
        "run_value = automl.automl_.runhistory_.data[run_key]\n",
        "config=automl.automl_.runhistory_.ids_config[run_key.config_id]\n",
        "print(config)\n",
        "\n"
      ]
    },
    {
      "cell_type": "markdown",
      "metadata": {},
      "source": [
        "## View the models found by auto-sklearn\n",
        "\n"
      ]
    },
    {
      "cell_type": "code",
      "execution_count": 6,
      "metadata": {
        "collapsed": false
      },
      "outputs": [
        {
          "name": "stdout",
          "output_type": "stream",
          "text": [
            "          rank  ensemble_weight  type  cost duration\n",
            "model_id                                            \n",
            "1            1              1.0  <NA>  <NA>     <NA>\n"
          ]
        }
      ],
      "source": [
        "print(automl.leaderboard())"
      ]
    },
    {
      "cell_type": "markdown",
      "metadata": {},
      "source": [
        "## Print the final ensemble constructed by auto-sklearn\n",
        "\n"
      ]
    },
    {
      "cell_type": "code",
      "execution_count": 7,
      "metadata": {
        "collapsed": false
      },
      "outputs": [
        {
          "ename": "RuntimeError",
          "evalue": "No model found. Try increasing 'time_left_for_this_task'.",
          "output_type": "error",
          "traceback": [
            "\u001b[0;31m---------------------------------------------------------------------------\u001b[0m",
            "\u001b[0;31mRuntimeError\u001b[0m                              Traceback (most recent call last)",
            "\u001b[1;32m/home/preethi/projects/CS8803-MDS-Data-Preprocessing-Transferability/autosklearn-pipeline/example_classification_mlp_without_pre.ipynb Cell 12\u001b[0m line \u001b[0;36m1\n\u001b[0;32m----> <a href='vscode-notebook-cell:/home/preethi/projects/CS8803-MDS-Data-Preprocessing-Transferability/autosklearn-pipeline/example_classification_mlp_without_pre.ipynb#X14sZmlsZQ%3D%3D?line=0'>1</a>\u001b[0m pprint(automl\u001b[39m.\u001b[39;49mshow_models(), indent\u001b[39m=\u001b[39m\u001b[39m4\u001b[39m)\n",
            "File \u001b[0;32m~/projects/CS8803-MDS-Data-Preprocessing-Transferability/autosklearn-pipeline/autosklearn/estimators.py:896\u001b[0m, in \u001b[0;36mAutoSklearnEstimator.show_models\u001b[0;34m(self)\u001b[0m\n\u001b[1;32m    814\u001b[0m \u001b[39mdef\u001b[39;00m \u001b[39mshow_models\u001b[39m(\u001b[39mself\u001b[39m):\n\u001b[1;32m    815\u001b[0m \u001b[39m    \u001b[39m\u001b[39m\"\"\"Returns a dictionary containing dictionaries of ensemble models.\u001b[39;00m\n\u001b[1;32m    816\u001b[0m \n\u001b[1;32m    817\u001b[0m \u001b[39m    Each model in the ensemble can be accessed by giving its ``model_id`` as key.\u001b[39;00m\n\u001b[0;32m   (...)\u001b[0m\n\u001b[1;32m    893\u001b[0m \n\u001b[1;32m    894\u001b[0m \u001b[39m    \"\"\"\u001b[39;00m  \u001b[39m# noqa: E501\u001b[39;00m\n\u001b[0;32m--> 896\u001b[0m     \u001b[39mreturn\u001b[39;00m \u001b[39mself\u001b[39;49m\u001b[39m.\u001b[39;49mautoml_\u001b[39m.\u001b[39;49mshow_models()\n",
            "File \u001b[0;32m~/projects/CS8803-MDS-Data-Preprocessing-Transferability/autosklearn-pipeline/autosklearn/automl.py:2187\u001b[0m, in \u001b[0;36mAutoML.show_models\u001b[0;34m(self)\u001b[0m\n\u001b[1;32m   2185\u001b[0m \u001b[39m# Checking if the dictionary is empty\u001b[39;00m\n\u001b[1;32m   2186\u001b[0m \u001b[39mif\u001b[39;00m \u001b[39mnot\u001b[39;00m table_dict:\n\u001b[0;32m-> 2187\u001b[0m     \u001b[39mraise\u001b[39;00m \u001b[39mRuntimeError\u001b[39;00m(\n\u001b[1;32m   2188\u001b[0m         \u001b[39m\"\u001b[39m\u001b[39mNo model found. Try increasing \u001b[39m\u001b[39m'\u001b[39m\u001b[39mtime_left_for_this_task\u001b[39m\u001b[39m'\u001b[39m\u001b[39m.\u001b[39m\u001b[39m\"\u001b[39m\n\u001b[1;32m   2189\u001b[0m     )\n\u001b[1;32m   2191\u001b[0m \u001b[39mfor\u001b[39;00m (_, model_id, _), weight \u001b[39min\u001b[39;00m \u001b[39mself\u001b[39m\u001b[39m.\u001b[39mensemble_\u001b[39m.\u001b[39mget_identifiers_with_weights():\n\u001b[1;32m   2192\u001b[0m     table_dict[model_id][\u001b[39m\"\u001b[39m\u001b[39mensemble_weight\u001b[39m\u001b[39m\"\u001b[39m] \u001b[39m=\u001b[39m weight\n",
            "\u001b[0;31mRuntimeError\u001b[0m: No model found. Try increasing 'time_left_for_this_task'."
          ]
        }
      ],
      "source": [
        "pprint(automl.show_models(), indent=4)"
      ]
    },
    {
      "cell_type": "markdown",
      "metadata": {},
      "source": [
        "## Get the Score of the final ensemble\n",
        "\n"
      ]
    },
    {
      "cell_type": "code",
      "execution_count": 8,
      "metadata": {
        "collapsed": false
      },
      "outputs": [
        {
          "name": "stdout",
          "output_type": "stream",
          "text": [
            "Accuracy score: 0.32406808877397114\n"
          ]
        }
      ],
      "source": [
        "predictions = automl.predict(X_test)\n",
        "print(\"Accuracy score:\", sklearn.metrics.accuracy_score(y_test, predictions))"
      ]
    }
  ],
  "metadata": {
    "kernelspec": {
      "display_name": "Python 3",
      "language": "python",
      "name": "python3"
    },
    "language_info": {
      "codemirror_mode": {
        "name": "ipython",
        "version": 3
      },
      "file_extension": ".py",
      "mimetype": "text/x-python",
      "name": "python",
      "nbconvert_exporter": "python",
      "pygments_lexer": "ipython3",
      "version": "3.9.18"
    }
  },
  "nbformat": 4,
  "nbformat_minor": 0
}
