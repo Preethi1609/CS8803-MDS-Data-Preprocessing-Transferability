{
 "cells": [
  {
   "cell_type": "code",
   "execution_count": 1,
   "metadata": {},
   "outputs": [
    {
     "name": "stderr",
     "output_type": "stream",
     "text": [
      "/Users/siddharth/miniconda3/envs/diffprep/lib/python3.9/site-packages/tqdm/auto.py:22: TqdmWarning: IProgress not found. Please update jupyter and ipywidgets. See https://ipywidgets.readthedocs.io/en/stable/user_install.html\n",
      "  from .autonotebook import tqdm as notebook_tqdm\n"
     ]
    }
   ],
   "source": [
    "import numpy as np\n",
    "import pandas as pd\n",
    "import utils\n",
    "from experiment.experiment_utils import set_random_seed, load_data, build_data, grid_search, makedir, save_result, load_data_multitask, load_data_multitask_synthetic_label, load_task_label\n",
    "from model import LogisticRegression\n",
    "from pipeline.diffprep_flex_pipeline import DiffPrepFlexPipeline\n",
    "from pipeline.diffprep_fix_pipeline import DiffPrepFixPipeline\n",
    "import torch\n",
    "import torch.nn as nn\n",
    "from trainer.diffprep_trainer import DiffPrepSGD\n",
    "from utils import SummaryWriter\n",
    "from experiment.experiment_utils import min_max_normalize\n",
    "from copy import deepcopy"
   ]
  },
  {
   "cell_type": "code",
   "execution_count": 2,
   "metadata": {},
   "outputs": [],
   "source": [
    "LABEL = 'Rating'"
   ]
  },
  {
   "cell_type": "code",
   "execution_count": 3,
   "metadata": {},
   "outputs": [],
   "source": [
    "def load_prep_pipeline(path, prep_space, params, data_dir, dataset):\n",
    "\n",
    "    X, y = load_data_multitask(data_dir, dataset)\n",
    "    X_train, y_train, X_val, y_val, X_test, y_test = build_data(X, y, random_state=params[\"split_seed\"])\n",
    "\n",
    "    prep_pipeline = DiffPrepFixPipeline(prep_space, temperature=params[\"temperature\"],\n",
    "                                use_sample=params[\"sample\"],\n",
    "                                diff_method=params[\"diff_method\"],\n",
    "                                init_method=params[\"init_method\"])\n",
    "    prep_pipeline.init_parameters(X_train, X_val, X_test)\n",
    "    prep_pipeline.load_state_dict(torch.load(path))\n",
    "    # prep_pipeline.is_fitted = True\n",
    "    # prep_pipeline.fit(X_train)\n",
    "    #prep_pipeline.eval()\n",
    "\n",
    "    return prep_pipeline"
   ]
  },
  {
   "cell_type": "code",
   "execution_count": 4,
   "metadata": {},
   "outputs": [],
   "source": [
    "class DiffPrepExperiment(object):\n",
    "    \"\"\"Run auto prep with one set of hyper parameters\"\"\"\n",
    "    def __init__(self, data_dir, dataset, prep_space, model_name, method, similarity_threshold, fixed_pipeline_path=None):\n",
    "        self.data_dir = data_dir\n",
    "        self.dataset = dataset\n",
    "        self.prep_space = prep_space\n",
    "        self.model_name = model_name\n",
    "        self.method = method\n",
    "        self.similarity_threshold = similarity_threshold\n",
    "        self.fixed_pipeline_path = fixed_pipeline_path\n",
    "\n",
    "    def run(self, params, verbose=True):        \n",
    "        X, y = load_data_multitask_synthetic_label(self.data_dir, self.dataset, similarity_threshold=self.similarity_threshold)\n",
    "        # override the label\n",
    "        y = load_task_label(f'result/diffprep_fix/{self.dataset}/{LABEL}_{self.similarity_threshold}')\n",
    "        #X, y = load_data_multitask(self.data_dir, self.dataset)\n",
    "        X_train, y_train, X_val, y_val, X_test, y_test = build_data(X, y, random_state=params[\"split_seed\"])\n",
    "        \n",
    "        print(\"Dataset shapes: \", X_train.shape, y_train.shape, X_val.shape, y_val.shape, X_test.shape, y_test.shape)\n",
    "\n",
    "        # pre norm for diffprep flex\n",
    "        if self.method == \"diffprep_flex\":\n",
    "            X_train, X_val, X_test = min_max_normalize(X_train, X_val, X_test)\n",
    "            params[\"patience\"] = 10\n",
    "            params[\"num_epochs\"] = 3000\n",
    "\n",
    "        # set random seed\n",
    "        set_random_seed(params)\n",
    "        ## transform pipeline\n",
    "        # define and fit first step\n",
    "        if self.fixed_pipeline_path:\n",
    "            #prep_pipeline = self.fixed_pipeline\n",
    "            prep_pipeline = DiffPrepFixPipeline(self.prep_space, temperature=params[\"temperature\"],\n",
    "                                use_sample=False,\n",
    "                                diff_method=params[\"diff_method\"],\n",
    "                                init_method=params[\"init_method\"])\n",
    "            prep_pipeline.init_parameters(X_train, X_val, X_test)\n",
    "            prep_pipeline.load_state_dict(torch.load(self.fixed_pipeline_path))\n",
    "            prep_pipeline.fit(X_train)\n",
    "            prep_pipeline.is_fitted = True\n",
    "\n",
    "        elif self.method == \"diffprep_fix\":\n",
    "            prep_pipeline = DiffPrepFixPipeline(self.prep_space, temperature=params[\"temperature\"],\n",
    "                                             use_sample=params[\"sample\"],\n",
    "                                             diff_method=params[\"diff_method\"],\n",
    "                                             init_method=params[\"init_method\"])\n",
    "            prep_pipeline.init_parameters(X_train, X_val, X_test)\n",
    "        elif self.method == \"diffprep_flex\":\n",
    "            prep_pipeline = DiffPrepFlexPipeline(self.prep_space, temperature=params[\"temperature\"],\n",
    "                            use_sample=params[\"sample\"],\n",
    "                            diff_method=params[\"diff_method\"],\n",
    "                            init_method=params[\"init_method\"])\n",
    "            prep_pipeline.init_parameters(X_train, X_val, X_test)\n",
    "        else:\n",
    "            raise Exception(\"Wrong auto prep method\")\n",
    "\n",
    "        #prep_pipeline.init_parameters(X_train, X_val, X_test)\n",
    "        print(\"Train size: ({}, {})\".format(X_train.shape[0], prep_pipeline.out_features))\n",
    "\n",
    "        # model\n",
    "        input_dim = prep_pipeline.out_features\n",
    "        output_dim = len(set(y.values.ravel()))\n",
    "\n",
    "        # model = TwoLayerNet(input_dim, output_dim)\n",
    "        set_random_seed(params)\n",
    "        if self.model_name == \"log\":\n",
    "            model = LogisticRegression(input_dim, output_dim)\n",
    "        else:\n",
    "            raise Exception(\"Wrong model\")\n",
    "\n",
    "        model = model.to(params[\"device\"])\n",
    "\n",
    "        # loss\n",
    "        loss_fn = nn.CrossEntropyLoss()\n",
    "\n",
    "        # optimizer\n",
    "        model_optimizer = torch.optim.SGD(\n",
    "            model.parameters(),\n",
    "            lr=params[\"model_lr\"],\n",
    "            weight_decay=params[\"weight_decay\"],\n",
    "            momentum=params[\"momentum\"]\n",
    "        )\n",
    "        \n",
    "        if params[\"prep_lr\"] is None:\n",
    "            prep_lr = params[\"model_lr\"]\n",
    "        else:\n",
    "            prep_lr = params[\"prep_lr\"]\n",
    "    \n",
    "        prep_pipeline_optimizer = None\n",
    "        # torch.optim.Adam(\n",
    "        #     prep_pipeline.parameters(),\n",
    "        #     lr=prep_lr,\n",
    "        #     betas=(0.5, 0.999),\n",
    "        #     weight_decay=params[\"weight_decay\"]\n",
    "        # )\n",
    "\n",
    "        # scheduler\n",
    "        # model_scheduler = torch.optim.lr_scheduler.ReduceLROnPlateau(model_optimizer, patience=patience, factor=0.1, threshold=0.001)\n",
    "        prep_pipeline_scheduler = None\n",
    "        model_scheduler = None\n",
    "\n",
    "        if params[\"logging\"]:\n",
    "            logger = SummaryWriter()\n",
    "        else:\n",
    "            logger = None\n",
    "\n",
    "        diff_prep = DiffPrepSGD(prep_pipeline, model, loss_fn, model_optimizer, prep_pipeline_optimizer,\n",
    "                    model_scheduler, prep_pipeline_scheduler, params, writer=logger, train_pipeline=False)\n",
    "\n",
    "        result, best_model = diff_prep.fit(X_train, y_train, X_val, y_val, X_test, y_test)\n",
    "        return result, best_model, logger"
   ]
  },
  {
   "cell_type": "code",
   "execution_count": 5,
   "metadata": {},
   "outputs": [],
   "source": [
    "def run_diffprep(data_dir, dataset, result_dir, prep_space, params, model_name, method, prep_pipeline_path):\n",
    "    print(\"Dataset:\", dataset, \"Diff Method:\", params[\"diff_method\"], method)\n",
    "\n",
    "    diff_prep_exp = DiffPrepExperiment(data_dir, dataset, prep_space, model_name, method, similarity_threshold=params[\"similarity_threshold\"], fixed_pipeline_path=prep_pipeline_path)\n",
    "    best_result, best_model, best_logger, best_params = grid_search(diff_prep_exp, deepcopy(params))\n",
    "    save_result(best_result, best_model, best_logger, best_params, result_dir, save_model=True)\n",
    "    print(\"DiffPrep Finished. val acc:\", best_result[\"best_val_acc\"], \"test acc\", best_result[\"best_test_acc\"])\n",
    "    return best_result, best_model, best_logger, best_params"
   ]
  },
  {
   "cell_type": "code",
   "execution_count": 5,
   "metadata": {},
   "outputs": [
    {
     "name": "stdout",
     "output_type": "stream",
     "text": [
      "Run diffprep_fix on dataset Airbnb\n"
     ]
    }
   ],
   "source": [
    "import utils\n",
    "from prep_space import space\n",
    "from experiment.baseline_experiment import run_baseline\n",
    "import os\n",
    "\n",
    "# define hyper parameters\n",
    "params = {\n",
    "    \"num_epochs\": 2000,\n",
    "    \"batch_size\": 512,\n",
    "    \"device\": \"cpu\",\n",
    "    #\"model_lr\": [0.1, 0.01, 0.001],\n",
    "    \"model_lr\": 0.01,\n",
    "    \"weight_decay\": 0,\n",
    "    \"model\": 'log',\n",
    "    \"train_seed\": 1,\n",
    "    \"split_seed\": 1,\n",
    "    \"method\": \"diffprep_fix\",\n",
    "    \"save_model\": True,\n",
    "    \"logging\": False,\n",
    "    \"no_crash\": False,\n",
    "    \"patience\": 3,\n",
    "    \"momentum\": 0.9\n",
    "}\n",
    "\n",
    "auto_prep_params = {\n",
    "    \"prep_lr\": None,\n",
    "    \"temperature\": 0.1,\n",
    "    \"grad_clip\": None,\n",
    "    \"pipeline_update_sample_size\": 512,\n",
    "    \"init_method\": \"default\",\n",
    "    \"diff_method\": \"num_diff\",\n",
    "    \"sample\": False\n",
    "}\n",
    "\n",
    "DATADIR = \"data\"\n",
    "\n",
    "params.update(auto_prep_params)\n",
    "\n",
    "datasets = sorted(os.listdir(DATADIR))\n",
    "dataset = \"Airbnb\"\n",
    "\n",
    "print(\"Run {} on dataset {}\".format(params[\"method\"], dataset))\n",
    "\n"
   ]
  },
  {
   "cell_type": "code",
   "execution_count": 7,
   "metadata": {},
   "outputs": [
    {
     "name": "stdout",
     "output_type": "stream",
     "text": [
      "0.0\n",
      "Dataset: Airbnb Diff Method: num_diff diffprep_fix\n",
      "Model lr 0.01\n",
      "Dataset shapes:  (1800, 38) torch.Size([1800]) (600, 38) torch.Size([600]) (600, 38) torch.Size([600])\n",
      "Train size: (1800, 125)\n"
     ]
    },
    {
     "name": "stderr",
     "output_type": "stream",
     "text": [
      " 11%|█▏        | 227/2000 [00:24<03:15,  9.08it/s, next_eval_time=10s, tr_loss=0.672, val_loss=0.724]"
     ]
    },
    {
     "ename": "KeyboardInterrupt",
     "evalue": "",
     "output_type": "error",
     "traceback": [
      "\u001b[0;31m---------------------------------------------------------------------------\u001b[0m",
      "\u001b[0;31mKeyboardInterrupt\u001b[0m                         Traceback (most recent call last)",
      "\u001b[1;32m/Users/siddharth/Desktop/Projects/HILDA/DiffPrep_transfer/pipeline_transfer.ipynb Cell 7\u001b[0m line \u001b[0;36m9\n\u001b[1;32m      <a href='vscode-notebook-cell:/Users/siddharth/Desktop/Projects/HILDA/DiffPrep_transfer/pipeline_transfer.ipynb#W6sZmlsZQ%3D%3D?line=5'>6</a>\u001b[0m prep_pipeline_path \u001b[39m=\u001b[39m \u001b[39mf\u001b[39m\u001b[39m'\u001b[39m\u001b[39m./result/diffprep_fix/\u001b[39m\u001b[39m{\u001b[39;00mdataset\u001b[39m}\u001b[39;00m\u001b[39m/\u001b[39m\u001b[39m{\u001b[39;00mLABEL\u001b[39m}\u001b[39;00m\u001b[39m_ground_truth/prep_pipeline.pth\u001b[39m\u001b[39m'\u001b[39m\n\u001b[1;32m      <a href='vscode-notebook-cell:/Users/siddharth/Desktop/Projects/HILDA/DiffPrep_transfer/pipeline_transfer.ipynb#W6sZmlsZQ%3D%3D?line=7'>8</a>\u001b[0m \u001b[39mif\u001b[39;00m params[\u001b[39m\"\u001b[39m\u001b[39mmethod\u001b[39m\u001b[39m\"\u001b[39m] \u001b[39min\u001b[39;00m [\u001b[39m\"\u001b[39m\u001b[39mdiffprep_fix\u001b[39m\u001b[39m\"\u001b[39m, \u001b[39m\"\u001b[39m\u001b[39mdiffprep_flex\u001b[39m\u001b[39m\"\u001b[39m]:\n\u001b[0;32m----> <a href='vscode-notebook-cell:/Users/siddharth/Desktop/Projects/HILDA/DiffPrep_transfer/pipeline_transfer.ipynb#W6sZmlsZQ%3D%3D?line=8'>9</a>\u001b[0m     best_result, best_model, best_logger, best_params \u001b[39m=\u001b[39m run_diffprep(DATADIR, dataset, result_dir, space, params, params[\u001b[39m\"\u001b[39;49m\u001b[39mmodel\u001b[39;49m\u001b[39m\"\u001b[39;49m], params[\u001b[39m\"\u001b[39;49m\u001b[39mmethod\u001b[39;49m\u001b[39m\"\u001b[39;49m], prep_pipeline_path)\n\u001b[1;32m     <a href='vscode-notebook-cell:/Users/siddharth/Desktop/Projects/HILDA/DiffPrep_transfer/pipeline_transfer.ipynb#W6sZmlsZQ%3D%3D?line=9'>10</a>\u001b[0m \u001b[39melse\u001b[39;00m:\n\u001b[1;32m     <a href='vscode-notebook-cell:/Users/siddharth/Desktop/Projects/HILDA/DiffPrep_transfer/pipeline_transfer.ipynb#W6sZmlsZQ%3D%3D?line=10'>11</a>\u001b[0m     best_result, best_model, best_logger, best_params \u001b[39m=\u001b[39m run_baseline(DATADIR, dataset, result_dir, space, params, params[\u001b[39m\"\u001b[39m\u001b[39mmodel\u001b[39m\u001b[39m\"\u001b[39m], params[\u001b[39m\"\u001b[39m\u001b[39mmethod\u001b[39m\u001b[39m\"\u001b[39m], prep_pipeline_path)\n",
      "\u001b[1;32m/Users/siddharth/Desktop/Projects/HILDA/DiffPrep_transfer/pipeline_transfer.ipynb Cell 7\u001b[0m line \u001b[0;36m5\n\u001b[1;32m      <a href='vscode-notebook-cell:/Users/siddharth/Desktop/Projects/HILDA/DiffPrep_transfer/pipeline_transfer.ipynb#W6sZmlsZQ%3D%3D?line=1'>2</a>\u001b[0m \u001b[39mprint\u001b[39m(\u001b[39m\"\u001b[39m\u001b[39mDataset:\u001b[39m\u001b[39m\"\u001b[39m, dataset, \u001b[39m\"\u001b[39m\u001b[39mDiff Method:\u001b[39m\u001b[39m\"\u001b[39m, params[\u001b[39m\"\u001b[39m\u001b[39mdiff_method\u001b[39m\u001b[39m\"\u001b[39m], method)\n\u001b[1;32m      <a href='vscode-notebook-cell:/Users/siddharth/Desktop/Projects/HILDA/DiffPrep_transfer/pipeline_transfer.ipynb#W6sZmlsZQ%3D%3D?line=3'>4</a>\u001b[0m diff_prep_exp \u001b[39m=\u001b[39m DiffPrepExperiment(data_dir, dataset, prep_space, model_name, method, similarity_threshold\u001b[39m=\u001b[39mparams[\u001b[39m\"\u001b[39m\u001b[39msimilarity_threshold\u001b[39m\u001b[39m\"\u001b[39m], fixed_pipeline_path\u001b[39m=\u001b[39mprep_pipeline_path)\n\u001b[0;32m----> <a href='vscode-notebook-cell:/Users/siddharth/Desktop/Projects/HILDA/DiffPrep_transfer/pipeline_transfer.ipynb#W6sZmlsZQ%3D%3D?line=4'>5</a>\u001b[0m best_result, best_model, best_logger, best_params \u001b[39m=\u001b[39m grid_search(diff_prep_exp, deepcopy(params))\n\u001b[1;32m      <a href='vscode-notebook-cell:/Users/siddharth/Desktop/Projects/HILDA/DiffPrep_transfer/pipeline_transfer.ipynb#W6sZmlsZQ%3D%3D?line=5'>6</a>\u001b[0m save_result(best_result, best_model, best_logger, best_params, result_dir, save_model\u001b[39m=\u001b[39m\u001b[39mTrue\u001b[39;00m)\n\u001b[1;32m      <a href='vscode-notebook-cell:/Users/siddharth/Desktop/Projects/HILDA/DiffPrep_transfer/pipeline_transfer.ipynb#W6sZmlsZQ%3D%3D?line=6'>7</a>\u001b[0m \u001b[39mprint\u001b[39m(\u001b[39m\"\u001b[39m\u001b[39mDiffPrep Finished. val acc:\u001b[39m\u001b[39m\"\u001b[39m, best_result[\u001b[39m\"\u001b[39m\u001b[39mbest_val_acc\u001b[39m\u001b[39m\"\u001b[39m], \u001b[39m\"\u001b[39m\u001b[39mtest acc\u001b[39m\u001b[39m\"\u001b[39m, best_result[\u001b[39m\"\u001b[39m\u001b[39mbest_test_acc\u001b[39m\u001b[39m\"\u001b[39m])\n",
      "File \u001b[0;32m~/Desktop/Projects/HILDA/DiffPrep_transfer/experiment/experiment_utils.py:272\u001b[0m, in \u001b[0;36mgrid_search\u001b[0;34m(experiment_obj, param_grid, verbose)\u001b[0m\n\u001b[1;32m    270\u001b[0m         \u001b[39mcontinue\u001b[39;00m\n\u001b[1;32m    271\u001b[0m \u001b[39melse\u001b[39;00m:\n\u001b[0;32m--> 272\u001b[0m     result, model, logger \u001b[39m=\u001b[39m experiment_obj\u001b[39m.\u001b[39;49mrun(params, verbose\u001b[39m=\u001b[39;49mverbose)\n\u001b[1;32m    274\u001b[0m \u001b[39mif\u001b[39;00m result[\u001b[39m\"\u001b[39m\u001b[39mbest_val_loss\u001b[39m\u001b[39m\"\u001b[39m] \u001b[39m<\u001b[39m best_val_loss:\n\u001b[1;32m    275\u001b[0m     best_val_loss \u001b[39m=\u001b[39m result[\u001b[39m\"\u001b[39m\u001b[39mbest_val_loss\u001b[39m\u001b[39m\"\u001b[39m]\n",
      "\u001b[1;32m/Users/siddharth/Desktop/Projects/HILDA/DiffPrep_transfer/pipeline_transfer.ipynb Cell 7\u001b[0m line \u001b[0;36m1\n\u001b[1;32m    <a href='vscode-notebook-cell:/Users/siddharth/Desktop/Projects/HILDA/DiffPrep_transfer/pipeline_transfer.ipynb#W6sZmlsZQ%3D%3D?line=104'>105</a>\u001b[0m     logger \u001b[39m=\u001b[39m \u001b[39mNone\u001b[39;00m\n\u001b[1;32m    <a href='vscode-notebook-cell:/Users/siddharth/Desktop/Projects/HILDA/DiffPrep_transfer/pipeline_transfer.ipynb#W6sZmlsZQ%3D%3D?line=106'>107</a>\u001b[0m diff_prep \u001b[39m=\u001b[39m DiffPrepSGD(prep_pipeline, model, loss_fn, model_optimizer, prep_pipeline_optimizer,\n\u001b[1;32m    <a href='vscode-notebook-cell:/Users/siddharth/Desktop/Projects/HILDA/DiffPrep_transfer/pipeline_transfer.ipynb#W6sZmlsZQ%3D%3D?line=107'>108</a>\u001b[0m             model_scheduler, prep_pipeline_scheduler, params, writer\u001b[39m=\u001b[39mlogger, train_pipeline\u001b[39m=\u001b[39m\u001b[39mFalse\u001b[39;00m)\n\u001b[0;32m--> <a href='vscode-notebook-cell:/Users/siddharth/Desktop/Projects/HILDA/DiffPrep_transfer/pipeline_transfer.ipynb#W6sZmlsZQ%3D%3D?line=109'>110</a>\u001b[0m result, best_model \u001b[39m=\u001b[39m diff_prep\u001b[39m.\u001b[39;49mfit(X_train, y_train, X_val, y_val, X_test, y_test)\n\u001b[1;32m    <a href='vscode-notebook-cell:/Users/siddharth/Desktop/Projects/HILDA/DiffPrep_transfer/pipeline_transfer.ipynb#W6sZmlsZQ%3D%3D?line=110'>111</a>\u001b[0m \u001b[39mreturn\u001b[39;00m result, best_model, logger\n",
      "File \u001b[0;32m~/Desktop/Projects/HILDA/DiffPrep_transfer/trainer/diffprep_trainer.py:116\u001b[0m, in \u001b[0;36mDiffPrepSGD.fit\u001b[0;34m(self, X_train, y_train, X_val, y_val, X_test, y_test, verbose)\u001b[0m\n\u001b[1;32m    114\u001b[0m \u001b[39mself\u001b[39m\u001b[39m.\u001b[39mglobal_step \u001b[39m=\u001b[39m e\n\u001b[1;32m    115\u001b[0m \u001b[39m# print(\"epoch:\", e)\u001b[39;00m\n\u001b[0;32m--> 116\u001b[0m tr_loss, tr_acc \u001b[39m=\u001b[39m \u001b[39mself\u001b[39;49m\u001b[39m.\u001b[39;49mtrain(X_train, y_train, X_val, y_val)\n\u001b[1;32m    117\u001b[0m \u001b[39m# print(self.prep_pipeline.tf_prob_sample)\u001b[39;00m\n\u001b[1;32m    119\u001b[0m \u001b[39mif\u001b[39;00m \u001b[39mself\u001b[39m\u001b[39m.\u001b[39mwriter \u001b[39mis\u001b[39;00m \u001b[39mnot\u001b[39;00m \u001b[39mNone\u001b[39;00m:\n",
      "File \u001b[0;32m~/Desktop/Projects/HILDA/DiffPrep_transfer/trainer/diffprep_trainer.py:205\u001b[0m, in \u001b[0;36mDiffPrepSGD.train\u001b[0;34m(self, X_train, y_train, X_val, y_val)\u001b[0m\n\u001b[1;32m    201\u001b[0m     \u001b[39mself\u001b[39m\u001b[39m.\u001b[39mprep_pipeline\u001b[39m.\u001b[39mfit(X_train_batch)\n\u001b[1;32m    202\u001b[0m \u001b[39m# self.update_prep_pipeline(\u001b[39;00m\n\u001b[1;32m    203\u001b[0m \u001b[39m#     X_train_batch, y_train_batch, X_val_batch, y_val_batch\u001b[39;00m\n\u001b[1;32m    204\u001b[0m \u001b[39m# )\u001b[39;00m\n\u001b[0;32m--> 205\u001b[0m \u001b[39mself\u001b[39;49m\u001b[39m.\u001b[39;49mprep_pipeline\u001b[39m.\u001b[39;49mfit(X_train_batch)\n\u001b[1;32m    207\u001b[0m tr_correct \u001b[39m=\u001b[39m \u001b[39m0\u001b[39m\n\u001b[1;32m    208\u001b[0m tr_loss \u001b[39m=\u001b[39m \u001b[39m0\u001b[39m\n",
      "File \u001b[0;32m~/Desktop/Projects/HILDA/DiffPrep_transfer/pipeline/diffprep_fix_pipeline.py:528\u001b[0m, in \u001b[0;36mDiffPrepFixPipeline.fit\u001b[0;34m(self, X)\u001b[0m\n\u001b[1;32m    526\u001b[0m \u001b[39mdef\u001b[39;00m \u001b[39mfit\u001b[39m(\u001b[39mself\u001b[39m, X):\n\u001b[1;32m    527\u001b[0m     \u001b[39mself\u001b[39m\u001b[39m.\u001b[39mis_fitted \u001b[39m=\u001b[39m \u001b[39mTrue\u001b[39;00m\n\u001b[0;32m--> 528\u001b[0m     \u001b[39mreturn\u001b[39;00m \u001b[39mself\u001b[39;49m\u001b[39m.\u001b[39;49mforward(X, is_fit\u001b[39m=\u001b[39;49m\u001b[39mTrue\u001b[39;49;00m, X_type\u001b[39m=\u001b[39;49m\u001b[39m\"\u001b[39;49m\u001b[39mtrain\u001b[39;49m\u001b[39m\"\u001b[39;49m, resample\u001b[39m=\u001b[39;49m\u001b[39mTrue\u001b[39;49;00m)\n",
      "File \u001b[0;32m~/Desktop/Projects/HILDA/DiffPrep_transfer/pipeline/diffprep_fix_pipeline.py:520\u001b[0m, in \u001b[0;36mDiffPrepFixPipeline.forward\u001b[0;34m(self, X, is_fit, X_type, resample, max_only, require_grad)\u001b[0m\n\u001b[1;32m    515\u001b[0m         transformer\u001b[39m.\u001b[39msample(\n\u001b[1;32m    516\u001b[0m             temperature\u001b[39m=\u001b[39m\u001b[39mself\u001b[39m\u001b[39m.\u001b[39mtemperature, use_sample\u001b[39m=\u001b[39m\u001b[39mself\u001b[39m\u001b[39m.\u001b[39muse_sample\n\u001b[1;32m    517\u001b[0m         )\n\u001b[1;32m    519\u001b[0m     \u001b[39m# forward\u001b[39;00m\n\u001b[0;32m--> 520\u001b[0m     X_output \u001b[39m=\u001b[39m transformer(\n\u001b[1;32m    521\u001b[0m         X_output, is_fit, X_type, max_only\u001b[39m=\u001b[39;49mmax_only, require_grad\u001b[39m=\u001b[39;49mrequire_grad\n\u001b[1;32m    522\u001b[0m     )\n\u001b[1;32m    523\u001b[0m     \u001b[39m# print(X_output)\u001b[39;00m\n\u001b[1;32m    524\u001b[0m \u001b[39mreturn\u001b[39;00m X_output\n",
      "File \u001b[0;32m~/miniconda3/envs/diffprep/lib/python3.9/site-packages/torch/nn/modules/module.py:1051\u001b[0m, in \u001b[0;36mModule._call_impl\u001b[0;34m(self, *input, **kwargs)\u001b[0m\n\u001b[1;32m   1047\u001b[0m \u001b[39m# If we don't have any hooks, we want to skip the rest of the logic in\u001b[39;00m\n\u001b[1;32m   1048\u001b[0m \u001b[39m# this function, and just call forward.\u001b[39;00m\n\u001b[1;32m   1049\u001b[0m \u001b[39mif\u001b[39;00m \u001b[39mnot\u001b[39;00m (\u001b[39mself\u001b[39m\u001b[39m.\u001b[39m_backward_hooks \u001b[39mor\u001b[39;00m \u001b[39mself\u001b[39m\u001b[39m.\u001b[39m_forward_hooks \u001b[39mor\u001b[39;00m \u001b[39mself\u001b[39m\u001b[39m.\u001b[39m_forward_pre_hooks \u001b[39mor\u001b[39;00m _global_backward_hooks\n\u001b[1;32m   1050\u001b[0m         \u001b[39mor\u001b[39;00m _global_forward_hooks \u001b[39mor\u001b[39;00m _global_forward_pre_hooks):\n\u001b[0;32m-> 1051\u001b[0m     \u001b[39mreturn\u001b[39;00m forward_call(\u001b[39m*\u001b[39;49m\u001b[39minput\u001b[39;49m, \u001b[39m*\u001b[39;49m\u001b[39m*\u001b[39;49mkwargs)\n\u001b[1;32m   1052\u001b[0m \u001b[39m# Do not call functions when jit is used\u001b[39;00m\n\u001b[1;32m   1053\u001b[0m full_backward_hooks, non_full_backward_hooks \u001b[39m=\u001b[39m [], []\n",
      "File \u001b[0;32m~/Desktop/Projects/HILDA/DiffPrep_transfer/pipeline/diffprep_fix_pipeline.py:76\u001b[0m, in \u001b[0;36mTransformer.forward\u001b[0;34m(self, X, is_fit, X_type, max_only, require_grad)\u001b[0m\n\u001b[1;32m     74\u001b[0m \u001b[39mfor\u001b[39;00m tf \u001b[39min\u001b[39;00m \u001b[39mself\u001b[39m\u001b[39m.\u001b[39mtf_options:\n\u001b[1;32m     75\u001b[0m     \u001b[39mif\u001b[39;00m is_fit:\n\u001b[0;32m---> 76\u001b[0m         X_t \u001b[39m=\u001b[39m tf\u001b[39m.\u001b[39;49mfit_transform(\n\u001b[1;32m     77\u001b[0m             X\u001b[39m.\u001b[39;49mdetach()\u001b[39m.\u001b[39;49mnumpy()\n\u001b[1;32m     78\u001b[0m         )  \u001b[39m# transformer sample change, X_output change\u001b[39;00m\n\u001b[1;32m     79\u001b[0m     \u001b[39melse\u001b[39;00m:\n\u001b[1;32m     80\u001b[0m         X_t \u001b[39m=\u001b[39m tf\u001b[39m.\u001b[39mtransform(X\u001b[39m.\u001b[39mdetach()\u001b[39m.\u001b[39mnumpy())\n",
      "File \u001b[0;32m~/Desktop/Projects/HILDA/DiffPrep_transfer/TFs/outlier_cleaner.py:121\u001b[0m, in \u001b[0;36mOutlierCleaner.fit_transform\u001b[0;34m(self, X)\u001b[0m\n\u001b[1;32m    120\u001b[0m \u001b[39mdef\u001b[39;00m \u001b[39mfit_transform\u001b[39m(\u001b[39mself\u001b[39m, X):\n\u001b[0;32m--> 121\u001b[0m     \u001b[39mself\u001b[39;49m\u001b[39m.\u001b[39;49mfit(X)\n\u001b[1;32m    122\u001b[0m     X_trans \u001b[39m=\u001b[39m \u001b[39mself\u001b[39m\u001b[39m.\u001b[39mtransform(X)\n\u001b[1;32m    123\u001b[0m     \u001b[39mreturn\u001b[39;00m X_trans\n",
      "File \u001b[0;32m~/Desktop/Projects/HILDA/DiffPrep_transfer/TFs/outlier_cleaner.py:107\u001b[0m, in \u001b[0;36mOutlierCleaner.fit\u001b[0;34m(self, X)\u001b[0m\n\u001b[1;32m    106\u001b[0m \u001b[39mdef\u001b[39;00m \u001b[39mfit\u001b[39m(\u001b[39mself\u001b[39m, X):\n\u001b[0;32m--> 107\u001b[0m     \u001b[39mself\u001b[39;49m\u001b[39m.\u001b[39;49mdetector\u001b[39m.\u001b[39;49mfit(X)\n\u001b[1;32m    108\u001b[0m     indicator \u001b[39m=\u001b[39m \u001b[39mself\u001b[39m\u001b[39m.\u001b[39mdetector\u001b[39m.\u001b[39mdetect(X)\n\u001b[1;32m    109\u001b[0m     X_clean \u001b[39m=\u001b[39m deepcopy(X)\n",
      "File \u001b[0;32m~/Desktop/Projects/HILDA/DiffPrep_transfer/TFs/outlier_cleaner.py:60\u001b[0m, in \u001b[0;36mMADOutlierDetector.fit\u001b[0;34m(self, X)\u001b[0m\n\u001b[1;32m     58\u001b[0m \u001b[39mdef\u001b[39;00m \u001b[39mfit\u001b[39m(\u001b[39mself\u001b[39m, X):\n\u001b[1;32m     59\u001b[0m     median \u001b[39m=\u001b[39m np\u001b[39m.\u001b[39mmedian(X, axis\u001b[39m=\u001b[39m\u001b[39m0\u001b[39m, keepdims\u001b[39m=\u001b[39m\u001b[39mTrue\u001b[39;00m)\n\u001b[0;32m---> 60\u001b[0m     mad \u001b[39m=\u001b[39m np\u001b[39m.\u001b[39;49mmedian(np\u001b[39m.\u001b[39;49mabs(X \u001b[39m-\u001b[39;49m median), axis\u001b[39m=\u001b[39;49m\u001b[39m0\u001b[39;49m, keepdims\u001b[39m=\u001b[39;49m\u001b[39mTrue\u001b[39;49;00m)\n\u001b[1;32m     62\u001b[0m     \u001b[39mself\u001b[39m\u001b[39m.\u001b[39mlower \u001b[39m=\u001b[39m median \u001b[39m-\u001b[39m \u001b[39mself\u001b[39m\u001b[39m.\u001b[39mnmad \u001b[39m*\u001b[39m mad\n\u001b[1;32m     63\u001b[0m     \u001b[39mself\u001b[39m\u001b[39m.\u001b[39mupper \u001b[39m=\u001b[39m median \u001b[39m+\u001b[39m \u001b[39mself\u001b[39m\u001b[39m.\u001b[39mnmad \u001b[39m*\u001b[39m mad\n",
      "File \u001b[0;32m<__array_function__ internals>:200\u001b[0m, in \u001b[0;36mmedian\u001b[0;34m(*args, **kwargs)\u001b[0m\n",
      "File \u001b[0;32m~/miniconda3/envs/diffprep/lib/python3.9/site-packages/numpy/lib/function_base.py:3856\u001b[0m, in \u001b[0;36mmedian\u001b[0;34m(a, axis, out, overwrite_input, keepdims)\u001b[0m\n\u001b[1;32m   3774\u001b[0m \u001b[39m@array_function_dispatch\u001b[39m(_median_dispatcher)\n\u001b[1;32m   3775\u001b[0m \u001b[39mdef\u001b[39;00m \u001b[39mmedian\u001b[39m(a, axis\u001b[39m=\u001b[39m\u001b[39mNone\u001b[39;00m, out\u001b[39m=\u001b[39m\u001b[39mNone\u001b[39;00m, overwrite_input\u001b[39m=\u001b[39m\u001b[39mFalse\u001b[39;00m, keepdims\u001b[39m=\u001b[39m\u001b[39mFalse\u001b[39;00m):\n\u001b[1;32m   3776\u001b[0m \u001b[39m    \u001b[39m\u001b[39m\"\"\"\u001b[39;00m\n\u001b[1;32m   3777\u001b[0m \u001b[39m    Compute the median along the specified axis.\u001b[39;00m\n\u001b[1;32m   3778\u001b[0m \n\u001b[0;32m   (...)\u001b[0m\n\u001b[1;32m   3854\u001b[0m \n\u001b[1;32m   3855\u001b[0m \u001b[39m    \"\"\"\u001b[39;00m\n\u001b[0;32m-> 3856\u001b[0m     \u001b[39mreturn\u001b[39;00m _ureduce(a, func\u001b[39m=\u001b[39;49m_median, keepdims\u001b[39m=\u001b[39;49mkeepdims, axis\u001b[39m=\u001b[39;49maxis, out\u001b[39m=\u001b[39;49mout,\n\u001b[1;32m   3857\u001b[0m                     overwrite_input\u001b[39m=\u001b[39;49moverwrite_input)\n",
      "File \u001b[0;32m~/miniconda3/envs/diffprep/lib/python3.9/site-packages/numpy/lib/function_base.py:3752\u001b[0m, in \u001b[0;36m_ureduce\u001b[0;34m(a, func, keepdims, **kwargs)\u001b[0m\n\u001b[1;32m   3749\u001b[0m             index_out \u001b[39m=\u001b[39m (\u001b[39m0\u001b[39m, ) \u001b[39m*\u001b[39m nd\n\u001b[1;32m   3750\u001b[0m             kwargs[\u001b[39m'\u001b[39m\u001b[39mout\u001b[39m\u001b[39m'\u001b[39m] \u001b[39m=\u001b[39m out[(\u001b[39mEllipsis\u001b[39m, ) \u001b[39m+\u001b[39m index_out]\n\u001b[0;32m-> 3752\u001b[0m r \u001b[39m=\u001b[39m func(a, \u001b[39m*\u001b[39;49m\u001b[39m*\u001b[39;49mkwargs)\n\u001b[1;32m   3754\u001b[0m \u001b[39mif\u001b[39;00m out \u001b[39mis\u001b[39;00m \u001b[39mnot\u001b[39;00m \u001b[39mNone\u001b[39;00m:\n\u001b[1;32m   3755\u001b[0m     \u001b[39mreturn\u001b[39;00m out\n",
      "File \u001b[0;32m~/miniconda3/envs/diffprep/lib/python3.9/site-packages/numpy/lib/function_base.py:3887\u001b[0m, in \u001b[0;36m_median\u001b[0;34m(a, axis, out, overwrite_input)\u001b[0m\n\u001b[1;32m   3885\u001b[0m         part \u001b[39m=\u001b[39m a\n\u001b[1;32m   3886\u001b[0m \u001b[39melse\u001b[39;00m:\n\u001b[0;32m-> 3887\u001b[0m     part \u001b[39m=\u001b[39m partition(a, kth, axis\u001b[39m=\u001b[39;49maxis)\n\u001b[1;32m   3889\u001b[0m \u001b[39mif\u001b[39;00m part\u001b[39m.\u001b[39mshape \u001b[39m==\u001b[39m ():\n\u001b[1;32m   3890\u001b[0m     \u001b[39m# make 0-D arrays work\u001b[39;00m\n\u001b[1;32m   3891\u001b[0m     \u001b[39mreturn\u001b[39;00m part\u001b[39m.\u001b[39mitem()\n",
      "File \u001b[0;32m<__array_function__ internals>:200\u001b[0m, in \u001b[0;36mpartition\u001b[0;34m(*args, **kwargs)\u001b[0m\n",
      "File \u001b[0;32m~/miniconda3/envs/diffprep/lib/python3.9/site-packages/numpy/core/fromnumeric.py:784\u001b[0m, in \u001b[0;36mpartition\u001b[0;34m(a, kth, axis, kind, order)\u001b[0m\n\u001b[1;32m    782\u001b[0m \u001b[39melse\u001b[39;00m:\n\u001b[1;32m    783\u001b[0m     a \u001b[39m=\u001b[39m asanyarray(a)\u001b[39m.\u001b[39mcopy(order\u001b[39m=\u001b[39m\u001b[39m\"\u001b[39m\u001b[39mK\u001b[39m\u001b[39m\"\u001b[39m)\n\u001b[0;32m--> 784\u001b[0m a\u001b[39m.\u001b[39;49mpartition(kth, axis\u001b[39m=\u001b[39;49maxis, kind\u001b[39m=\u001b[39;49mkind, order\u001b[39m=\u001b[39;49morder)\n\u001b[1;32m    785\u001b[0m \u001b[39mreturn\u001b[39;00m a\n",
      "\u001b[0;31mKeyboardInterrupt\u001b[0m: "
     ]
    }
   ],
   "source": [
    "for sim in np.arange(0, 1, 0.1):\n",
    "    print(sim)\n",
    "    params[\"similarity_threshold\"] = round(sim, 2)\n",
    "    result_dir = utils.makedir([\"result\", params[\"method\"], dataset, f'{LABEL}_transferred_{round(params[\"similarity_threshold\"], 2)}'])\n",
    "\n",
    "    prep_pipeline_path = f'./result/diffprep_fix/{dataset}/{LABEL}_ground_truth/prep_pipeline.pth'\n",
    "\n",
    "    if params[\"method\"] in [\"diffprep_fix\", \"diffprep_flex\"]:\n",
    "        best_result, best_model, best_logger, best_params = run_diffprep(DATADIR, dataset, result_dir, space, params, params[\"model\"], params[\"method\"], prep_pipeline_path)\n",
    "    else:\n",
    "        best_result, best_model, best_logger, best_params = run_baseline(DATADIR, dataset, result_dir, space, params, params[\"model\"], params[\"method\"], prep_pipeline_path)"
   ]
  },
  {
   "cell_type": "code",
   "execution_count": 7,
   "metadata": {},
   "outputs": [],
   "source": [
    "import json\n",
    "\n",
    "sims = list(np.arange(0, 1, 0.1))\n",
    "original_test_accs = []\n",
    "transferred_test_accs = []\n",
    "\n",
    "for sim_ in sims:\n",
    "    sim = round(sim_, 2)\n",
    "    original_result_path = f'./result/diffprep_fix/{dataset}/{LABEL}_{sim}/result.json'\n",
    "    transferred_result_path = f'./result/diffprep_fix/{dataset}/{LABEL}_transferred_{sim}/result.json'\n",
    "    original_results = json.loads(open(original_result_path, \"r\").read()) \n",
    "    transferred_results = json.loads(open(transferred_result_path, \"r\").read()) \n",
    "\n",
    "    original_test_accs.append(original_results['best_test_acc'])\n",
    "    transferred_test_accs.append(transferred_results['best_test_acc'])\n",
    "\n",
    "original_test_accs = np.array(original_test_accs)\n",
    "transferred_test_accs = np.array(transferred_test_accs)"
   ]
  },
  {
   "cell_type": "code",
   "execution_count": 8,
   "metadata": {},
   "outputs": [],
   "source": [
    "import matplotlib.pyplot as plt"
   ]
  },
  {
   "cell_type": "code",
   "execution_count": 9,
   "metadata": {},
   "outputs": [],
   "source": [
    "# plt.plot(sims, original_test_accs - transferred_test_accs, label='diff')\n",
    "# plt.legend()"
   ]
  },
  {
   "cell_type": "code",
   "execution_count": 11,
   "metadata": {},
   "outputs": [
    {
     "data": {
      "image/png": "[encoded data removed]",
      "text/plain": [
       "<Figure size 640x480 with 1 Axes>"
      ]
     },
     "metadata": {},
     "output_type": "display_data"
    }
   ],
   "source": [
    "plt.plot(sims, original_test_accs, label='Fresh Cleaning', marker='o', alpha=0.8, linestyle='dashed')\n",
    "plt.plot(sims, transferred_test_accs, label='Transferred', marker='o', alpha=0.8, linestyle='dashed')\n",
    "\n",
    "plt.xticks(np.arange(0, 1, 0.1))\n",
    "plt.yticks(np.arange(0.4, 1, 0.1))\n",
    "\n",
    "plt.xlabel(\"Task Similarity\")\n",
    "plt.ylabel(\"Test Accuracy\")\n",
    "\n",
    "plt.grid(alpha=0.3)\n",
    "plt.legend()\n",
    "plt.title(\"Cleaning Pipeline Transfer vs. Fresh Cleaning (Airbnb Rating Prediction)\")\n",
    "\n",
    "plt.savefig('plots/airbnb_transfer.png', dpi=300)"
   ]
  },
  {
   "cell_type": "code",
   "execution_count": 26,
   "metadata": {},
   "outputs": [
    {
     "data": {
      "text/plain": [
       "array([0.45833333, 0.48666667, 0.52166667, 0.495     , 0.60166667,\n",
       "       0.58      , 0.58666667, 0.64833333, 0.67666667, 0.66166667])"
      ]
     },
     "execution_count": 26,
     "metadata": {},
     "output_type": "execute_result"
    }
   ],
   "source": [
    "original_test_accs"
   ]
  },
  {
   "cell_type": "code",
   "execution_count": 27,
   "metadata": {},
   "outputs": [
    {
     "data": {
      "text/plain": [
       "0.866666666666665"
      ]
     },
     "execution_count": 27,
     "metadata": {},
     "output_type": "execute_result"
    }
   ],
   "source": [
    "np.abs(original_test_accs - transferred_test_accs).mean() * 100"
   ]
  },
  {
   "cell_type": "code",
   "execution_count": 44,
   "metadata": {},
   "outputs": [],
   "source": [
    "#rating_pipeline = load_prep_pipeline(prep_pipeline_price_path, prep_space=space, params=params, data_dir=DATADIR, dataset=dataset)"
   ]
  },
  {
   "cell_type": "code",
   "execution_count": 70,
   "metadata": {},
   "outputs": [],
   "source": [
    "size = 1800\n",
    "\n",
    "prep_pipeline = load_prep_pipeline(f'./result/diffprep_fix/{dataset}/{LABEL}_ground_truth/prep_pipeline.pth', space, params, DATADIR, dataset)\n",
    "task_df = pd.read_csv(f'./data/{dataset}/data.csv')\n",
    "X_clean = prep_pipeline(task_df.drop([LABEL], axis=1).iloc[:size, :], is_fit=True, X_type=\"train\").detach().numpy()\n",
    "y_label = (task_df[LABEL].values == 'Y').astype(int)\n",
    "preprocessed_df = pd.DataFrame(X_clean)\n",
    "preprocessed_df['label'] = y_label[:size]\n",
    "preprocessed_df.to_csv(f'./airbnb_transfer/cleaned_data_{dataset}_ground_truth.csv', index=False)"
   ]
  },
  {
   "cell_type": "code",
   "execution_count": 67,
   "metadata": {},
   "outputs": [],
   "source": [
    "size = 1800\n",
    "task_df = pd.read_csv(f'./data/{dataset}/data.csv')\n",
    "\n",
    "for sim_ in np.arange(0, 1, 0.1):\n",
    "    sim = round(sim_, 2)\n",
    "\n",
    "    prep_pipeline = load_prep_pipeline(f'./result/diffprep_fix/{dataset}/{LABEL}_{sim}/prep_pipeline.pth', space, params, DATADIR, dataset)\n",
    "    X_clean = prep_pipeline(task_df.drop([LABEL], axis=1).iloc[:size, :], is_fit=True, X_type=\"train\").detach().numpy()\n",
    "\n",
    "    label_path = f'./result/diffprep_fix/{dataset}/{LABEL}_{sim}/label.csv'\n",
    "    labels_sim = pd.read_csv(label_path)\n",
    "    preprocessed_df = pd.DataFrame(X_clean)\n",
    "    preprocessed_df['label'] = (labels_sim['label'] == 'Y').astype(int)\n",
    "    preprocessed_df.to_csv(f'./airbnb_transfer/cleaned_data_{dataset}_with_sim_{sim}.csv', index=False)"
   ]
  },
  {
   "cell_type": "code",
   "execution_count": 65,
   "metadata": {},
   "outputs": [],
   "source": [
    "# size = 1800\n",
    "# prep_pipeline = load_prep_pipeline(f'./result/diffprep_fix/{dataset}/{LABEL}_ground_truth/prep_pipeline.pth', space, params, DATADIR, dataset)\n",
    "# task_df = pd.read_csv(f'./data/{dataset}/data.csv')\n",
    "# X_clean = prep_pipeline(task_df.drop([LABEL], axis=1).iloc[:size, :], is_fit=True, X_type=\"train\").detach().numpy()\n",
    "# y_label = (task_df[LABEL].values == 'Y').astype(int)\n",
    "\n",
    "# preprocessed_df = pd.DataFrame(X_clean)\n",
    "# preprocessed_df['label_ground_truth'] = y_label[:size]\n",
    "\n",
    "# for sim_ in np.arange(0, 1, 0.1):\n",
    "#     sim = round(sim_, 2)\n",
    "#     label_path = f'./result/diffprep_fix/{dataset}/{LABEL}_{sim}/label.csv'\n",
    "#     labels_sim = pd.read_csv(label_path)\n",
    "#     preprocessed_df[f'label_sim_{sim}'] = (labels_sim['label'] == 'Y').astype(int)\n",
    "\n",
    "\n",
    "# preprocessed_df.to_csv(f'cleaned_data_{dataset}_with_sim_labels.csv', index=False)"
   ]
  }
 ],
 "metadata": {
  "kernelspec": {
   "display_name": "diffprep",
   "language": "python",
   "name": "python3"
  },
  "language_info": {
   "codemirror_mode": {
    "name": "ipython",
    "version": 3
   },
   "file_extension": ".py",
   "mimetype": "text/x-python",
   "name": "python",
   "nbconvert_exporter": "python",
   "pygments_lexer": "ipython3",
   "version": "3.9.7"
  },
  "orig_nbformat": 4
 },
 "nbformat": 4,
 "nbformat_minor": 2
}
