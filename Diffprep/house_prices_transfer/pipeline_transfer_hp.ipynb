{
 "cells": [
  {
   "cell_type": "code",
   "execution_count": 7,
   "metadata": {},
   "outputs": [],
   "source": [
    "import numpy as np\n",
    "import pandas as pd\n",
    "import utils\n",
    "from experiment.experiment_utils import set_random_seed, load_data, build_data, grid_search, makedir, save_result, load_data_multitask, load_data_multitask_synthetic_label, load_task_label\n",
    "from model import LogisticRegression\n",
    "from pipeline.diffprep_flex_pipeline import DiffPrepFlexPipeline\n",
    "from pipeline.diffprep_fix_pipeline import DiffPrepFixPipeline\n",
    "import torch\n",
    "import torch.nn as nn\n",
    "from trainer.diffprep_trainer import DiffPrepSGD\n",
    "from utils import SummaryWriter\n",
    "from experiment.experiment_utils import min_max_normalize\n",
    "from copy import deepcopy"
   ]
  },
  {
   "cell_type": "code",
   "execution_count": 17,
   "metadata": {},
   "outputs": [],
   "source": [
    "LABEL = 'price'#'SalePrice>150k'"
   ]
  },
  {
   "cell_type": "code",
   "execution_count": 9,
   "metadata": {},
   "outputs": [],
   "source": [
    "def load_prep_pipeline(path, prep_space, params, data_dir, dataset):\n",
    "\n",
    "    X, y = load_data_multitask(data_dir, dataset)\n",
    "    X_train, y_train, X_val, y_val, X_test, y_test = build_data(X, y, random_state=params[\"split_seed\"])\n",
    "\n",
    "    prep_pipeline = DiffPrepFixPipeline(prep_space, temperature=params[\"temperature\"],\n",
    "                                use_sample=params[\"sample\"],\n",
    "                                diff_method=params[\"diff_method\"],\n",
    "                                init_method=params[\"init_method\"])\n",
    "    prep_pipeline.init_parameters(X_train, X_val, X_test)\n",
    "    prep_pipeline.load_state_dict(torch.load(path))\n",
    "    # prep_pipeline.is_fitted = True\n",
    "    # prep_pipeline.fit(X_train)\n",
    "    #prep_pipeline.eval()\n",
    "\n",
    "    return prep_pipeline"
   ]
  },
  {
   "cell_type": "code",
   "execution_count": 10,
   "metadata": {},
   "outputs": [],
   "source": [
    "class DiffPrepExperiment(object):\n",
    "    \"\"\"Run auto prep with one set of hyper parameters\"\"\"\n",
    "    def __init__(self, data_dir, dataset, prep_space, model_name, method, similarity_threshold, fixed_pipeline_path=None):\n",
    "        self.data_dir = data_dir\n",
    "        self.dataset = dataset\n",
    "        self.prep_space = prep_space\n",
    "        self.model_name = model_name\n",
    "        self.method = method\n",
    "        self.similarity_threshold = similarity_threshold\n",
    "        self.fixed_pipeline_path = fixed_pipeline_path\n",
    "\n",
    "    def run(self, params, verbose=True):        \n",
    "        X, y = load_data_multitask_synthetic_label(self.data_dir, self.dataset, similarity_threshold=self.similarity_threshold)\n",
    "        # override the label\n",
    "        y = load_task_label(f'result/diffprep_fix/{self.dataset}/{LABEL}_{self.similarity_threshold}')\n",
    "        #X, y = load_data_multitask(self.data_dir, self.dataset)\n",
    "        X_train, y_train, X_val, y_val, X_test, y_test = build_data(X, y, random_state=params[\"split_seed\"])\n",
    "        \n",
    "        print(\"Dataset shapes: \", X_train.shape, y_train.shape, X_val.shape, y_val.shape, X_test.shape, y_test.shape)\n",
    "\n",
    "        # pre norm for diffprep flex\n",
    "        if self.method == \"diffprep_flex\":\n",
    "            X_train, X_val, X_test = min_max_normalize(X_train, X_val, X_test)\n",
    "            params[\"patience\"] = 10\n",
    "            params[\"num_epochs\"] = 3000\n",
    "\n",
    "        # set random seed\n",
    "        set_random_seed(params)\n",
    "        ## transform pipeline\n",
    "        # define and fit first step\n",
    "        if self.fixed_pipeline_path:\n",
    "            #prep_pipeline = self.fixed_pipeline\n",
    "            prep_pipeline = DiffPrepFixPipeline(self.prep_space, temperature=params[\"temperature\"],\n",
    "                                use_sample=False,\n",
    "                                diff_method=params[\"diff_method\"],\n",
    "                                init_method=params[\"init_method\"])\n",
    "            prep_pipeline.init_parameters(X_train, X_val, X_test)\n",
    "            prep_pipeline.load_state_dict(torch.load(self.fixed_pipeline_path))\n",
    "            prep_pipeline.fit(X_train)\n",
    "            prep_pipeline.is_fitted = True\n",
    "\n",
    "        elif self.method == \"diffprep_fix\":\n",
    "            prep_pipeline = DiffPrepFixPipeline(self.prep_space, temperature=params[\"temperature\"],\n",
    "                                             use_sample=params[\"sample\"],\n",
    "                                             diff_method=params[\"diff_method\"],\n",
    "                                             init_method=params[\"init_method\"])\n",
    "            prep_pipeline.init_parameters(X_train, X_val, X_test)\n",
    "        elif self.method == \"diffprep_flex\":\n",
    "            prep_pipeline = DiffPrepFlexPipeline(self.prep_space, temperature=params[\"temperature\"],\n",
    "                            use_sample=params[\"sample\"],\n",
    "                            diff_method=params[\"diff_method\"],\n",
    "                            init_method=params[\"init_method\"])\n",
    "            prep_pipeline.init_parameters(X_train, X_val, X_test)\n",
    "        else:\n",
    "            raise Exception(\"Wrong auto prep method\")\n",
    "\n",
    "        #prep_pipeline.init_parameters(X_train, X_val, X_test)\n",
    "        print(\"Train size: ({}, {})\".format(X_train.shape[0], prep_pipeline.out_features))\n",
    "\n",
    "        # model\n",
    "        input_dim = prep_pipeline.out_features\n",
    "        output_dim = len(set(y.values.ravel()))\n",
    "\n",
    "        # model = TwoLayerNet(input_dim, output_dim)\n",
    "        set_random_seed(params)\n",
    "        if self.model_name == \"log\":\n",
    "            model = LogisticRegression(input_dim, output_dim)\n",
    "        else:\n",
    "            raise Exception(\"Wrong model\")\n",
    "\n",
    "        model = model.to(params[\"device\"])\n",
    "\n",
    "        # loss\n",
    "        loss_fn = nn.CrossEntropyLoss()\n",
    "\n",
    "        # optimizer\n",
    "        model_optimizer = torch.optim.SGD(\n",
    "            model.parameters(),\n",
    "            lr=params[\"model_lr\"],\n",
    "            weight_decay=params[\"weight_decay\"],\n",
    "            momentum=params[\"momentum\"]\n",
    "        )\n",
    "        \n",
    "        if params[\"prep_lr\"] is None:\n",
    "            prep_lr = params[\"model_lr\"]\n",
    "        else:\n",
    "            prep_lr = params[\"prep_lr\"]\n",
    "    \n",
    "        prep_pipeline_optimizer = None\n",
    "        # torch.optim.Adam(\n",
    "        #     prep_pipeline.parameters(),\n",
    "        #     lr=prep_lr,\n",
    "        #     betas=(0.5, 0.999),\n",
    "        #     weight_decay=params[\"weight_decay\"]\n",
    "        # )\n",
    "\n",
    "        # scheduler\n",
    "        # model_scheduler = torch.optim.lr_scheduler.ReduceLROnPlateau(model_optimizer, patience=patience, factor=0.1, threshold=0.001)\n",
    "        prep_pipeline_scheduler = None\n",
    "        model_scheduler = None\n",
    "\n",
    "        if params[\"logging\"]:\n",
    "            logger = SummaryWriter()\n",
    "        else:\n",
    "            logger = None\n",
    "\n",
    "        diff_prep = DiffPrepSGD(prep_pipeline, model, loss_fn, model_optimizer, prep_pipeline_optimizer,\n",
    "                    model_scheduler, prep_pipeline_scheduler, params, writer=logger, train_pipeline=False)\n",
    "\n",
    "        result, best_model = diff_prep.fit(X_train, y_train, X_val, y_val, X_test, y_test)\n",
    "        return result, best_model, logger"
   ]
  },
  {
   "cell_type": "code",
   "execution_count": 11,
   "metadata": {},
   "outputs": [],
   "source": [
    "def run_diffprep(data_dir, dataset, result_dir, prep_space, params, model_name, method, prep_pipeline_path):\n",
    "    print(\"Dataset:\", dataset, \"Diff Method:\", params[\"diff_method\"], method)\n",
    "\n",
    "    diff_prep_exp = DiffPrepExperiment(data_dir, dataset, prep_space, model_name, method, similarity_threshold=params[\"similarity_threshold\"], fixed_pipeline_path=prep_pipeline_path)\n",
    "    best_result, best_model, best_logger, best_params = grid_search(diff_prep_exp, deepcopy(params))\n",
    "    save_result(best_result, best_model, best_logger, best_params, result_dir, save_model=True)\n",
    "    print(\"DiffPrep Finished. val acc:\", best_result[\"best_val_acc\"], \"test acc\", best_result[\"best_test_acc\"])\n",
    "    return best_result, best_model, best_logger, best_params"
   ]
  },
  {
   "cell_type": "code",
   "execution_count": 12,
   "metadata": {},
   "outputs": [
    {
     "name": "stdout",
     "output_type": "stream",
     "text": [
      "Run diffprep_fix on dataset house_prices\n"
     ]
    }
   ],
   "source": [
    "import utils\n",
    "from prep_space import space\n",
    "from experiment.baseline_experiment import run_baseline\n",
    "import os\n",
    "\n",
    "# define hyper parameters\n",
    "params = {\n",
    "    \"num_epochs\": 2000,\n",
    "    \"batch_size\": 512,\n",
    "    \"device\": \"cpu\",\n",
    "    #\"model_lr\": [0.1, 0.01, 0.001],\n",
    "    \"model_lr\": 0.01,\n",
    "    \"weight_decay\": 0,\n",
    "    \"model\": 'log',\n",
    "    \"train_seed\": 1,\n",
    "    \"split_seed\": 1,\n",
    "    \"method\": \"diffprep_fix\",\n",
    "    \"save_model\": True,\n",
    "    \"logging\": False,\n",
    "    \"no_crash\": False,\n",
    "    \"patience\": 3,\n",
    "    \"momentum\": 0.9\n",
    "}\n",
    "\n",
    "auto_prep_params = {\n",
    "    \"prep_lr\": None,\n",
    "    \"temperature\": 0.1,\n",
    "    \"grad_clip\": None,\n",
    "    \"pipeline_update_sample_size\": 512,\n",
    "    \"init_method\": \"default\",\n",
    "    \"diff_method\": \"num_diff\",\n",
    "    \"sample\": False\n",
    "}\n",
    "\n",
    "DATADIR = \"data\"\n",
    "\n",
    "params.update(auto_prep_params)\n",
    "\n",
    "datasets = sorted(os.listdir(DATADIR))\n",
    "dataset = \"house_prices\"\n",
    "\n",
    "print(\"Run {} on dataset {}\".format(params[\"method\"], dataset))"
   ]
  },
  {
   "cell_type": "code",
   "execution_count": 15,
   "metadata": {},
   "outputs": [
    {
     "name": "stdout",
     "output_type": "stream",
     "text": [
      "0.0\n",
      "Dataset: house_prices Diff Method: num_diff diffprep_fix\n",
      "Model lr 0.01\n",
      "Dataset shapes:  (876, 80) torch.Size([876]) (292, 80) torch.Size([292]) (292, 80) torch.Size([292])\n",
      "Train size: (876, 295)\n"
     ]
    },
    {
     "name": "stderr",
     "output_type": "stream",
     "text": [
      " 15%|█▌        | 300/2000 [00:49<04:43,  6.00it/s, next_eval_time=17s, tr_loss=2.17, val_loss=2.9]  \n"
     ]
    },
    {
     "name": "stdout",
     "output_type": "stream",
     "text": [
      "DiffPrep Finished. val acc: 0.5068493150684932 test acc 0.5102739726027398\n",
      "0.1\n",
      "Dataset: house_prices Diff Method: num_diff diffprep_fix\n",
      "Model lr 0.01\n",
      "Dataset shapes:  (876, 80) torch.Size([876]) (292, 80) torch.Size([292]) (292, 80) torch.Size([292])\n",
      "Train size: (876, 295)\n"
     ]
    },
    {
     "name": "stderr",
     "output_type": "stream",
     "text": [
      " 20%|██        | 400/2000 [01:06<04:27,  5.99it/s, next_eval_time=16s, tr_loss=1.01, val_loss=2.39] \n"
     ]
    },
    {
     "name": "stdout",
     "output_type": "stream",
     "text": [
      "DiffPrep Finished. val acc: 0.5376712328767124 test acc 0.4794520547945205\n",
      "0.2\n",
      "Dataset: house_prices Diff Method: num_diff diffprep_fix\n",
      "Model lr 0.01\n",
      "Dataset shapes:  (876, 80) torch.Size([876]) (292, 80) torch.Size([292]) (292, 80) torch.Size([292])\n",
      "Train size: (876, 295)\n"
     ]
    },
    {
     "name": "stderr",
     "output_type": "stream",
     "text": [
      " 20%|██        | 400/2000 [01:06<04:25,  6.03it/s, next_eval_time=16s, tr_loss=2.7, val_loss=3.71]  \n"
     ]
    },
    {
     "name": "stdout",
     "output_type": "stream",
     "text": [
      "DiffPrep Finished. val acc: 0.5821917808219178 test acc 0.5547945205479452\n",
      "0.30000000000000004\n",
      "Dataset: house_prices Diff Method: num_diff diffprep_fix\n",
      "Model lr 0.01\n",
      "Dataset shapes:  (876, 80) torch.Size([876]) (292, 80) torch.Size([292]) (292, 80) torch.Size([292])\n",
      "Train size: (876, 295)\n"
     ]
    },
    {
     "name": "stderr",
     "output_type": "stream",
     "text": [
      " 20%|██        | 400/2000 [01:07<04:30,  5.92it/s, next_eval_time=16s, tr_loss=2.51, val_loss=4.77] \n"
     ]
    },
    {
     "name": "stdout",
     "output_type": "stream",
     "text": [
      "DiffPrep Finished. val acc: 0.589041095890411 test acc 0.5582191780821918\n",
      "0.4\n",
      "Dataset: house_prices Diff Method: num_diff diffprep_fix\n",
      "Model lr 0.01\n",
      "Dataset shapes:  (876, 80) torch.Size([876]) (292, 80) torch.Size([292]) (292, 80) torch.Size([292])\n",
      "Train size: (876, 295)\n"
     ]
    },
    {
     "name": "stderr",
     "output_type": "stream",
     "text": [
      " 20%|██        | 400/2000 [01:07<04:28,  5.95it/s, next_eval_time=16s, tr_loss=2.38, val_loss=2.85] \n"
     ]
    },
    {
     "name": "stdout",
     "output_type": "stream",
     "text": [
      "DiffPrep Finished. val acc: 0.5684931506849316 test acc 0.6575342465753424\n",
      "0.5\n",
      "Dataset: house_prices Diff Method: num_diff diffprep_fix\n",
      "Model lr 0.01\n",
      "Dataset shapes:  (876, 80) torch.Size([876]) (292, 80) torch.Size([292]) (292, 80) torch.Size([292])\n",
      "Train size: (876, 295)\n"
     ]
    },
    {
     "name": "stderr",
     "output_type": "stream",
     "text": [
      " 20%|██        | 400/2000 [01:07<04:28,  5.96it/s, next_eval_time=16s, tr_loss=1.08, val_loss=1.79] \n"
     ]
    },
    {
     "name": "stdout",
     "output_type": "stream",
     "text": [
      "DiffPrep Finished. val acc: 0.726027397260274 test acc 0.6815068493150684\n",
      "0.6000000000000001\n",
      "Dataset: house_prices Diff Method: num_diff diffprep_fix\n",
      "Model lr 0.01\n",
      "Dataset shapes:  (876, 80) torch.Size([876]) (292, 80) torch.Size([292]) (292, 80) torch.Size([292])\n",
      "Train size: (876, 295)\n"
     ]
    },
    {
     "name": "stderr",
     "output_type": "stream",
     "text": [
      " 20%|██        | 400/2000 [01:07<04:30,  5.92it/s, next_eval_time=16s, tr_loss=0.603, val_loss=1.49]\n"
     ]
    },
    {
     "name": "stdout",
     "output_type": "stream",
     "text": [
      "DiffPrep Finished. val acc: 0.7054794520547946 test acc 0.7363013698630136\n",
      "0.7000000000000001\n",
      "Dataset: house_prices Diff Method: num_diff diffprep_fix\n",
      "Model lr 0.01\n",
      "Dataset shapes:  (876, 80) torch.Size([876]) (292, 80) torch.Size([292]) (292, 80) torch.Size([292])\n",
      "Train size: (876, 295)\n"
     ]
    },
    {
     "name": "stderr",
     "output_type": "stream",
     "text": [
      " 20%|██        | 400/2000 [01:07<04:30,  5.91it/s, next_eval_time=16s, tr_loss=1.96, val_loss=5.37] \n"
     ]
    },
    {
     "name": "stdout",
     "output_type": "stream",
     "text": [
      "DiffPrep Finished. val acc: 0.7157534246575342 test acc 0.75\n",
      "0.8\n",
      "Dataset: house_prices Diff Method: num_diff diffprep_fix\n",
      "Model lr 0.01\n",
      "Dataset shapes:  (876, 80) torch.Size([876]) (292, 80) torch.Size([292]) (292, 80) torch.Size([292])\n",
      "Train size: (876, 295)\n"
     ]
    },
    {
     "name": "stderr",
     "output_type": "stream",
     "text": [
      " 20%|██        | 400/2000 [01:07<04:29,  5.94it/s, next_eval_time=16s, tr_loss=1.24, val_loss=1.22]  \n"
     ]
    },
    {
     "name": "stdout",
     "output_type": "stream",
     "text": [
      "DiffPrep Finished. val acc: 0.839041095890411 test acc 0.8013698630136986\n",
      "0.9\n",
      "Dataset: house_prices Diff Method: num_diff diffprep_fix\n",
      "Model lr 0.01\n",
      "Dataset shapes:  (876, 80) torch.Size([876]) (292, 80) torch.Size([292]) (292, 80) torch.Size([292])\n",
      "Train size: (876, 295)\n"
     ]
    },
    {
     "name": "stderr",
     "output_type": "stream",
     "text": [
      " 20%|██        | 400/2000 [01:07<04:31,  5.90it/s, next_eval_time=16s, tr_loss=0.277, val_loss=0.643]"
     ]
    },
    {
     "name": "stdout",
     "output_type": "stream",
     "text": [
      "DiffPrep Finished. val acc: 0.8767123287671232 test acc 0.8767123287671232\n"
     ]
    },
    {
     "name": "stderr",
     "output_type": "stream",
     "text": [
      "\n"
     ]
    }
   ],
   "source": [
    "for sim in np.arange(0, 1, 0.1):\n",
    "    print(sim)\n",
    "    params[\"similarity_threshold\"] = round(sim, 2)\n",
    "    result_dir = utils.makedir([\"result\", params[\"method\"], dataset, f'{LABEL}_transferred_{round(params[\"similarity_threshold\"], 2)}'])\n",
    "\n",
    "    prep_pipeline_path = f'./result/diffprep_fix/{dataset}/price_ground_truth/prep_pipeline.pth'\n",
    "\n",
    "    if params[\"method\"] in [\"diffprep_fix\", \"diffprep_flex\"]:\n",
    "        best_result, best_model, best_logger, best_params = run_diffprep(DATADIR, dataset, result_dir, space, params, params[\"model\"], params[\"method\"], prep_pipeline_path)\n",
    "    else:\n",
    "        best_result, best_model, best_logger, best_params = run_baseline(DATADIR, dataset, result_dir, space, params, params[\"model\"], params[\"method\"], prep_pipeline_path)"
   ]
  },
  {
   "cell_type": "code",
   "execution_count": 6,
   "metadata": {},
   "outputs": [],
   "source": [
    "import json\n",
    "\n",
    "sims = list(np.arange(0, 1, 0.1))\n",
    "original_test_accs = []\n",
    "transferred_test_accs = []\n",
    "\n",
    "for sim_ in sims:\n",
    "    sim = round(sim_, 2)\n",
    "    original_result_path = f'./result/diffprep_fix/{dataset}/{LABEL}_{sim}/result.json'\n",
    "    transferred_result_path = f'./result/diffprep_fix/{dataset}/{LABEL}_transferred_{sim}/result.json'\n",
    "    original_results = json.loads(open(original_result_path, \"r\").read()) \n",
    "    transferred_results = json.loads(open(transferred_result_path, \"r\").read()) \n",
    "\n",
    "    original_test_accs.append(original_results['best_test_acc'])\n",
    "    transferred_test_accs.append(transferred_results['best_test_acc'])\n",
    "\n",
    "original_test_accs = np.array(original_test_accs)\n",
    "transferred_test_accs = np.array(transferred_test_accs)"
   ]
  },
  {
   "cell_type": "code",
   "execution_count": 7,
   "metadata": {},
   "outputs": [],
   "source": [
    "import matplotlib.pyplot as plt"
   ]
  },
  {
   "cell_type": "code",
   "execution_count": 8,
   "metadata": {},
   "outputs": [
    {
     "data": {
      "text/plain": [
       "<matplotlib.legend.Legend at 0x1647aec70>"
      ]
     },
     "execution_count": 8,
     "metadata": {},
     "output_type": "execute_result"
    },
    {
     "data": {
      "image/png": "[encoded data removed]",
      "text/plain": [
       "<Figure size 640x480 with 1 Axes>"
      ]
     },
     "metadata": {},
     "output_type": "display_data"
    }
   ],
   "source": [
    "plt.plot(sims, original_test_accs - transferred_test_accs, label='diff')\n",
    "plt.legend()"
   ]
  },
  {
   "cell_type": "code",
   "execution_count": 11,
   "metadata": {},
   "outputs": [
    {
     "data": {
      "image/png": "[encoded data removed]",
      "text/plain": [
       "<Figure size 640x480 with 1 Axes>"
      ]
     },
     "metadata": {},
     "output_type": "display_data"
    }
   ],
   "source": [
    "plt.plot(sims, original_test_accs, label='Fresh Cleaning', marker='o', alpha=0.8, linestyle='dashed')\n",
    "plt.plot(sims, transferred_test_accs, label='Transferred', marker='o', alpha=0.8, linestyle='dashed')\n",
    "\n",
    "plt.xticks(np.arange(0, 1, 0.1))\n",
    "plt.yticks(np.arange(0.4, 1, 0.1))\n",
    "\n",
    "plt.xlabel(\"Task Similarity\")\n",
    "plt.ylabel(\"Test Accuracy\")\n",
    "\n",
    "plt.grid(alpha=0.3)\n",
    "plt.legend()\n",
    "plt.title(\"Cleaning Pipeline Transfer vs. Fresh Cleaning (House Price Prediction)\")\n",
    "\n",
    "plt.savefig('plots/house_prices_transfer.png', dpi=300)"
   ]
  },
  {
   "cell_type": "code",
   "execution_count": 20,
   "metadata": {},
   "outputs": [],
   "source": [
    "#rating_pipeline = load_prep_pipeline(prep_pipeline_price_path, prep_space=space, params=params, data_dir=DATADIR, dataset=dataset)"
   ]
  },
  {
   "cell_type": "code",
   "execution_count": 10,
   "metadata": {},
   "outputs": [
    {
     "data": {
      "text/plain": [
       "3.5958904109589027"
      ]
     },
     "execution_count": 10,
     "metadata": {},
     "output_type": "execute_result"
    }
   ],
   "source": [
    "np.abs(original_test_accs - transferred_test_accs).mean() * 100"
   ]
  },
  {
   "cell_type": "code",
   "execution_count": 24,
   "metadata": {},
   "outputs": [],
   "source": [
    "size = 876\n",
    "\n",
    "prep_pipeline = load_prep_pipeline(f'./result/diffprep_fix/{dataset}/{LABEL}_ground_truth/prep_pipeline.pth', space, params, DATADIR, dataset)\n",
    "task_df = pd.read_csv(f'./data/{dataset}/data.csv')\n",
    "X_clean = prep_pipeline(task_df.drop(['SalePrice>150k'], axis=1).iloc[:size, :], is_fit=True, X_type=\"train\").detach().numpy()\n",
    "y_label = (task_df['SalePrice>150k'].values == 'Y').astype(int)\n",
    "preprocessed_df = pd.DataFrame(X_clean)\n",
    "preprocessed_df['label'] = y_label[:size]\n",
    "preprocessed_df.to_csv(f'./house_prices_transfer/cleaned_data_{dataset}_ground_truth.csv', index=False)"
   ]
  },
  {
   "cell_type": "code",
   "execution_count": 28,
   "metadata": {},
   "outputs": [],
   "source": [
    "size = 876\n",
    "task_df = pd.read_csv(f'./data/{dataset}/data.csv')\n",
    "\n",
    "for sim_ in np.arange(0, 1, 0.1):\n",
    "    sim = round(sim_, 2)\n",
    "\n",
    "    prep_pipeline = load_prep_pipeline(f'./result/diffprep_fix/{dataset}/{LABEL}_{sim}/prep_pipeline.pth', space, params, DATADIR, dataset)\n",
    "    X_clean = prep_pipeline(task_df.drop(['SalePrice>150k'], axis=1).iloc[:size, :], is_fit=True, X_type=\"train\").detach().numpy()\n",
    "\n",
    "    label_path = f'./result/diffprep_fix/{dataset}/label_{sim}/label.csv'\n",
    "    labels_sim = pd.read_csv(label_path)\n",
    "    preprocessed_df = pd.DataFrame(X_clean)\n",
    "    preprocessed_df['label'] = (labels_sim['label'] == 'Y').astype(int)\n",
    "    preprocessed_df.to_csv(f'./house_prices_transfer/cleaned_data_{dataset}_with_sim_{sim}.csv', index=False)"
   ]
  },
  {
   "cell_type": "code",
   "execution_count": null,
   "metadata": {},
   "outputs": [],
   "source": []
  }
 ],
 "metadata": {
  "kernelspec": {
   "display_name": "diffprep",
   "language": "python",
   "name": "python3"
  },
  "language_info": {
   "codemirror_mode": {
    "name": "ipython",
    "version": 3
   },
   "file_extension": ".py",
   "mimetype": "text/x-python",
   "name": "python",
   "nbconvert_exporter": "python",
   "pygments_lexer": "ipython3",
   "version": "3.9.7"
  },
  "orig_nbformat": 4
 },
 "nbformat": 4,
 "nbformat_minor": 2
}
